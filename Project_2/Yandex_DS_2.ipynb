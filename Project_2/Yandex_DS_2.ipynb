{
 "cells": [
  {
   "cell_type": "markdown",
   "id": "21dff943",
   "metadata": {
    "toc": true
   },
   "source": [
    "<h1>Table of Contents<span class=\"tocSkip\"></span></h1>\n",
    "<div class=\"toc\"><ul class=\"toc-item\"><li><span><a href=\"#Откройте-таблицу-и-изучите-общую-информацию-о-данных\" data-toc-modified-id=\"Откройте-таблицу-и-изучите-общую-информацию-о-данных-1\"><span class=\"toc-item-num\">1&nbsp;&nbsp;</span>Откройте таблицу и изучите общую информацию о данных</a></span></li><li><span><a href=\"#Предобработка-данных\" data-toc-modified-id=\"Предобработка-данных-2\"><span class=\"toc-item-num\">2&nbsp;&nbsp;</span>Предобработка данных</a></span><ul class=\"toc-item\"><li><span><a href=\"#Удаление-пропусков\" data-toc-modified-id=\"Удаление-пропусков-2.1\"><span class=\"toc-item-num\">2.1&nbsp;&nbsp;</span>Удаление пропусков</a></span></li><li><span><a href=\"#Обработка-аномальных-значений\" data-toc-modified-id=\"Обработка-аномальных-значений-2.2\"><span class=\"toc-item-num\">2.2&nbsp;&nbsp;</span>Обработка аномальных значений</a></span></li><li><span><a href=\"#Удаление-пропусков-(продолжение)\" data-toc-modified-id=\"Удаление-пропусков-(продолжение)-2.3\"><span class=\"toc-item-num\">2.3&nbsp;&nbsp;</span>Удаление пропусков (продолжение)</a></span></li><li><span><a href=\"#Изменение-типов-данных\" data-toc-modified-id=\"Изменение-типов-данных-2.4\"><span class=\"toc-item-num\">2.4&nbsp;&nbsp;</span>Изменение типов данных</a></span></li><li><span><a href=\"#Обработка-дубликатов\" data-toc-modified-id=\"Обработка-дубликатов-2.5\"><span class=\"toc-item-num\">2.5&nbsp;&nbsp;</span>Обработка дубликатов</a></span></li><li><span><a href=\"#Категоризация-данных\" data-toc-modified-id=\"Категоризация-данных-2.6\"><span class=\"toc-item-num\">2.6&nbsp;&nbsp;</span>Категоризация данных</a></span></li><li><span><a href=\"#Шаг-3.-Исследуйте-данные-и-ответьте-на-вопросы\" data-toc-modified-id=\"Шаг-3.-Исследуйте-данные-и-ответьте-на-вопросы-2.7\"><span class=\"toc-item-num\">2.7&nbsp;&nbsp;</span>Шаг 3. Исследуйте данные и ответьте на вопросы</a></span><ul class=\"toc-item\"><li><span><a href=\"#3.1-Есть-ли-зависимость-между-количеством-детей-и-возвратом-кредита-в-срок?\" data-toc-modified-id=\"3.1-Есть-ли-зависимость-между-количеством-детей-и-возвратом-кредита-в-срок?-2.7.1\"><span class=\"toc-item-num\">2.7.1&nbsp;&nbsp;</span>3.1 Есть ли зависимость между количеством детей и возвратом кредита в срок?</a></span></li><li><span><a href=\"#3.2-Есть-ли-зависимость-между-семейным-положением-и-возвратом-кредита-в-срок?\" data-toc-modified-id=\"3.2-Есть-ли-зависимость-между-семейным-положением-и-возвратом-кредита-в-срок?-2.7.2\"><span class=\"toc-item-num\">2.7.2&nbsp;&nbsp;</span>3.2 Есть ли зависимость между семейным положением и возвратом кредита в срок?</a></span></li><li><span><a href=\"#3.3-Есть-ли-зависимость-между-уровнем-дохода-и-возвратом-кредита-в-срок?\" data-toc-modified-id=\"3.3-Есть-ли-зависимость-между-уровнем-дохода-и-возвратом-кредита-в-срок?-2.7.3\"><span class=\"toc-item-num\">2.7.3&nbsp;&nbsp;</span>3.3 Есть ли зависимость между уровнем дохода и возвратом кредита в срок?</a></span></li><li><span><a href=\"#3.4-Как-разные-цели-кредита-влияют-на-его-возврат-в-срок?\" data-toc-modified-id=\"3.4-Как-разные-цели-кредита-влияют-на-его-возврат-в-срок?-2.7.4\"><span class=\"toc-item-num\">2.7.4&nbsp;&nbsp;</span>3.4 Как разные цели кредита влияют на его возврат в срок?</a></span></li><li><span><a href=\"#3.5-Приведите-возможные-причины-появления-пропусков-в-исходных-данных.\" data-toc-modified-id=\"3.5-Приведите-возможные-причины-появления-пропусков-в-исходных-данных.-2.7.5\"><span class=\"toc-item-num\">2.7.5&nbsp;&nbsp;</span>3.5 Приведите возможные причины появления пропусков в исходных данных.</a></span></li><li><span><a href=\"#3.6-Объясните,-почему-заполнить-пропуски-медианным-значением-—-лучшее-решение-для-количественных-переменных.\" data-toc-modified-id=\"3.6-Объясните,-почему-заполнить-пропуски-медианным-значением-—-лучшее-решение-для-количественных-переменных.-2.7.6\"><span class=\"toc-item-num\">2.7.6&nbsp;&nbsp;</span>3.6 Объясните, почему заполнить пропуски медианным значением — лучшее решение для количественных переменных.</a></span></li></ul></li><li><span><a href=\"#Шаг-4:-общий-вывод.\" data-toc-modified-id=\"Шаг-4:-общий-вывод.-2.8\"><span class=\"toc-item-num\">2.8&nbsp;&nbsp;</span>Шаг 4: общий вывод.</a></span></li></ul></li></ul></div>"
   ]
  },
  {
   "cell_type": "markdown",
   "id": "8471cee4",
   "metadata": {
    "id": "c81daeeb"
   },
   "source": [
    "# Исследование надежности заемщиков\n"
   ]
  },
  {
   "cell_type": "markdown",
   "id": "12b2fd98",
   "metadata": {
    "id": "744d7639"
   },
   "source": [
    "## Откройте таблицу и изучите общую информацию о данных"
   ]
  },
  {
   "cell_type": "code",
   "execution_count": 1,
   "id": "67532434",
   "metadata": {
    "id": "7bcf75c9"
   },
   "outputs": [
    {
     "data": {
      "text/html": [
       "<div>\n",
       "<style scoped>\n",
       "    .dataframe tbody tr th:only-of-type {\n",
       "        vertical-align: middle;\n",
       "    }\n",
       "\n",
       "    .dataframe tbody tr th {\n",
       "        vertical-align: top;\n",
       "    }\n",
       "\n",
       "    .dataframe thead th {\n",
       "        text-align: right;\n",
       "    }\n",
       "</style>\n",
       "<table border=\"1\" class=\"dataframe\">\n",
       "  <thead>\n",
       "    <tr style=\"text-align: right;\">\n",
       "      <th></th>\n",
       "      <th>children</th>\n",
       "      <th>days_employed</th>\n",
       "      <th>dob_years</th>\n",
       "      <th>education</th>\n",
       "      <th>education_id</th>\n",
       "      <th>family_status</th>\n",
       "      <th>family_status_id</th>\n",
       "      <th>gender</th>\n",
       "      <th>income_type</th>\n",
       "      <th>debt</th>\n",
       "      <th>total_income</th>\n",
       "      <th>purpose</th>\n",
       "    </tr>\n",
       "  </thead>\n",
       "  <tbody>\n",
       "    <tr>\n",
       "      <th>0</th>\n",
       "      <td>1</td>\n",
       "      <td>-8437.673028</td>\n",
       "      <td>42</td>\n",
       "      <td>высшее</td>\n",
       "      <td>0</td>\n",
       "      <td>женат / замужем</td>\n",
       "      <td>0</td>\n",
       "      <td>F</td>\n",
       "      <td>сотрудник</td>\n",
       "      <td>0</td>\n",
       "      <td>253875.639453</td>\n",
       "      <td>покупка жилья</td>\n",
       "    </tr>\n",
       "    <tr>\n",
       "      <th>1</th>\n",
       "      <td>1</td>\n",
       "      <td>-4024.803754</td>\n",
       "      <td>36</td>\n",
       "      <td>среднее</td>\n",
       "      <td>1</td>\n",
       "      <td>женат / замужем</td>\n",
       "      <td>0</td>\n",
       "      <td>F</td>\n",
       "      <td>сотрудник</td>\n",
       "      <td>0</td>\n",
       "      <td>112080.014102</td>\n",
       "      <td>приобретение автомобиля</td>\n",
       "    </tr>\n",
       "    <tr>\n",
       "      <th>2</th>\n",
       "      <td>0</td>\n",
       "      <td>-5623.422610</td>\n",
       "      <td>33</td>\n",
       "      <td>Среднее</td>\n",
       "      <td>1</td>\n",
       "      <td>женат / замужем</td>\n",
       "      <td>0</td>\n",
       "      <td>M</td>\n",
       "      <td>сотрудник</td>\n",
       "      <td>0</td>\n",
       "      <td>145885.952297</td>\n",
       "      <td>покупка жилья</td>\n",
       "    </tr>\n",
       "    <tr>\n",
       "      <th>3</th>\n",
       "      <td>3</td>\n",
       "      <td>-4124.747207</td>\n",
       "      <td>32</td>\n",
       "      <td>среднее</td>\n",
       "      <td>1</td>\n",
       "      <td>женат / замужем</td>\n",
       "      <td>0</td>\n",
       "      <td>M</td>\n",
       "      <td>сотрудник</td>\n",
       "      <td>0</td>\n",
       "      <td>267628.550329</td>\n",
       "      <td>дополнительное образование</td>\n",
       "    </tr>\n",
       "    <tr>\n",
       "      <th>4</th>\n",
       "      <td>0</td>\n",
       "      <td>340266.072047</td>\n",
       "      <td>53</td>\n",
       "      <td>среднее</td>\n",
       "      <td>1</td>\n",
       "      <td>гражданский брак</td>\n",
       "      <td>1</td>\n",
       "      <td>F</td>\n",
       "      <td>пенсионер</td>\n",
       "      <td>0</td>\n",
       "      <td>158616.077870</td>\n",
       "      <td>сыграть свадьбу</td>\n",
       "    </tr>\n",
       "    <tr>\n",
       "      <th>5</th>\n",
       "      <td>0</td>\n",
       "      <td>-926.185831</td>\n",
       "      <td>27</td>\n",
       "      <td>высшее</td>\n",
       "      <td>0</td>\n",
       "      <td>гражданский брак</td>\n",
       "      <td>1</td>\n",
       "      <td>M</td>\n",
       "      <td>компаньон</td>\n",
       "      <td>0</td>\n",
       "      <td>255763.565419</td>\n",
       "      <td>покупка жилья</td>\n",
       "    </tr>\n",
       "    <tr>\n",
       "      <th>6</th>\n",
       "      <td>0</td>\n",
       "      <td>-2879.202052</td>\n",
       "      <td>43</td>\n",
       "      <td>высшее</td>\n",
       "      <td>0</td>\n",
       "      <td>женат / замужем</td>\n",
       "      <td>0</td>\n",
       "      <td>F</td>\n",
       "      <td>компаньон</td>\n",
       "      <td>0</td>\n",
       "      <td>240525.971920</td>\n",
       "      <td>операции с жильем</td>\n",
       "    </tr>\n",
       "    <tr>\n",
       "      <th>7</th>\n",
       "      <td>0</td>\n",
       "      <td>-152.779569</td>\n",
       "      <td>50</td>\n",
       "      <td>СРЕДНЕЕ</td>\n",
       "      <td>1</td>\n",
       "      <td>женат / замужем</td>\n",
       "      <td>0</td>\n",
       "      <td>M</td>\n",
       "      <td>сотрудник</td>\n",
       "      <td>0</td>\n",
       "      <td>135823.934197</td>\n",
       "      <td>образование</td>\n",
       "    </tr>\n",
       "    <tr>\n",
       "      <th>8</th>\n",
       "      <td>2</td>\n",
       "      <td>-6929.865299</td>\n",
       "      <td>35</td>\n",
       "      <td>ВЫСШЕЕ</td>\n",
       "      <td>0</td>\n",
       "      <td>гражданский брак</td>\n",
       "      <td>1</td>\n",
       "      <td>F</td>\n",
       "      <td>сотрудник</td>\n",
       "      <td>0</td>\n",
       "      <td>95856.832424</td>\n",
       "      <td>на проведение свадьбы</td>\n",
       "    </tr>\n",
       "    <tr>\n",
       "      <th>9</th>\n",
       "      <td>0</td>\n",
       "      <td>-2188.756445</td>\n",
       "      <td>41</td>\n",
       "      <td>среднее</td>\n",
       "      <td>1</td>\n",
       "      <td>женат / замужем</td>\n",
       "      <td>0</td>\n",
       "      <td>M</td>\n",
       "      <td>сотрудник</td>\n",
       "      <td>0</td>\n",
       "      <td>144425.938277</td>\n",
       "      <td>покупка жилья для семьи</td>\n",
       "    </tr>\n",
       "    <tr>\n",
       "      <th>10</th>\n",
       "      <td>2</td>\n",
       "      <td>-4171.483647</td>\n",
       "      <td>36</td>\n",
       "      <td>высшее</td>\n",
       "      <td>0</td>\n",
       "      <td>женат / замужем</td>\n",
       "      <td>0</td>\n",
       "      <td>M</td>\n",
       "      <td>компаньон</td>\n",
       "      <td>0</td>\n",
       "      <td>113943.491460</td>\n",
       "      <td>покупка недвижимости</td>\n",
       "    </tr>\n",
       "    <tr>\n",
       "      <th>11</th>\n",
       "      <td>0</td>\n",
       "      <td>-792.701887</td>\n",
       "      <td>40</td>\n",
       "      <td>среднее</td>\n",
       "      <td>1</td>\n",
       "      <td>женат / замужем</td>\n",
       "      <td>0</td>\n",
       "      <td>F</td>\n",
       "      <td>сотрудник</td>\n",
       "      <td>0</td>\n",
       "      <td>77069.234271</td>\n",
       "      <td>покупка коммерческой недвижимости</td>\n",
       "    </tr>\n",
       "    <tr>\n",
       "      <th>12</th>\n",
       "      <td>0</td>\n",
       "      <td>NaN</td>\n",
       "      <td>65</td>\n",
       "      <td>среднее</td>\n",
       "      <td>1</td>\n",
       "      <td>гражданский брак</td>\n",
       "      <td>1</td>\n",
       "      <td>M</td>\n",
       "      <td>пенсионер</td>\n",
       "      <td>0</td>\n",
       "      <td>NaN</td>\n",
       "      <td>сыграть свадьбу</td>\n",
       "    </tr>\n",
       "    <tr>\n",
       "      <th>13</th>\n",
       "      <td>0</td>\n",
       "      <td>-1846.641941</td>\n",
       "      <td>54</td>\n",
       "      <td>неоконченное высшее</td>\n",
       "      <td>2</td>\n",
       "      <td>женат / замужем</td>\n",
       "      <td>0</td>\n",
       "      <td>F</td>\n",
       "      <td>сотрудник</td>\n",
       "      <td>0</td>\n",
       "      <td>130458.228857</td>\n",
       "      <td>приобретение автомобиля</td>\n",
       "    </tr>\n",
       "    <tr>\n",
       "      <th>14</th>\n",
       "      <td>0</td>\n",
       "      <td>-1844.956182</td>\n",
       "      <td>56</td>\n",
       "      <td>высшее</td>\n",
       "      <td>0</td>\n",
       "      <td>гражданский брак</td>\n",
       "      <td>1</td>\n",
       "      <td>F</td>\n",
       "      <td>компаньон</td>\n",
       "      <td>1</td>\n",
       "      <td>165127.911772</td>\n",
       "      <td>покупка жилой недвижимости</td>\n",
       "    </tr>\n",
       "    <tr>\n",
       "      <th>15</th>\n",
       "      <td>1</td>\n",
       "      <td>-972.364419</td>\n",
       "      <td>26</td>\n",
       "      <td>среднее</td>\n",
       "      <td>1</td>\n",
       "      <td>женат / замужем</td>\n",
       "      <td>0</td>\n",
       "      <td>F</td>\n",
       "      <td>сотрудник</td>\n",
       "      <td>0</td>\n",
       "      <td>116820.904450</td>\n",
       "      <td>строительство собственной недвижимости</td>\n",
       "    </tr>\n",
       "    <tr>\n",
       "      <th>16</th>\n",
       "      <td>0</td>\n",
       "      <td>-1719.934226</td>\n",
       "      <td>35</td>\n",
       "      <td>среднее</td>\n",
       "      <td>1</td>\n",
       "      <td>женат / замужем</td>\n",
       "      <td>0</td>\n",
       "      <td>F</td>\n",
       "      <td>сотрудник</td>\n",
       "      <td>0</td>\n",
       "      <td>289202.704229</td>\n",
       "      <td>недвижимость</td>\n",
       "    </tr>\n",
       "    <tr>\n",
       "      <th>17</th>\n",
       "      <td>0</td>\n",
       "      <td>-2369.999720</td>\n",
       "      <td>33</td>\n",
       "      <td>высшее</td>\n",
       "      <td>0</td>\n",
       "      <td>гражданский брак</td>\n",
       "      <td>1</td>\n",
       "      <td>M</td>\n",
       "      <td>сотрудник</td>\n",
       "      <td>0</td>\n",
       "      <td>90410.586745</td>\n",
       "      <td>строительство недвижимости</td>\n",
       "    </tr>\n",
       "    <tr>\n",
       "      <th>18</th>\n",
       "      <td>0</td>\n",
       "      <td>400281.136913</td>\n",
       "      <td>53</td>\n",
       "      <td>среднее</td>\n",
       "      <td>1</td>\n",
       "      <td>вдовец / вдова</td>\n",
       "      <td>2</td>\n",
       "      <td>F</td>\n",
       "      <td>пенсионер</td>\n",
       "      <td>0</td>\n",
       "      <td>56823.777243</td>\n",
       "      <td>на покупку подержанного автомобиля</td>\n",
       "    </tr>\n",
       "    <tr>\n",
       "      <th>19</th>\n",
       "      <td>0</td>\n",
       "      <td>-10038.818549</td>\n",
       "      <td>48</td>\n",
       "      <td>СРЕДНЕЕ</td>\n",
       "      <td>1</td>\n",
       "      <td>в разводе</td>\n",
       "      <td>3</td>\n",
       "      <td>F</td>\n",
       "      <td>сотрудник</td>\n",
       "      <td>0</td>\n",
       "      <td>242831.107982</td>\n",
       "      <td>на покупку своего автомобиля</td>\n",
       "    </tr>\n",
       "  </tbody>\n",
       "</table>\n",
       "</div>"
      ],
      "text/plain": [
       "    children  days_employed  dob_years            education  education_id  \\\n",
       "0          1   -8437.673028         42               высшее             0   \n",
       "1          1   -4024.803754         36              среднее             1   \n",
       "2          0   -5623.422610         33              Среднее             1   \n",
       "3          3   -4124.747207         32              среднее             1   \n",
       "4          0  340266.072047         53              среднее             1   \n",
       "5          0    -926.185831         27               высшее             0   \n",
       "6          0   -2879.202052         43               высшее             0   \n",
       "7          0    -152.779569         50              СРЕДНЕЕ             1   \n",
       "8          2   -6929.865299         35               ВЫСШЕЕ             0   \n",
       "9          0   -2188.756445         41              среднее             1   \n",
       "10         2   -4171.483647         36               высшее             0   \n",
       "11         0    -792.701887         40              среднее             1   \n",
       "12         0            NaN         65              среднее             1   \n",
       "13         0   -1846.641941         54  неоконченное высшее             2   \n",
       "14         0   -1844.956182         56               высшее             0   \n",
       "15         1    -972.364419         26              среднее             1   \n",
       "16         0   -1719.934226         35              среднее             1   \n",
       "17         0   -2369.999720         33               высшее             0   \n",
       "18         0  400281.136913         53              среднее             1   \n",
       "19         0  -10038.818549         48              СРЕДНЕЕ             1   \n",
       "\n",
       "       family_status  family_status_id gender income_type  debt  \\\n",
       "0    женат / замужем                 0      F   сотрудник     0   \n",
       "1    женат / замужем                 0      F   сотрудник     0   \n",
       "2    женат / замужем                 0      M   сотрудник     0   \n",
       "3    женат / замужем                 0      M   сотрудник     0   \n",
       "4   гражданский брак                 1      F   пенсионер     0   \n",
       "5   гражданский брак                 1      M   компаньон     0   \n",
       "6    женат / замужем                 0      F   компаньон     0   \n",
       "7    женат / замужем                 0      M   сотрудник     0   \n",
       "8   гражданский брак                 1      F   сотрудник     0   \n",
       "9    женат / замужем                 0      M   сотрудник     0   \n",
       "10   женат / замужем                 0      M   компаньон     0   \n",
       "11   женат / замужем                 0      F   сотрудник     0   \n",
       "12  гражданский брак                 1      M   пенсионер     0   \n",
       "13   женат / замужем                 0      F   сотрудник     0   \n",
       "14  гражданский брак                 1      F   компаньон     1   \n",
       "15   женат / замужем                 0      F   сотрудник     0   \n",
       "16   женат / замужем                 0      F   сотрудник     0   \n",
       "17  гражданский брак                 1      M   сотрудник     0   \n",
       "18    вдовец / вдова                 2      F   пенсионер     0   \n",
       "19         в разводе                 3      F   сотрудник     0   \n",
       "\n",
       "     total_income                                 purpose  \n",
       "0   253875.639453                           покупка жилья  \n",
       "1   112080.014102                 приобретение автомобиля  \n",
       "2   145885.952297                           покупка жилья  \n",
       "3   267628.550329              дополнительное образование  \n",
       "4   158616.077870                         сыграть свадьбу  \n",
       "5   255763.565419                           покупка жилья  \n",
       "6   240525.971920                       операции с жильем  \n",
       "7   135823.934197                             образование  \n",
       "8    95856.832424                   на проведение свадьбы  \n",
       "9   144425.938277                 покупка жилья для семьи  \n",
       "10  113943.491460                    покупка недвижимости  \n",
       "11   77069.234271       покупка коммерческой недвижимости  \n",
       "12            NaN                         сыграть свадьбу  \n",
       "13  130458.228857                 приобретение автомобиля  \n",
       "14  165127.911772              покупка жилой недвижимости  \n",
       "15  116820.904450  строительство собственной недвижимости  \n",
       "16  289202.704229                            недвижимость  \n",
       "17   90410.586745              строительство недвижимости  \n",
       "18   56823.777243      на покупку подержанного автомобиля  \n",
       "19  242831.107982            на покупку своего автомобиля  "
      ]
     },
     "execution_count": 1,
     "metadata": {},
     "output_type": "execute_result"
    }
   ],
   "source": [
    "import pandas as pd\n",
    "data = pd.read_csv('datasets\\data_2.csv')\n",
    "\n",
    "data.head(20)"
   ]
  },
  {
   "cell_type": "code",
   "execution_count": 2,
   "id": "ea0ebed4",
   "metadata": {
    "id": "2b757bca",
    "outputId": "15376089-8dad-46c9-b520-c05248d43158"
   },
   "outputs": [
    {
     "name": "stdout",
     "output_type": "stream",
     "text": [
      "<class 'pandas.core.frame.DataFrame'>\n",
      "RangeIndex: 21525 entries, 0 to 21524\n",
      "Data columns (total 12 columns):\n",
      " #   Column            Non-Null Count  Dtype  \n",
      "---  ------            --------------  -----  \n",
      " 0   children          21525 non-null  int64  \n",
      " 1   days_employed     19351 non-null  float64\n",
      " 2   dob_years         21525 non-null  int64  \n",
      " 3   education         21525 non-null  object \n",
      " 4   education_id      21525 non-null  int64  \n",
      " 5   family_status     21525 non-null  object \n",
      " 6   family_status_id  21525 non-null  int64  \n",
      " 7   gender            21525 non-null  object \n",
      " 8   income_type       21525 non-null  object \n",
      " 9   debt              21525 non-null  int64  \n",
      " 10  total_income      19351 non-null  float64\n",
      " 11  purpose           21525 non-null  object \n",
      "dtypes: float64(2), int64(5), object(5)\n",
      "memory usage: 2.0+ MB\n"
     ]
    }
   ],
   "source": [
    "data.info()"
   ]
  },
  {
   "cell_type": "markdown",
   "id": "9822f867",
   "metadata": {
    "id": "333ec665"
   },
   "source": [
    "## Предобработка данных"
   ]
  },
  {
   "cell_type": "markdown",
   "id": "1f743e1b",
   "metadata": {
    "id": "02d92d53"
   },
   "source": [
    "### Удаление пропусков"
   ]
  },
  {
   "cell_type": "code",
   "execution_count": 3,
   "id": "d309bacd",
   "metadata": {
    "id": "7f9b2309",
    "outputId": "81f4d817-781c-465c-ed15-91ce4446810d"
   },
   "outputs": [
    {
     "data": {
      "text/plain": [
       "children               0\n",
       "days_employed       2174\n",
       "dob_years              0\n",
       "education              0\n",
       "education_id           0\n",
       "family_status          0\n",
       "family_status_id       0\n",
       "gender                 0\n",
       "income_type            0\n",
       "debt                   0\n",
       "total_income        2174\n",
       "purpose                0\n",
       "dtype: int64"
      ]
     },
     "execution_count": 3,
     "metadata": {},
     "output_type": "execute_result"
    }
   ],
   "source": [
    "data.isna().sum()"
   ]
  },
  {
   "cell_type": "markdown",
   "id": "a2efb330",
   "metadata": {
    "id": "db86e27b"
   },
   "source": [
    "**Задание 5. В двух столбцах есть пропущенные значения. Один из них — `days_employed`. Пропуски в этом столбце вы обработаете на следующем этапе. Другой столбец с пропущенными значениями — `total_income` — хранит данные о доходах. На сумму дохода сильнее всего влияет тип занятости, поэтому заполнить пропуски в этом столбце нужно медианным значением по каждому типу из столбца `income_type`. Например, у человека с типом занятости `сотрудник` пропуск в столбце `total_income` должен быть заполнен медианным доходом среди всех записей с тем же типом.**"
   ]
  },
  {
   "cell_type": "code",
   "execution_count": 4,
   "id": "411da837",
   "metadata": {
    "id": "42006a93"
   },
   "outputs": [],
   "source": [
    "for t in data['income_type'].unique():\n",
    "    data.loc[(data['income_type'] == t) & (data['total_income'].isna()), 'total_income'] = \\\n",
    "    data.loc[(data['income_type'] == t), 'total_income'].median()"
   ]
  },
  {
   "cell_type": "markdown",
   "id": "ef1eb1ee",
   "metadata": {
    "id": "89da5ece"
   },
   "source": [
    "### Обработка аномальных значений"
   ]
  },
  {
   "cell_type": "markdown",
   "id": "16af8a07",
   "metadata": {
    "id": "57964554"
   },
   "source": [
    "**Задание 6. В данных могут встречаться артефакты (аномалии) — значения, которые не отражают действительность и появились по какой-то ошибке. таким артефактом будет отрицательное количество дней трудового стажа в столбце `days_employed`. Для реальных данных это нормально. Обработайте значения в этом столбце: замените все отрицательные значения положительными с помощью метода `abs()`.**"
   ]
  },
  {
   "cell_type": "code",
   "execution_count": 5,
   "id": "81487054",
   "metadata": {
    "id": "f6f055bf"
   },
   "outputs": [],
   "source": [
    "data['days_employed'] = data['days_employed'].abs()"
   ]
  },
  {
   "cell_type": "markdown",
   "id": "8f338ec8",
   "metadata": {
    "id": "6107dd2f"
   },
   "source": [
    "**Задание 7. Для каждого типа занятости выведите медианное значение трудового стажа `days_employed` в днях.**"
   ]
  },
  {
   "cell_type": "code",
   "execution_count": 6,
   "id": "89f11f1c",
   "metadata": {
    "id": "85a5faf6",
    "outputId": "801ef80e-522b-4668-f34e-565af7432bcf"
   },
   "outputs": [
    {
     "data": {
      "text/plain": [
       "income_type\n",
       "безработный        366413.652744\n",
       "в декрете            3296.759962\n",
       "госслужащий          2689.368353\n",
       "компаньон            1547.382223\n",
       "пенсионер          365213.306266\n",
       "предприниматель       520.848083\n",
       "сотрудник            1574.202821\n",
       "студент               578.751554\n",
       "Name: days_employed, dtype: float64"
      ]
     },
     "execution_count": 6,
     "metadata": {},
     "output_type": "execute_result"
    }
   ],
   "source": [
    "data.groupby('income_type')['days_employed'].agg('median')"
   ]
  },
  {
   "cell_type": "markdown",
   "id": "eb77db09",
   "metadata": {
    "id": "38d1a030"
   },
   "source": [
    "У двух типов (безработные и пенсионеры) получатся аномально большие значения. Исправить такие значения сложно, поэтому оставьте их как есть. Тем более этот столбец не понадобится вам для исследования."
   ]
  },
  {
   "cell_type": "markdown",
   "id": "f41fa81b",
   "metadata": {
    "id": "d8a9f147"
   },
   "source": [
    "**Задание 8. Выведите перечень уникальных значений столбца `children`.**"
   ]
  },
  {
   "cell_type": "code",
   "execution_count": 7,
   "id": "bcac8af5",
   "metadata": {
    "id": "ef5056eb",
    "outputId": "6975b15c-7f95-4697-d16d-a0c79b657b03"
   },
   "outputs": [
    {
     "data": {
      "text/plain": [
       "array([ 1,  0,  3,  2, -1,  4, 20,  5], dtype=int64)"
      ]
     },
     "execution_count": 7,
     "metadata": {},
     "output_type": "execute_result"
    }
   ],
   "source": [
    "data['children'].unique()"
   ]
  },
  {
   "cell_type": "markdown",
   "id": "7b4c6c3a",
   "metadata": {
    "id": "40b9ebf2"
   },
   "source": [
    "**Задание 9. В столбце `children` есть два аномальных значения. Удалите строки, в которых встречаются такие аномальные значения из датафрейма `data`.**"
   ]
  },
  {
   "cell_type": "code",
   "execution_count": 8,
   "id": "a52c697d",
   "metadata": {
    "id": "3ff9801d"
   },
   "outputs": [],
   "source": [
    "data = data[(data['children'] != -1) & (data['children'] != 20)]"
   ]
  },
  {
   "cell_type": "markdown",
   "id": "a8b56bf8",
   "metadata": {
    "id": "bbc4d0ce"
   },
   "source": [
    "**Задание 10. Ещё раз выведите перечень уникальных значений столбца `children`, чтобы убедиться, что артефакты удалены.**"
   ]
  },
  {
   "cell_type": "code",
   "execution_count": 9,
   "id": "e3dc0f36",
   "metadata": {
    "id": "ad4fa8b7",
    "outputId": "b2097101-d49d-44d9-901b-32a65c9463d1"
   },
   "outputs": [
    {
     "data": {
      "text/plain": [
       "array([1, 0, 3, 2, 4, 5], dtype=int64)"
      ]
     },
     "execution_count": 9,
     "metadata": {},
     "output_type": "execute_result"
    }
   ],
   "source": [
    "data['children'].unique()"
   ]
  },
  {
   "cell_type": "markdown",
   "id": "1ca7125a",
   "metadata": {
    "id": "75440b63"
   },
   "source": [
    "### Удаление пропусков (продолжение)"
   ]
  },
  {
   "cell_type": "markdown",
   "id": "6b9a28ec",
   "metadata": {
    "id": "f4ea573f"
   },
   "source": [
    "**Задание 11. Заполните пропуски в столбце `days_employed` медианными значениями по каждого типа занятости `income_type`.**"
   ]
  },
  {
   "cell_type": "code",
   "execution_count": 10,
   "id": "d46a2cad",
   "metadata": {
    "id": "af6b1a7e"
   },
   "outputs": [],
   "source": [
    "for t in data['income_type'].unique():\n",
    "    data.loc[(data['income_type'] == t) & (data['days_employed'].isna()), 'days_employed'] = \\\n",
    "    data.loc[(data['income_type'] == t), 'days_employed'].median()"
   ]
  },
  {
   "cell_type": "markdown",
   "id": "94dd454a",
   "metadata": {
    "id": "2753f40d"
   },
   "source": [
    "**Задание 12. Убедитесь, что все пропуски заполнены. Проверьте себя и ещё раз выведите количество пропущенных значений для каждого столбца с помощью двух методов.**"
   ]
  },
  {
   "cell_type": "code",
   "execution_count": 11,
   "id": "16cc3495",
   "metadata": {
    "id": "55f78bc2",
    "outputId": "8da1e4e1-358e-4e87-98c9-f261bce0a7b2"
   },
   "outputs": [
    {
     "data": {
      "text/plain": [
       "children            0\n",
       "days_employed       0\n",
       "dob_years           0\n",
       "education           0\n",
       "education_id        0\n",
       "family_status       0\n",
       "family_status_id    0\n",
       "gender              0\n",
       "income_type         0\n",
       "debt                0\n",
       "total_income        0\n",
       "purpose             0\n",
       "dtype: int64"
      ]
     },
     "execution_count": 11,
     "metadata": {},
     "output_type": "execute_result"
    }
   ],
   "source": [
    "data.isna().sum()"
   ]
  },
  {
   "cell_type": "markdown",
   "id": "97abc1cc",
   "metadata": {
    "id": "ddc81e43"
   },
   "source": [
    "### Изменение типов данных"
   ]
  },
  {
   "cell_type": "markdown",
   "id": "ed5b1a8e",
   "metadata": {
    "id": "42d19d24"
   },
   "source": [
    "**Задание 13. Замените вещественный тип данных в столбце `total_income` на целочисленный с помощью метода `astype()`.**"
   ]
  },
  {
   "cell_type": "code",
   "execution_count": 12,
   "id": "5269a661",
   "metadata": {
    "id": "920b65ad"
   },
   "outputs": [],
   "source": [
    "data['total_income'] = data['total_income'].astype(int)"
   ]
  },
  {
   "cell_type": "markdown",
   "id": "1ebda1f9",
   "metadata": {
    "id": "80c420ba"
   },
   "source": [
    "### Обработка дубликатов"
   ]
  },
  {
   "cell_type": "markdown",
   "id": "d2e0b405",
   "metadata": {},
   "source": [
    "**Задание 14. Обработайте неявные дубликаты в столбце `education`. В этом столбце есть одни и те же значения, но записанные по-разному: с использованием заглавных и строчных букв. Приведите их к нижнему регистру. Проверьте остальные столбцы.**"
   ]
  },
  {
   "cell_type": "code",
   "execution_count": 13,
   "id": "e256f755",
   "metadata": {},
   "outputs": [],
   "source": [
    "data['education'] = data['education'].str.lower()"
   ]
  },
  {
   "cell_type": "markdown",
   "id": "bda3c4de",
   "metadata": {
    "id": "dc587695"
   },
   "source": [
    "**Задание 15. Выведите на экран количество строк-дубликатов в данных. Если такие строки присутствуют, удалите их.**"
   ]
  },
  {
   "cell_type": "code",
   "execution_count": 14,
   "id": "d70518cb",
   "metadata": {
    "id": "3ee445e4",
    "outputId": "9684deba-1934-42d1-99e1-cda61740f822"
   },
   "outputs": [
    {
     "data": {
      "text/plain": [
       "71"
      ]
     },
     "execution_count": 14,
     "metadata": {},
     "output_type": "execute_result"
    }
   ],
   "source": [
    "data.duplicated().sum()"
   ]
  },
  {
   "cell_type": "code",
   "execution_count": 15,
   "id": "98e4e873",
   "metadata": {
    "id": "8575fe05"
   },
   "outputs": [],
   "source": [
    "data = data.drop_duplicates()"
   ]
  },
  {
   "cell_type": "markdown",
   "id": "1adaa59f",
   "metadata": {
    "id": "9904cf55"
   },
   "source": [
    "### Категоризация данных"
   ]
  },
  {
   "cell_type": "markdown",
   "id": "83becedc",
   "metadata": {
    "id": "72fcc8a2"
   },
   "source": [
    "**Задание 16. На основании диапазонов, указанных ниже, создайте в датафрейме `data` столбец `total_income_category` с категориями:**\n",
    "\n",
    "- 0–30000 — `'E'`;\n",
    "- 30001–50000 — `'D'`;\n",
    "- 50001–200000 — `'C'`;\n",
    "- 200001–1000000 — `'B'`;\n",
    "- 1000001 и выше — `'A'`.\n",
    "\n",
    "\n",
    "**Например, кредитополучателю с доходом 25000 нужно назначить категорию `'E'`, а клиенту, получающему 235000, — `'B'`. Используйте собственную функцию с именем `categorize_income()` и метод `apply()`.**"
   ]
  },
  {
   "cell_type": "code",
   "execution_count": 16,
   "id": "4247322e",
   "metadata": {
    "id": "e1771346"
   },
   "outputs": [],
   "source": [
    "def categorize_income(income):\n",
    "    try:\n",
    "        if 0 <= income <= 30000:\n",
    "            return 'E'\n",
    "        elif 30001 <= income <= 50000:\n",
    "            return 'D'\n",
    "        elif 50001 <= income <= 200000:\n",
    "            return 'C'\n",
    "        elif 200001 <= income <= 1000000:\n",
    "            return 'B'\n",
    "        elif income >= 1000001:\n",
    "            return 'A'\n",
    "    except:\n",
    "        pass"
   ]
  },
  {
   "cell_type": "code",
   "execution_count": 17,
   "id": "98bb61cb",
   "metadata": {
    "id": "d5f3586d"
   },
   "outputs": [],
   "source": [
    "data['total_income_category'] = data['total_income'].apply(categorize_income)"
   ]
  },
  {
   "cell_type": "markdown",
   "id": "e760dbcc",
   "metadata": {
    "id": "dde49b5c"
   },
   "source": [
    "**Задание 17. Выведите на экран перечень уникальных целей взятия кредита из столбца `purpose`.**"
   ]
  },
  {
   "cell_type": "code",
   "execution_count": 18,
   "id": "93388369",
   "metadata": {
    "id": "f67ce9b3",
    "outputId": "673c12d9-7d7e-4ae0-9812-c622c89dd244"
   },
   "outputs": [
    {
     "data": {
      "text/plain": [
       "array(['покупка жилья', 'приобретение автомобиля',\n",
       "       'дополнительное образование', 'сыграть свадьбу',\n",
       "       'операции с жильем', 'образование', 'на проведение свадьбы',\n",
       "       'покупка жилья для семьи', 'покупка недвижимости',\n",
       "       'покупка коммерческой недвижимости', 'покупка жилой недвижимости',\n",
       "       'строительство собственной недвижимости', 'недвижимость',\n",
       "       'строительство недвижимости', 'на покупку подержанного автомобиля',\n",
       "       'на покупку своего автомобиля',\n",
       "       'операции с коммерческой недвижимостью',\n",
       "       'строительство жилой недвижимости', 'жилье',\n",
       "       'операции со своей недвижимостью', 'автомобили',\n",
       "       'заняться образованием', 'сделка с подержанным автомобилем',\n",
       "       'получение образования', 'автомобиль', 'свадьба',\n",
       "       'получение дополнительного образования', 'покупка своего жилья',\n",
       "       'операции с недвижимостью', 'получение высшего образования',\n",
       "       'свой автомобиль', 'сделка с автомобилем',\n",
       "       'профильное образование', 'высшее образование',\n",
       "       'покупка жилья для сдачи', 'на покупку автомобиля', 'ремонт жилью',\n",
       "       'заняться высшим образованием'], dtype=object)"
      ]
     },
     "execution_count": 18,
     "metadata": {},
     "output_type": "execute_result"
    }
   ],
   "source": [
    "data['purpose'].unique()"
   ]
  },
  {
   "cell_type": "markdown",
   "id": "62ae311a",
   "metadata": {
    "id": "85d0aef0"
   },
   "source": [
    "**Задание 18. Создайте функцию, которая на основании данных из столбца `purpose` сформирует новый столбец `purpose_category`, в который войдут следующие категории:**\n",
    "\n",
    "- `'операции с автомобилем'`,\n",
    "- `'операции с недвижимостью'`,\n",
    "- `'проведение свадьбы'`,\n",
    "- `'получение образования'`.\n",
    "\n",
    "**Например, если в столбце `purpose` находится подстрока `'на покупку автомобиля'`, то в столбце `purpose_category` должна появиться строка `'операции с автомобилем'`.**\n",
    "\n",
    "**Используйте собственную функцию с именем `categorize_purpose()` и метод `apply()`. Изучите данные в столбце `purpose` и определите, какие подстроки помогут вам правильно определить категорию.**"
   ]
  },
  {
   "cell_type": "code",
   "execution_count": 19,
   "id": "f3e66e9c",
   "metadata": {
    "id": "e149fab4"
   },
   "outputs": [],
   "source": [
    "def categorize_purpose(row):\n",
    "    try:\n",
    "        if 'автом' in row:\n",
    "            return 'операции с автомобилем'\n",
    "        elif 'жил' in row or 'недвиж' in row:\n",
    "            return 'операции с недвижимостью'\n",
    "        elif 'свад' in row:\n",
    "            return 'проведение свадьбы'\n",
    "        elif 'образов' in row:\n",
    "            return 'получение образования'\n",
    "    except:\n",
    "        return 'нет категории'"
   ]
  },
  {
   "cell_type": "code",
   "execution_count": 20,
   "id": "f63cdd7f",
   "metadata": {
    "id": "bf36e69b"
   },
   "outputs": [],
   "source": [
    "data['purpose_category'] = data['purpose'].apply(categorize_purpose)"
   ]
  },
  {
   "cell_type": "markdown",
   "id": "6aa9ad19",
   "metadata": {
    "id": "09b242bf"
   },
   "source": [
    "### Шаг 3. Исследуйте данные и ответьте на вопросы"
   ]
  },
  {
   "cell_type": "markdown",
   "id": "1b26c1dd",
   "metadata": {
    "id": "c5d66278"
   },
   "source": [
    "#### 3.1 Есть ли зависимость между количеством детей и возвратом кредита в срок?"
   ]
  },
  {
   "cell_type": "code",
   "execution_count": 21,
   "id": "2a8b609d",
   "metadata": {},
   "outputs": [],
   "source": [
    "# Импортируем библиотеку mathplotlib для визуализации данных\n",
    "import matplotlib.pyplot as plt\n",
    "# Создадим функцию для расчета метрик и визуализации данных\n",
    "def group_data(column_name, rot, title, xlabel):\n",
    "    # группируем данные по column_name, затем применяем агрегирующие функции к столбцу 'debt'\n",
    "    grouped_data = data.groupby(column_name)['debt'].agg(['sum', 'count', 'mean'])\n",
    "    grouped_data['mean'] = grouped_data['mean'] * 100\n",
    "    # функция reset_index используется для преобразования индекса в столбец данных\n",
    "    grouped_data.reset_index(inplace=True)\n",
    "    # используем график к таблице, выбираем интересующие нас столбцы\n",
    "    plt.bar(grouped_data[column_name], grouped_data['mean'] * 100)\n",
    "    \n",
    "    plt.title(title)\n",
    "    plt.xlabel(xlabel)\n",
    "    plt.ylabel(\"Просрочено платежей, %\")\n",
    "    plt.xticks(grouped_data[column_name], rotation=rot)\n",
    "    \n",
    "    plt.show()\n",
    "    print(grouped_data.sort_values('mean', ascending=False))"
   ]
  },
  {
   "cell_type": "code",
   "execution_count": 22,
   "id": "eb6b5099",
   "metadata": {},
   "outputs": [
    {
     "data": {
      "image/png": "[encoded data removed]",
      "text/plain": [
       "<Figure size 640x480 with 1 Axes>"
      ]
     },
     "metadata": {},
     "output_type": "display_data"
    },
    {
     "name": "stdout",
     "output_type": "stream",
     "text": [
      "   children   sum  count      mean\n",
      "4         4     4     41  9.756098\n",
      "2         2   194   2052  9.454191\n",
      "1         1   444   4808  9.234609\n",
      "3         3    27    330  8.181818\n",
      "0         0  1063  14091  7.543822\n",
      "5         5     0      9  0.000000\n"
     ]
    }
   ],
   "source": [
    "group_data(column_name='children', rot=0, title='Влияние количества детей на процент просроченных кредитов', xlabel='Количество детей у клиента')"
   ]
  },
  {
   "cell_type": "markdown",
   "id": "5fa7f1f7",
   "metadata": {},
   "source": [
    "**Вывод: рассматривая полученный график, можно сделать вывод, что наличие детей существенно увеличивает процент задолжностей, более чем на два пункта при одном или двух ребенках, относительно бездетных. Исходя из того, что дети приносят огромные финансовые затраты, можно предположить, что это послужило причиной такой закономерности**"
   ]
  },
  {
   "cell_type": "markdown",
   "id": "81a65d91",
   "metadata": {
    "id": "97be82ca"
   },
   "source": [
    "#### 3.2 Есть ли зависимость между семейным положением и возвратом кредита в срок?"
   ]
  },
  {
   "cell_type": "markdown",
   "id": "e2d3aa2e",
   "metadata": {},
   "source": [
    "Применив agg(), мы нашли общее количество людей и с задолжностями, для различного количества детей "
   ]
  },
  {
   "cell_type": "code",
   "execution_count": 23,
   "id": "c35e7c52",
   "metadata": {},
   "outputs": [
    {
     "data": {
      "image/png": "[encoded data removed]",
      "text/plain": [
       "<Figure size 640x480 with 1 Axes>"
      ]
     },
     "metadata": {},
     "output_type": "display_data"
    },
    {
     "name": "stdout",
     "output_type": "stream",
     "text": [
      "           family_status  sum  count      mean\n",
      "0  Не женат / не замужем  273   2796  9.763948\n",
      "3       гражданский брак  385   4134  9.313014\n",
      "4        женат / замужем  927  12261  7.560558\n",
      "1              в разводе   84   1189  7.064760\n",
      "2         вдовец / вдова   63    951  6.624606\n"
     ]
    }
   ],
   "source": [
    "group_data(column_name='family_status', rot=20, title='Влияние семейного статуса на процент просроченных кредитов', xlabel='семейный статус')"
   ]
  },
  {
   "cell_type": "markdown",
   "id": "715a2c8c",
   "metadata": {
    "id": "1cef7837"
   },
   "source": [
    "**Вывод: больше всего задолжностей у категории \"Не женат / не замужем\" с небольшой разницей в 0.4% гражданский брак. Меньшие показатели у остальных категорий различие у которых не превышает 1%** "
   ]
  },
  {
   "cell_type": "markdown",
   "id": "4cc6aa00",
   "metadata": {
    "id": "1e8b2fca"
   },
   "source": [
    "#### 3.3 Есть ли зависимость между уровнем дохода и возвратом кредита в срок?"
   ]
  },
  {
   "cell_type": "code",
   "execution_count": 24,
   "id": "b1c3e808",
   "metadata": {},
   "outputs": [
    {
     "data": {
      "image/png": "[encoded data removed]",
      "text/plain": [
       "<Figure size 640x480 with 1 Axes>"
      ]
     },
     "metadata": {},
     "output_type": "display_data"
    },
    {
     "name": "stdout",
     "output_type": "stream",
     "text": [
      "  total_income_category   sum  count      mean\n",
      "4                     E     2     22  9.090909\n",
      "2                     C  1353  15921  8.498210\n",
      "0                     A     2     25  8.000000\n",
      "1                     B   354   5014  7.060231\n",
      "3                     D    21    349  6.017192\n"
     ]
    }
   ],
   "source": [
    "group_data(column_name='total_income_category',rot=0, title='Влияние категории достатка на процент просроченных кредитов', xlabel='Категория достатка')"
   ]
  },
  {
   "cell_type": "markdown",
   "id": "1e9fd386",
   "metadata": {
    "id": "e8593def"
   },
   "source": [
    "**Вывод:поскольку статистических данных мало для A и E категории, не будем их учитывать. Как можно заметить самый большой процент задолжностей у C категории, а меньший у D, хоть и достаток меньше. Отсюда можно предположить, что причиной такой закономерности может послужить цель кредита.** "
   ]
  },
  {
   "cell_type": "markdown",
   "id": "db9812aa",
   "metadata": {
    "id": "99ecbd1f"
   },
   "source": [
    "#### 3.4 Как разные цели кредита влияют на его возврат в срок?"
   ]
  },
  {
   "cell_type": "code",
   "execution_count": 25,
   "id": "73552fb4",
   "metadata": {},
   "outputs": [
    {
     "data": {
      "image/png": "[encoded data removed]",
      "text/plain": [
       "<Figure size 640x480 with 1 Axes>"
      ]
     },
     "metadata": {},
     "output_type": "display_data"
    },
    {
     "name": "stdout",
     "output_type": "stream",
     "text": [
      "           purpose_category  sum  count      mean\n",
      "0    операции с автомобилем  400   4279  9.347978\n",
      "2     получение образования  369   3988  9.252758\n",
      "3        проведение свадьбы  183   2313  7.911803\n",
      "1  операции с недвижимостью  780  10751  7.255139\n"
     ]
    }
   ],
   "source": [
    "group_data(column_name='purpose_category', rot=30, title='Влияние цели кредита на процент просрочки', xlabel='Категория кредита')"
   ]
  },
  {
   "cell_type": "markdown",
   "id": "bc75531c",
   "metadata": {
    "id": "b4bb2ce6"
   },
   "source": [
    "**Вывод: как можно заметить, больший процент задолжностей на автомобиль и образование, что удивительно, поскольку цена покупки недвижимости в разы больше. Можно предположить, что ипотека на жилье имеет меньший месячный платеж, чем на остальные категории, потому что она берется на гораздо больший срок и из-за этого процент должников меньше, чем на другие категории.** "
   ]
  },
  {
   "cell_type": "markdown",
   "id": "5dfbe106",
   "metadata": {
    "id": "09c3ac4c"
   },
   "source": [
    "#### 3.5 Приведите возможные причины появления пропусков в исходных данных."
   ]
  },
  {
   "cell_type": "markdown",
   "id": "84b5012c",
   "metadata": {
    "id": "9da2ceda"
   },
   "source": [
    "Чтоб рассмотреть данный вопрос, загрузим исходные данные."
   ]
  },
  {
   "cell_type": "code",
   "execution_count": 26,
   "id": "36037afc",
   "metadata": {},
   "outputs": [
    {
     "data": {
      "text/plain": [
       "children               0\n",
       "days_employed       2174\n",
       "dob_years              0\n",
       "education              0\n",
       "education_id           0\n",
       "family_status          0\n",
       "family_status_id       0\n",
       "gender                 0\n",
       "income_type            0\n",
       "debt                   0\n",
       "total_income        2174\n",
       "purpose                0\n",
       "dtype: int64"
      ]
     },
     "execution_count": 26,
     "metadata": {},
     "output_type": "execute_result"
    }
   ],
   "source": [
    "data_example = pd.read_csv('datasets\\data_2.csv')\n",
    "\n",
    "data_example.isna().sum()"
   ]
  },
  {
   "cell_type": "markdown",
   "id": "c9d2d0cc",
   "metadata": {},
   "source": [
    "Как можно заметить, имеются пропуски только в двух колонках: \n",
    "- `days_employed` - стаж работы\n",
    "- `total_income` - общий доход"
   ]
  },
  {
   "cell_type": "code",
   "execution_count": 27,
   "id": "b6ce92f2",
   "metadata": {},
   "outputs": [
    {
     "data": {
      "text/plain": [
       "income_type\n",
       "безработный           0\n",
       "в декрете             0\n",
       "госслужащий         147\n",
       "компаньон           508\n",
       "пенсионер           413\n",
       "предприниматель       1\n",
       "сотрудник          1105\n",
       "студент               0\n",
       "Name: isnan_days_employed, dtype: int64"
      ]
     },
     "execution_count": 27,
     "metadata": {},
     "output_type": "execute_result"
    }
   ],
   "source": [
    "# Добавим столбец bool типа для подсчета количесва NaN в каждом типе income_type\n",
    "data_example['isnan_days_employed'] = data_example['days_employed'].isna()\n",
    "# Расчитаем количество пропусков в каждой категории\n",
    "data_example_grouped = data_example.groupby('income_type')['isnan_days_employed'].sum()\n",
    "data_example_grouped"
   ]
  },
  {
   "cell_type": "markdown",
   "id": "cf505145",
   "metadata": {},
   "source": [
    "Исходя из полученных данных, можно составить две гипотезы:\n",
    "- Незаполнение колонки при опросе.\n",
    "- Также могли быть проблемы при выгрузке данных для формирования csv-файла и из-за этого часть информации потерялась."
   ]
  },
  {
   "cell_type": "code",
   "execution_count": 28,
   "id": "2d23afa1",
   "metadata": {},
   "outputs": [
    {
     "data": {
      "text/plain": [
       "income_type\n",
       "безработный           0\n",
       "в декрете             0\n",
       "госслужащий         147\n",
       "компаньон           508\n",
       "пенсионер           413\n",
       "предприниматель       1\n",
       "сотрудник          1105\n",
       "студент               0\n",
       "Name: isnan_total_income, dtype: int64"
      ]
     },
     "execution_count": 28,
     "metadata": {},
     "output_type": "execute_result"
    }
   ],
   "source": [
    "# Аналогично как с days_employed\n",
    "data_example['isnan_total_income'] = data_example['total_income'].isna()\n",
    "data_example_grouped = data_example.groupby('income_type')['isnan_total_income'].sum()\n",
    "data_example_grouped"
   ]
  },
  {
   "cell_type": "markdown",
   "id": "7e0dcf88",
   "metadata": {},
   "source": [
    "Если расмотреть обе полученные таблицы, можно заметить, что количество пропусков одинаковое для каждой категории, поэтому рассмотрим отдельно обе колонки и сравним их."
   ]
  },
  {
   "cell_type": "code",
   "execution_count": 29,
   "id": "f1f57ca2",
   "metadata": {},
   "outputs": [
    {
     "data": {
      "text/html": [
       "<div>\n",
       "<style scoped>\n",
       "    .dataframe tbody tr th:only-of-type {\n",
       "        vertical-align: middle;\n",
       "    }\n",
       "\n",
       "    .dataframe tbody tr th {\n",
       "        vertical-align: top;\n",
       "    }\n",
       "\n",
       "    .dataframe thead th {\n",
       "        text-align: right;\n",
       "    }\n",
       "</style>\n",
       "<table border=\"1\" class=\"dataframe\">\n",
       "  <thead>\n",
       "    <tr style=\"text-align: right;\">\n",
       "      <th></th>\n",
       "      <th>days_employed</th>\n",
       "      <th>total_income</th>\n",
       "    </tr>\n",
       "  </thead>\n",
       "  <tbody>\n",
       "    <tr>\n",
       "      <th>12</th>\n",
       "      <td>NaN</td>\n",
       "      <td>NaN</td>\n",
       "    </tr>\n",
       "    <tr>\n",
       "      <th>26</th>\n",
       "      <td>NaN</td>\n",
       "      <td>NaN</td>\n",
       "    </tr>\n",
       "    <tr>\n",
       "      <th>29</th>\n",
       "      <td>NaN</td>\n",
       "      <td>NaN</td>\n",
       "    </tr>\n",
       "    <tr>\n",
       "      <th>41</th>\n",
       "      <td>NaN</td>\n",
       "      <td>NaN</td>\n",
       "    </tr>\n",
       "    <tr>\n",
       "      <th>55</th>\n",
       "      <td>NaN</td>\n",
       "      <td>NaN</td>\n",
       "    </tr>\n",
       "    <tr>\n",
       "      <th>...</th>\n",
       "      <td>...</td>\n",
       "      <td>...</td>\n",
       "    </tr>\n",
       "    <tr>\n",
       "      <th>21489</th>\n",
       "      <td>NaN</td>\n",
       "      <td>NaN</td>\n",
       "    </tr>\n",
       "    <tr>\n",
       "      <th>21495</th>\n",
       "      <td>NaN</td>\n",
       "      <td>NaN</td>\n",
       "    </tr>\n",
       "    <tr>\n",
       "      <th>21497</th>\n",
       "      <td>NaN</td>\n",
       "      <td>NaN</td>\n",
       "    </tr>\n",
       "    <tr>\n",
       "      <th>21502</th>\n",
       "      <td>NaN</td>\n",
       "      <td>NaN</td>\n",
       "    </tr>\n",
       "    <tr>\n",
       "      <th>21510</th>\n",
       "      <td>NaN</td>\n",
       "      <td>NaN</td>\n",
       "    </tr>\n",
       "  </tbody>\n",
       "</table>\n",
       "<p>2174 rows × 2 columns</p>\n",
       "</div>"
      ],
      "text/plain": [
       "       days_employed  total_income\n",
       "12               NaN           NaN\n",
       "26               NaN           NaN\n",
       "29               NaN           NaN\n",
       "41               NaN           NaN\n",
       "55               NaN           NaN\n",
       "...              ...           ...\n",
       "21489            NaN           NaN\n",
       "21495            NaN           NaN\n",
       "21497            NaN           NaN\n",
       "21502            NaN           NaN\n",
       "21510            NaN           NaN\n",
       "\n",
       "[2174 rows x 2 columns]"
      ]
     },
     "execution_count": 29,
     "metadata": {},
     "output_type": "execute_result"
    }
   ],
   "source": [
    "# Запишем все строки с NaN значениями в отдельный DF\n",
    "data_example_nan = data_example[data_example['isnan_days_employed'] == True]\n",
    "# Выберем столбцы days_employed & total_income\n",
    "data_example_nan = data_example_nan.loc[:, ['days_employed', 'total_income']]\n",
    "data_example_nan"
   ]
  },
  {
   "cell_type": "markdown",
   "id": "1b52f51a",
   "metadata": {},
   "source": [
    "*Ответ: исходя из сравнения двух колонок, можно сказать, что обе гипотезы имеют место. При выгрузке это части данных в csv-файл могла быть ошибка из-за этого были получены пропущенные значения, либо опрошенные люди пропустили обе колонки при заполнении данных.*"
   ]
  },
  {
   "cell_type": "markdown",
   "id": "8f93d600",
   "metadata": {
    "id": "7b0487d6"
   },
   "source": [
    "#### 3.6 Объясните, почему заполнить пропуски медианным значением — лучшее решение для количественных переменных."
   ]
  },
  {
   "cell_type": "markdown",
   "id": "d8078531",
   "metadata": {
    "id": "7ecf2b8e"
   },
   "source": [
    "Eсли рассмотреть заполнение пропусков в данном проекте, мы взяли каждую категорию в income_type нашли медианные значения и заполнили пропуски, поэтому давайте сравним медиану и среднее значение total_income "
   ]
  },
  {
   "cell_type": "code",
   "execution_count": 30,
   "id": "c28cdb7e",
   "metadata": {},
   "outputs": [
    {
     "data": {
      "text/html": [
       "<div>\n",
       "<style scoped>\n",
       "    .dataframe tbody tr th:only-of-type {\n",
       "        vertical-align: middle;\n",
       "    }\n",
       "\n",
       "    .dataframe tbody tr th {\n",
       "        vertical-align: top;\n",
       "    }\n",
       "\n",
       "    .dataframe thead th {\n",
       "        text-align: right;\n",
       "    }\n",
       "</style>\n",
       "<table border=\"1\" class=\"dataframe\">\n",
       "  <thead>\n",
       "    <tr style=\"text-align: right;\">\n",
       "      <th></th>\n",
       "      <th>mean</th>\n",
       "      <th>median</th>\n",
       "      <th>delta</th>\n",
       "    </tr>\n",
       "    <tr>\n",
       "      <th>income_type</th>\n",
       "      <th></th>\n",
       "      <th></th>\n",
       "      <th></th>\n",
       "    </tr>\n",
       "  </thead>\n",
       "  <tbody>\n",
       "    <tr>\n",
       "      <th>компаньон</th>\n",
       "      <td>202417.461462</td>\n",
       "      <td>172357.950966</td>\n",
       "      <td>30059.510496</td>\n",
       "    </tr>\n",
       "    <tr>\n",
       "      <th>госслужащий</th>\n",
       "      <td>170898.309923</td>\n",
       "      <td>150447.935283</td>\n",
       "      <td>20450.374640</td>\n",
       "    </tr>\n",
       "    <tr>\n",
       "      <th>сотрудник</th>\n",
       "      <td>161380.260488</td>\n",
       "      <td>142594.396847</td>\n",
       "      <td>18785.863640</td>\n",
       "    </tr>\n",
       "    <tr>\n",
       "      <th>пенсионер</th>\n",
       "      <td>137127.465690</td>\n",
       "      <td>118514.486412</td>\n",
       "      <td>18612.979279</td>\n",
       "    </tr>\n",
       "    <tr>\n",
       "      <th>безработный</th>\n",
       "      <td>131339.751676</td>\n",
       "      <td>131339.751676</td>\n",
       "      <td>0.000000</td>\n",
       "    </tr>\n",
       "    <tr>\n",
       "      <th>в декрете</th>\n",
       "      <td>53829.130729</td>\n",
       "      <td>53829.130729</td>\n",
       "      <td>0.000000</td>\n",
       "    </tr>\n",
       "    <tr>\n",
       "      <th>предприниматель</th>\n",
       "      <td>499163.144947</td>\n",
       "      <td>499163.144947</td>\n",
       "      <td>0.000000</td>\n",
       "    </tr>\n",
       "    <tr>\n",
       "      <th>студент</th>\n",
       "      <td>98201.625314</td>\n",
       "      <td>98201.625314</td>\n",
       "      <td>0.000000</td>\n",
       "    </tr>\n",
       "  </tbody>\n",
       "</table>\n",
       "</div>"
      ],
      "text/plain": [
       "                          mean         median         delta\n",
       "income_type                                                \n",
       "компаньон        202417.461462  172357.950966  30059.510496\n",
       "госслужащий      170898.309923  150447.935283  20450.374640\n",
       "сотрудник        161380.260488  142594.396847  18785.863640\n",
       "пенсионер        137127.465690  118514.486412  18612.979279\n",
       "безработный      131339.751676  131339.751676      0.000000\n",
       "в декрете         53829.130729   53829.130729      0.000000\n",
       "предприниматель  499163.144947  499163.144947      0.000000\n",
       "студент           98201.625314   98201.625314      0.000000"
      ]
     },
     "execution_count": 30,
     "metadata": {},
     "output_type": "execute_result"
    }
   ],
   "source": [
    "data_example2 = pd.read_csv('datasets\\data_2.csv')\n",
    "# Сгрупируем по income_type и рассчитаем медиану и ср.значение для каждой категории\n",
    "data_example2_grouped = data_example2.groupby('income_type')['total_income'].agg({'median', 'mean'})\n",
    "# Рассчитаем разницу ср.значения и медианы\n",
    "data_example2_grouped['delta'] = abs(data_example2_grouped['median'] - data_example2_grouped['mean'])\n",
    "# Отсортируем delta по убыванию\n",
    "data_example2_grouped = data_example2_grouped.sort_values('delta', ascending=False)\n",
    "data_example2_grouped"
   ]
  },
  {
   "cell_type": "markdown",
   "id": "be0e8a77",
   "metadata": {},
   "source": [
    "Самое большое расхождение у категории \"компаньон\", построим гистрограмму для визуализации данных с помощью библиотеки mathplotlib"
   ]
  },
  {
   "cell_type": "code",
   "execution_count": 31,
   "id": "3a261c46",
   "metadata": {},
   "outputs": [
    {
     "data": {
      "text/plain": [
       "<matplotlib.legend.Legend at 0x289c20847d0>"
      ]
     },
     "execution_count": 31,
     "metadata": {},
     "output_type": "execute_result"
    },
    {
     "data": {
      "image/png": "[encoded data removed]",
      "text/plain": [
       "<Figure size 640x480 with 1 Axes>"
      ]
     },
     "metadata": {},
     "output_type": "display_data"
    }
   ],
   "source": [
    "# Снова загрузим исходные данные для анализа\n",
    "data_example2 = pd.read_csv('datasets\\data_2.csv')\n",
    "\n",
    "# Аналогично заполним только уже ср.значениями пропуски\n",
    "for t in data_example2['income_type'].unique():\n",
    "    data_example2.loc[(data_example2['income_type'] == t) & (data_example2['total_income'].isna()), 'total_income'] = \\\n",
    "    data_example2.loc[(data_example2['income_type'] == t), 'total_income'].mean()\n",
    "\n",
    "x1 = list(data_example.loc[data_example2['income_type'] == 'компаньон', 'total_income']) # Данные total_income с пропусками\n",
    "x2 = list(data.loc[data['income_type'] == 'компаньон', 'total_income']) # Заполненые медианой\n",
    "x3 = list(data_example2.loc[data_example2['income_type'] == 'компаньон', 'total_income']) # Заполненыe ср.значением\n",
    "\n",
    "colors = ['blue', 'green', 'red']\n",
    "names = ['Без заполнения', 'Медиана', 'Среднее значение']\n",
    "\n",
    "# Построение сравнительной гистограммы\n",
    "plt.hist([x1, x2, x3], bins = int(400/5),\n",
    "         color = colors, label=names)\n",
    "\n",
    "plt.legend()"
   ]
  },
  {
   "cell_type": "markdown",
   "id": "00fdf14b",
   "metadata": {},
   "source": [
    "*Ответ: Как можно заметить среднее значение смещает распределение вправо из-за чего менее вероятные значения становятся наиболее вероятными, а медиана смещает распределение меньше, соответственно, меньше влияя на статистическую выборку, поэтому более предпочтительно использовать медиану для заполнения NaN значений для количественных переменных.*"
   ]
  },
  {
   "cell_type": "markdown",
   "id": "2dbfc594",
   "metadata": {
    "id": "6db5255a"
   },
   "source": [
    "### Шаг 4: общий вывод."
   ]
  },
  {
   "cell_type": "markdown",
   "id": "ebeb9ca1",
   "metadata": {},
   "source": [
    "**1. Предобработка данных:**\n",
    "\n",
    "   - Были удалены пропущенные значения и заменены на медианы каждой категории `income_type`, в колонках `days_employed` и `total_income`\n",
    "   - Были удалены из таблицы аномальные строки, на основании данных в столбце `children`\n",
    "   - Были удалены дубликаты из колонки `education`\n",
    "\n",
    "\n",
    "**2. Категоризация данных:**\n",
    "\n",
    "   - Было выбрано 5 категорий достатка, по которым была проведена категоризация `total_income` и добавлена соответствующая колонка `total_income_category` \n",
    "        - 0–30000 — `'E'`;\n",
    "        - 30001–50000 — `'D'`;\n",
    "        - 50001–200000 — `'C'`;\n",
    "        - 200001–1000000 — `'B'`;\n",
    "        - 1000001 и выше — `'A'`.\n",
    "   - Аналогично с `purpose` - целью взятия кредита (`purpose_category`)\n",
    "        - `'операции с автомобилем'`,\n",
    "        - `'операции с недвижимостью'`,\n",
    "        - `'проведение свадьбы'`,\n",
    "        - `'получение образования'`.\n",
    "\n",
    "\n",
    "**3. Анализ полученных данных.** На основании метрик было выявлено:\n",
    "\n",
    "   - Наличие детей существенно увеличивает процент должников (+2% относительно бездетных)\n",
    "   - Люди с семейным положением `Не женат/не замужем` и `гражданский брак` имеют наибольший процент задолжностей (10 и 9%)\n",
    "   - Наибольший процент задолжностей у людей с категорией достатка C (8.5%) и B (7%)\n",
    "   - От цели кредита существенно зависит степень погашения. Наибольшая задолжность при покупке автомобиля и образование (около 9%)\n",
    "    \n",
    "   Исходя из полученных данных, можно составить портрет худшего и лучшего кандидата:\n",
    "   \n",
    "***Худший:*** \n",
    "   - человек с семейным положением `Не женат/не замужем` или `гражданский брак`, с категорией достатка C или B, который берет кредит на покупку машины или образование.\n",
    "   - `Женат/замужем` с двумя детьми, с достатком С или B и целью кредита покупка машины или образование.\n",
    "    \n",
    "***Лучший:***\n",
    "   - бездетный с семейным положением `вдовец/вдова` или `в разводе`, с низким достатком (D) на покупку жилья.\n",
    "\n",
    "\n",
    "**4. Анализ пропусков данных.**\n",
    "Также был проведен анализ пропусков в исходных данных. Пропущенные данные были только в двух колонках `days_employed` и `total_income`, причиной этого может быть:\n",
    "- При выгрузке части данных могла быть ошибка из-за этого были получены пропущенные значения.\n",
    "- При опросе кандидаты не заполняли эти две колонки.\n",
    "\n",
    "**Общие замечания**\n",
    "\n",
    "Проведенный анализ не полностью достоверен, поскольку он не был проведен комплексно с нахождением зависимости каждой категории от друг друга т.е. надо было создать сводные таблицы с общими данными по количеству детей, семейному положению, уровнем достатка и целью кредита, и уже в ней расчитывать метрики для обощения результатов анализа."
   ]
  }
 ],
 "metadata": {
  "ExecuteTimeLog": [
   {
    "duration": 48,
    "start_time": "2024-04-05T19:08:49.460Z"
   },
   {
    "duration": 480,
    "start_time": "2024-04-05T19:08:55.700Z"
   },
   {
    "duration": 24,
    "start_time": "2024-04-05T19:08:56.182Z"
   },
   {
    "duration": 16,
    "start_time": "2024-04-05T19:08:56.207Z"
   },
   {
    "duration": 12,
    "start_time": "2024-04-05T19:08:56.225Z"
   },
   {
    "duration": 59,
    "start_time": "2024-04-05T19:08:56.239Z"
   },
   {
    "duration": 4,
    "start_time": "2024-04-05T19:08:56.299Z"
   },
   {
    "duration": 14,
    "start_time": "2024-04-05T19:08:56.304Z"
   },
   {
    "duration": 26,
    "start_time": "2024-04-05T19:08:56.319Z"
   },
   {
    "duration": 12,
    "start_time": "2024-04-05T19:08:56.346Z"
   },
   {
    "duration": 14,
    "start_time": "2024-04-05T19:08:56.359Z"
   },
   {
    "duration": 48,
    "start_time": "2024-04-05T19:08:56.375Z"
   },
   {
    "duration": 11,
    "start_time": "2024-04-05T19:08:56.424Z"
   },
   {
    "duration": 3,
    "start_time": "2024-04-05T19:08:56.437Z"
   },
   {
    "duration": 19,
    "start_time": "2024-04-05T19:08:56.443Z"
   },
   {
    "duration": 25,
    "start_time": "2024-04-05T19:08:56.464Z"
   },
   {
    "duration": 18,
    "start_time": "2024-04-05T19:08:56.490Z"
   },
   {
    "duration": 4,
    "start_time": "2024-04-05T19:08:56.510Z"
   },
   {
    "duration": 15,
    "start_time": "2024-04-05T19:08:56.515Z"
   },
   {
    "duration": 5,
    "start_time": "2024-04-05T19:08:56.531Z"
   },
   {
    "duration": 19,
    "start_time": "2024-04-05T19:08:56.538Z"
   },
   {
    "duration": 17,
    "start_time": "2024-04-05T19:08:56.559Z"
   },
   {
    "duration": 26,
    "start_time": "2024-04-05T19:08:56.577Z"
   },
   {
    "duration": 6,
    "start_time": "2024-04-05T19:08:56.604Z"
   },
   {
    "duration": 5,
    "start_time": "2024-04-05T19:08:56.611Z"
   },
   {
    "duration": 5,
    "start_time": "2024-04-05T19:08:56.617Z"
   },
   {
    "duration": 7,
    "start_time": "2024-04-05T19:10:06.430Z"
   },
   {
    "duration": 11,
    "start_time": "2024-04-05T19:14:00.375Z"
   },
   {
    "duration": 5,
    "start_time": "2024-04-05T19:18:13.887Z"
   },
   {
    "duration": 10,
    "start_time": "2024-04-05T19:18:22.362Z"
   },
   {
    "duration": 67,
    "start_time": "2024-04-05T19:18:45.217Z"
   },
   {
    "duration": 10,
    "start_time": "2024-04-05T19:19:00.184Z"
   },
   {
    "duration": 7,
    "start_time": "2024-04-05T19:19:06.287Z"
   },
   {
    "duration": 8,
    "start_time": "2024-04-05T19:19:14.657Z"
   },
   {
    "duration": 6,
    "start_time": "2024-04-05T19:19:34.472Z"
   },
   {
    "duration": 8,
    "start_time": "2024-04-05T19:20:30.155Z"
   },
   {
    "duration": 8,
    "start_time": "2024-04-05T19:21:54.185Z"
   },
   {
    "duration": 9,
    "start_time": "2024-04-05T19:21:59.475Z"
   },
   {
    "duration": 10,
    "start_time": "2024-04-05T19:22:09.023Z"
   },
   {
    "duration": 9,
    "start_time": "2024-04-05T19:22:12.006Z"
   },
   {
    "duration": 9,
    "start_time": "2024-04-05T19:22:20.051Z"
   },
   {
    "duration": 18,
    "start_time": "2024-04-05T19:33:57.909Z"
   },
   {
    "duration": 528,
    "start_time": "2024-04-05T19:34:13.776Z"
   },
   {
    "duration": 24,
    "start_time": "2024-04-05T19:34:14.306Z"
   },
   {
    "duration": 19,
    "start_time": "2024-04-05T19:34:14.331Z"
   },
   {
    "duration": 24,
    "start_time": "2024-04-05T19:34:14.352Z"
   },
   {
    "duration": 38,
    "start_time": "2024-04-05T19:34:14.378Z"
   },
   {
    "duration": 4,
    "start_time": "2024-04-05T19:34:14.418Z"
   },
   {
    "duration": 17,
    "start_time": "2024-04-05T19:34:14.424Z"
   },
   {
    "duration": 4,
    "start_time": "2024-04-05T19:34:14.442Z"
   },
   {
    "duration": 31,
    "start_time": "2024-04-05T19:34:14.448Z"
   },
   {
    "duration": 5,
    "start_time": "2024-04-05T19:34:14.481Z"
   },
   {
    "duration": 38,
    "start_time": "2024-04-05T19:34:14.487Z"
   },
   {
    "duration": 11,
    "start_time": "2024-04-05T19:34:14.526Z"
   },
   {
    "duration": 12,
    "start_time": "2024-04-05T19:34:14.539Z"
   },
   {
    "duration": 29,
    "start_time": "2024-04-05T19:34:14.552Z"
   },
   {
    "duration": 19,
    "start_time": "2024-04-05T19:34:14.583Z"
   },
   {
    "duration": 18,
    "start_time": "2024-04-05T19:34:14.603Z"
   },
   {
    "duration": 3,
    "start_time": "2024-04-05T19:34:14.622Z"
   },
   {
    "duration": 23,
    "start_time": "2024-04-05T19:34:14.627Z"
   },
   {
    "duration": 23,
    "start_time": "2024-04-05T19:34:14.651Z"
   },
   {
    "duration": 4,
    "start_time": "2024-04-05T19:34:14.675Z"
   },
   {
    "duration": 11,
    "start_time": "2024-04-05T19:34:14.680Z"
   },
   {
    "duration": 84,
    "start_time": "2024-04-05T19:34:14.693Z"
   },
   {
    "duration": 0,
    "start_time": "2024-04-05T19:34:14.778Z"
   },
   {
    "duration": 0,
    "start_time": "2024-04-05T19:34:14.779Z"
   },
   {
    "duration": 0,
    "start_time": "2024-04-05T19:34:14.780Z"
   },
   {
    "duration": 0,
    "start_time": "2024-04-05T19:34:14.781Z"
   },
   {
    "duration": 11,
    "start_time": "2024-04-05T19:35:02.805Z"
   },
   {
    "duration": 11,
    "start_time": "2024-04-05T19:35:59.281Z"
   },
   {
    "duration": 12,
    "start_time": "2024-04-05T19:36:06.874Z"
   },
   {
    "duration": 9,
    "start_time": "2024-04-05T19:36:20.488Z"
   },
   {
    "duration": 9,
    "start_time": "2024-04-05T19:36:24.498Z"
   },
   {
    "duration": 1608,
    "start_time": "2024-04-05T19:44:07.187Z"
   },
   {
    "duration": 13,
    "start_time": "2024-04-05T19:45:03.864Z"
   },
   {
    "duration": 7,
    "start_time": "2024-04-05T19:46:11.977Z"
   },
   {
    "duration": 7,
    "start_time": "2024-04-05T19:46:17.332Z"
   },
   {
    "duration": 940,
    "start_time": "2024-04-05T19:48:34.613Z"
   },
   {
    "duration": 6,
    "start_time": "2024-04-05T19:48:38.970Z"
   },
   {
    "duration": 5,
    "start_time": "2024-04-05T19:48:53.668Z"
   },
   {
    "duration": 11,
    "start_time": "2024-04-05T19:51:02.479Z"
   },
   {
    "duration": 12,
    "start_time": "2024-04-05T19:51:18.453Z"
   },
   {
    "duration": 12,
    "start_time": "2024-04-05T19:51:39.679Z"
   },
   {
    "duration": 10,
    "start_time": "2024-04-05T19:52:36.267Z"
   },
   {
    "duration": 11,
    "start_time": "2024-04-05T19:52:59.672Z"
   },
   {
    "duration": 12,
    "start_time": "2024-04-05T19:53:07.886Z"
   },
   {
    "duration": 11,
    "start_time": "2024-04-05T19:53:21.629Z"
   },
   {
    "duration": 11,
    "start_time": "2024-04-05T19:53:40.959Z"
   },
   {
    "duration": 12,
    "start_time": "2024-04-05T19:53:46.021Z"
   },
   {
    "duration": 12,
    "start_time": "2024-04-05T19:54:20.229Z"
   },
   {
    "duration": 6,
    "start_time": "2024-04-05T19:54:40.930Z"
   },
   {
    "duration": 5,
    "start_time": "2024-04-05T19:54:44.604Z"
   },
   {
    "duration": 11,
    "start_time": "2024-04-05T19:54:49.692Z"
   },
   {
    "duration": 8,
    "start_time": "2024-04-05T19:55:46.752Z"
   },
   {
    "duration": 12,
    "start_time": "2024-04-05T19:56:03.448Z"
   },
   {
    "duration": 531,
    "start_time": "2024-04-05T19:56:08.178Z"
   },
   {
    "duration": 38,
    "start_time": "2024-04-05T19:56:08.712Z"
   },
   {
    "duration": 36,
    "start_time": "2024-04-05T19:56:08.752Z"
   },
   {
    "duration": 19,
    "start_time": "2024-04-05T19:56:08.792Z"
   },
   {
    "duration": 82,
    "start_time": "2024-04-05T19:56:08.813Z"
   },
   {
    "duration": 4,
    "start_time": "2024-04-05T19:56:08.898Z"
   },
   {
    "duration": 10,
    "start_time": "2024-04-05T19:56:08.903Z"
   },
   {
    "duration": 4,
    "start_time": "2024-04-05T19:56:08.915Z"
   },
   {
    "duration": 7,
    "start_time": "2024-04-05T19:56:08.920Z"
   },
   {
    "duration": 5,
    "start_time": "2024-04-05T19:56:08.931Z"
   },
   {
    "duration": 70,
    "start_time": "2024-04-05T19:56:08.937Z"
   },
   {
    "duration": 11,
    "start_time": "2024-04-05T19:56:09.009Z"
   },
   {
    "duration": 4,
    "start_time": "2024-04-05T19:56:09.022Z"
   },
   {
    "duration": 24,
    "start_time": "2024-04-05T19:56:09.027Z"
   },
   {
    "duration": 34,
    "start_time": "2024-04-05T19:56:09.074Z"
   },
   {
    "duration": 17,
    "start_time": "2024-04-05T19:56:09.109Z"
   },
   {
    "duration": 9,
    "start_time": "2024-04-05T19:56:09.127Z"
   },
   {
    "duration": 16,
    "start_time": "2024-04-05T19:56:09.137Z"
   },
   {
    "duration": 20,
    "start_time": "2024-04-05T19:56:09.154Z"
   },
   {
    "duration": 4,
    "start_time": "2024-04-05T19:56:09.175Z"
   },
   {
    "duration": 10,
    "start_time": "2024-04-05T19:56:09.181Z"
   },
   {
    "duration": 15,
    "start_time": "2024-04-05T19:56:09.193Z"
   },
   {
    "duration": 9,
    "start_time": "2024-04-05T19:56:09.209Z"
   },
   {
    "duration": 15,
    "start_time": "2024-04-05T19:56:09.220Z"
   },
   {
    "duration": 3,
    "start_time": "2024-04-05T19:56:09.236Z"
   },
   {
    "duration": 33,
    "start_time": "2024-04-05T19:56:09.240Z"
   },
   {
    "duration": 9,
    "start_time": "2024-04-05T19:59:41.851Z"
   },
   {
    "duration": 87,
    "start_time": "2024-04-05T20:00:59.831Z"
   },
   {
    "duration": 17,
    "start_time": "2024-04-05T20:04:44.113Z"
   },
   {
    "duration": 12,
    "start_time": "2024-04-05T20:05:01.150Z"
   },
   {
    "duration": 93,
    "start_time": "2024-04-05T20:06:34.982Z"
   },
   {
    "duration": 10,
    "start_time": "2024-04-05T20:06:43.125Z"
   },
   {
    "duration": 20,
    "start_time": "2024-04-05T20:07:08.207Z"
   },
   {
    "duration": 18,
    "start_time": "2024-04-05T20:07:33.400Z"
   },
   {
    "duration": 473,
    "start_time": "2024-04-05T20:07:57.831Z"
   },
   {
    "duration": 23,
    "start_time": "2024-04-05T20:07:58.306Z"
   },
   {
    "duration": 16,
    "start_time": "2024-04-05T20:07:58.331Z"
   },
   {
    "duration": 11,
    "start_time": "2024-04-05T20:07:58.349Z"
   },
   {
    "duration": 38,
    "start_time": "2024-04-05T20:07:58.373Z"
   },
   {
    "duration": 4,
    "start_time": "2024-04-05T20:07:58.412Z"
   },
   {
    "duration": 12,
    "start_time": "2024-04-05T20:07:58.418Z"
   },
   {
    "duration": 6,
    "start_time": "2024-04-05T20:07:58.431Z"
   },
   {
    "duration": 8,
    "start_time": "2024-04-05T20:07:58.438Z"
   },
   {
    "duration": 26,
    "start_time": "2024-04-05T20:07:58.448Z"
   },
   {
    "duration": 41,
    "start_time": "2024-04-05T20:07:58.475Z"
   },
   {
    "duration": 10,
    "start_time": "2024-04-05T20:07:58.518Z"
   },
   {
    "duration": 18,
    "start_time": "2024-04-05T20:07:58.530Z"
   },
   {
    "duration": 19,
    "start_time": "2024-04-05T20:07:58.550Z"
   },
   {
    "duration": 20,
    "start_time": "2024-04-05T20:07:58.571Z"
   },
   {
    "duration": 18,
    "start_time": "2024-04-05T20:07:58.593Z"
   },
   {
    "duration": 4,
    "start_time": "2024-04-05T20:07:58.612Z"
   },
   {
    "duration": 13,
    "start_time": "2024-04-05T20:07:58.617Z"
   },
   {
    "duration": 6,
    "start_time": "2024-04-05T20:07:58.631Z"
   },
   {
    "duration": 4,
    "start_time": "2024-04-05T20:07:58.638Z"
   },
   {
    "duration": 38,
    "start_time": "2024-04-05T20:07:58.643Z"
   },
   {
    "duration": 17,
    "start_time": "2024-04-05T20:07:58.683Z"
   },
   {
    "duration": 1362,
    "start_time": "2024-04-05T20:07:58.702Z"
   },
   {
    "duration": 0,
    "start_time": "2024-04-05T20:08:00.066Z"
   },
   {
    "duration": 0,
    "start_time": "2024-04-05T20:08:00.068Z"
   },
   {
    "duration": 0,
    "start_time": "2024-04-05T20:08:00.069Z"
   },
   {
    "duration": 0,
    "start_time": "2024-04-05T20:08:00.070Z"
   },
   {
    "duration": 17,
    "start_time": "2024-04-05T20:08:38.590Z"
   },
   {
    "duration": 1266,
    "start_time": "2024-04-05T20:09:13.963Z"
   },
   {
    "duration": 15,
    "start_time": "2024-04-05T20:09:38.522Z"
   },
   {
    "duration": 4,
    "start_time": "2024-04-05T20:09:55.001Z"
   },
   {
    "duration": 16,
    "start_time": "2024-04-05T20:10:10.727Z"
   },
   {
    "duration": 15,
    "start_time": "2024-04-05T20:10:38.360Z"
   },
   {
    "duration": 15,
    "start_time": "2024-04-05T20:10:45.075Z"
   },
   {
    "duration": 11,
    "start_time": "2024-04-05T20:13:29.982Z"
   },
   {
    "duration": 1232,
    "start_time": "2024-04-05T20:13:45.810Z"
   },
   {
    "duration": 514,
    "start_time": "2024-04-05T20:14:01.923Z"
   },
   {
    "duration": 25,
    "start_time": "2024-04-05T20:14:02.439Z"
   },
   {
    "duration": 21,
    "start_time": "2024-04-05T20:14:02.465Z"
   },
   {
    "duration": 11,
    "start_time": "2024-04-05T20:14:02.489Z"
   },
   {
    "duration": 64,
    "start_time": "2024-04-05T20:14:02.502Z"
   },
   {
    "duration": 4,
    "start_time": "2024-04-05T20:14:02.573Z"
   },
   {
    "duration": 12,
    "start_time": "2024-04-05T20:14:02.579Z"
   },
   {
    "duration": 21,
    "start_time": "2024-04-05T20:14:02.592Z"
   },
   {
    "duration": 49,
    "start_time": "2024-04-05T20:14:02.615Z"
   },
   {
    "duration": 7,
    "start_time": "2024-04-05T20:14:02.667Z"
   },
   {
    "duration": 62,
    "start_time": "2024-04-05T20:14:02.675Z"
   },
   {
    "duration": 10,
    "start_time": "2024-04-05T20:14:02.739Z"
   },
   {
    "duration": 22,
    "start_time": "2024-04-05T20:14:02.751Z"
   },
   {
    "duration": 35,
    "start_time": "2024-04-05T20:14:02.776Z"
   },
   {
    "duration": 39,
    "start_time": "2024-04-05T20:14:02.812Z"
   },
   {
    "duration": 17,
    "start_time": "2024-04-05T20:14:02.853Z"
   },
   {
    "duration": 15,
    "start_time": "2024-04-05T20:14:02.871Z"
   },
   {
    "duration": 18,
    "start_time": "2024-04-05T20:14:02.888Z"
   },
   {
    "duration": 20,
    "start_time": "2024-04-05T20:14:02.908Z"
   },
   {
    "duration": 8,
    "start_time": "2024-04-05T20:14:02.930Z"
   },
   {
    "duration": 25,
    "start_time": "2024-04-05T20:14:02.939Z"
   },
   {
    "duration": 29,
    "start_time": "2024-04-05T20:14:02.966Z"
   },
   {
    "duration": 1346,
    "start_time": "2024-04-05T20:14:02.997Z"
   },
   {
    "duration": 0,
    "start_time": "2024-04-05T20:14:04.345Z"
   },
   {
    "duration": 0,
    "start_time": "2024-04-05T20:14:04.346Z"
   },
   {
    "duration": 0,
    "start_time": "2024-04-05T20:14:04.347Z"
   },
   {
    "duration": 0,
    "start_time": "2024-04-05T20:14:04.348Z"
   },
   {
    "duration": 5,
    "start_time": "2024-04-05T20:14:24.138Z"
   },
   {
    "duration": 10,
    "start_time": "2024-04-05T20:15:46.516Z"
   },
   {
    "duration": 10,
    "start_time": "2024-04-05T20:15:52.832Z"
   },
   {
    "duration": 12,
    "start_time": "2024-04-05T20:16:01.955Z"
   },
   {
    "duration": 11,
    "start_time": "2024-04-05T20:16:04.336Z"
   },
   {
    "duration": 10,
    "start_time": "2024-04-05T20:19:32.233Z"
   },
   {
    "duration": 9,
    "start_time": "2024-04-05T20:19:44.013Z"
   },
   {
    "duration": 11,
    "start_time": "2024-04-05T20:23:00.960Z"
   },
   {
    "duration": 514,
    "start_time": "2024-04-05T20:23:14.678Z"
   },
   {
    "duration": 23,
    "start_time": "2024-04-05T20:23:15.194Z"
   },
   {
    "duration": 42,
    "start_time": "2024-04-05T20:23:15.218Z"
   },
   {
    "duration": 27,
    "start_time": "2024-04-05T20:23:15.262Z"
   },
   {
    "duration": 79,
    "start_time": "2024-04-05T20:23:15.291Z"
   },
   {
    "duration": 8,
    "start_time": "2024-04-05T20:23:15.372Z"
   },
   {
    "duration": 51,
    "start_time": "2024-04-05T20:23:15.382Z"
   },
   {
    "duration": 19,
    "start_time": "2024-04-05T20:23:15.435Z"
   },
   {
    "duration": 31,
    "start_time": "2024-04-05T20:23:15.456Z"
   },
   {
    "duration": 12,
    "start_time": "2024-04-05T20:23:15.489Z"
   },
   {
    "duration": 45,
    "start_time": "2024-04-05T20:23:15.502Z"
   },
   {
    "duration": 11,
    "start_time": "2024-04-05T20:23:15.548Z"
   },
   {
    "duration": 20,
    "start_time": "2024-04-05T20:23:15.560Z"
   },
   {
    "duration": 15,
    "start_time": "2024-04-05T20:23:15.582Z"
   },
   {
    "duration": 41,
    "start_time": "2024-04-05T20:23:15.598Z"
   },
   {
    "duration": 28,
    "start_time": "2024-04-05T20:23:15.640Z"
   },
   {
    "duration": 5,
    "start_time": "2024-04-05T20:23:15.670Z"
   },
   {
    "duration": 21,
    "start_time": "2024-04-05T20:23:15.677Z"
   },
   {
    "duration": 9,
    "start_time": "2024-04-05T20:23:15.700Z"
   },
   {
    "duration": 15,
    "start_time": "2024-04-05T20:23:15.710Z"
   },
   {
    "duration": 17,
    "start_time": "2024-04-05T20:23:15.727Z"
   },
   {
    "duration": 13,
    "start_time": "2024-04-05T20:23:15.746Z"
   },
   {
    "duration": 12,
    "start_time": "2024-04-05T20:23:15.772Z"
   },
   {
    "duration": 14,
    "start_time": "2024-04-05T20:23:15.786Z"
   },
   {
    "duration": 12,
    "start_time": "2024-04-05T20:23:15.802Z"
   },
   {
    "duration": 94,
    "start_time": "2024-04-05T20:23:15.816Z"
   },
   {
    "duration": 0,
    "start_time": "2024-04-05T20:23:15.911Z"
   },
   {
    "duration": 10,
    "start_time": "2024-04-05T20:23:54.196Z"
   },
   {
    "duration": 11,
    "start_time": "2024-04-05T20:24:02.330Z"
   },
   {
    "duration": 11,
    "start_time": "2024-04-05T20:24:10.933Z"
   },
   {
    "duration": 10,
    "start_time": "2024-04-05T20:24:53.367Z"
   },
   {
    "duration": 11,
    "start_time": "2024-04-05T20:32:16.948Z"
   },
   {
    "duration": 11,
    "start_time": "2024-04-05T20:32:30.239Z"
   },
   {
    "duration": 9,
    "start_time": "2024-04-05T20:33:19.111Z"
   },
   {
    "duration": 46,
    "start_time": "2024-04-08T10:54:59.014Z"
   },
   {
    "duration": 597,
    "start_time": "2024-04-08T10:55:05.633Z"
   },
   {
    "duration": 20,
    "start_time": "2024-04-08T10:55:06.233Z"
   },
   {
    "duration": 24,
    "start_time": "2024-04-08T10:55:06.254Z"
   },
   {
    "duration": 11,
    "start_time": "2024-04-08T10:55:06.280Z"
   },
   {
    "duration": 37,
    "start_time": "2024-04-08T10:55:06.292Z"
   },
   {
    "duration": 4,
    "start_time": "2024-04-08T10:55:06.330Z"
   },
   {
    "duration": 17,
    "start_time": "2024-04-08T10:55:06.335Z"
   },
   {
    "duration": 19,
    "start_time": "2024-04-08T10:55:06.353Z"
   },
   {
    "duration": 22,
    "start_time": "2024-04-08T10:55:06.373Z"
   },
   {
    "duration": 6,
    "start_time": "2024-04-08T10:55:06.397Z"
   },
   {
    "duration": 60,
    "start_time": "2024-04-08T10:55:06.404Z"
   },
   {
    "duration": 9,
    "start_time": "2024-04-08T10:55:06.465Z"
   },
   {
    "duration": 4,
    "start_time": "2024-04-08T10:55:06.475Z"
   },
   {
    "duration": 14,
    "start_time": "2024-04-08T10:55:06.480Z"
   },
   {
    "duration": 18,
    "start_time": "2024-04-08T10:55:06.495Z"
   },
   {
    "duration": 35,
    "start_time": "2024-04-08T10:55:06.514Z"
   },
   {
    "duration": 4,
    "start_time": "2024-04-08T10:55:06.550Z"
   },
   {
    "duration": 12,
    "start_time": "2024-04-08T10:55:06.555Z"
   },
   {
    "duration": 7,
    "start_time": "2024-04-08T10:55:06.568Z"
   },
   {
    "duration": 9,
    "start_time": "2024-04-08T10:55:06.576Z"
   },
   {
    "duration": 19,
    "start_time": "2024-04-08T10:55:06.586Z"
   },
   {
    "duration": 9,
    "start_time": "2024-04-08T10:55:06.606Z"
   },
   {
    "duration": 8,
    "start_time": "2024-04-08T10:55:06.616Z"
   },
   {
    "duration": 22,
    "start_time": "2024-04-08T10:55:06.625Z"
   },
   {
    "duration": 9,
    "start_time": "2024-04-08T10:55:06.649Z"
   },
   {
    "duration": 10,
    "start_time": "2024-04-08T10:55:06.660Z"
   },
   {
    "duration": 8,
    "start_time": "2024-04-08T10:55:06.672Z"
   },
   {
    "duration": 11,
    "start_time": "2024-04-08T10:55:06.683Z"
   },
   {
    "duration": 8,
    "start_time": "2024-04-08T10:55:06.696Z"
   },
   {
    "duration": 57,
    "start_time": "2024-04-08T10:55:06.705Z"
   },
   {
    "duration": 17,
    "start_time": "2024-04-08T10:55:18.376Z"
   },
   {
    "duration": 52,
    "start_time": "2024-04-08T10:56:09.043Z"
   },
   {
    "duration": 55,
    "start_time": "2024-04-08T10:56:17.924Z"
   },
   {
    "duration": 70,
    "start_time": "2024-04-08T10:56:23.008Z"
   },
   {
    "duration": 11,
    "start_time": "2024-04-08T10:56:39.017Z"
   },
   {
    "duration": 11,
    "start_time": "2024-04-08T11:02:20.560Z"
   },
   {
    "duration": 5,
    "start_time": "2024-04-08T11:02:41.347Z"
   },
   {
    "duration": 8,
    "start_time": "2024-04-08T11:03:13.102Z"
   },
   {
    "duration": 9,
    "start_time": "2024-04-08T11:03:28.185Z"
   },
   {
    "duration": 10,
    "start_time": "2024-04-08T11:04:02.707Z"
   },
   {
    "duration": 67,
    "start_time": "2024-04-08T11:05:09.578Z"
   },
   {
    "duration": 6,
    "start_time": "2024-04-08T11:05:13.550Z"
   },
   {
    "duration": 21,
    "start_time": "2024-04-08T11:05:22.563Z"
   },
   {
    "duration": 12,
    "start_time": "2024-04-08T11:06:11.077Z"
   },
   {
    "duration": 8,
    "start_time": "2024-04-08T11:06:26.279Z"
   },
   {
    "duration": 8,
    "start_time": "2024-04-08T11:06:44.539Z"
   },
   {
    "duration": 7,
    "start_time": "2024-04-08T11:06:56.108Z"
   },
   {
    "duration": 5,
    "start_time": "2024-04-08T11:07:01.205Z"
   },
   {
    "duration": 6,
    "start_time": "2024-04-08T11:07:11.589Z"
   },
   {
    "duration": 7,
    "start_time": "2024-04-08T11:07:24.217Z"
   },
   {
    "duration": 12,
    "start_time": "2024-04-08T11:07:31.957Z"
   },
   {
    "duration": 16,
    "start_time": "2024-04-08T11:10:02.049Z"
   },
   {
    "duration": 11,
    "start_time": "2024-04-08T11:10:19.412Z"
   },
   {
    "duration": 22,
    "start_time": "2024-04-08T11:11:09.744Z"
   },
   {
    "duration": 19,
    "start_time": "2024-04-08T11:11:34.427Z"
   },
   {
    "duration": 30,
    "start_time": "2024-04-08T11:11:58.573Z"
   },
   {
    "duration": 1204,
    "start_time": "2024-04-08T11:13:51.625Z"
   },
   {
    "duration": 1212,
    "start_time": "2024-04-08T11:13:58.433Z"
   },
   {
    "duration": 1218,
    "start_time": "2024-04-08T11:14:13.107Z"
   },
   {
    "duration": 1312,
    "start_time": "2024-04-08T11:14:44.459Z"
   },
   {
    "duration": 1325,
    "start_time": "2024-04-08T11:15:28.509Z"
   },
   {
    "duration": 1359,
    "start_time": "2024-04-08T11:15:51.961Z"
   },
   {
    "duration": 12,
    "start_time": "2024-04-08T11:16:26.094Z"
   },
   {
    "duration": 10,
    "start_time": "2024-04-08T11:17:38.111Z"
   },
   {
    "duration": 13,
    "start_time": "2024-04-08T11:18:06.539Z"
   },
   {
    "duration": 9,
    "start_time": "2024-04-08T11:18:20.256Z"
   },
   {
    "duration": 493,
    "start_time": "2024-04-08T11:20:39.623Z"
   },
   {
    "duration": 21,
    "start_time": "2024-04-08T11:20:40.118Z"
   },
   {
    "duration": 14,
    "start_time": "2024-04-08T11:20:40.140Z"
   },
   {
    "duration": 10,
    "start_time": "2024-04-08T11:20:40.156Z"
   },
   {
    "duration": 35,
    "start_time": "2024-04-08T11:20:40.167Z"
   },
   {
    "duration": 3,
    "start_time": "2024-04-08T11:20:40.204Z"
   },
   {
    "duration": 9,
    "start_time": "2024-04-08T11:20:40.208Z"
   },
   {
    "duration": 30,
    "start_time": "2024-04-08T11:20:40.218Z"
   },
   {
    "duration": 16,
    "start_time": "2024-04-08T11:20:40.249Z"
   },
   {
    "duration": 4,
    "start_time": "2024-04-08T11:20:40.267Z"
   },
   {
    "duration": 32,
    "start_time": "2024-04-08T11:20:40.272Z"
   },
   {
    "duration": 9,
    "start_time": "2024-04-08T11:20:40.305Z"
   },
   {
    "duration": 3,
    "start_time": "2024-04-08T11:20:40.316Z"
   },
   {
    "duration": 37,
    "start_time": "2024-04-08T11:20:40.320Z"
   },
   {
    "duration": 30,
    "start_time": "2024-04-08T11:20:40.358Z"
   },
   {
    "duration": 28,
    "start_time": "2024-04-08T11:20:40.390Z"
   },
   {
    "duration": 20,
    "start_time": "2024-04-08T11:20:40.419Z"
   },
   {
    "duration": 42,
    "start_time": "2024-04-08T11:20:40.441Z"
   },
   {
    "duration": 20,
    "start_time": "2024-04-08T11:20:40.485Z"
   },
   {
    "duration": 37,
    "start_time": "2024-04-08T11:20:40.506Z"
   },
   {
    "duration": 20,
    "start_time": "2024-04-08T11:20:40.544Z"
   },
   {
    "duration": 29,
    "start_time": "2024-04-08T11:20:40.566Z"
   },
   {
    "duration": 25,
    "start_time": "2024-04-08T11:20:40.597Z"
   },
   {
    "duration": 23,
    "start_time": "2024-04-08T11:20:40.624Z"
   },
   {
    "duration": 19,
    "start_time": "2024-04-08T11:20:40.648Z"
   },
   {
    "duration": 32,
    "start_time": "2024-04-08T11:20:40.668Z"
   },
   {
    "duration": 13,
    "start_time": "2024-04-08T11:20:40.701Z"
   },
   {
    "duration": 34,
    "start_time": "2024-04-08T11:20:40.717Z"
   },
   {
    "duration": 12,
    "start_time": "2024-04-08T11:20:40.752Z"
   },
   {
    "duration": 80,
    "start_time": "2024-04-08T11:20:40.765Z"
   },
   {
    "duration": 10,
    "start_time": "2024-04-08T11:20:40.846Z"
   },
   {
    "duration": 88608,
    "start_time": "2024-04-08T11:20:40.858Z"
   },
   {
    "duration": 23,
    "start_time": "2024-04-08T11:22:55.075Z"
   },
   {
    "duration": 434,
    "start_time": "2024-04-08T11:23:39.184Z"
   },
   {
    "duration": 20,
    "start_time": "2024-04-08T11:23:39.620Z"
   },
   {
    "duration": 24,
    "start_time": "2024-04-08T11:23:39.642Z"
   },
   {
    "duration": 15,
    "start_time": "2024-04-08T11:23:39.668Z"
   },
   {
    "duration": 43,
    "start_time": "2024-04-08T11:23:39.684Z"
   },
   {
    "duration": 17,
    "start_time": "2024-04-08T11:23:39.729Z"
   },
   {
    "duration": 10,
    "start_time": "2024-04-08T11:23:39.748Z"
   },
   {
    "duration": 4,
    "start_time": "2024-04-08T11:23:39.760Z"
   },
   {
    "duration": 17,
    "start_time": "2024-04-08T11:23:39.766Z"
   },
   {
    "duration": 4,
    "start_time": "2024-04-08T11:23:39.785Z"
   },
   {
    "duration": 37,
    "start_time": "2024-04-08T11:23:39.791Z"
   },
   {
    "duration": 10,
    "start_time": "2024-04-08T11:23:39.846Z"
   },
   {
    "duration": 4,
    "start_time": "2024-04-08T11:23:39.857Z"
   },
   {
    "duration": 11,
    "start_time": "2024-04-08T11:23:39.863Z"
   },
   {
    "duration": 26,
    "start_time": "2024-04-08T11:23:39.876Z"
   },
   {
    "duration": 51,
    "start_time": "2024-04-08T11:23:39.904Z"
   },
   {
    "duration": 4,
    "start_time": "2024-04-08T11:23:39.957Z"
   },
   {
    "duration": 18,
    "start_time": "2024-04-08T11:23:39.963Z"
   },
   {
    "duration": 7,
    "start_time": "2024-04-08T11:23:39.983Z"
   },
   {
    "duration": 5,
    "start_time": "2024-04-08T11:23:39.992Z"
   },
   {
    "duration": 24,
    "start_time": "2024-04-08T11:23:39.998Z"
   },
   {
    "duration": 40,
    "start_time": "2024-04-08T11:23:40.023Z"
   },
   {
    "duration": 26,
    "start_time": "2024-04-08T11:23:40.064Z"
   },
   {
    "duration": 34,
    "start_time": "2024-04-08T11:23:40.091Z"
   },
   {
    "duration": 8,
    "start_time": "2024-04-08T11:23:40.128Z"
   },
   {
    "duration": 37,
    "start_time": "2024-04-08T11:23:40.138Z"
   },
   {
    "duration": 30,
    "start_time": "2024-04-08T11:23:40.176Z"
   },
   {
    "duration": 21,
    "start_time": "2024-04-08T11:23:40.210Z"
   },
   {
    "duration": 17,
    "start_time": "2024-04-08T11:23:40.233Z"
   },
   {
    "duration": 84,
    "start_time": "2024-04-08T11:23:40.252Z"
   },
   {
    "duration": 19,
    "start_time": "2024-04-08T11:23:40.337Z"
   },
   {
    "duration": 25,
    "start_time": "2024-04-08T11:23:40.358Z"
   },
   {
    "duration": 66,
    "start_time": "2024-04-08T11:24:57.770Z"
   },
   {
    "duration": 61,
    "start_time": "2024-04-08T11:25:02.937Z"
   },
   {
    "duration": 6,
    "start_time": "2024-04-08T11:27:04.360Z"
   },
   {
    "duration": 8,
    "start_time": "2024-04-08T11:27:13.329Z"
   },
   {
    "duration": 8,
    "start_time": "2024-04-08T11:27:43.875Z"
   },
   {
    "duration": 475,
    "start_time": "2024-04-08T11:30:13.532Z"
   },
   {
    "duration": 20,
    "start_time": "2024-04-08T11:30:14.009Z"
   },
   {
    "duration": 21,
    "start_time": "2024-04-08T11:30:14.030Z"
   },
   {
    "duration": 9,
    "start_time": "2024-04-08T11:30:14.053Z"
   },
   {
    "duration": 60,
    "start_time": "2024-04-08T11:30:14.063Z"
   },
   {
    "duration": 3,
    "start_time": "2024-04-08T11:30:14.124Z"
   },
   {
    "duration": 22,
    "start_time": "2024-04-08T11:30:14.128Z"
   },
   {
    "duration": 17,
    "start_time": "2024-04-08T11:30:14.151Z"
   },
   {
    "duration": 10,
    "start_time": "2024-04-08T11:30:14.169Z"
   },
   {
    "duration": 10,
    "start_time": "2024-04-08T11:30:14.182Z"
   },
   {
    "duration": 59,
    "start_time": "2024-04-08T11:30:14.193Z"
   },
   {
    "duration": 9,
    "start_time": "2024-04-08T11:30:14.253Z"
   },
   {
    "duration": 14,
    "start_time": "2024-04-08T11:30:14.263Z"
   },
   {
    "duration": 31,
    "start_time": "2024-04-08T11:30:14.278Z"
   },
   {
    "duration": 30,
    "start_time": "2024-04-08T11:30:14.310Z"
   },
   {
    "duration": 41,
    "start_time": "2024-04-08T11:30:14.341Z"
   },
   {
    "duration": 3,
    "start_time": "2024-04-08T11:30:14.383Z"
   },
   {
    "duration": 23,
    "start_time": "2024-04-08T11:30:14.387Z"
   },
   {
    "duration": 10,
    "start_time": "2024-04-08T11:30:14.411Z"
   },
   {
    "duration": 23,
    "start_time": "2024-04-08T11:30:14.423Z"
   },
   {
    "duration": 33,
    "start_time": "2024-04-08T11:30:14.448Z"
   },
   {
    "duration": 34,
    "start_time": "2024-04-08T11:30:14.483Z"
   },
   {
    "duration": 14,
    "start_time": "2024-04-08T11:30:14.519Z"
   },
   {
    "duration": 39,
    "start_time": "2024-04-08T11:30:14.534Z"
   },
   {
    "duration": 20,
    "start_time": "2024-04-08T11:30:14.574Z"
   },
   {
    "duration": 30,
    "start_time": "2024-04-08T11:30:14.595Z"
   },
   {
    "duration": 23,
    "start_time": "2024-04-08T11:30:14.627Z"
   },
   {
    "duration": 22,
    "start_time": "2024-04-08T11:30:14.653Z"
   },
   {
    "duration": 22,
    "start_time": "2024-04-08T11:30:14.677Z"
   },
   {
    "duration": 75,
    "start_time": "2024-04-08T11:30:14.701Z"
   },
   {
    "duration": 16,
    "start_time": "2024-04-08T11:30:14.777Z"
   },
   {
    "duration": 27,
    "start_time": "2024-04-08T11:30:14.795Z"
   },
   {
    "duration": 86,
    "start_time": "2024-04-08T11:30:32.862Z"
   },
   {
    "duration": 10,
    "start_time": "2024-04-08T11:41:03.462Z"
   },
   {
    "duration": 8,
    "start_time": "2024-04-08T11:41:54.340Z"
   },
   {
    "duration": 27,
    "start_time": "2024-04-08T11:42:29.584Z"
   },
   {
    "duration": 9,
    "start_time": "2024-04-08T11:42:49.868Z"
   },
   {
    "duration": 62,
    "start_time": "2024-04-08T11:59:58.567Z"
   },
   {
    "duration": 19,
    "start_time": "2024-04-08T12:00:12.394Z"
   },
   {
    "duration": 26,
    "start_time": "2024-04-08T12:00:25.852Z"
   },
   {
    "duration": 16,
    "start_time": "2024-04-08T12:01:22.627Z"
   },
   {
    "duration": 8,
    "start_time": "2024-04-08T12:02:19.769Z"
   },
   {
    "duration": 12,
    "start_time": "2024-04-08T12:02:27.293Z"
   },
   {
    "duration": 9,
    "start_time": "2024-04-08T12:07:39.547Z"
   },
   {
    "duration": 12,
    "start_time": "2024-04-08T12:08:42.538Z"
   },
   {
    "duration": 11,
    "start_time": "2024-04-08T12:54:11.044Z"
   },
   {
    "duration": 7,
    "start_time": "2024-04-08T12:54:31.970Z"
   },
   {
    "duration": 73,
    "start_time": "2024-04-08T12:55:35.758Z"
   },
   {
    "duration": 70,
    "start_time": "2024-04-08T12:55:38.948Z"
   },
   {
    "duration": 75,
    "start_time": "2024-04-08T12:56:32.465Z"
   },
   {
    "duration": 94,
    "start_time": "2024-04-08T12:57:25.440Z"
   },
   {
    "duration": 79,
    "start_time": "2024-04-08T12:57:43.659Z"
   },
   {
    "duration": 803,
    "start_time": "2024-04-08T12:58:28.501Z"
   },
   {
    "duration": 4,
    "start_time": "2024-04-08T12:58:58.319Z"
   },
   {
    "duration": 7,
    "start_time": "2024-04-08T12:59:24.183Z"
   },
   {
    "duration": 75,
    "start_time": "2024-04-08T12:59:28.267Z"
   },
   {
    "duration": 4,
    "start_time": "2024-04-08T12:59:30.252Z"
   },
   {
    "duration": 101,
    "start_time": "2024-04-08T12:59:45.103Z"
   },
   {
    "duration": 4,
    "start_time": "2024-04-08T13:00:08.616Z"
   },
   {
    "duration": 12,
    "start_time": "2024-04-08T13:00:21.596Z"
   },
   {
    "duration": 389,
    "start_time": "2024-04-08T13:03:22.406Z"
   },
   {
    "duration": 151,
    "start_time": "2024-04-08T13:04:10.967Z"
   },
   {
    "duration": 115,
    "start_time": "2024-04-08T13:04:24.687Z"
   },
   {
    "duration": 149,
    "start_time": "2024-04-08T13:04:30.085Z"
   },
   {
    "duration": 20,
    "start_time": "2024-04-08T13:05:53.440Z"
   },
   {
    "duration": 510,
    "start_time": "2024-04-08T13:06:23.967Z"
   },
   {
    "duration": 205,
    "start_time": "2024-04-08T13:06:36.795Z"
   },
   {
    "duration": 572,
    "start_time": "2024-04-08T13:07:33.228Z"
   },
   {
    "duration": 316,
    "start_time": "2024-04-08T13:07:45.711Z"
   },
   {
    "duration": 203,
    "start_time": "2024-04-08T13:08:02.925Z"
   },
   {
    "duration": 2,
    "start_time": "2024-04-08T13:08:16.631Z"
   },
   {
    "duration": 84,
    "start_time": "2024-04-08T13:10:28.668Z"
   },
   {
    "duration": 10,
    "start_time": "2024-04-08T13:10:56.445Z"
   },
   {
    "duration": 311,
    "start_time": "2024-04-08T13:17:37.308Z"
   },
   {
    "duration": 213,
    "start_time": "2024-04-08T13:17:59.677Z"
   },
   {
    "duration": 11,
    "start_time": "2024-04-08T13:20:48.437Z"
   },
   {
    "duration": 30,
    "start_time": "2024-04-08T13:21:39.649Z"
   },
   {
    "duration": 213,
    "start_time": "2024-04-08T13:22:18.941Z"
   },
   {
    "duration": 13,
    "start_time": "2024-04-08T13:22:54.097Z"
   },
   {
    "duration": 15,
    "start_time": "2024-04-08T13:23:03.619Z"
   },
   {
    "duration": 18,
    "start_time": "2024-04-08T13:23:43.038Z"
   },
   {
    "duration": 17,
    "start_time": "2024-04-08T13:23:57.595Z"
   },
   {
    "duration": 10,
    "start_time": "2024-04-08T13:25:06.977Z"
   },
   {
    "duration": 743,
    "start_time": "2024-04-08T13:25:13.289Z"
   },
   {
    "duration": 638,
    "start_time": "2024-04-08T13:27:45.765Z"
   },
   {
    "duration": 4,
    "start_time": "2024-04-08T13:28:30.191Z"
   },
   {
    "duration": 73,
    "start_time": "2024-04-08T13:30:09.210Z"
   },
   {
    "duration": 32,
    "start_time": "2024-04-08T13:30:12.516Z"
   },
   {
    "duration": 194,
    "start_time": "2024-04-08T13:30:48.853Z"
   },
   {
    "duration": 308,
    "start_time": "2024-04-08T13:34:01.052Z"
   },
   {
    "duration": 290,
    "start_time": "2024-04-08T13:34:08.974Z"
   },
   {
    "duration": 323,
    "start_time": "2024-04-08T13:34:23.091Z"
   },
   {
    "duration": 319,
    "start_time": "2024-04-08T13:34:32.944Z"
   },
   {
    "duration": 310,
    "start_time": "2024-04-08T13:34:40.638Z"
   },
   {
    "duration": 445,
    "start_time": "2024-04-08T13:37:06.976Z"
   },
   {
    "duration": 333,
    "start_time": "2024-04-08T13:37:22.250Z"
   },
   {
    "duration": 323,
    "start_time": "2024-04-08T13:37:45.630Z"
   },
   {
    "duration": 479,
    "start_time": "2024-04-08T13:38:10.423Z"
   },
   {
    "duration": 347,
    "start_time": "2024-04-08T13:39:07.055Z"
   },
   {
    "duration": 14,
    "start_time": "2024-04-08T13:43:22.239Z"
   },
   {
    "duration": 101,
    "start_time": "2024-04-08T13:43:31.290Z"
   },
   {
    "duration": 114,
    "start_time": "2024-04-08T13:44:21.377Z"
   },
   {
    "duration": 159,
    "start_time": "2024-04-08T13:44:33.104Z"
   },
   {
    "duration": 212,
    "start_time": "2024-04-08T13:44:44.700Z"
   },
   {
    "duration": 1206,
    "start_time": "2024-04-08T13:45:06.825Z"
   },
   {
    "duration": 215,
    "start_time": "2024-04-08T13:45:20.352Z"
   },
   {
    "duration": 218,
    "start_time": "2024-04-08T13:46:09.067Z"
   },
   {
    "duration": 297,
    "start_time": "2024-04-08T13:46:21.862Z"
   },
   {
    "duration": 257,
    "start_time": "2024-04-08T13:46:36.808Z"
   },
   {
    "duration": 72,
    "start_time": "2024-04-08T13:48:04.329Z"
   },
   {
    "duration": 491,
    "start_time": "2024-04-08T13:48:10.317Z"
   },
   {
    "duration": 19,
    "start_time": "2024-04-08T13:48:10.810Z"
   },
   {
    "duration": 14,
    "start_time": "2024-04-08T13:48:10.831Z"
   },
   {
    "duration": 9,
    "start_time": "2024-04-08T13:48:10.847Z"
   },
   {
    "duration": 30,
    "start_time": "2024-04-08T13:48:10.857Z"
   },
   {
    "duration": 2,
    "start_time": "2024-04-08T13:48:10.889Z"
   },
   {
    "duration": 7,
    "start_time": "2024-04-08T13:48:10.892Z"
   },
   {
    "duration": 4,
    "start_time": "2024-04-08T13:48:10.900Z"
   },
   {
    "duration": 6,
    "start_time": "2024-04-08T13:48:10.905Z"
   },
   {
    "duration": 3,
    "start_time": "2024-04-08T13:48:10.914Z"
   },
   {
    "duration": 59,
    "start_time": "2024-04-08T13:48:10.918Z"
   },
   {
    "duration": 9,
    "start_time": "2024-04-08T13:48:10.978Z"
   },
   {
    "duration": 3,
    "start_time": "2024-04-08T13:48:10.988Z"
   },
   {
    "duration": 10,
    "start_time": "2024-04-08T13:48:10.992Z"
   },
   {
    "duration": 17,
    "start_time": "2024-04-08T13:48:11.003Z"
   },
   {
    "duration": 36,
    "start_time": "2024-04-08T13:48:11.021Z"
   },
   {
    "duration": 3,
    "start_time": "2024-04-08T13:48:11.058Z"
   },
   {
    "duration": 10,
    "start_time": "2024-04-08T13:48:11.063Z"
   },
   {
    "duration": 5,
    "start_time": "2024-04-08T13:48:11.074Z"
   },
   {
    "duration": 7,
    "start_time": "2024-04-08T13:48:11.080Z"
   },
   {
    "duration": 10,
    "start_time": "2024-04-08T13:48:11.088Z"
   },
   {
    "duration": 7,
    "start_time": "2024-04-08T13:48:11.099Z"
   },
   {
    "duration": 8,
    "start_time": "2024-04-08T13:48:11.107Z"
   },
   {
    "duration": 35,
    "start_time": "2024-04-08T13:48:11.117Z"
   },
   {
    "duration": 8,
    "start_time": "2024-04-08T13:48:11.153Z"
   },
   {
    "duration": 15,
    "start_time": "2024-04-08T13:48:11.162Z"
   },
   {
    "duration": 8,
    "start_time": "2024-04-08T13:48:11.178Z"
   },
   {
    "duration": 9,
    "start_time": "2024-04-08T13:48:11.190Z"
   },
   {
    "duration": 8,
    "start_time": "2024-04-08T13:48:11.200Z"
   },
   {
    "duration": 92,
    "start_time": "2024-04-08T13:48:11.210Z"
   },
   {
    "duration": 10,
    "start_time": "2024-04-08T13:48:11.304Z"
   },
   {
    "duration": 8,
    "start_time": "2024-04-08T13:48:11.316Z"
   },
   {
    "duration": 24,
    "start_time": "2024-04-08T13:48:11.326Z"
   },
   {
    "duration": 11,
    "start_time": "2024-04-08T13:48:11.351Z"
   },
   {
    "duration": 57,
    "start_time": "2024-04-08T13:48:11.363Z"
   },
   {
    "duration": 28,
    "start_time": "2024-04-08T13:48:11.422Z"
   },
   {
    "duration": 276,
    "start_time": "2024-04-08T13:48:11.452Z"
   },
   {
    "duration": 34,
    "start_time": "2024-04-08T13:48:11.730Z"
   },
   {
    "duration": 267,
    "start_time": "2024-04-08T13:48:11.765Z"
   },
   {
    "duration": 232,
    "start_time": "2024-04-08T13:51:12.352Z"
   },
   {
    "duration": 358,
    "start_time": "2024-04-08T13:52:47.953Z"
   },
   {
    "duration": 373,
    "start_time": "2024-04-08T13:53:02.051Z"
   },
   {
    "duration": 363,
    "start_time": "2024-04-08T13:53:42.003Z"
   },
   {
    "duration": 293,
    "start_time": "2024-04-08T13:53:53.661Z"
   },
   {
    "duration": 206,
    "start_time": "2024-04-08T13:54:03.994Z"
   },
   {
    "duration": 278,
    "start_time": "2024-04-08T13:59:20.240Z"
   },
   {
    "duration": 298,
    "start_time": "2024-04-08T13:59:31.868Z"
   },
   {
    "duration": 311,
    "start_time": "2024-04-08T14:02:32.500Z"
   },
   {
    "duration": 445,
    "start_time": "2024-04-08T14:03:46.466Z"
   },
   {
    "duration": 20,
    "start_time": "2024-04-08T14:03:46.913Z"
   },
   {
    "duration": 14,
    "start_time": "2024-04-08T14:03:46.934Z"
   },
   {
    "duration": 8,
    "start_time": "2024-04-08T14:03:46.950Z"
   },
   {
    "duration": 32,
    "start_time": "2024-04-08T14:03:46.960Z"
   },
   {
    "duration": 3,
    "start_time": "2024-04-08T14:03:46.994Z"
   },
   {
    "duration": 27,
    "start_time": "2024-04-08T14:03:46.998Z"
   },
   {
    "duration": 8,
    "start_time": "2024-04-08T14:03:47.027Z"
   },
   {
    "duration": 11,
    "start_time": "2024-04-08T14:03:47.036Z"
   },
   {
    "duration": 3,
    "start_time": "2024-04-08T14:03:47.049Z"
   },
   {
    "duration": 42,
    "start_time": "2024-04-08T14:03:47.054Z"
   },
   {
    "duration": 9,
    "start_time": "2024-04-08T14:03:47.097Z"
   },
   {
    "duration": 3,
    "start_time": "2024-04-08T14:03:47.108Z"
   },
   {
    "duration": 23,
    "start_time": "2024-04-08T14:03:47.113Z"
   },
   {
    "duration": 28,
    "start_time": "2024-04-08T14:03:47.138Z"
   },
   {
    "duration": 15,
    "start_time": "2024-04-08T14:03:47.168Z"
   },
   {
    "duration": 4,
    "start_time": "2024-04-08T14:03:47.184Z"
   },
   {
    "duration": 12,
    "start_time": "2024-04-08T14:03:47.189Z"
   },
   {
    "duration": 6,
    "start_time": "2024-04-08T14:03:47.202Z"
   },
   {
    "duration": 3,
    "start_time": "2024-04-08T14:03:47.210Z"
   },
   {
    "duration": 35,
    "start_time": "2024-04-08T14:03:47.214Z"
   },
   {
    "duration": 9,
    "start_time": "2024-04-08T14:03:47.250Z"
   },
   {
    "duration": 11,
    "start_time": "2024-04-08T14:03:47.261Z"
   },
   {
    "duration": 9,
    "start_time": "2024-04-08T14:03:47.274Z"
   },
   {
    "duration": 8,
    "start_time": "2024-04-08T14:03:47.285Z"
   },
   {
    "duration": 17,
    "start_time": "2024-04-08T14:03:47.294Z"
   },
   {
    "duration": 8,
    "start_time": "2024-04-08T14:03:47.312Z"
   },
   {
    "duration": 26,
    "start_time": "2024-04-08T14:03:47.322Z"
   },
   {
    "duration": 8,
    "start_time": "2024-04-08T14:03:47.349Z"
   },
   {
    "duration": 103,
    "start_time": "2024-04-08T14:03:47.358Z"
   },
   {
    "duration": 10,
    "start_time": "2024-04-08T14:03:47.462Z"
   },
   {
    "duration": 15,
    "start_time": "2024-04-08T14:03:47.473Z"
   },
   {
    "duration": 14,
    "start_time": "2024-04-08T14:03:47.489Z"
   },
   {
    "duration": 10,
    "start_time": "2024-04-08T14:03:47.504Z"
   },
   {
    "duration": 72,
    "start_time": "2024-04-08T14:03:47.515Z"
   },
   {
    "duration": 8,
    "start_time": "2024-04-08T14:03:47.588Z"
   },
   {
    "duration": 340,
    "start_time": "2024-04-08T14:03:47.597Z"
   },
   {
    "duration": 31,
    "start_time": "2024-04-08T14:03:47.938Z"
   },
   {
    "duration": 317,
    "start_time": "2024-04-08T14:03:47.970Z"
   },
   {
    "duration": 322,
    "start_time": "2024-04-08T14:03:48.288Z"
   },
   {
    "duration": 542,
    "start_time": "2024-04-08T14:08:32.269Z"
   },
   {
    "duration": 72,
    "start_time": "2024-04-08T14:17:28.197Z"
   },
   {
    "duration": 4,
    "start_time": "2024-04-08T14:19:41.093Z"
   },
   {
    "duration": 9,
    "start_time": "2024-04-08T14:19:44.779Z"
   },
   {
    "duration": 9,
    "start_time": "2024-04-08T14:19:50.180Z"
   },
   {
    "duration": 10,
    "start_time": "2024-04-08T14:20:20.993Z"
   },
   {
    "duration": 468,
    "start_time": "2024-04-08T14:37:09.072Z"
   },
   {
    "duration": 24,
    "start_time": "2024-04-08T14:37:09.542Z"
   },
   {
    "duration": 15,
    "start_time": "2024-04-08T14:37:09.570Z"
   },
   {
    "duration": 12,
    "start_time": "2024-04-08T14:37:09.587Z"
   },
   {
    "duration": 66,
    "start_time": "2024-04-08T14:37:09.600Z"
   },
   {
    "duration": 4,
    "start_time": "2024-04-08T14:37:09.668Z"
   },
   {
    "duration": 16,
    "start_time": "2024-04-08T14:37:09.673Z"
   },
   {
    "duration": 4,
    "start_time": "2024-04-08T14:37:09.691Z"
   },
   {
    "duration": 6,
    "start_time": "2024-04-08T14:37:09.698Z"
   },
   {
    "duration": 4,
    "start_time": "2024-04-08T14:37:09.705Z"
   },
   {
    "duration": 64,
    "start_time": "2024-04-08T14:37:09.710Z"
   },
   {
    "duration": 9,
    "start_time": "2024-04-08T14:37:09.775Z"
   },
   {
    "duration": 3,
    "start_time": "2024-04-08T14:37:09.786Z"
   },
   {
    "duration": 11,
    "start_time": "2024-04-08T14:37:09.791Z"
   },
   {
    "duration": 19,
    "start_time": "2024-04-08T14:37:09.804Z"
   },
   {
    "duration": 44,
    "start_time": "2024-04-08T14:37:09.824Z"
   },
   {
    "duration": 4,
    "start_time": "2024-04-08T14:37:09.869Z"
   },
   {
    "duration": 21,
    "start_time": "2024-04-08T14:37:09.874Z"
   },
   {
    "duration": 6,
    "start_time": "2024-04-08T14:37:09.896Z"
   },
   {
    "duration": 8,
    "start_time": "2024-04-08T14:37:09.904Z"
   },
   {
    "duration": 33,
    "start_time": "2024-04-08T14:37:09.913Z"
   },
   {
    "duration": 13,
    "start_time": "2024-04-08T14:37:09.948Z"
   },
   {
    "duration": 7,
    "start_time": "2024-04-08T14:37:09.963Z"
   },
   {
    "duration": 18,
    "start_time": "2024-04-08T14:37:09.971Z"
   },
   {
    "duration": 8,
    "start_time": "2024-04-08T14:37:09.990Z"
   },
   {
    "duration": 22,
    "start_time": "2024-04-08T14:37:10.000Z"
   },
   {
    "duration": 27,
    "start_time": "2024-04-08T14:37:10.025Z"
   },
   {
    "duration": 27,
    "start_time": "2024-04-08T14:37:10.054Z"
   },
   {
    "duration": 8,
    "start_time": "2024-04-08T14:37:10.082Z"
   },
   {
    "duration": 54,
    "start_time": "2024-04-08T14:37:10.092Z"
   },
   {
    "duration": 17,
    "start_time": "2024-04-08T14:37:10.148Z"
   },
   {
    "duration": 30,
    "start_time": "2024-04-08T14:37:10.166Z"
   },
   {
    "duration": 15,
    "start_time": "2024-04-08T14:37:10.198Z"
   },
   {
    "duration": 30,
    "start_time": "2024-04-08T14:37:10.214Z"
   },
   {
    "duration": 87,
    "start_time": "2024-04-08T14:37:10.246Z"
   },
   {
    "duration": 9,
    "start_time": "2024-04-08T14:37:10.334Z"
   },
   {
    "duration": 320,
    "start_time": "2024-04-08T14:37:10.345Z"
   },
   {
    "duration": 32,
    "start_time": "2024-04-08T14:37:10.667Z"
   },
   {
    "duration": 493,
    "start_time": "2024-04-08T14:37:10.701Z"
   },
   {
    "duration": 484,
    "start_time": "2024-04-08T14:41:06.012Z"
   },
   {
    "duration": 20,
    "start_time": "2024-04-08T14:41:06.497Z"
   },
   {
    "duration": 17,
    "start_time": "2024-04-08T14:41:06.518Z"
   },
   {
    "duration": 14,
    "start_time": "2024-04-08T14:41:06.536Z"
   },
   {
    "duration": 41,
    "start_time": "2024-04-08T14:41:06.552Z"
   },
   {
    "duration": 3,
    "start_time": "2024-04-08T14:41:06.594Z"
   },
   {
    "duration": 35,
    "start_time": "2024-04-08T14:41:06.598Z"
   },
   {
    "duration": 6,
    "start_time": "2024-04-08T14:41:06.634Z"
   },
   {
    "duration": 10,
    "start_time": "2024-04-08T14:41:06.641Z"
   },
   {
    "duration": 4,
    "start_time": "2024-04-08T14:41:06.652Z"
   },
   {
    "duration": 39,
    "start_time": "2024-04-08T14:41:06.658Z"
   },
   {
    "duration": 9,
    "start_time": "2024-04-08T14:41:06.699Z"
   },
   {
    "duration": 14,
    "start_time": "2024-04-08T14:41:06.709Z"
   },
   {
    "duration": 24,
    "start_time": "2024-04-08T14:41:06.725Z"
   },
   {
    "duration": 17,
    "start_time": "2024-04-08T14:41:06.750Z"
   },
   {
    "duration": 14,
    "start_time": "2024-04-08T14:41:06.768Z"
   },
   {
    "duration": 3,
    "start_time": "2024-04-08T14:41:06.784Z"
   },
   {
    "duration": 16,
    "start_time": "2024-04-08T14:41:06.788Z"
   },
   {
    "duration": 16,
    "start_time": "2024-04-08T14:41:06.805Z"
   },
   {
    "duration": 39,
    "start_time": "2024-04-08T14:41:06.822Z"
   },
   {
    "duration": 23,
    "start_time": "2024-04-08T14:41:06.863Z"
   },
   {
    "duration": 13,
    "start_time": "2024-04-08T14:41:06.887Z"
   },
   {
    "duration": 10,
    "start_time": "2024-04-08T14:41:06.901Z"
   },
   {
    "duration": 42,
    "start_time": "2024-04-08T14:41:06.912Z"
   },
   {
    "duration": 9,
    "start_time": "2024-04-08T14:41:06.956Z"
   },
   {
    "duration": 16,
    "start_time": "2024-04-08T14:41:06.967Z"
   },
   {
    "duration": 9,
    "start_time": "2024-04-08T14:41:06.984Z"
   },
   {
    "duration": 24,
    "start_time": "2024-04-08T14:41:06.995Z"
   },
   {
    "duration": 10,
    "start_time": "2024-04-08T14:41:07.021Z"
   },
   {
    "duration": 71,
    "start_time": "2024-04-08T14:41:07.032Z"
   },
   {
    "duration": 9,
    "start_time": "2024-04-08T14:41:07.105Z"
   },
   {
    "duration": 13,
    "start_time": "2024-04-08T14:41:07.115Z"
   },
   {
    "duration": 9,
    "start_time": "2024-04-08T14:41:07.129Z"
   },
   {
    "duration": 16,
    "start_time": "2024-04-08T14:41:07.145Z"
   },
   {
    "duration": 59,
    "start_time": "2024-04-08T14:41:07.162Z"
   },
   {
    "duration": 33,
    "start_time": "2024-04-08T14:41:07.223Z"
   },
   {
    "duration": 403,
    "start_time": "2024-04-08T14:41:07.258Z"
   },
   {
    "duration": 32,
    "start_time": "2024-04-08T14:41:07.662Z"
   },
   {
    "duration": 452,
    "start_time": "2024-04-08T14:41:07.696Z"
   },
   {
    "duration": 604,
    "start_time": "2024-04-08T16:26:23.002Z"
   },
   {
    "duration": 25,
    "start_time": "2024-04-08T16:26:23.608Z"
   },
   {
    "duration": 15,
    "start_time": "2024-04-08T16:26:23.635Z"
   },
   {
    "duration": 14,
    "start_time": "2024-04-08T16:26:23.652Z"
   },
   {
    "duration": 50,
    "start_time": "2024-04-08T16:26:23.668Z"
   },
   {
    "duration": 3,
    "start_time": "2024-04-08T16:26:23.719Z"
   },
   {
    "duration": 8,
    "start_time": "2024-04-08T16:26:23.724Z"
   },
   {
    "duration": 4,
    "start_time": "2024-04-08T16:26:23.733Z"
   },
   {
    "duration": 8,
    "start_time": "2024-04-08T16:26:23.738Z"
   },
   {
    "duration": 4,
    "start_time": "2024-04-08T16:26:23.747Z"
   },
   {
    "duration": 34,
    "start_time": "2024-04-08T16:26:23.752Z"
   },
   {
    "duration": 34,
    "start_time": "2024-04-08T16:26:23.787Z"
   },
   {
    "duration": 3,
    "start_time": "2024-04-08T16:26:23.823Z"
   },
   {
    "duration": 11,
    "start_time": "2024-04-08T16:26:23.829Z"
   },
   {
    "duration": 19,
    "start_time": "2024-04-08T16:26:23.841Z"
   },
   {
    "duration": 16,
    "start_time": "2024-04-08T16:26:23.861Z"
   },
   {
    "duration": 3,
    "start_time": "2024-04-08T16:26:23.879Z"
   },
   {
    "duration": 40,
    "start_time": "2024-04-08T16:26:23.883Z"
   },
   {
    "duration": 6,
    "start_time": "2024-04-08T16:26:23.924Z"
   },
   {
    "duration": 8,
    "start_time": "2024-04-08T16:26:23.931Z"
   },
   {
    "duration": 27,
    "start_time": "2024-04-08T16:26:23.940Z"
   },
   {
    "duration": 10,
    "start_time": "2024-04-08T16:26:23.968Z"
   },
   {
    "duration": 8,
    "start_time": "2024-04-08T16:26:23.980Z"
   },
   {
    "duration": 12,
    "start_time": "2024-04-08T16:26:23.990Z"
   },
   {
    "duration": 21,
    "start_time": "2024-04-08T16:26:24.003Z"
   },
   {
    "duration": 14,
    "start_time": "2024-04-08T16:26:24.025Z"
   },
   {
    "duration": 31,
    "start_time": "2024-04-08T16:26:24.041Z"
   },
   {
    "duration": 15,
    "start_time": "2024-04-08T16:26:24.073Z"
   },
   {
    "duration": 9,
    "start_time": "2024-04-08T16:26:24.089Z"
   },
   {
    "duration": 57,
    "start_time": "2024-04-08T16:26:24.100Z"
   },
   {
    "duration": 10,
    "start_time": "2024-04-08T16:26:24.158Z"
   },
   {
    "duration": 10,
    "start_time": "2024-04-08T16:26:24.170Z"
   },
   {
    "duration": 9,
    "start_time": "2024-04-08T16:26:24.182Z"
   },
   {
    "duration": 30,
    "start_time": "2024-04-08T16:26:24.193Z"
   },
   {
    "duration": 60,
    "start_time": "2024-04-08T16:26:24.225Z"
   },
   {
    "duration": 9,
    "start_time": "2024-04-08T16:26:24.286Z"
   },
   {
    "duration": 471,
    "start_time": "2024-04-08T16:26:24.297Z"
   },
   {
    "duration": 34,
    "start_time": "2024-04-08T16:26:24.769Z"
   },
   {
    "duration": 511,
    "start_time": "2024-04-08T16:26:24.805Z"
   },
   {
    "duration": 47,
    "start_time": "2024-04-08T18:36:24.829Z"
   },
   {
    "duration": 574,
    "start_time": "2024-04-08T18:36:30.615Z"
   },
   {
    "duration": 20,
    "start_time": "2024-04-08T18:36:31.190Z"
   },
   {
    "duration": 96,
    "start_time": "2024-04-08T18:36:31.212Z"
   },
   {
    "duration": 55,
    "start_time": "2024-04-08T18:36:31.310Z"
   },
   {
    "duration": 55,
    "start_time": "2024-04-08T18:36:31.366Z"
   },
   {
    "duration": 4,
    "start_time": "2024-04-08T18:36:31.422Z"
   },
   {
    "duration": 39,
    "start_time": "2024-04-08T18:36:31.427Z"
   },
   {
    "duration": 39,
    "start_time": "2024-04-08T18:36:31.467Z"
   },
   {
    "duration": 52,
    "start_time": "2024-04-08T18:36:31.507Z"
   },
   {
    "duration": 60,
    "start_time": "2024-04-08T18:36:31.563Z"
   },
   {
    "duration": 69,
    "start_time": "2024-04-08T18:36:31.625Z"
   },
   {
    "duration": 11,
    "start_time": "2024-04-08T18:36:31.696Z"
   },
   {
    "duration": 47,
    "start_time": "2024-04-08T18:36:31.709Z"
   },
   {
    "duration": 28,
    "start_time": "2024-04-08T18:36:31.758Z"
   },
   {
    "duration": 18,
    "start_time": "2024-04-08T18:36:31.787Z"
   },
   {
    "duration": 15,
    "start_time": "2024-04-08T18:36:31.806Z"
   },
   {
    "duration": 14,
    "start_time": "2024-04-08T18:36:31.823Z"
   },
   {
    "duration": 27,
    "start_time": "2024-04-08T18:36:31.839Z"
   },
   {
    "duration": 12,
    "start_time": "2024-04-08T18:36:31.867Z"
   },
   {
    "duration": 18,
    "start_time": "2024-04-08T18:36:31.880Z"
   },
   {
    "duration": 19,
    "start_time": "2024-04-08T18:36:31.899Z"
   },
   {
    "duration": 24,
    "start_time": "2024-04-08T18:36:31.919Z"
   },
   {
    "duration": 29,
    "start_time": "2024-04-08T18:36:31.945Z"
   },
   {
    "duration": 8,
    "start_time": "2024-04-08T18:36:31.975Z"
   },
   {
    "duration": 23,
    "start_time": "2024-04-08T18:36:31.985Z"
   },
   {
    "duration": 9,
    "start_time": "2024-04-08T18:36:32.010Z"
   },
   {
    "duration": 19,
    "start_time": "2024-04-08T18:36:32.020Z"
   },
   {
    "duration": 33,
    "start_time": "2024-04-08T18:36:32.043Z"
   },
   {
    "duration": 20,
    "start_time": "2024-04-08T18:36:32.078Z"
   },
   {
    "duration": 11,
    "start_time": "2024-04-08T18:36:32.099Z"
   },
   {
    "duration": 85,
    "start_time": "2024-04-08T18:36:32.111Z"
   },
   {
    "duration": 10,
    "start_time": "2024-04-08T18:36:32.198Z"
   },
   {
    "duration": 16,
    "start_time": "2024-04-08T18:36:32.210Z"
   },
   {
    "duration": 7,
    "start_time": "2024-04-08T18:36:32.228Z"
   },
   {
    "duration": 24,
    "start_time": "2024-04-08T18:36:32.236Z"
   },
   {
    "duration": 60,
    "start_time": "2024-04-08T18:36:32.261Z"
   },
   {
    "duration": 9,
    "start_time": "2024-04-08T18:36:32.323Z"
   },
   {
    "duration": 447,
    "start_time": "2024-04-08T18:36:32.333Z"
   },
   {
    "duration": 31,
    "start_time": "2024-04-08T18:36:32.782Z"
   },
   {
    "duration": 483,
    "start_time": "2024-04-08T18:36:32.814Z"
   },
   {
    "duration": 65,
    "start_time": "2024-04-08T18:37:20.875Z"
   },
   {
    "duration": 3,
    "start_time": "2024-04-08T18:37:25.001Z"
   },
   {
    "duration": 4,
    "start_time": "2024-04-08T18:37:46.368Z"
   },
   {
    "duration": 2,
    "start_time": "2024-04-08T18:39:28.493Z"
   },
   {
    "duration": 8,
    "start_time": "2024-04-08T18:39:48.327Z"
   },
   {
    "duration": 146,
    "start_time": "2024-04-08T18:39:57.350Z"
   },
   {
    "duration": 94,
    "start_time": "2024-04-08T18:40:09.404Z"
   },
   {
    "duration": 365,
    "start_time": "2024-04-08T18:40:27.058Z"
   },
   {
    "duration": 451,
    "start_time": "2024-04-08T18:41:06.505Z"
   },
   {
    "duration": 96,
    "start_time": "2024-04-08T18:41:23.224Z"
   },
   {
    "duration": 118,
    "start_time": "2024-04-08T18:41:26.840Z"
   },
   {
    "duration": 111,
    "start_time": "2024-04-08T18:41:31.657Z"
   },
   {
    "duration": 7,
    "start_time": "2024-04-08T18:41:50.927Z"
   },
   {
    "duration": 114,
    "start_time": "2024-04-08T18:42:18.525Z"
   },
   {
    "duration": 110,
    "start_time": "2024-04-08T18:42:26.454Z"
   },
   {
    "duration": 116,
    "start_time": "2024-04-08T18:43:22.067Z"
   },
   {
    "duration": 118,
    "start_time": "2024-04-08T18:43:30.521Z"
   },
   {
    "duration": 128,
    "start_time": "2024-04-08T18:43:59.725Z"
   },
   {
    "duration": 132,
    "start_time": "2024-04-08T18:44:28.725Z"
   },
   {
    "duration": 124,
    "start_time": "2024-04-08T18:47:37.904Z"
   },
   {
    "duration": 182,
    "start_time": "2024-04-08T18:47:45.706Z"
   },
   {
    "duration": 123,
    "start_time": "2024-04-08T18:48:31.558Z"
   },
   {
    "duration": 134,
    "start_time": "2024-04-08T18:48:38.435Z"
   },
   {
    "duration": 128,
    "start_time": "2024-04-08T19:05:48.496Z"
   },
   {
    "duration": 135,
    "start_time": "2024-04-08T19:06:09.857Z"
   },
   {
    "duration": 129,
    "start_time": "2024-04-08T19:08:04.773Z"
   },
   {
    "duration": 121,
    "start_time": "2024-04-08T19:08:12.859Z"
   },
   {
    "duration": 139,
    "start_time": "2024-04-08T19:08:18.181Z"
   },
   {
    "duration": 164,
    "start_time": "2024-04-08T19:09:31.027Z"
   },
   {
    "duration": 404,
    "start_time": "2024-04-08T19:11:47.838Z"
   },
   {
    "duration": 19,
    "start_time": "2024-04-08T19:11:57.254Z"
   },
   {
    "duration": 847,
    "start_time": "2024-04-08T19:12:47.779Z"
   },
   {
    "duration": 996,
    "start_time": "2024-04-08T19:12:59.880Z"
   },
   {
    "duration": 117,
    "start_time": "2024-04-08T19:13:12.219Z"
   },
   {
    "duration": 124,
    "start_time": "2024-04-08T19:13:21.729Z"
   },
   {
    "duration": 113,
    "start_time": "2024-04-08T19:13:36.992Z"
   },
   {
    "duration": 129,
    "start_time": "2024-04-08T19:15:13.459Z"
   },
   {
    "duration": 116,
    "start_time": "2024-04-08T19:15:21.255Z"
   },
   {
    "duration": 209,
    "start_time": "2024-04-08T19:15:54.198Z"
   },
   {
    "duration": 443,
    "start_time": "2024-04-08T19:17:49.369Z"
   },
   {
    "duration": 19,
    "start_time": "2024-04-08T19:17:49.814Z"
   },
   {
    "duration": 24,
    "start_time": "2024-04-08T19:17:49.834Z"
   },
   {
    "duration": 9,
    "start_time": "2024-04-08T19:17:49.859Z"
   },
   {
    "duration": 31,
    "start_time": "2024-04-08T19:17:49.869Z"
   },
   {
    "duration": 2,
    "start_time": "2024-04-08T19:17:49.902Z"
   },
   {
    "duration": 9,
    "start_time": "2024-04-08T19:17:49.905Z"
   },
   {
    "duration": 3,
    "start_time": "2024-04-08T19:17:49.916Z"
   },
   {
    "duration": 36,
    "start_time": "2024-04-08T19:17:49.920Z"
   },
   {
    "duration": 4,
    "start_time": "2024-04-08T19:17:49.959Z"
   },
   {
    "duration": 38,
    "start_time": "2024-04-08T19:17:49.964Z"
   },
   {
    "duration": 10,
    "start_time": "2024-04-08T19:17:50.003Z"
   },
   {
    "duration": 12,
    "start_time": "2024-04-08T19:17:50.014Z"
   },
   {
    "duration": 17,
    "start_time": "2024-04-08T19:17:50.027Z"
   },
   {
    "duration": 19,
    "start_time": "2024-04-08T19:17:50.053Z"
   },
   {
    "duration": 14,
    "start_time": "2024-04-08T19:17:50.073Z"
   },
   {
    "duration": 3,
    "start_time": "2024-04-08T19:17:50.088Z"
   },
   {
    "duration": 11,
    "start_time": "2024-04-08T19:17:50.092Z"
   },
   {
    "duration": 5,
    "start_time": "2024-04-08T19:17:50.104Z"
   },
   {
    "duration": 28,
    "start_time": "2024-04-08T19:17:50.110Z"
   },
   {
    "duration": 18,
    "start_time": "2024-04-08T19:17:50.140Z"
   },
   {
    "duration": 226,
    "start_time": "2024-04-08T19:17:50.160Z"
   },
   {
    "duration": 9,
    "start_time": "2024-04-08T19:17:50.388Z"
   },
   {
    "duration": 9,
    "start_time": "2024-04-08T19:17:50.398Z"
   },
   {
    "duration": 159,
    "start_time": "2024-04-08T19:17:50.408Z"
   },
   {
    "duration": 9,
    "start_time": "2024-04-08T19:17:50.569Z"
   },
   {
    "duration": 12,
    "start_time": "2024-04-08T19:17:50.579Z"
   },
   {
    "duration": 144,
    "start_time": "2024-04-08T19:17:50.594Z"
   },
   {
    "duration": 22,
    "start_time": "2024-04-08T19:17:50.739Z"
   },
   {
    "duration": 8,
    "start_time": "2024-04-08T19:17:50.762Z"
   },
   {
    "duration": 130,
    "start_time": "2024-04-08T19:17:50.771Z"
   },
   {
    "duration": 10,
    "start_time": "2024-04-08T19:17:50.902Z"
   },
   {
    "duration": 11,
    "start_time": "2024-04-08T19:17:50.913Z"
   },
   {
    "duration": 136,
    "start_time": "2024-04-08T19:17:50.926Z"
   },
   {
    "duration": 70,
    "start_time": "2024-04-08T19:17:51.064Z"
   },
   {
    "duration": 11,
    "start_time": "2024-04-08T19:17:51.135Z"
   },
   {
    "duration": 9,
    "start_time": "2024-04-08T19:17:51.157Z"
   },
   {
    "duration": 11,
    "start_time": "2024-04-08T19:17:51.167Z"
   },
   {
    "duration": 10,
    "start_time": "2024-04-08T19:17:51.179Z"
   },
   {
    "duration": 68,
    "start_time": "2024-04-08T19:17:51.190Z"
   },
   {
    "duration": 11,
    "start_time": "2024-04-08T19:17:51.259Z"
   },
   {
    "duration": 67,
    "start_time": "2024-04-08T19:17:51.271Z"
   },
   {
    "duration": 36,
    "start_time": "2024-04-08T19:17:51.339Z"
   },
   {
    "duration": 510,
    "start_time": "2024-04-08T19:17:51.377Z"
   },
   {
    "duration": 130,
    "start_time": "2024-04-08T19:20:02.141Z"
   },
   {
    "duration": 125,
    "start_time": "2024-04-08T19:27:55.354Z"
   },
   {
    "duration": 109,
    "start_time": "2024-04-08T19:28:10.499Z"
   },
   {
    "duration": 111,
    "start_time": "2024-04-08T19:28:24.798Z"
   },
   {
    "duration": 112,
    "start_time": "2024-04-08T19:28:28.469Z"
   },
   {
    "duration": 452,
    "start_time": "2024-04-08T21:18:20.576Z"
   },
   {
    "duration": 23,
    "start_time": "2024-04-08T21:18:21.030Z"
   },
   {
    "duration": 14,
    "start_time": "2024-04-08T21:18:21.054Z"
   },
   {
    "duration": 10,
    "start_time": "2024-04-08T21:18:21.069Z"
   },
   {
    "duration": 38,
    "start_time": "2024-04-08T21:18:21.080Z"
   },
   {
    "duration": 3,
    "start_time": "2024-04-08T21:18:21.120Z"
   },
   {
    "duration": 25,
    "start_time": "2024-04-08T21:18:21.124Z"
   },
   {
    "duration": 21,
    "start_time": "2024-04-08T21:18:21.150Z"
   },
   {
    "duration": 22,
    "start_time": "2024-04-08T21:18:21.173Z"
   },
   {
    "duration": 26,
    "start_time": "2024-04-08T21:18:21.197Z"
   },
   {
    "duration": 64,
    "start_time": "2024-04-08T21:18:21.225Z"
   },
   {
    "duration": 10,
    "start_time": "2024-04-08T21:18:21.290Z"
   },
   {
    "duration": 21,
    "start_time": "2024-04-08T21:18:21.302Z"
   },
   {
    "duration": 29,
    "start_time": "2024-04-08T21:18:21.324Z"
   },
   {
    "duration": 40,
    "start_time": "2024-04-08T21:18:21.355Z"
   },
   {
    "duration": 20,
    "start_time": "2024-04-08T21:18:21.397Z"
   },
   {
    "duration": 9,
    "start_time": "2024-04-08T21:18:21.418Z"
   },
   {
    "duration": 30,
    "start_time": "2024-04-08T21:18:21.428Z"
   },
   {
    "duration": 19,
    "start_time": "2024-04-08T21:18:21.460Z"
   },
   {
    "duration": 17,
    "start_time": "2024-04-08T21:18:21.481Z"
   },
   {
    "duration": 25,
    "start_time": "2024-04-08T21:18:21.499Z"
   },
   {
    "duration": 215,
    "start_time": "2024-04-08T21:18:21.525Z"
   },
   {
    "duration": 9,
    "start_time": "2024-04-08T21:18:21.741Z"
   },
   {
    "duration": 17,
    "start_time": "2024-04-08T21:18:21.751Z"
   },
   {
    "duration": 159,
    "start_time": "2024-04-08T21:18:21.769Z"
   },
   {
    "duration": 10,
    "start_time": "2024-04-08T21:18:21.930Z"
   },
   {
    "duration": 9,
    "start_time": "2024-04-08T21:18:21.944Z"
   },
   {
    "duration": 139,
    "start_time": "2024-04-08T21:18:21.956Z"
   },
   {
    "duration": 11,
    "start_time": "2024-04-08T21:18:22.097Z"
   },
   {
    "duration": 9,
    "start_time": "2024-04-08T21:18:22.109Z"
   },
   {
    "duration": 133,
    "start_time": "2024-04-08T21:18:22.119Z"
   },
   {
    "duration": 9,
    "start_time": "2024-04-08T21:18:22.254Z"
   },
   {
    "duration": 7,
    "start_time": "2024-04-08T21:18:22.265Z"
   },
   {
    "duration": 145,
    "start_time": "2024-04-08T21:18:22.274Z"
   },
   {
    "duration": 73,
    "start_time": "2024-04-08T21:18:22.420Z"
   },
   {
    "duration": 10,
    "start_time": "2024-04-08T21:18:22.494Z"
   },
   {
    "duration": 8,
    "start_time": "2024-04-08T21:18:22.505Z"
   },
   {
    "duration": 7,
    "start_time": "2024-04-08T21:18:22.514Z"
   },
   {
    "duration": 27,
    "start_time": "2024-04-08T21:18:22.522Z"
   },
   {
    "duration": 55,
    "start_time": "2024-04-08T21:18:22.551Z"
   },
   {
    "duration": 9,
    "start_time": "2024-04-08T21:18:22.607Z"
   },
   {
    "duration": 67,
    "start_time": "2024-04-08T21:18:22.617Z"
   },
   {
    "duration": 31,
    "start_time": "2024-04-08T21:18:22.686Z"
   },
   {
    "duration": 484,
    "start_time": "2024-04-08T21:18:22.718Z"
   },
   {
    "duration": 390,
    "start_time": "2024-04-08T22:30:56.956Z"
   },
   {
    "duration": 18,
    "start_time": "2024-04-08T22:30:57.347Z"
   },
   {
    "duration": 18,
    "start_time": "2024-04-08T22:30:57.367Z"
   },
   {
    "duration": 7,
    "start_time": "2024-04-08T22:30:57.386Z"
   },
   {
    "duration": 36,
    "start_time": "2024-04-08T22:30:57.394Z"
   },
   {
    "duration": 3,
    "start_time": "2024-04-08T22:30:57.431Z"
   },
   {
    "duration": 10,
    "start_time": "2024-04-08T22:30:57.435Z"
   },
   {
    "duration": 6,
    "start_time": "2024-04-08T22:30:57.447Z"
   },
   {
    "duration": 19,
    "start_time": "2024-04-08T22:30:57.455Z"
   },
   {
    "duration": 3,
    "start_time": "2024-04-08T22:30:57.477Z"
   },
   {
    "duration": 41,
    "start_time": "2024-04-08T22:30:57.481Z"
   },
   {
    "duration": 11,
    "start_time": "2024-04-08T22:30:57.524Z"
   },
   {
    "duration": 3,
    "start_time": "2024-04-08T22:30:57.537Z"
   },
   {
    "duration": 16,
    "start_time": "2024-04-08T22:30:57.541Z"
   },
   {
    "duration": 20,
    "start_time": "2024-04-08T22:30:57.558Z"
   },
   {
    "duration": 23,
    "start_time": "2024-04-08T22:30:57.579Z"
   },
   {
    "duration": 3,
    "start_time": "2024-04-08T22:30:57.603Z"
   },
   {
    "duration": 10,
    "start_time": "2024-04-08T22:30:57.607Z"
   },
   {
    "duration": 5,
    "start_time": "2024-04-08T22:30:57.618Z"
   },
   {
    "duration": 3,
    "start_time": "2024-04-08T22:30:57.624Z"
   },
   {
    "duration": 13,
    "start_time": "2024-04-08T22:30:57.628Z"
   },
   {
    "duration": 321,
    "start_time": "2024-04-08T22:30:57.642Z"
   },
   {
    "duration": 10,
    "start_time": "2024-04-08T22:30:57.965Z"
   },
   {
    "duration": 8,
    "start_time": "2024-04-08T22:30:57.976Z"
   },
   {
    "duration": 135,
    "start_time": "2024-04-08T22:30:57.985Z"
   },
   {
    "duration": 106,
    "start_time": "2024-04-08T22:30:58.122Z"
   },
   {
    "duration": 9,
    "start_time": "2024-04-08T22:30:58.229Z"
   },
   {
    "duration": 9,
    "start_time": "2024-04-08T22:30:58.240Z"
   },
   {
    "duration": 132,
    "start_time": "2024-04-08T22:30:58.250Z"
   },
   {
    "duration": 8,
    "start_time": "2024-04-08T22:30:58.383Z"
   },
   {
    "duration": 15,
    "start_time": "2024-04-08T22:30:58.392Z"
   },
   {
    "duration": 108,
    "start_time": "2024-04-08T22:30:58.408Z"
   },
   {
    "duration": 13,
    "start_time": "2024-04-08T22:30:58.518Z"
   },
   {
    "duration": 7,
    "start_time": "2024-04-08T22:30:58.532Z"
   },
   {
    "duration": 163,
    "start_time": "2024-04-08T22:30:58.540Z"
   },
   {
    "duration": 62,
    "start_time": "2024-04-08T22:30:58.704Z"
   },
   {
    "duration": 8,
    "start_time": "2024-04-08T22:30:58.767Z"
   },
   {
    "duration": 10,
    "start_time": "2024-04-08T22:30:58.776Z"
   },
   {
    "duration": 7,
    "start_time": "2024-04-08T22:30:58.787Z"
   },
   {
    "duration": 20,
    "start_time": "2024-04-08T22:30:58.795Z"
   },
   {
    "duration": 48,
    "start_time": "2024-04-08T22:30:58.816Z"
   },
   {
    "duration": 8,
    "start_time": "2024-04-08T22:30:58.865Z"
   },
   {
    "duration": 54,
    "start_time": "2024-04-08T22:30:58.874Z"
   },
   {
    "duration": 26,
    "start_time": "2024-04-08T22:30:58.929Z"
   },
   {
    "duration": 389,
    "start_time": "2024-04-08T22:30:58.956Z"
   },
   {
    "duration": 48,
    "start_time": "2024-04-08T22:32:21.258Z"
   },
   {
    "duration": 49,
    "start_time": "2024-04-09T16:06:31.665Z"
   },
   {
    "duration": 690,
    "start_time": "2024-04-09T16:06:40.556Z"
   },
   {
    "duration": 24,
    "start_time": "2024-04-09T16:06:41.249Z"
   },
   {
    "duration": 25,
    "start_time": "2024-04-09T16:06:41.275Z"
   },
   {
    "duration": 16,
    "start_time": "2024-04-09T16:06:41.303Z"
   },
   {
    "duration": 89,
    "start_time": "2024-04-09T16:06:41.321Z"
   },
   {
    "duration": 4,
    "start_time": "2024-04-09T16:06:41.412Z"
   },
   {
    "duration": 10,
    "start_time": "2024-04-09T16:06:41.417Z"
   },
   {
    "duration": 4,
    "start_time": "2024-04-09T16:06:41.428Z"
   },
   {
    "duration": 7,
    "start_time": "2024-04-09T16:06:41.456Z"
   },
   {
    "duration": 9,
    "start_time": "2024-04-09T16:06:41.467Z"
   },
   {
    "duration": 46,
    "start_time": "2024-04-09T16:06:41.478Z"
   },
   {
    "duration": 17,
    "start_time": "2024-04-09T16:06:41.526Z"
   },
   {
    "duration": 5,
    "start_time": "2024-04-09T16:06:41.556Z"
   },
   {
    "duration": 19,
    "start_time": "2024-04-09T16:06:41.563Z"
   },
   {
    "duration": 32,
    "start_time": "2024-04-09T16:06:41.584Z"
   },
   {
    "duration": 38,
    "start_time": "2024-04-09T16:06:41.619Z"
   },
   {
    "duration": 3,
    "start_time": "2024-04-09T16:06:41.659Z"
   },
   {
    "duration": 18,
    "start_time": "2024-04-09T16:06:41.664Z"
   },
   {
    "duration": 13,
    "start_time": "2024-04-09T16:06:41.683Z"
   },
   {
    "duration": 4,
    "start_time": "2024-04-09T16:06:41.698Z"
   },
   {
    "duration": 17,
    "start_time": "2024-04-09T16:06:41.703Z"
   },
   {
    "duration": 436,
    "start_time": "2024-04-09T16:06:41.721Z"
   },
   {
    "duration": 12,
    "start_time": "2024-04-09T16:06:42.159Z"
   },
   {
    "duration": 11,
    "start_time": "2024-04-09T16:06:42.173Z"
   },
   {
    "duration": 214,
    "start_time": "2024-04-09T16:06:42.186Z"
   },
   {
    "duration": 86,
    "start_time": "2024-04-09T16:06:42.403Z"
   },
   {
    "duration": 0,
    "start_time": "2024-04-09T16:06:42.492Z"
   },
   {
    "duration": 0,
    "start_time": "2024-04-09T16:06:42.494Z"
   },
   {
    "duration": 0,
    "start_time": "2024-04-09T16:06:42.496Z"
   },
   {
    "duration": 0,
    "start_time": "2024-04-09T16:06:42.498Z"
   },
   {
    "duration": 1,
    "start_time": "2024-04-09T16:06:42.499Z"
   },
   {
    "duration": 0,
    "start_time": "2024-04-09T16:06:42.501Z"
   },
   {
    "duration": 0,
    "start_time": "2024-04-09T16:06:42.503Z"
   },
   {
    "duration": 0,
    "start_time": "2024-04-09T16:06:42.507Z"
   },
   {
    "duration": 0,
    "start_time": "2024-04-09T16:06:42.508Z"
   },
   {
    "duration": 0,
    "start_time": "2024-04-09T16:06:42.510Z"
   },
   {
    "duration": 0,
    "start_time": "2024-04-09T16:06:42.511Z"
   },
   {
    "duration": 0,
    "start_time": "2024-04-09T16:06:42.513Z"
   },
   {
    "duration": 0,
    "start_time": "2024-04-09T16:06:42.514Z"
   },
   {
    "duration": 0,
    "start_time": "2024-04-09T16:06:42.515Z"
   },
   {
    "duration": 0,
    "start_time": "2024-04-09T16:06:42.517Z"
   },
   {
    "duration": 0,
    "start_time": "2024-04-09T16:06:42.518Z"
   },
   {
    "duration": 0,
    "start_time": "2024-04-09T16:06:42.520Z"
   },
   {
    "duration": 0,
    "start_time": "2024-04-09T16:06:42.522Z"
   },
   {
    "duration": 0,
    "start_time": "2024-04-09T16:06:42.523Z"
   },
   {
    "duration": 0,
    "start_time": "2024-04-09T16:06:42.525Z"
   },
   {
    "duration": 170,
    "start_time": "2024-04-09T16:06:52.704Z"
   },
   {
    "duration": 8,
    "start_time": "2024-04-09T16:06:54.979Z"
   },
   {
    "duration": 514,
    "start_time": "2024-04-09T16:08:55.566Z"
   },
   {
    "duration": 24,
    "start_time": "2024-04-09T16:08:56.082Z"
   },
   {
    "duration": 15,
    "start_time": "2024-04-09T16:08:56.108Z"
   },
   {
    "duration": 11,
    "start_time": "2024-04-09T16:08:56.125Z"
   },
   {
    "duration": 55,
    "start_time": "2024-04-09T16:08:56.137Z"
   },
   {
    "duration": 3,
    "start_time": "2024-04-09T16:08:56.194Z"
   },
   {
    "duration": 10,
    "start_time": "2024-04-09T16:08:56.199Z"
   },
   {
    "duration": 7,
    "start_time": "2024-04-09T16:08:56.210Z"
   },
   {
    "duration": 42,
    "start_time": "2024-04-09T16:08:56.218Z"
   },
   {
    "duration": 16,
    "start_time": "2024-04-09T16:08:56.263Z"
   },
   {
    "duration": 40,
    "start_time": "2024-04-09T16:08:56.281Z"
   },
   {
    "duration": 11,
    "start_time": "2024-04-09T16:08:56.323Z"
   },
   {
    "duration": 5,
    "start_time": "2024-04-09T16:08:56.336Z"
   },
   {
    "duration": 20,
    "start_time": "2024-04-09T16:08:56.356Z"
   },
   {
    "duration": 34,
    "start_time": "2024-04-09T16:08:56.378Z"
   },
   {
    "duration": 22,
    "start_time": "2024-04-09T16:08:56.415Z"
   },
   {
    "duration": 4,
    "start_time": "2024-04-09T16:08:56.455Z"
   },
   {
    "duration": 12,
    "start_time": "2024-04-09T16:08:56.461Z"
   },
   {
    "duration": 8,
    "start_time": "2024-04-09T16:08:56.475Z"
   },
   {
    "duration": 19,
    "start_time": "2024-04-09T16:08:56.485Z"
   },
   {
    "duration": 13,
    "start_time": "2024-04-09T16:08:56.505Z"
   },
   {
    "duration": 272,
    "start_time": "2024-04-09T16:08:56.520Z"
   },
   {
    "duration": 11,
    "start_time": "2024-04-09T16:08:56.793Z"
   },
   {
    "duration": 8,
    "start_time": "2024-04-09T16:08:56.806Z"
   },
   {
    "duration": 181,
    "start_time": "2024-04-09T16:08:56.816Z"
   },
   {
    "duration": 151,
    "start_time": "2024-04-09T16:08:56.999Z"
   },
   {
    "duration": 10,
    "start_time": "2024-04-09T16:08:57.156Z"
   },
   {
    "duration": 16,
    "start_time": "2024-04-09T16:08:57.170Z"
   },
   {
    "duration": 18,
    "start_time": "2024-04-09T16:08:57.188Z"
   },
   {
    "duration": 171,
    "start_time": "2024-04-09T16:08:57.208Z"
   },
   {
    "duration": 10,
    "start_time": "2024-04-09T16:08:57.381Z"
   },
   {
    "duration": 9,
    "start_time": "2024-04-09T16:08:57.393Z"
   },
   {
    "duration": 153,
    "start_time": "2024-04-09T16:08:57.404Z"
   },
   {
    "duration": 11,
    "start_time": "2024-04-09T16:08:57.558Z"
   },
   {
    "duration": 11,
    "start_time": "2024-04-09T16:08:57.570Z"
   },
   {
    "duration": 165,
    "start_time": "2024-04-09T16:08:57.583Z"
   },
   {
    "duration": 77,
    "start_time": "2024-04-09T16:08:57.750Z"
   },
   {
    "duration": 11,
    "start_time": "2024-04-09T16:08:57.829Z"
   },
   {
    "duration": 15,
    "start_time": "2024-04-09T16:08:57.842Z"
   },
   {
    "duration": 11,
    "start_time": "2024-04-09T16:08:57.859Z"
   },
   {
    "duration": 13,
    "start_time": "2024-04-09T16:08:57.871Z"
   },
   {
    "duration": 88,
    "start_time": "2024-04-09T16:08:57.886Z"
   },
   {
    "duration": 62,
    "start_time": "2024-04-09T16:08:57.976Z"
   },
   {
    "duration": 67,
    "start_time": "2024-04-09T16:08:58.040Z"
   },
   {
    "duration": 49,
    "start_time": "2024-04-09T16:08:58.109Z"
   },
   {
    "duration": 577,
    "start_time": "2024-04-09T16:08:58.160Z"
   },
   {
    "duration": 88,
    "start_time": "2024-04-09T16:11:11.407Z"
   },
   {
    "duration": 674,
    "start_time": "2024-04-09T16:11:34.081Z"
   }
  ],
  "colab": {
   "name": "dpp_template_part2.ipynb",
   "provenance": []
  },
  "kernelspec": {
   "display_name": "Python 3 (ipykernel)",
   "language": "python",
   "name": "python3"
  },
  "language_info": {
   "codemirror_mode": {
    "name": "ipython",
    "version": 3
   },
   "file_extension": ".py",
   "mimetype": "text/x-python",
   "name": "python",
   "nbconvert_exporter": "python",
   "pygments_lexer": "ipython3",
   "version": "3.11.7"
  },
  "toc": {
   "base_numbering": 1,
   "nav_menu": {
    "height": "182.4px",
    "width": "296.4px"
   },
   "number_sections": true,
   "sideBar": true,
   "skip_h1_title": true,
   "title_cell": "Table of Contents",
   "title_sidebar": "Contents",
   "toc_cell": true,
   "toc_position": {
    "height": "calc(100% - 180px)",
    "left": "10px",
    "top": "150px",
    "width": "266.6px"
   },
   "toc_section_display": true,
   "toc_window_display": true
  }
 },
 "nbformat": 4,
 "nbformat_minor": 5
}
