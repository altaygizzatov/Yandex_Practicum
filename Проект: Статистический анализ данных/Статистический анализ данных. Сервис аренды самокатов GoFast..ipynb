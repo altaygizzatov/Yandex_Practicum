{
 "cells": [
  {
   "cell_type": "markdown",
   "id": "18804bf0",
   "metadata": {},
   "source": [
    "----------------------"
   ]
  },
  {
   "cell_type": "markdown",
   "id": "d81938a9",
   "metadata": {},
   "source": [
    "<div class=\"alert alert-block alert-danger\">\n",
    "<b>❌Комментарий ревьюера:</b> \n",
    "    \n",
    " Любому проекту нужно название и введение - так ты поясняешь читателю, что вообще тут происходит. Также стоит задуматься, как еще его можно дополнить, чтобы сделать более ценным для читателя. Все инструкции по оформлению проекта есть на платформе в разделе \"Полезные инструкции для учебы\"\n",
    "    \n",
    "Также советую тебе взглянуть на <a href=\"https://www.kaggle.com/code?sortBy=voteCount\">работы</a> профессиональных аналитиков, чтобы оценить, как другие люди оформляют и проводят исследования.   \n",
    "\n",
    "</div>"
   ]
  },
  {
   "cell_type": "markdown",
   "id": "c3e7ec47",
   "metadata": {},
   "source": [
    "<div class=\"alert alert-block alert-success\">\n",
    "<b>✅Комментарий ревьюера 2:</b> Отлично, исправлено!👍  </div>"
   ]
  },
  {
   "cell_type": "markdown",
   "id": "20262d66",
   "metadata": {},
   "source": [
    "# Статистический анализ данных. Сервис аренды самокатов GoFast.\n",
    "\n",
    "Вы аналитик популярного сервиса аренды самокатов GoFast. Вам передали данные о некоторых пользователях из нескольких городов, а также об их поездках. Проанализируйте данные и проверьте некоторые гипотезы, которые могут помочь бизнесу вырасти.\n",
    "Чтобы совершать поездки по городу, пользователи сервиса GoFast пользуются мобильным приложением. Сервисом можно пользоваться:\n",
    "- без подписки\n",
    "    - абонентская плата отсутствует;\n",
    "    - стоимость одной минуты поездки — 8 рублей\n",
    "    - стоимость старта (начала поездки) — 50 рублей;\n",
    "- с подпиской Ultra\n",
    "    - абонентская плата — 199 рублей в месяц;\n",
    "    - стоимость одной минуты поездки — 6 рублей;\n",
    "    - стоимость старта — бесплатно.\n",
    "    \n",
    "**Описание данных**\n",
    "\n",
    "Пользователи\n",
    "\n",
    "- user_id - уникальный идентификатор пользователя\n",
    "- name - имя пользователя\n",
    "- age - возраст\n",
    "- city - город\n",
    "- subscription_type - тип подписки (free, ultra)\n",
    "\n",
    "Поездки\n",
    "\n",
    "- user_id - уникальный идентификатор пользователя\n",
    "- distance - расстояние, которое пользователь проехал в текущей сессии (в метрах)\n",
    "- duration - продолжительность сессии (в минутах) — время с того момента, как пользователь нажал кнопку «Начать поездку» до момента, как он нажал кнопку «Завершить поездку»\n",
    "- date - дата совершения поездки\n",
    "\n",
    "Подписки\n",
    "\n",
    "- subscription_type - тип подписки\n",
    "- minute_price - стоимость одной минуты поездки по данной подписке\n",
    "- start_ride_price - стоимость начала поездки\n",
    "- subscription_fee - стоимость ежемесячного платежа\n",
    "\n",
    "**План действий**\n",
    "\n",
    "1. Загрузка данных\n",
    "2. Предобработка данных\n",
    "3. Исследовательский анализ данных\n",
    "4. Объединение данных\n",
    "5. Подсчёт выручки\n",
    "6. Проверка гипотез"
   ]
  },
  {
   "cell_type": "code",
   "execution_count": 1,
   "id": "c5d36fc3",
   "metadata": {},
   "outputs": [],
   "source": [
    "import pandas as pd\n",
    "import numpy as np\n",
    "import matplotlib.pyplot as plt\n",
    "from scipy import stats as st\n",
    "from math import sqrt"
   ]
  },
  {
   "cell_type": "markdown",
   "id": "6c6b8bdc",
   "metadata": {},
   "source": [
    "#### Шаг 1. Загрузка данных"
   ]
  },
  {
   "cell_type": "code",
   "execution_count": 2,
   "id": "3451c691",
   "metadata": {},
   "outputs": [],
   "source": [
    "users = pd.read_csv('datasets/users_go.csv', sep=',')\n",
    "rides = pd.read_csv('datasets/rides_go.csv', sep=',')\n",
    "subscriptions = pd.read_csv('datasets/subscriptions_go.csv', sep=',')"
   ]
  },
  {
   "cell_type": "code",
   "execution_count": 3,
   "id": "3b9529a2",
   "metadata": {},
   "outputs": [
    {
     "data": {
      "text/html": [
       "<div>\n",
       "<style scoped>\n",
       "    .dataframe tbody tr th:only-of-type {\n",
       "        vertical-align: middle;\n",
       "    }\n",
       "\n",
       "    .dataframe tbody tr th {\n",
       "        vertical-align: top;\n",
       "    }\n",
       "\n",
       "    .dataframe thead th {\n",
       "        text-align: right;\n",
       "    }\n",
       "</style>\n",
       "<table border=\"1\" class=\"dataframe\">\n",
       "  <thead>\n",
       "    <tr style=\"text-align: right;\">\n",
       "      <th></th>\n",
       "      <th>user_id</th>\n",
       "      <th>name</th>\n",
       "      <th>age</th>\n",
       "      <th>city</th>\n",
       "      <th>subscription_type</th>\n",
       "    </tr>\n",
       "  </thead>\n",
       "  <tbody>\n",
       "    <tr>\n",
       "      <th>0</th>\n",
       "      <td>1</td>\n",
       "      <td>Кира</td>\n",
       "      <td>22</td>\n",
       "      <td>Тюмень</td>\n",
       "      <td>ultra</td>\n",
       "    </tr>\n",
       "    <tr>\n",
       "      <th>1</th>\n",
       "      <td>2</td>\n",
       "      <td>Станислав</td>\n",
       "      <td>31</td>\n",
       "      <td>Омск</td>\n",
       "      <td>ultra</td>\n",
       "    </tr>\n",
       "    <tr>\n",
       "      <th>2</th>\n",
       "      <td>3</td>\n",
       "      <td>Алексей</td>\n",
       "      <td>20</td>\n",
       "      <td>Москва</td>\n",
       "      <td>ultra</td>\n",
       "    </tr>\n",
       "    <tr>\n",
       "      <th>3</th>\n",
       "      <td>4</td>\n",
       "      <td>Константин</td>\n",
       "      <td>26</td>\n",
       "      <td>Ростов-на-Дону</td>\n",
       "      <td>ultra</td>\n",
       "    </tr>\n",
       "    <tr>\n",
       "      <th>4</th>\n",
       "      <td>5</td>\n",
       "      <td>Адель</td>\n",
       "      <td>28</td>\n",
       "      <td>Омск</td>\n",
       "      <td>ultra</td>\n",
       "    </tr>\n",
       "    <tr>\n",
       "      <th>5</th>\n",
       "      <td>6</td>\n",
       "      <td>Регина</td>\n",
       "      <td>25</td>\n",
       "      <td>Краснодар</td>\n",
       "      <td>ultra</td>\n",
       "    </tr>\n",
       "    <tr>\n",
       "      <th>6</th>\n",
       "      <td>7</td>\n",
       "      <td>Игорь</td>\n",
       "      <td>23</td>\n",
       "      <td>Омск</td>\n",
       "      <td>ultra</td>\n",
       "    </tr>\n",
       "    <tr>\n",
       "      <th>7</th>\n",
       "      <td>8</td>\n",
       "      <td>Юрий</td>\n",
       "      <td>23</td>\n",
       "      <td>Краснодар</td>\n",
       "      <td>ultra</td>\n",
       "    </tr>\n",
       "    <tr>\n",
       "      <th>8</th>\n",
       "      <td>9</td>\n",
       "      <td>Ян</td>\n",
       "      <td>21</td>\n",
       "      <td>Пятигорск</td>\n",
       "      <td>ultra</td>\n",
       "    </tr>\n",
       "    <tr>\n",
       "      <th>9</th>\n",
       "      <td>10</td>\n",
       "      <td>Валерий</td>\n",
       "      <td>18</td>\n",
       "      <td>Екатеринбург</td>\n",
       "      <td>ultra</td>\n",
       "    </tr>\n",
       "  </tbody>\n",
       "</table>\n",
       "</div>"
      ],
      "text/plain": [
       "   user_id        name  age            city subscription_type\n",
       "0        1        Кира   22          Тюмень             ultra\n",
       "1        2   Станислав   31            Омск             ultra\n",
       "2        3     Алексей   20          Москва             ultra\n",
       "3        4  Константин   26  Ростов-на-Дону             ultra\n",
       "4        5       Адель   28            Омск             ultra\n",
       "5        6      Регина   25       Краснодар             ultra\n",
       "6        7       Игорь   23            Омск             ultra\n",
       "7        8        Юрий   23       Краснодар             ultra\n",
       "8        9          Ян   21       Пятигорск             ultra\n",
       "9       10     Валерий   18    Екатеринбург             ultra"
      ]
     },
     "execution_count": 3,
     "metadata": {},
     "output_type": "execute_result"
    }
   ],
   "source": [
    "users.head(10)"
   ]
  },
  {
   "cell_type": "code",
   "execution_count": 4,
   "id": "abbb055d",
   "metadata": {},
   "outputs": [
    {
     "name": "stdout",
     "output_type": "stream",
     "text": [
      "<class 'pandas.core.frame.DataFrame'>\n",
      "RangeIndex: 1565 entries, 0 to 1564\n",
      "Data columns (total 5 columns):\n",
      " #   Column             Non-Null Count  Dtype \n",
      "---  ------             --------------  ----- \n",
      " 0   user_id            1565 non-null   int64 \n",
      " 1   name               1565 non-null   object\n",
      " 2   age                1565 non-null   int64 \n",
      " 3   city               1565 non-null   object\n",
      " 4   subscription_type  1565 non-null   object\n",
      "dtypes: int64(2), object(3)\n",
      "memory usage: 61.3+ KB\n"
     ]
    }
   ],
   "source": [
    "users.info()"
   ]
  },
  {
   "cell_type": "code",
   "execution_count": 5,
   "id": "ad22bbf7",
   "metadata": {},
   "outputs": [
    {
     "data": {
      "text/html": [
       "<div>\n",
       "<style scoped>\n",
       "    .dataframe tbody tr th:only-of-type {\n",
       "        vertical-align: middle;\n",
       "    }\n",
       "\n",
       "    .dataframe tbody tr th {\n",
       "        vertical-align: top;\n",
       "    }\n",
       "\n",
       "    .dataframe thead th {\n",
       "        text-align: right;\n",
       "    }\n",
       "</style>\n",
       "<table border=\"1\" class=\"dataframe\">\n",
       "  <thead>\n",
       "    <tr style=\"text-align: right;\">\n",
       "      <th></th>\n",
       "      <th>user_id</th>\n",
       "      <th>distance</th>\n",
       "      <th>duration</th>\n",
       "      <th>date</th>\n",
       "    </tr>\n",
       "  </thead>\n",
       "  <tbody>\n",
       "    <tr>\n",
       "      <th>0</th>\n",
       "      <td>1</td>\n",
       "      <td>4409.919140</td>\n",
       "      <td>25.599769</td>\n",
       "      <td>2021-01-01</td>\n",
       "    </tr>\n",
       "    <tr>\n",
       "      <th>1</th>\n",
       "      <td>1</td>\n",
       "      <td>2617.592153</td>\n",
       "      <td>15.816871</td>\n",
       "      <td>2021-01-18</td>\n",
       "    </tr>\n",
       "    <tr>\n",
       "      <th>2</th>\n",
       "      <td>1</td>\n",
       "      <td>754.159807</td>\n",
       "      <td>6.232113</td>\n",
       "      <td>2021-04-20</td>\n",
       "    </tr>\n",
       "    <tr>\n",
       "      <th>3</th>\n",
       "      <td>1</td>\n",
       "      <td>2694.783254</td>\n",
       "      <td>18.511000</td>\n",
       "      <td>2021-08-11</td>\n",
       "    </tr>\n",
       "    <tr>\n",
       "      <th>4</th>\n",
       "      <td>1</td>\n",
       "      <td>4028.687306</td>\n",
       "      <td>26.265803</td>\n",
       "      <td>2021-08-28</td>\n",
       "    </tr>\n",
       "    <tr>\n",
       "      <th>5</th>\n",
       "      <td>1</td>\n",
       "      <td>2770.890808</td>\n",
       "      <td>16.650138</td>\n",
       "      <td>2021-10-09</td>\n",
       "    </tr>\n",
       "    <tr>\n",
       "      <th>6</th>\n",
       "      <td>1</td>\n",
       "      <td>3039.020292</td>\n",
       "      <td>14.927879</td>\n",
       "      <td>2021-10-19</td>\n",
       "    </tr>\n",
       "    <tr>\n",
       "      <th>7</th>\n",
       "      <td>1</td>\n",
       "      <td>2842.118050</td>\n",
       "      <td>23.117468</td>\n",
       "      <td>2021-11-06</td>\n",
       "    </tr>\n",
       "    <tr>\n",
       "      <th>8</th>\n",
       "      <td>1</td>\n",
       "      <td>3412.690668</td>\n",
       "      <td>15.238072</td>\n",
       "      <td>2021-11-14</td>\n",
       "    </tr>\n",
       "    <tr>\n",
       "      <th>9</th>\n",
       "      <td>1</td>\n",
       "      <td>748.690645</td>\n",
       "      <td>15.041884</td>\n",
       "      <td>2021-11-22</td>\n",
       "    </tr>\n",
       "  </tbody>\n",
       "</table>\n",
       "</div>"
      ],
      "text/plain": [
       "   user_id     distance   duration        date\n",
       "0        1  4409.919140  25.599769  2021-01-01\n",
       "1        1  2617.592153  15.816871  2021-01-18\n",
       "2        1   754.159807   6.232113  2021-04-20\n",
       "3        1  2694.783254  18.511000  2021-08-11\n",
       "4        1  4028.687306  26.265803  2021-08-28\n",
       "5        1  2770.890808  16.650138  2021-10-09\n",
       "6        1  3039.020292  14.927879  2021-10-19\n",
       "7        1  2842.118050  23.117468  2021-11-06\n",
       "8        1  3412.690668  15.238072  2021-11-14\n",
       "9        1   748.690645  15.041884  2021-11-22"
      ]
     },
     "execution_count": 5,
     "metadata": {},
     "output_type": "execute_result"
    }
   ],
   "source": [
    "rides.head(10)"
   ]
  },
  {
   "cell_type": "code",
   "execution_count": 6,
   "id": "6ac24507",
   "metadata": {},
   "outputs": [
    {
     "name": "stdout",
     "output_type": "stream",
     "text": [
      "<class 'pandas.core.frame.DataFrame'>\n",
      "RangeIndex: 18068 entries, 0 to 18067\n",
      "Data columns (total 4 columns):\n",
      " #   Column    Non-Null Count  Dtype  \n",
      "---  ------    --------------  -----  \n",
      " 0   user_id   18068 non-null  int64  \n",
      " 1   distance  18068 non-null  float64\n",
      " 2   duration  18068 non-null  float64\n",
      " 3   date      18068 non-null  object \n",
      "dtypes: float64(2), int64(1), object(1)\n",
      "memory usage: 564.8+ KB\n"
     ]
    }
   ],
   "source": [
    "rides.info()"
   ]
  },
  {
   "cell_type": "code",
   "execution_count": 7,
   "id": "a69a784e",
   "metadata": {},
   "outputs": [
    {
     "data": {
      "text/html": [
       "<div>\n",
       "<style scoped>\n",
       "    .dataframe tbody tr th:only-of-type {\n",
       "        vertical-align: middle;\n",
       "    }\n",
       "\n",
       "    .dataframe tbody tr th {\n",
       "        vertical-align: top;\n",
       "    }\n",
       "\n",
       "    .dataframe thead th {\n",
       "        text-align: right;\n",
       "    }\n",
       "</style>\n",
       "<table border=\"1\" class=\"dataframe\">\n",
       "  <thead>\n",
       "    <tr style=\"text-align: right;\">\n",
       "      <th></th>\n",
       "      <th>subscription_type</th>\n",
       "      <th>minute_price</th>\n",
       "      <th>start_ride_price</th>\n",
       "      <th>subscription_fee</th>\n",
       "    </tr>\n",
       "  </thead>\n",
       "  <tbody>\n",
       "    <tr>\n",
       "      <th>0</th>\n",
       "      <td>free</td>\n",
       "      <td>8</td>\n",
       "      <td>50</td>\n",
       "      <td>0</td>\n",
       "    </tr>\n",
       "    <tr>\n",
       "      <th>1</th>\n",
       "      <td>ultra</td>\n",
       "      <td>6</td>\n",
       "      <td>0</td>\n",
       "      <td>199</td>\n",
       "    </tr>\n",
       "  </tbody>\n",
       "</table>\n",
       "</div>"
      ],
      "text/plain": [
       "  subscription_type  minute_price  start_ride_price  subscription_fee\n",
       "0              free             8                50                 0\n",
       "1             ultra             6                 0               199"
      ]
     },
     "execution_count": 7,
     "metadata": {},
     "output_type": "execute_result"
    }
   ],
   "source": [
    "subscriptions"
   ]
  },
  {
   "cell_type": "markdown",
   "id": "3d9161a7",
   "metadata": {},
   "source": [
    "#### Промежуточные выводы о исходных данных.\n",
    "\n",
    "- В нашем распоряжении три таблицы\n",
    "    1. users с id, именем, возрастом, городом и типом подписки каждого пользователя\n",
    "    2. rides с id, дальностью поездки, ее длительностью и датой\n",
    "    3. subscriptions со стоимостью поездок для пользователей с подпиской и без\n",
    "\n",
    "Название колонок соответствует содержанию и переведены в нижный регистр.\n",
    "\n",
    "Тип данных в некоторых колонках таблицы `rides` надо изменить."
   ]
  },
  {
   "cell_type": "markdown",
   "id": "752d0955",
   "metadata": {},
   "source": [
    "#### Шаг 2. Предобработка данных"
   ]
  },
  {
   "cell_type": "markdown",
   "id": "ade12935",
   "metadata": {},
   "source": [
    "Для обработки данных строковые столбцы для удобства переведем в нижний регистр"
   ]
  },
  {
   "cell_type": "code",
   "execution_count": 8,
   "id": "af703a1b",
   "metadata": {},
   "outputs": [],
   "source": [
    "users['name'] = users['name'].str.lower()\n",
    "users['city'] = users['city'].str.lower()"
   ]
  },
  {
   "cell_type": "markdown",
   "id": "8b9c16ec",
   "metadata": {},
   "source": [
    "Посмотрим кол-во пропуков"
   ]
  },
  {
   "cell_type": "code",
   "execution_count": 9,
   "id": "c7e02c3b",
   "metadata": {},
   "outputs": [
    {
     "data": {
      "text/plain": [
       "user_id              0\n",
       "name                 0\n",
       "age                  0\n",
       "city                 0\n",
       "subscription_type    0\n",
       "dtype: int64"
      ]
     },
     "execution_count": 9,
     "metadata": {},
     "output_type": "execute_result"
    }
   ],
   "source": [
    "users.isna().sum()"
   ]
  },
  {
   "cell_type": "code",
   "execution_count": 10,
   "id": "e222ca10",
   "metadata": {
    "scrolled": true
   },
   "outputs": [
    {
     "data": {
      "text/plain": [
       "user_id     0\n",
       "distance    0\n",
       "duration    0\n",
       "date        0\n",
       "dtype: int64"
      ]
     },
     "execution_count": 10,
     "metadata": {},
     "output_type": "execute_result"
    }
   ],
   "source": [
    "rides.isna().sum()"
   ]
  },
  {
   "cell_type": "markdown",
   "id": "2747d151",
   "metadata": {},
   "source": [
    "Как можно заметить их нет"
   ]
  },
  {
   "cell_type": "markdown",
   "id": "83089d7c",
   "metadata": {},
   "source": [
    "Переведем колонку `date` в datetime формат"
   ]
  },
  {
   "cell_type": "code",
   "execution_count": 11,
   "id": "808a2d2d",
   "metadata": {},
   "outputs": [
    {
     "name": "stdout",
     "output_type": "stream",
     "text": [
      "<class 'pandas.core.frame.DataFrame'>\n",
      "RangeIndex: 18068 entries, 0 to 18067\n",
      "Data columns (total 4 columns):\n",
      " #   Column    Non-Null Count  Dtype         \n",
      "---  ------    --------------  -----         \n",
      " 0   user_id   18068 non-null  int64         \n",
      " 1   distance  18068 non-null  float64       \n",
      " 2   duration  18068 non-null  float64       \n",
      " 3   date      18068 non-null  datetime64[ns]\n",
      "dtypes: datetime64[ns](1), float64(2), int64(1)\n",
      "memory usage: 564.8 KB\n"
     ]
    }
   ],
   "source": [
    "rides['date'] = pd.to_datetime(rides['date'], format='%Y-%m-%d')\n",
    "rides.info()"
   ]
  },
  {
   "cell_type": "markdown",
   "id": "034546bc",
   "metadata": {},
   "source": [
    "Добавим колонку с месяцем"
   ]
  },
  {
   "cell_type": "code",
   "execution_count": 12,
   "id": "35c1f350",
   "metadata": {},
   "outputs": [],
   "source": [
    "rides['month'] = rides['date'].dt.month"
   ]
  },
  {
   "cell_type": "code",
   "execution_count": 13,
   "id": "94e44878",
   "metadata": {},
   "outputs": [
    {
     "data": {
      "text/plain": [
       "array([ 1,  4,  8, 10, 11, 12,  3,  6,  7,  2,  5,  9])"
      ]
     },
     "execution_count": 13,
     "metadata": {},
     "output_type": "execute_result"
    }
   ],
   "source": [
    "rides['month'].unique()"
   ]
  },
  {
   "cell_type": "code",
   "execution_count": 14,
   "id": "8861d9a6",
   "metadata": {},
   "outputs": [
    {
     "data": {
      "text/plain": [
       "array([2021])"
      ]
     },
     "execution_count": 14,
     "metadata": {},
     "output_type": "execute_result"
    }
   ],
   "source": [
    "rides['date'].dt.year.unique()"
   ]
  },
  {
   "cell_type": "markdown",
   "id": "438c515b",
   "metadata": {},
   "source": [
    "Округлим значения до одного знака в колонках `distance`, поскольку остальные нам не нужны. `duration` округлим в большую часть и переведем в int."
   ]
  },
  {
   "cell_type": "code",
   "execution_count": 15,
   "id": "0d4ab8a9",
   "metadata": {},
   "outputs": [],
   "source": [
    "rides['distance'] = round(rides['distance'], 1)"
   ]
  },
  {
   "cell_type": "markdown",
   "id": "7f7370bc",
   "metadata": {},
   "source": [
    "Рассмотрим теперь дубликаты"
   ]
  },
  {
   "cell_type": "code",
   "execution_count": 16,
   "id": "baf3fb08",
   "metadata": {},
   "outputs": [
    {
     "data": {
      "text/plain": [
       "31"
      ]
     },
     "execution_count": 16,
     "metadata": {},
     "output_type": "execute_result"
    }
   ],
   "source": [
    "users.duplicated().sum()"
   ]
  },
  {
   "cell_type": "code",
   "execution_count": 17,
   "id": "a5bd2924",
   "metadata": {},
   "outputs": [
    {
     "data": {
      "text/html": [
       "<div>\n",
       "<style scoped>\n",
       "    .dataframe tbody tr th:only-of-type {\n",
       "        vertical-align: middle;\n",
       "    }\n",
       "\n",
       "    .dataframe tbody tr th {\n",
       "        vertical-align: top;\n",
       "    }\n",
       "\n",
       "    .dataframe thead th {\n",
       "        text-align: right;\n",
       "    }\n",
       "</style>\n",
       "<table border=\"1\" class=\"dataframe\">\n",
       "  <thead>\n",
       "    <tr style=\"text-align: right;\">\n",
       "      <th></th>\n",
       "      <th>user_id</th>\n",
       "      <th>name</th>\n",
       "      <th>age</th>\n",
       "      <th>city</th>\n",
       "      <th>subscription_type</th>\n",
       "    </tr>\n",
       "  </thead>\n",
       "  <tbody>\n",
       "    <tr>\n",
       "      <th>15</th>\n",
       "      <td>16</td>\n",
       "      <td>амалия</td>\n",
       "      <td>27</td>\n",
       "      <td>краснодар</td>\n",
       "      <td>ultra</td>\n",
       "    </tr>\n",
       "    <tr>\n",
       "      <th>42</th>\n",
       "      <td>43</td>\n",
       "      <td>стефания</td>\n",
       "      <td>22</td>\n",
       "      <td>омск</td>\n",
       "      <td>ultra</td>\n",
       "    </tr>\n",
       "    <tr>\n",
       "      <th>46</th>\n",
       "      <td>47</td>\n",
       "      <td>юрий</td>\n",
       "      <td>28</td>\n",
       "      <td>тюмень</td>\n",
       "      <td>ultra</td>\n",
       "    </tr>\n",
       "    <tr>\n",
       "      <th>71</th>\n",
       "      <td>72</td>\n",
       "      <td>никита</td>\n",
       "      <td>25</td>\n",
       "      <td>москва</td>\n",
       "      <td>ultra</td>\n",
       "    </tr>\n",
       "    <tr>\n",
       "      <th>107</th>\n",
       "      <td>108</td>\n",
       "      <td>влада</td>\n",
       "      <td>29</td>\n",
       "      <td>тюмень</td>\n",
       "      <td>ultra</td>\n",
       "    </tr>\n",
       "    <tr>\n",
       "      <th>120</th>\n",
       "      <td>121</td>\n",
       "      <td>алина</td>\n",
       "      <td>25</td>\n",
       "      <td>пятигорск</td>\n",
       "      <td>ultra</td>\n",
       "    </tr>\n",
       "    <tr>\n",
       "      <th>126</th>\n",
       "      <td>127</td>\n",
       "      <td>павел</td>\n",
       "      <td>25</td>\n",
       "      <td>пятигорск</td>\n",
       "      <td>ultra</td>\n",
       "    </tr>\n",
       "    <tr>\n",
       "      <th>135</th>\n",
       "      <td>136</td>\n",
       "      <td>марсель</td>\n",
       "      <td>25</td>\n",
       "      <td>тюмень</td>\n",
       "      <td>ultra</td>\n",
       "    </tr>\n",
       "    <tr>\n",
       "      <th>152</th>\n",
       "      <td>153</td>\n",
       "      <td>герман</td>\n",
       "      <td>23</td>\n",
       "      <td>москва</td>\n",
       "      <td>ultra</td>\n",
       "    </tr>\n",
       "    <tr>\n",
       "      <th>203</th>\n",
       "      <td>204</td>\n",
       "      <td>руслан</td>\n",
       "      <td>30</td>\n",
       "      <td>пятигорск</td>\n",
       "      <td>ultra</td>\n",
       "    </tr>\n",
       "    <tr>\n",
       "      <th>208</th>\n",
       "      <td>209</td>\n",
       "      <td>андрей</td>\n",
       "      <td>23</td>\n",
       "      <td>омск</td>\n",
       "      <td>ultra</td>\n",
       "    </tr>\n",
       "    <tr>\n",
       "      <th>292</th>\n",
       "      <td>293</td>\n",
       "      <td>агата</td>\n",
       "      <td>26</td>\n",
       "      <td>краснодар</td>\n",
       "      <td>ultra</td>\n",
       "    </tr>\n",
       "    <tr>\n",
       "      <th>296</th>\n",
       "      <td>297</td>\n",
       "      <td>егор</td>\n",
       "      <td>33</td>\n",
       "      <td>пятигорск</td>\n",
       "      <td>ultra</td>\n",
       "    </tr>\n",
       "    <tr>\n",
       "      <th>306</th>\n",
       "      <td>307</td>\n",
       "      <td>ясмина</td>\n",
       "      <td>19</td>\n",
       "      <td>краснодар</td>\n",
       "      <td>ultra</td>\n",
       "    </tr>\n",
       "    <tr>\n",
       "      <th>402</th>\n",
       "      <td>403</td>\n",
       "      <td>полина</td>\n",
       "      <td>19</td>\n",
       "      <td>сочи</td>\n",
       "      <td>ultra</td>\n",
       "    </tr>\n",
       "    <tr>\n",
       "      <th>421</th>\n",
       "      <td>422</td>\n",
       "      <td>кирилл</td>\n",
       "      <td>27</td>\n",
       "      <td>сочи</td>\n",
       "      <td>ultra</td>\n",
       "    </tr>\n",
       "    <tr>\n",
       "      <th>610</th>\n",
       "      <td>611</td>\n",
       "      <td>владимир</td>\n",
       "      <td>28</td>\n",
       "      <td>омск</td>\n",
       "      <td>ultra</td>\n",
       "    </tr>\n",
       "    <tr>\n",
       "      <th>634</th>\n",
       "      <td>635</td>\n",
       "      <td>герман</td>\n",
       "      <td>21</td>\n",
       "      <td>москва</td>\n",
       "      <td>ultra</td>\n",
       "    </tr>\n",
       "    <tr>\n",
       "      <th>658</th>\n",
       "      <td>659</td>\n",
       "      <td>злата</td>\n",
       "      <td>27</td>\n",
       "      <td>ростов-на-дону</td>\n",
       "      <td>ultra</td>\n",
       "    </tr>\n",
       "    <tr>\n",
       "      <th>665</th>\n",
       "      <td>666</td>\n",
       "      <td>зарина</td>\n",
       "      <td>29</td>\n",
       "      <td>москва</td>\n",
       "      <td>ultra</td>\n",
       "    </tr>\n",
       "    <tr>\n",
       "      <th>736</th>\n",
       "      <td>737</td>\n",
       "      <td>мелания</td>\n",
       "      <td>27</td>\n",
       "      <td>ростов-на-дону</td>\n",
       "      <td>free</td>\n",
       "    </tr>\n",
       "    <tr>\n",
       "      <th>806</th>\n",
       "      <td>807</td>\n",
       "      <td>александр</td>\n",
       "      <td>28</td>\n",
       "      <td>екатеринбург</td>\n",
       "      <td>free</td>\n",
       "    </tr>\n",
       "    <tr>\n",
       "      <th>808</th>\n",
       "      <td>809</td>\n",
       "      <td>юрий</td>\n",
       "      <td>26</td>\n",
       "      <td>сочи</td>\n",
       "      <td>free</td>\n",
       "    </tr>\n",
       "    <tr>\n",
       "      <th>828</th>\n",
       "      <td>829</td>\n",
       "      <td>федор</td>\n",
       "      <td>29</td>\n",
       "      <td>пятигорск</td>\n",
       "      <td>free</td>\n",
       "    </tr>\n",
       "    <tr>\n",
       "      <th>907</th>\n",
       "      <td>908</td>\n",
       "      <td>рустам</td>\n",
       "      <td>30</td>\n",
       "      <td>тюмень</td>\n",
       "      <td>free</td>\n",
       "    </tr>\n",
       "    <tr>\n",
       "      <th>908</th>\n",
       "      <td>909</td>\n",
       "      <td>константин</td>\n",
       "      <td>20</td>\n",
       "      <td>екатеринбург</td>\n",
       "      <td>free</td>\n",
       "    </tr>\n",
       "    <tr>\n",
       "      <th>923</th>\n",
       "      <td>924</td>\n",
       "      <td>мария</td>\n",
       "      <td>23</td>\n",
       "      <td>пятигорск</td>\n",
       "      <td>free</td>\n",
       "    </tr>\n",
       "    <tr>\n",
       "      <th>1044</th>\n",
       "      <td>1045</td>\n",
       "      <td>артемий</td>\n",
       "      <td>28</td>\n",
       "      <td>ростов-на-дону</td>\n",
       "      <td>free</td>\n",
       "    </tr>\n",
       "    <tr>\n",
       "      <th>1197</th>\n",
       "      <td>1198</td>\n",
       "      <td>демид</td>\n",
       "      <td>29</td>\n",
       "      <td>ростов-на-дону</td>\n",
       "      <td>free</td>\n",
       "    </tr>\n",
       "    <tr>\n",
       "      <th>1236</th>\n",
       "      <td>1237</td>\n",
       "      <td>евгения</td>\n",
       "      <td>23</td>\n",
       "      <td>тюмень</td>\n",
       "      <td>free</td>\n",
       "    </tr>\n",
       "    <tr>\n",
       "      <th>1244</th>\n",
       "      <td>1245</td>\n",
       "      <td>регина</td>\n",
       "      <td>27</td>\n",
       "      <td>пятигорск</td>\n",
       "      <td>free</td>\n",
       "    </tr>\n",
       "  </tbody>\n",
       "</table>\n",
       "</div>"
      ],
      "text/plain": [
       "      user_id        name  age            city subscription_type\n",
       "15         16      амалия   27       краснодар             ultra\n",
       "42         43    стефания   22            омск             ultra\n",
       "46         47        юрий   28          тюмень             ultra\n",
       "71         72      никита   25          москва             ultra\n",
       "107       108       влада   29          тюмень             ultra\n",
       "120       121       алина   25       пятигорск             ultra\n",
       "126       127       павел   25       пятигорск             ultra\n",
       "135       136     марсель   25          тюмень             ultra\n",
       "152       153      герман   23          москва             ultra\n",
       "203       204      руслан   30       пятигорск             ultra\n",
       "208       209      андрей   23            омск             ultra\n",
       "292       293       агата   26       краснодар             ultra\n",
       "296       297        егор   33       пятигорск             ultra\n",
       "306       307      ясмина   19       краснодар             ultra\n",
       "402       403      полина   19            сочи             ultra\n",
       "421       422      кирилл   27            сочи             ultra\n",
       "610       611    владимир   28            омск             ultra\n",
       "634       635      герман   21          москва             ultra\n",
       "658       659       злата   27  ростов-на-дону             ultra\n",
       "665       666      зарина   29          москва             ultra\n",
       "736       737     мелания   27  ростов-на-дону              free\n",
       "806       807   александр   28    екатеринбург              free\n",
       "808       809        юрий   26            сочи              free\n",
       "828       829       федор   29       пятигорск              free\n",
       "907       908      рустам   30          тюмень              free\n",
       "908       909  константин   20    екатеринбург              free\n",
       "923       924       мария   23       пятигорск              free\n",
       "1044     1045     артемий   28  ростов-на-дону              free\n",
       "1197     1198       демид   29  ростов-на-дону              free\n",
       "1236     1237     евгения   23          тюмень              free\n",
       "1244     1245      регина   27       пятигорск              free"
      ]
     },
     "execution_count": 17,
     "metadata": {},
     "output_type": "execute_result"
    }
   ],
   "source": [
    "duplicatedrows = users[users.duplicated(keep='last')]\n",
    "duplicatedrows"
   ]
  },
  {
   "cell_type": "code",
   "execution_count": 18,
   "id": "25df7d74",
   "metadata": {},
   "outputs": [
    {
     "data": {
      "text/plain": [
       "0"
      ]
     },
     "execution_count": 18,
     "metadata": {},
     "output_type": "execute_result"
    }
   ],
   "source": [
    "rides.duplicated().sum()"
   ]
  },
  {
   "cell_type": "code",
   "execution_count": 19,
   "id": "67331dad",
   "metadata": {},
   "outputs": [],
   "source": [
    "users = users.drop_duplicates().reset_index(drop=True)"
   ]
  },
  {
   "cell_type": "code",
   "execution_count": 20,
   "id": "9d70cfdd",
   "metadata": {},
   "outputs": [
    {
     "data": {
      "text/plain": [
       "user_id  name       age  city            subscription_type\n",
       "1        кира       22   тюмень          ultra                1\n",
       "1020     камилла    32   москва          free                 1\n",
       "1029     игорь      21   краснодар       free                 1\n",
       "1028     вадим      17   сочи            free                 1\n",
       "1027     мария      21   сочи            free                 1\n",
       "                                                             ..\n",
       "510      роман      24   ростов-на-дону  ultra                1\n",
       "509      ян         29   москва          ultra                1\n",
       "508      станислав  15   тюмень          ultra                1\n",
       "507      эвелина    27   пятигорск       ultra                1\n",
       "1534     альберт    25   краснодар       free                 1\n",
       "Name: count, Length: 1534, dtype: int64"
      ]
     },
     "execution_count": 20,
     "metadata": {},
     "output_type": "execute_result"
    }
   ],
   "source": [
    "users.value_counts()"
   ]
  },
  {
   "cell_type": "markdown",
   "id": "dca9d9d9",
   "metadata": {},
   "source": [
    "##### Предобработка данных промежуточный вывод\n",
    "\n",
    "- Все колонки str были приведены в нижний регистр\n",
    "- Пропуски в данных отсутствуют\n",
    "- Таблица `rides` столбец `date` был переведен в datetime тип\n",
    "- `distance` были округлен, первое до одного знака\n",
    "- Были обработаны дубликаты в таблице users, в остальных отсутствуют явные дубликаты и пропуски"
   ]
  },
  {
   "cell_type": "markdown",
   "id": "23dfb994",
   "metadata": {},
   "source": [
    "#### Шаг 3. Исследовательский анализ данных"
   ]
  },
  {
   "cell_type": "code",
   "execution_count": 21,
   "id": "f64b7208",
   "metadata": {},
   "outputs": [
    {
     "data": {
      "text/html": [
       "<div>\n",
       "<style scoped>\n",
       "    .dataframe tbody tr th:only-of-type {\n",
       "        vertical-align: middle;\n",
       "    }\n",
       "\n",
       "    .dataframe tbody tr th {\n",
       "        vertical-align: top;\n",
       "    }\n",
       "\n",
       "    .dataframe thead th {\n",
       "        text-align: right;\n",
       "    }\n",
       "</style>\n",
       "<table border=\"1\" class=\"dataframe\">\n",
       "  <thead>\n",
       "    <tr style=\"text-align: right;\">\n",
       "      <th></th>\n",
       "      <th>user_id</th>\n",
       "    </tr>\n",
       "    <tr>\n",
       "      <th>city</th>\n",
       "      <th></th>\n",
       "    </tr>\n",
       "  </thead>\n",
       "  <tbody>\n",
       "    <tr>\n",
       "      <th>екатеринбург</th>\n",
       "      <td>204</td>\n",
       "    </tr>\n",
       "    <tr>\n",
       "      <th>краснодар</th>\n",
       "      <td>193</td>\n",
       "    </tr>\n",
       "    <tr>\n",
       "      <th>москва</th>\n",
       "      <td>168</td>\n",
       "    </tr>\n",
       "    <tr>\n",
       "      <th>омск</th>\n",
       "      <td>183</td>\n",
       "    </tr>\n",
       "    <tr>\n",
       "      <th>пятигорск</th>\n",
       "      <td>219</td>\n",
       "    </tr>\n",
       "    <tr>\n",
       "      <th>ростов-на-дону</th>\n",
       "      <td>198</td>\n",
       "    </tr>\n",
       "    <tr>\n",
       "      <th>сочи</th>\n",
       "      <td>189</td>\n",
       "    </tr>\n",
       "    <tr>\n",
       "      <th>тюмень</th>\n",
       "      <td>180</td>\n",
       "    </tr>\n",
       "  </tbody>\n",
       "</table>\n",
       "</div>"
      ],
      "text/plain": [
       "                user_id\n",
       "city                   \n",
       "екатеринбург        204\n",
       "краснодар           193\n",
       "москва              168\n",
       "омск                183\n",
       "пятигорск           219\n",
       "ростов-на-дону      198\n",
       "сочи                189\n",
       "тюмень              180"
      ]
     },
     "execution_count": 21,
     "metadata": {},
     "output_type": "execute_result"
    }
   ],
   "source": [
    "users.pivot_table(index='city', \n",
    "                  values='user_id', \n",
    "                  aggfunc='count')"
   ]
  },
  {
   "cell_type": "code",
   "execution_count": 22,
   "id": "ef6985cc",
   "metadata": {},
   "outputs": [
    {
     "data": {
      "image/png": "[encoded data removed]",
      "text/plain": [
       "<Figure size 640x480 with 1 Axes>"
      ]
     },
     "metadata": {},
     "output_type": "display_data"
    }
   ],
   "source": [
    "(users.pivot_table(index='city', \n",
    "                  values='user_id', \n",
    "                  aggfunc='count')\n",
    "     .sort_values(by='user_id')\n",
    "     .plot.barh(xlabel='Город', ylabel='Частота', title='Частота встречаемости городов'));"
   ]
  },
  {
   "cell_type": "code",
   "execution_count": 23,
   "id": "21da0202",
   "metadata": {},
   "outputs": [
    {
     "data": {
      "text/plain": [
       "city\n",
       "пятигорск         219\n",
       "екатеринбург      204\n",
       "ростов-на-дону    198\n",
       "краснодар         193\n",
       "сочи              189\n",
       "омск              183\n",
       "тюмень            180\n",
       "москва            168\n",
       "Name: count, dtype: int64"
      ]
     },
     "execution_count": 23,
     "metadata": {},
     "output_type": "execute_result"
    }
   ],
   "source": [
    "users['city'].value_counts()"
   ]
  },
  {
   "cell_type": "markdown",
   "id": "39981ef8",
   "metadata": {},
   "source": [
    "Получилась интересная тендеция, где в небольшом городе Пятигорске больше пользователей, чем в крупных городах. Это может быть связано с тем, что в крупных городах более развитая система общественного транспорта или наличие машины, поэтому самокаты менее предпочтительны в этих городах"
   ]
  },
  {
   "cell_type": "code",
   "execution_count": 24,
   "id": "5938b7de",
   "metadata": {},
   "outputs": [
    {
     "data": {
      "image/png": "[encoded data removed]",
      "text/plain": [
       "<Figure size 640x480 with 1 Axes>"
      ]
     },
     "metadata": {},
     "output_type": "display_data"
    }
   ],
   "source": [
    "ax = (users\n",
    "    .pivot_table(\n",
    "        index='subscription_type', \n",
    "        values='user_id', \n",
    "        aggfunc='count'\n",
    "                )\n",
    "    .plot.pie(\n",
    "        subplots=True,\n",
    "        legend=False,\n",
    "        xlabel='',\n",
    "        ylabel='',\n",
    "        title='Соотношение пользователей с подпиской и без',\n",
    "        autopct='%1.1f%%'));"
   ]
  },
  {
   "cell_type": "markdown",
   "id": "26736d17",
   "metadata": {},
   "source": [
    "Людей без подписки меньше, что логично, но различие не такое весомое, 54% без и 46% с подпиской ultra"
   ]
  },
  {
   "cell_type": "code",
   "execution_count": 25,
   "id": "a4a721d8",
   "metadata": {},
   "outputs": [
    {
     "data": {
      "image/png": "[encoded data removed]",
      "text/plain": [
       "<Figure size 1600x900 with 1 Axes>"
      ]
     },
     "metadata": {},
     "output_type": "display_data"
    }
   ],
   "source": [
    "ax = users['age'].plot.hist(bins=70, figsize=(16, 9), title='Возраст пользователей')\n",
    "ax.set_xlabel('Возраст')\n",
    "ax.set_ylabel('Частота')\n",
    "plt.show()"
   ]
  },
  {
   "cell_type": "code",
   "execution_count": 26,
   "id": "bb493f07",
   "metadata": {},
   "outputs": [
    {
     "data": {
      "text/plain": [
       "count    1534\n",
       "mean       25\n",
       "std         5\n",
       "min        12\n",
       "25%        22\n",
       "50%        25\n",
       "75%        28\n",
       "max        43\n",
       "Name: age, dtype: int32"
      ]
     },
     "execution_count": 26,
     "metadata": {},
     "output_type": "execute_result"
    }
   ],
   "source": [
    "round(users['age'].describe(), 0).astype(int)"
   ]
  },
  {
   "cell_type": "markdown",
   "id": "4b8f9791",
   "metadata": {},
   "source": [
    "Получилось что-то похожее на нормальное распределение, больше всего пользователей возрастом 25 лет"
   ]
  },
  {
   "cell_type": "code",
   "execution_count": 27,
   "id": "719c348e",
   "metadata": {},
   "outputs": [
    {
     "data": {
      "image/png": "[encoded data removed]",
      "text/plain": [
       "<Figure size 1600x900 with 1 Axes>"
      ]
     },
     "metadata": {},
     "output_type": "display_data"
    }
   ],
   "source": [
    "ax = rides['distance'].plot.hist(bins=200, figsize=(16, 9));\n",
    "ax.set_xlabel('Расстояние, м.')\n",
    "ax.set_ylabel('Частота')\n",
    "plt.title('Расстояние, которое пользователь преодолел за одну поездку')\n",
    "plt.show()"
   ]
  },
  {
   "cell_type": "markdown",
   "id": "39e051c3",
   "metadata": {},
   "source": [
    "Как можно заметить, больше всего поездок около 3 км., что так же можно объяснить альтернативой общественному транспорту в маленьких городах"
   ]
  },
  {
   "cell_type": "code",
   "execution_count": 28,
   "id": "6c08509e",
   "metadata": {
    "scrolled": false
   },
   "outputs": [
    {
     "data": {
      "image/png": "[encoded data removed]",
      "text/plain": [
       "<Figure size 1600x900 with 1 Axes>"
      ]
     },
     "metadata": {},
     "output_type": "display_data"
    }
   ],
   "source": [
    "ax = rides['duration'].hist(bins=100, figsize=(16, 9));\n",
    "ax.set_xlabel('Длительность, минуты')\n",
    "ax.set_ylabel('Частота')\n",
    "plt.title('Продолжительность поездок')\n",
    "plt.show()"
   ]
  },
  {
   "cell_type": "markdown",
   "id": "eb5d36cf",
   "metadata": {},
   "source": [
    "Наиболее частая продолжительность поездки 13 минут, а значения около нуля могут быть связаны с первым использованием сервиса"
   ]
  },
  {
   "cell_type": "code",
   "execution_count": 29,
   "id": "3c8f3a5b",
   "metadata": {},
   "outputs": [
    {
     "data": {
      "image/png": "[encoded data removed]",
      "text/plain": [
       "<Figure size 640x480 with 1 Axes>"
      ]
     },
     "metadata": {},
     "output_type": "display_data"
    }
   ],
   "source": [
    "fig = rides.query('duration <= 5')['distance'].plot.hist(bins=20)\n",
    "fig.set_xlabel('Дистанция, м.')\n",
    "fig.set_ylabel('Частота')\n",
    "plt.title('Дальность поездок <=5 минут')\n",
    "plt.show()"
   ]
  },
  {
   "cell_type": "markdown",
   "id": "7c6c1b3b",
   "metadata": {},
   "source": [
    "Как можно увидеть, присутствуют аномалии, при длительность поездки самокат преодолел более 4 км., поэтому надо обработать эту аномалию"
   ]
  },
  {
   "cell_type": "code",
   "execution_count": 30,
   "id": "cb8f6d6a",
   "metadata": {},
   "outputs": [],
   "source": [
    "rides = rides.query('duration > 2')"
   ]
  },
  {
   "cell_type": "code",
   "execution_count": 31,
   "id": "eded22ab",
   "metadata": {},
   "outputs": [
    {
     "data": {
      "image/png": "[encoded data removed]",
      "text/plain": [
       "<Figure size 640x480 with 1 Axes>"
      ]
     },
     "metadata": {},
     "output_type": "display_data"
    }
   ],
   "source": [
    "fig = rides.query('duration <= 5')['distance'].plot.hist(bins=20)\n",
    "fig.set_xlabel('Дистанция, м.')\n",
    "fig.set_ylabel('Частота')\n",
    "plt.title('Дальность поездок <=5 минут, после обработки')\n",
    "plt.show()"
   ]
  },
  {
   "cell_type": "markdown",
   "id": "7f955dc6",
   "metadata": {},
   "source": [
    "Исходя из полученных графиков, в общем датафрейме проведем обработку аномалий связанных с около нулевой продолжительностью поездки, в которых оказалось, что при малой длительности самокат преодолел огромные расстояния, поэтому эти не будут учитываться."
   ]
  },
  {
   "cell_type": "markdown",
   "id": "7297e34e",
   "metadata": {},
   "source": [
    "#### Шаг 4. Объединение данных"
   ]
  },
  {
   "cell_type": "markdown",
   "id": "ec730e7e",
   "metadata": {},
   "source": [
    "Объеденим все данные из обоих таблиц"
   ]
  },
  {
   "cell_type": "code",
   "execution_count": 32,
   "id": "cbcf2334",
   "metadata": {},
   "outputs": [],
   "source": [
    "rides['duration'] = np.ceil(rides['duration']).astype(int)"
   ]
  },
  {
   "cell_type": "code",
   "execution_count": 33,
   "id": "d7359934",
   "metadata": {},
   "outputs": [
    {
     "data": {
      "text/html": [
       "<div>\n",
       "<style scoped>\n",
       "    .dataframe tbody tr th:only-of-type {\n",
       "        vertical-align: middle;\n",
       "    }\n",
       "\n",
       "    .dataframe tbody tr th {\n",
       "        vertical-align: top;\n",
       "    }\n",
       "\n",
       "    .dataframe thead th {\n",
       "        text-align: right;\n",
       "    }\n",
       "</style>\n",
       "<table border=\"1\" class=\"dataframe\">\n",
       "  <thead>\n",
       "    <tr style=\"text-align: right;\">\n",
       "      <th></th>\n",
       "      <th>user_id</th>\n",
       "      <th>name</th>\n",
       "      <th>age</th>\n",
       "      <th>city</th>\n",
       "      <th>subscription_type</th>\n",
       "      <th>distance</th>\n",
       "      <th>duration</th>\n",
       "      <th>date</th>\n",
       "      <th>month</th>\n",
       "      <th>minute_price</th>\n",
       "      <th>start_ride_price</th>\n",
       "      <th>subscription_fee</th>\n",
       "    </tr>\n",
       "  </thead>\n",
       "  <tbody>\n",
       "    <tr>\n",
       "      <th>0</th>\n",
       "      <td>1</td>\n",
       "      <td>кира</td>\n",
       "      <td>22</td>\n",
       "      <td>тюмень</td>\n",
       "      <td>ultra</td>\n",
       "      <td>4409.9</td>\n",
       "      <td>26</td>\n",
       "      <td>2021-01-01</td>\n",
       "      <td>1</td>\n",
       "      <td>6</td>\n",
       "      <td>0</td>\n",
       "      <td>199</td>\n",
       "    </tr>\n",
       "    <tr>\n",
       "      <th>1</th>\n",
       "      <td>1</td>\n",
       "      <td>кира</td>\n",
       "      <td>22</td>\n",
       "      <td>тюмень</td>\n",
       "      <td>ultra</td>\n",
       "      <td>2617.6</td>\n",
       "      <td>16</td>\n",
       "      <td>2021-01-18</td>\n",
       "      <td>1</td>\n",
       "      <td>6</td>\n",
       "      <td>0</td>\n",
       "      <td>199</td>\n",
       "    </tr>\n",
       "    <tr>\n",
       "      <th>2</th>\n",
       "      <td>1</td>\n",
       "      <td>кира</td>\n",
       "      <td>22</td>\n",
       "      <td>тюмень</td>\n",
       "      <td>ultra</td>\n",
       "      <td>754.2</td>\n",
       "      <td>7</td>\n",
       "      <td>2021-04-20</td>\n",
       "      <td>4</td>\n",
       "      <td>6</td>\n",
       "      <td>0</td>\n",
       "      <td>199</td>\n",
       "    </tr>\n",
       "    <tr>\n",
       "      <th>3</th>\n",
       "      <td>1</td>\n",
       "      <td>кира</td>\n",
       "      <td>22</td>\n",
       "      <td>тюмень</td>\n",
       "      <td>ultra</td>\n",
       "      <td>2694.8</td>\n",
       "      <td>19</td>\n",
       "      <td>2021-08-11</td>\n",
       "      <td>8</td>\n",
       "      <td>6</td>\n",
       "      <td>0</td>\n",
       "      <td>199</td>\n",
       "    </tr>\n",
       "    <tr>\n",
       "      <th>4</th>\n",
       "      <td>1</td>\n",
       "      <td>кира</td>\n",
       "      <td>22</td>\n",
       "      <td>тюмень</td>\n",
       "      <td>ultra</td>\n",
       "      <td>4028.7</td>\n",
       "      <td>27</td>\n",
       "      <td>2021-08-28</td>\n",
       "      <td>8</td>\n",
       "      <td>6</td>\n",
       "      <td>0</td>\n",
       "      <td>199</td>\n",
       "    </tr>\n",
       "    <tr>\n",
       "      <th>5</th>\n",
       "      <td>1</td>\n",
       "      <td>кира</td>\n",
       "      <td>22</td>\n",
       "      <td>тюмень</td>\n",
       "      <td>ultra</td>\n",
       "      <td>2770.9</td>\n",
       "      <td>17</td>\n",
       "      <td>2021-10-09</td>\n",
       "      <td>10</td>\n",
       "      <td>6</td>\n",
       "      <td>0</td>\n",
       "      <td>199</td>\n",
       "    </tr>\n",
       "    <tr>\n",
       "      <th>6</th>\n",
       "      <td>1</td>\n",
       "      <td>кира</td>\n",
       "      <td>22</td>\n",
       "      <td>тюмень</td>\n",
       "      <td>ultra</td>\n",
       "      <td>3039.0</td>\n",
       "      <td>15</td>\n",
       "      <td>2021-10-19</td>\n",
       "      <td>10</td>\n",
       "      <td>6</td>\n",
       "      <td>0</td>\n",
       "      <td>199</td>\n",
       "    </tr>\n",
       "    <tr>\n",
       "      <th>7</th>\n",
       "      <td>1</td>\n",
       "      <td>кира</td>\n",
       "      <td>22</td>\n",
       "      <td>тюмень</td>\n",
       "      <td>ultra</td>\n",
       "      <td>2842.1</td>\n",
       "      <td>24</td>\n",
       "      <td>2021-11-06</td>\n",
       "      <td>11</td>\n",
       "      <td>6</td>\n",
       "      <td>0</td>\n",
       "      <td>199</td>\n",
       "    </tr>\n",
       "    <tr>\n",
       "      <th>8</th>\n",
       "      <td>1</td>\n",
       "      <td>кира</td>\n",
       "      <td>22</td>\n",
       "      <td>тюмень</td>\n",
       "      <td>ultra</td>\n",
       "      <td>3412.7</td>\n",
       "      <td>16</td>\n",
       "      <td>2021-11-14</td>\n",
       "      <td>11</td>\n",
       "      <td>6</td>\n",
       "      <td>0</td>\n",
       "      <td>199</td>\n",
       "    </tr>\n",
       "    <tr>\n",
       "      <th>9</th>\n",
       "      <td>1</td>\n",
       "      <td>кира</td>\n",
       "      <td>22</td>\n",
       "      <td>тюмень</td>\n",
       "      <td>ultra</td>\n",
       "      <td>748.7</td>\n",
       "      <td>16</td>\n",
       "      <td>2021-11-22</td>\n",
       "      <td>11</td>\n",
       "      <td>6</td>\n",
       "      <td>0</td>\n",
       "      <td>199</td>\n",
       "    </tr>\n",
       "  </tbody>\n",
       "</table>\n",
       "</div>"
      ],
      "text/plain": [
       "   user_id  name  age    city subscription_type  distance  duration  \\\n",
       "0        1  кира   22  тюмень             ultra    4409.9        26   \n",
       "1        1  кира   22  тюмень             ultra    2617.6        16   \n",
       "2        1  кира   22  тюмень             ultra     754.2         7   \n",
       "3        1  кира   22  тюмень             ultra    2694.8        19   \n",
       "4        1  кира   22  тюмень             ultra    4028.7        27   \n",
       "5        1  кира   22  тюмень             ultra    2770.9        17   \n",
       "6        1  кира   22  тюмень             ultra    3039.0        15   \n",
       "7        1  кира   22  тюмень             ultra    2842.1        24   \n",
       "8        1  кира   22  тюмень             ultra    3412.7        16   \n",
       "9        1  кира   22  тюмень             ultra     748.7        16   \n",
       "\n",
       "        date  month  minute_price  start_ride_price  subscription_fee  \n",
       "0 2021-01-01      1             6                 0               199  \n",
       "1 2021-01-18      1             6                 0               199  \n",
       "2 2021-04-20      4             6                 0               199  \n",
       "3 2021-08-11      8             6                 0               199  \n",
       "4 2021-08-28      8             6                 0               199  \n",
       "5 2021-10-09     10             6                 0               199  \n",
       "6 2021-10-19     10             6                 0               199  \n",
       "7 2021-11-06     11             6                 0               199  \n",
       "8 2021-11-14     11             6                 0               199  \n",
       "9 2021-11-22     11             6                 0               199  "
      ]
     },
     "execution_count": 33,
     "metadata": {},
     "output_type": "execute_result"
    }
   ],
   "source": [
    "users_rides = users.merge(rides, how='outer')\n",
    "users_rides = users_rides.merge(subscriptions, how='left', left_on='subscription_type', right_on='subscription_type')\n",
    "users_rides.head(10)"
   ]
  },
  {
   "cell_type": "markdown",
   "id": "f3119090",
   "metadata": {},
   "source": [
    "Теперь проверим на наличие пропусков в полученной таблице"
   ]
  },
  {
   "cell_type": "code",
   "execution_count": 34,
   "id": "7216f09d",
   "metadata": {},
   "outputs": [
    {
     "data": {
      "text/plain": [
       "user_id              0\n",
       "name                 0\n",
       "age                  0\n",
       "city                 0\n",
       "subscription_type    0\n",
       "distance             0\n",
       "duration             0\n",
       "date                 0\n",
       "month                0\n",
       "minute_price         0\n",
       "start_ride_price     0\n",
       "subscription_fee     0\n",
       "dtype: int64"
      ]
     },
     "execution_count": 34,
     "metadata": {},
     "output_type": "execute_result"
    }
   ],
   "source": [
    "users_rides.isna().sum()"
   ]
  },
  {
   "cell_type": "markdown",
   "id": "2ec3fd25",
   "metadata": {},
   "source": [
    "Создадим еще две таблицы пользователей с и без подписки"
   ]
  },
  {
   "cell_type": "code",
   "execution_count": 35,
   "id": "a9b53978",
   "metadata": {},
   "outputs": [],
   "source": [
    "users_rides_free = users_rides.query('subscription_type == \"free\"')\n",
    "users_rides_ultra = users_rides.query('subscription_type == \"ultra\"')"
   ]
  },
  {
   "cell_type": "code",
   "execution_count": 36,
   "id": "313c87ad",
   "metadata": {},
   "outputs": [],
   "source": [
    "def histograms(data1, data2):\n",
    "    plt.figure(figsize=[16, 10])\n",
    "    plt.subplots_adjust(left=0.13, \n",
    "                    right=0.93, \n",
    "                    top=1.0, \n",
    "                    bottom= 0.27, \n",
    "                    wspace= 0.5, \n",
    "                    hspace=0.5)\n",
    "    \n",
    "    plt.subplot(221)\n",
    "    data1_pivot = data1.pivot_table(index='city', \n",
    "                  values='user_id', \n",
    "                  aggfunc='count')\n",
    "    data2_pivot = data2.pivot_table(index='city', \n",
    "                  values='user_id', \n",
    "                  aggfunc='count')\n",
    "    plt.bar(data1_pivot.index,\n",
    "            data1_pivot['user_id'],\n",
    "            label='free');\n",
    "    plt.bar(data2_pivot.index,\n",
    "            data2_pivot['user_id'],\n",
    "            label='ultra');\n",
    "    plt.xlabel('Город', fontsize=10, fontweight='bold')\n",
    "    plt.xticks(rotation=40, fontsize=10, fontweight='bold')\n",
    "    plt.ylabel('Частота', fontsize=10, fontweight='bold')\n",
    "    plt.title('Частота встречаемости городов')\n",
    "    plt.grid()\n",
    "    plt.legend()\n",
    "    \n",
    "    plt.subplot(222)\n",
    "    plt.hist(data1['age'], bins=70, label='free');\n",
    "    plt.hist(data2['age'], bins=70, label='ultra');\n",
    "    plt.xlabel('Возраст, г.', fontsize=10, fontweight='bold')\n",
    "    plt.ylabel('Частота', fontsize=10, fontweight='bold')\n",
    "    plt.title('возраст пользователей')\n",
    "    plt.grid()\n",
    "    plt.legend()\n",
    "    \n",
    "    plt.subplot(223)\n",
    "    plt.hist(data1['distance'], bins=200, label='free');\n",
    "    plt.hist(data2['distance'], bins=200, label='ultra');\n",
    "    plt.xlabel('Дистанция поездки, м.', fontsize=10, fontweight='bold')\n",
    "    plt.ylabel('Частота', fontsize=10, fontweight='bold')\n",
    "    plt.title('расстояние, которое пользователь преодолел за одну поездку')\n",
    "    plt.grid()\n",
    "    plt.legend()\n",
    "    \n",
    "    plt.subplot(224)\n",
    "    plt.hist(data1['duration'], bins=100, label='free');\n",
    "    plt.hist(data2['duration'], bins=100, label='ultra');\n",
    "    plt.ylabel('Частота', fontsize=10, fontweight='bold')\n",
    "    plt.xlabel('Длительность, мин.', fontsize=10, fontweight='bold')\n",
    "    plt.title('продолжительность поездок')\n",
    "    plt.grid()\n",
    "    plt.legend()\n",
    "    \n",
    "    plt.show()"
   ]
  },
  {
   "cell_type": "code",
   "execution_count": 37,
   "id": "22676470",
   "metadata": {},
   "outputs": [
    {
     "data": {
      "image/png": "[encoded data removed]",
      "text/plain": [
       "<Figure size 1600x1000 with 4 Axes>"
      ]
     },
     "metadata": {},
     "output_type": "display_data"
    }
   ],
   "source": [
    "histograms(users_rides_free, users_rides_ultra)"
   ]
  },
  {
   "cell_type": "markdown",
   "id": "df6d03a7",
   "metadata": {},
   "source": [
    "- Частота встречаемости городов:\n",
    "    1. `free`, такая же тендеция как и для общей таблицы\n",
    "    2. `ultra`, количество пользователей примерно одинаковое во всех городах\n",
    "- Возраст пользователей:\n",
    "    1. `free`, уже не нормальное распределение, но с такой же модой как и общей зависимости\n",
    "    2. `ultra`, нормальное распределение с такой же модой\n",
    "- Расстояние, которое пользователь преодолел за одну поездку\n",
    "    1. `free`, уже не очевидна мода, и распределение очень сильно отличается от общей\n",
    "    2. `ultra`, мода равна 3 км.\n",
    "- Продолжительность поездок:\n",
    "    1. `free`, похоже на нормальное распределение с большими флуктуациями, мода равна 13 минутам\n",
    "    2. `ultra`, также нормальное, мода равна 19 минутам\n",
    "    \n",
    "`duration` была округлена до большего знака и изменен тип данных на int"
   ]
  },
  {
   "cell_type": "markdown",
   "id": "fdc9be7f",
   "metadata": {},
   "source": [
    "#### Шаг 5. Подсчёт выручки"
   ]
  },
  {
   "cell_type": "markdown",
   "id": "16839d86",
   "metadata": {},
   "source": [
    "Чтобы совершать поездки по городу, пользователи сервиса GoFast пользуются мобильным приложением. \n",
    "\n",
    "Сервисом можно пользоваться:\n",
    "- без подписки\n",
    "    - абонентская плата отсутствует;\n",
    "    - стоимость одной минуты поездки — 8 рублей\n",
    "    - стоимость старта (начала поездки) — 50 рублей;\n",
    "- с подпиской Ultra\n",
    "    - абонентская плата — 199 рублей в месяц;\n",
    "    - стоимость одной минуты поездки — 6 рублей;\n",
    "    - стоимость старта — бесплатно."
   ]
  },
  {
   "cell_type": "code",
   "execution_count": 38,
   "id": "229c692d",
   "metadata": {},
   "outputs": [
    {
     "data": {
      "text/html": [
       "<div>\n",
       "<style scoped>\n",
       "    .dataframe tbody tr th:only-of-type {\n",
       "        vertical-align: middle;\n",
       "    }\n",
       "\n",
       "    .dataframe tbody tr th {\n",
       "        vertical-align: top;\n",
       "    }\n",
       "\n",
       "    .dataframe thead th {\n",
       "        text-align: right;\n",
       "    }\n",
       "</style>\n",
       "<table border=\"1\" class=\"dataframe\">\n",
       "  <thead>\n",
       "    <tr style=\"text-align: right;\">\n",
       "      <th></th>\n",
       "      <th></th>\n",
       "      <th>distance</th>\n",
       "      <th>duration</th>\n",
       "      <th>count</th>\n",
       "      <th>gain</th>\n",
       "    </tr>\n",
       "    <tr>\n",
       "      <th>user_id</th>\n",
       "      <th>month</th>\n",
       "      <th></th>\n",
       "      <th></th>\n",
       "      <th></th>\n",
       "      <th></th>\n",
       "    </tr>\n",
       "  </thead>\n",
       "  <tbody>\n",
       "    <tr>\n",
       "      <th rowspan=\"5\" valign=\"top\">700</th>\n",
       "      <th>1</th>\n",
       "      <td>2515.7</td>\n",
       "      <td>15</td>\n",
       "      <td>1</td>\n",
       "      <td>170</td>\n",
       "    </tr>\n",
       "    <tr>\n",
       "      <th>2</th>\n",
       "      <td>13446.6</td>\n",
       "      <td>89</td>\n",
       "      <td>5</td>\n",
       "      <td>962</td>\n",
       "    </tr>\n",
       "    <tr>\n",
       "      <th>3</th>\n",
       "      <td>3798.3</td>\n",
       "      <td>19</td>\n",
       "      <td>1</td>\n",
       "      <td>202</td>\n",
       "    </tr>\n",
       "    <tr>\n",
       "      <th>4</th>\n",
       "      <td>2984.6</td>\n",
       "      <td>16</td>\n",
       "      <td>1</td>\n",
       "      <td>178</td>\n",
       "    </tr>\n",
       "    <tr>\n",
       "      <th>6</th>\n",
       "      <td>5927.6</td>\n",
       "      <td>29</td>\n",
       "      <td>2</td>\n",
       "      <td>332</td>\n",
       "    </tr>\n",
       "    <tr>\n",
       "      <th>...</th>\n",
       "      <th>...</th>\n",
       "      <td>...</td>\n",
       "      <td>...</td>\n",
       "      <td>...</td>\n",
       "      <td>...</td>\n",
       "    </tr>\n",
       "    <tr>\n",
       "      <th rowspan=\"5\" valign=\"top\">1534</th>\n",
       "      <th>6</th>\n",
       "      <td>3409.4</td>\n",
       "      <td>26</td>\n",
       "      <td>2</td>\n",
       "      <td>308</td>\n",
       "    </tr>\n",
       "    <tr>\n",
       "      <th>8</th>\n",
       "      <td>7622.4</td>\n",
       "      <td>48</td>\n",
       "      <td>2</td>\n",
       "      <td>484</td>\n",
       "    </tr>\n",
       "    <tr>\n",
       "      <th>9</th>\n",
       "      <td>4928.2</td>\n",
       "      <td>23</td>\n",
       "      <td>1</td>\n",
       "      <td>234</td>\n",
       "    </tr>\n",
       "    <tr>\n",
       "      <th>11</th>\n",
       "      <td>13350.0</td>\n",
       "      <td>78</td>\n",
       "      <td>4</td>\n",
       "      <td>824</td>\n",
       "    </tr>\n",
       "    <tr>\n",
       "      <th>12</th>\n",
       "      <td>2371.7</td>\n",
       "      <td>16</td>\n",
       "      <td>1</td>\n",
       "      <td>178</td>\n",
       "    </tr>\n",
       "  </tbody>\n",
       "</table>\n",
       "<p>6767 rows × 4 columns</p>\n",
       "</div>"
      ],
      "text/plain": [
       "               distance  duration  count  gain\n",
       "user_id month                                 \n",
       "700     1        2515.7        15      1   170\n",
       "        2       13446.6        89      5   962\n",
       "        3        3798.3        19      1   202\n",
       "        4        2984.6        16      1   178\n",
       "        6        5927.6        29      2   332\n",
       "...                 ...       ...    ...   ...\n",
       "1534    6        3409.4        26      2   308\n",
       "        8        7622.4        48      2   484\n",
       "        9        4928.2        23      1   234\n",
       "        11      13350.0        78      4   824\n",
       "        12       2371.7        16      1   178\n",
       "\n",
       "[6767 rows x 4 columns]"
      ]
     },
     "execution_count": 38,
     "metadata": {},
     "output_type": "execute_result"
    }
   ],
   "source": [
    "# Создадим сводную таблицу с индексами месяца и id пользователя и применим агрегирующие функции\n",
    "users_rides_free_pivot = users_rides_free\\\n",
    "    .pivot_table(index=['user_id','month'],\n",
    "                 values=['distance', 'duration'], \n",
    "                 aggfunc=['sum', 'count'])\n",
    "\n",
    "# Переименуем столбцы для удобства и удалим ненужный\n",
    "users_rides_free_pivot.columns = ['distance', 'duration', 'count', 'count1']\n",
    "users_rides_free_pivot.pop('count1')\n",
    "\n",
    "# Добавим столбец с выручкой\n",
    "users_rides_free_pivot['gain'] = np.ceil(users_rides_free_pivot['count'] * subscriptions.loc[0, 'start_ride_price'] \n",
    "                                         + users_rides_free_pivot['duration'] * subscriptions.loc[0, 'minute_price'])\n",
    "users_rides_free_pivot['gain'] = users_rides_free_pivot['gain'].astype(int)\n",
    "users_rides_free_pivot"
   ]
  },
  {
   "cell_type": "code",
   "execution_count": 39,
   "id": "dbeacc36",
   "metadata": {},
   "outputs": [
    {
     "data": {
      "text/html": [
       "<div>\n",
       "<style scoped>\n",
       "    .dataframe tbody tr th:only-of-type {\n",
       "        vertical-align: middle;\n",
       "    }\n",
       "\n",
       "    .dataframe tbody tr th {\n",
       "        vertical-align: top;\n",
       "    }\n",
       "\n",
       "    .dataframe thead th {\n",
       "        text-align: right;\n",
       "    }\n",
       "</style>\n",
       "<table border=\"1\" class=\"dataframe\">\n",
       "  <thead>\n",
       "    <tr style=\"text-align: right;\">\n",
       "      <th></th>\n",
       "      <th></th>\n",
       "      <th>distance</th>\n",
       "      <th>duration</th>\n",
       "      <th>count</th>\n",
       "      <th>gain</th>\n",
       "    </tr>\n",
       "    <tr>\n",
       "      <th>user_id</th>\n",
       "      <th>month</th>\n",
       "      <th></th>\n",
       "      <th></th>\n",
       "      <th></th>\n",
       "      <th></th>\n",
       "    </tr>\n",
       "  </thead>\n",
       "  <tbody>\n",
       "    <tr>\n",
       "      <th rowspan=\"5\" valign=\"top\">1</th>\n",
       "      <th>1</th>\n",
       "      <td>7027.5</td>\n",
       "      <td>42</td>\n",
       "      <td>2</td>\n",
       "      <td>451</td>\n",
       "    </tr>\n",
       "    <tr>\n",
       "      <th>4</th>\n",
       "      <td>754.2</td>\n",
       "      <td>7</td>\n",
       "      <td>1</td>\n",
       "      <td>241</td>\n",
       "    </tr>\n",
       "    <tr>\n",
       "      <th>8</th>\n",
       "      <td>6723.5</td>\n",
       "      <td>46</td>\n",
       "      <td>2</td>\n",
       "      <td>475</td>\n",
       "    </tr>\n",
       "    <tr>\n",
       "      <th>10</th>\n",
       "      <td>5809.9</td>\n",
       "      <td>32</td>\n",
       "      <td>2</td>\n",
       "      <td>391</td>\n",
       "    </tr>\n",
       "    <tr>\n",
       "      <th>11</th>\n",
       "      <td>7003.5</td>\n",
       "      <td>56</td>\n",
       "      <td>3</td>\n",
       "      <td>535</td>\n",
       "    </tr>\n",
       "    <tr>\n",
       "      <th>...</th>\n",
       "      <th>...</th>\n",
       "      <td>...</td>\n",
       "      <td>...</td>\n",
       "      <td>...</td>\n",
       "      <td>...</td>\n",
       "    </tr>\n",
       "    <tr>\n",
       "      <th rowspan=\"5\" valign=\"top\">699</th>\n",
       "      <th>6</th>\n",
       "      <td>4072.8</td>\n",
       "      <td>17</td>\n",
       "      <td>1</td>\n",
       "      <td>301</td>\n",
       "    </tr>\n",
       "    <tr>\n",
       "      <th>8</th>\n",
       "      <td>7018.3</td>\n",
       "      <td>45</td>\n",
       "      <td>2</td>\n",
       "      <td>469</td>\n",
       "    </tr>\n",
       "    <tr>\n",
       "      <th>9</th>\n",
       "      <td>6364.9</td>\n",
       "      <td>31</td>\n",
       "      <td>2</td>\n",
       "      <td>385</td>\n",
       "    </tr>\n",
       "    <tr>\n",
       "      <th>10</th>\n",
       "      <td>4707.8</td>\n",
       "      <td>16</td>\n",
       "      <td>1</td>\n",
       "      <td>295</td>\n",
       "    </tr>\n",
       "    <tr>\n",
       "      <th>12</th>\n",
       "      <td>3202.9</td>\n",
       "      <td>26</td>\n",
       "      <td>1</td>\n",
       "      <td>355</td>\n",
       "    </tr>\n",
       "  </tbody>\n",
       "</table>\n",
       "<p>4533 rows × 4 columns</p>\n",
       "</div>"
      ],
      "text/plain": [
       "               distance  duration  count  gain\n",
       "user_id month                                 \n",
       "1       1        7027.5        42      2   451\n",
       "        4         754.2         7      1   241\n",
       "        8        6723.5        46      2   475\n",
       "        10       5809.9        32      2   391\n",
       "        11       7003.5        56      3   535\n",
       "...                 ...       ...    ...   ...\n",
       "699     6        4072.8        17      1   301\n",
       "        8        7018.3        45      2   469\n",
       "        9        6364.9        31      2   385\n",
       "        10       4707.8        16      1   295\n",
       "        12       3202.9        26      1   355\n",
       "\n",
       "[4533 rows x 4 columns]"
      ]
     },
     "execution_count": 39,
     "metadata": {},
     "output_type": "execute_result"
    }
   ],
   "source": [
    "# Аналогично\n",
    "users_rides_ultra_pivot = users_rides_ultra\\\n",
    "    .pivot_table(index=['user_id','month'],\n",
    "                 values=['distance', 'duration'], \n",
    "                 aggfunc=['sum', 'count'])\n",
    "\n",
    "users_rides_ultra_pivot.columns = ['distance', 'duration', 'count', 'count1']\n",
    "\n",
    "users_rides_ultra_pivot.pop('count1')\n",
    "users_rides_ultra_pivot['gain'] = np.ceil(users_rides_ultra_pivot['duration'] * subscriptions.loc[1, 'minute_price'] + \n",
    "                                          subscriptions.loc[1, 'subscription_fee'])\n",
    "users_rides_ultra_pivot['gain'] = users_rides_ultra_pivot['gain'].astype(int)\n",
    "users_rides_ultra_pivot"
   ]
  },
  {
   "cell_type": "code",
   "execution_count": 40,
   "id": "30e41378",
   "metadata": {},
   "outputs": [
    {
     "data": {
      "text/html": [
       "<div>\n",
       "<style scoped>\n",
       "    .dataframe tbody tr th:only-of-type {\n",
       "        vertical-align: middle;\n",
       "    }\n",
       "\n",
       "    .dataframe tbody tr th {\n",
       "        vertical-align: top;\n",
       "    }\n",
       "\n",
       "    .dataframe thead th {\n",
       "        text-align: right;\n",
       "    }\n",
       "</style>\n",
       "<table border=\"1\" class=\"dataframe\">\n",
       "  <thead>\n",
       "    <tr style=\"text-align: right;\">\n",
       "      <th></th>\n",
       "      <th>user_id</th>\n",
       "      <th>month</th>\n",
       "      <th>subscription_type</th>\n",
       "      <th>distance</th>\n",
       "      <th>duration</th>\n",
       "      <th>count</th>\n",
       "      <th>gain</th>\n",
       "    </tr>\n",
       "  </thead>\n",
       "  <tbody>\n",
       "    <tr>\n",
       "      <th>45507</th>\n",
       "      <td>700</td>\n",
       "      <td>1</td>\n",
       "      <td>free</td>\n",
       "      <td>2515.7</td>\n",
       "      <td>15</td>\n",
       "      <td>1</td>\n",
       "      <td>170</td>\n",
       "    </tr>\n",
       "    <tr>\n",
       "      <th>45525</th>\n",
       "      <td>700</td>\n",
       "      <td>2</td>\n",
       "      <td>free</td>\n",
       "      <td>13446.6</td>\n",
       "      <td>89</td>\n",
       "      <td>5</td>\n",
       "      <td>962</td>\n",
       "    </tr>\n",
       "    <tr>\n",
       "      <th>45543</th>\n",
       "      <td>700</td>\n",
       "      <td>3</td>\n",
       "      <td>free</td>\n",
       "      <td>3798.3</td>\n",
       "      <td>19</td>\n",
       "      <td>1</td>\n",
       "      <td>202</td>\n",
       "    </tr>\n",
       "    <tr>\n",
       "      <th>45561</th>\n",
       "      <td>700</td>\n",
       "      <td>4</td>\n",
       "      <td>free</td>\n",
       "      <td>2984.6</td>\n",
       "      <td>16</td>\n",
       "      <td>1</td>\n",
       "      <td>178</td>\n",
       "    </tr>\n",
       "    <tr>\n",
       "      <th>45579</th>\n",
       "      <td>700</td>\n",
       "      <td>6</td>\n",
       "      <td>free</td>\n",
       "      <td>5927.6</td>\n",
       "      <td>29</td>\n",
       "      <td>2</td>\n",
       "      <td>332</td>\n",
       "    </tr>\n",
       "    <tr>\n",
       "      <th>...</th>\n",
       "      <td>...</td>\n",
       "      <td>...</td>\n",
       "      <td>...</td>\n",
       "      <td>...</td>\n",
       "      <td>...</td>\n",
       "      <td>...</td>\n",
       "      <td>...</td>\n",
       "    </tr>\n",
       "    <tr>\n",
       "      <th>142272</th>\n",
       "      <td>1534</td>\n",
       "      <td>6</td>\n",
       "      <td>free</td>\n",
       "      <td>3409.4</td>\n",
       "      <td>26</td>\n",
       "      <td>2</td>\n",
       "      <td>308</td>\n",
       "    </tr>\n",
       "    <tr>\n",
       "      <th>142285</th>\n",
       "      <td>1534</td>\n",
       "      <td>8</td>\n",
       "      <td>free</td>\n",
       "      <td>7622.4</td>\n",
       "      <td>48</td>\n",
       "      <td>2</td>\n",
       "      <td>484</td>\n",
       "    </tr>\n",
       "    <tr>\n",
       "      <th>142298</th>\n",
       "      <td>1534</td>\n",
       "      <td>9</td>\n",
       "      <td>free</td>\n",
       "      <td>4928.2</td>\n",
       "      <td>23</td>\n",
       "      <td>1</td>\n",
       "      <td>234</td>\n",
       "    </tr>\n",
       "    <tr>\n",
       "      <th>142311</th>\n",
       "      <td>1534</td>\n",
       "      <td>11</td>\n",
       "      <td>free</td>\n",
       "      <td>13350.0</td>\n",
       "      <td>78</td>\n",
       "      <td>4</td>\n",
       "      <td>824</td>\n",
       "    </tr>\n",
       "    <tr>\n",
       "      <th>142324</th>\n",
       "      <td>1534</td>\n",
       "      <td>12</td>\n",
       "      <td>free</td>\n",
       "      <td>2371.7</td>\n",
       "      <td>16</td>\n",
       "      <td>1</td>\n",
       "      <td>178</td>\n",
       "    </tr>\n",
       "  </tbody>\n",
       "</table>\n",
       "<p>6767 rows × 7 columns</p>\n",
       "</div>"
      ],
      "text/plain": [
       "        user_id  month subscription_type  distance  duration  count  gain\n",
       "45507       700      1              free    2515.7        15      1   170\n",
       "45525       700      2              free   13446.6        89      5   962\n",
       "45543       700      3              free    3798.3        19      1   202\n",
       "45561       700      4              free    2984.6        16      1   178\n",
       "45579       700      6              free    5927.6        29      2   332\n",
       "...         ...    ...               ...       ...       ...    ...   ...\n",
       "142272     1534      6              free    3409.4        26      2   308\n",
       "142285     1534      8              free    7622.4        48      2   484\n",
       "142298     1534      9              free    4928.2        23      1   234\n",
       "142311     1534     11              free   13350.0        78      4   824\n",
       "142324     1534     12              free    2371.7        16      1   178\n",
       "\n",
       "[6767 rows x 7 columns]"
      ]
     },
     "execution_count": 40,
     "metadata": {},
     "output_type": "execute_result"
    }
   ],
   "source": [
    "# Создадим сводную таблицу\n",
    "users_rides_pivot = (users_rides\n",
    "                     .pivot_table(\n",
    "                         index=['user_id', 'month','subscription_type'], \n",
    "                         values=['distance', 'duration'],\n",
    "                         aggfunc=['sum', 'count'])\n",
    "                                 )\n",
    "# Переименуем колонки для удобства\n",
    "users_rides_pivot.columns = ['distance', 'duration', 'count', 'count1']\n",
    "# Удалим одинаковые колонки\n",
    "users_rides_pivot.pop('count1')\n",
    "# Уберем индексы для того чтобы обратиться к ним\n",
    "users_rides_pivot = users_rides_pivot.reset_index()\n",
    "# Добавим значения по цене за поездку\n",
    "users_rides_pivot = (users_rides_pivot\n",
    "                     .merge(users_rides[['user_id','minute_price', 'start_ride_price','subscription_fee']],\n",
    "                            how='left', \n",
    "                            left_on='user_id', \n",
    "                            right_on='user_id'))\n",
    "# Удалим дубликаты\n",
    "users_rides_pivot = users_rides_pivot.drop_duplicates()\n",
    "# Добавим колонку с помесячной прибылью для каждого пользователя\n",
    "users_rides_pivot['gain'] = (users_rides_pivot['subscription_fee'] + \n",
    "                             users_rides_pivot['start_ride_price'] * users_rides_pivot['count'] +\n",
    "                            users_rides_pivot['duration'] * users_rides_pivot['minute_price'])\n",
    "#Удалим ненужные строки\n",
    "users_rides_pivot = users_rides_pivot.drop(['minute_price', 'start_ride_price', 'subscription_fee'], axis=1)\n",
    "\n",
    "users_rides_pivot_free = users_rides_pivot.query('subscription_type == \"free\"')\n",
    "users_rides_pivot_ultra = users_rides_pivot.query('subscription_type == \"ultra\"')\n",
    "users_rides_pivot_free"
   ]
  },
  {
   "cell_type": "code",
   "execution_count": 41,
   "id": "cd8c7e4e",
   "metadata": {},
   "outputs": [
    {
     "data": {
      "text/html": [
       "<div>\n",
       "<style scoped>\n",
       "    .dataframe tbody tr th:only-of-type {\n",
       "        vertical-align: middle;\n",
       "    }\n",
       "\n",
       "    .dataframe tbody tr th {\n",
       "        vertical-align: top;\n",
       "    }\n",
       "\n",
       "    .dataframe thead th {\n",
       "        text-align: right;\n",
       "    }\n",
       "</style>\n",
       "<table border=\"1\" class=\"dataframe\">\n",
       "  <thead>\n",
       "    <tr style=\"text-align: right;\">\n",
       "      <th></th>\n",
       "      <th>user_id</th>\n",
       "      <th>month</th>\n",
       "      <th>subscription_type</th>\n",
       "      <th>duration</th>\n",
       "      <th>distance</th>\n",
       "      <th>date</th>\n",
       "      <th>minute_price</th>\n",
       "      <th>start_ride_price</th>\n",
       "      <th>subscription_fee</th>\n",
       "      <th>revenue</th>\n",
       "    </tr>\n",
       "  </thead>\n",
       "  <tbody>\n",
       "    <tr>\n",
       "      <th>0</th>\n",
       "      <td>1</td>\n",
       "      <td>1</td>\n",
       "      <td>ultra</td>\n",
       "      <td>42</td>\n",
       "      <td>7027.5</td>\n",
       "      <td>2</td>\n",
       "      <td>6</td>\n",
       "      <td>0</td>\n",
       "      <td>199</td>\n",
       "      <td>451</td>\n",
       "    </tr>\n",
       "    <tr>\n",
       "      <th>1</th>\n",
       "      <td>1</td>\n",
       "      <td>4</td>\n",
       "      <td>ultra</td>\n",
       "      <td>7</td>\n",
       "      <td>754.2</td>\n",
       "      <td>1</td>\n",
       "      <td>6</td>\n",
       "      <td>0</td>\n",
       "      <td>199</td>\n",
       "      <td>241</td>\n",
       "    </tr>\n",
       "    <tr>\n",
       "      <th>2</th>\n",
       "      <td>1</td>\n",
       "      <td>8</td>\n",
       "      <td>ultra</td>\n",
       "      <td>46</td>\n",
       "      <td>6723.5</td>\n",
       "      <td>2</td>\n",
       "      <td>6</td>\n",
       "      <td>0</td>\n",
       "      <td>199</td>\n",
       "      <td>475</td>\n",
       "    </tr>\n",
       "    <tr>\n",
       "      <th>3</th>\n",
       "      <td>1</td>\n",
       "      <td>10</td>\n",
       "      <td>ultra</td>\n",
       "      <td>32</td>\n",
       "      <td>5809.9</td>\n",
       "      <td>2</td>\n",
       "      <td>6</td>\n",
       "      <td>0</td>\n",
       "      <td>199</td>\n",
       "      <td>391</td>\n",
       "    </tr>\n",
       "    <tr>\n",
       "      <th>4</th>\n",
       "      <td>1</td>\n",
       "      <td>11</td>\n",
       "      <td>ultra</td>\n",
       "      <td>56</td>\n",
       "      <td>7003.5</td>\n",
       "      <td>3</td>\n",
       "      <td>6</td>\n",
       "      <td>0</td>\n",
       "      <td>199</td>\n",
       "      <td>535</td>\n",
       "    </tr>\n",
       "  </tbody>\n",
       "</table>\n",
       "</div>"
      ],
      "text/plain": [
       "   user_id  month subscription_type  duration  distance  date  minute_price  \\\n",
       "0        1      1             ultra        42    7027.5     2             6   \n",
       "1        1      4             ultra         7     754.2     1             6   \n",
       "2        1      8             ultra        46    6723.5     2             6   \n",
       "3        1     10             ultra        32    5809.9     2             6   \n",
       "4        1     11             ultra        56    7003.5     3             6   \n",
       "\n",
       "   start_ride_price  subscription_fee  revenue  \n",
       "0                 0               199      451  \n",
       "1                 0               199      241  \n",
       "2                 0               199      475  \n",
       "3                 0               199      391  \n",
       "4                 0               199      535  "
      ]
     },
     "metadata": {},
     "output_type": "display_data"
    }
   ],
   "source": [
    "# код ревьюера\n",
    "\n",
    "agg_tbl = users_rides.groupby(['user_id', 'month']).agg({'subscription_type' : 'first'\n",
    "                                        , 'duration' : 'sum'\n",
    "                                        , 'distance' : 'sum'\n",
    "                                        , 'date' : 'count'\n",
    "                                       }\n",
    "                                      ).reset_index() # формируем сводную таблицу\n",
    "\n",
    "rev_table = agg_tbl.merge(subscriptions, on='subscription_type') # добавляем данные о тарифах\n",
    "\n",
    "rev_table['revenue'] = (rev_table['duration'] * rev_table['minute_price'] \n",
    "                     + rev_table['start_ride_price'] * rev_table['date'] # считаем выручку\n",
    "                     + rev_table['subscription_fee']\n",
    "                       )\n",
    "\n",
    "display(rev_table.head())"
   ]
  },
  {
   "cell_type": "markdown",
   "id": "61f3664b",
   "metadata": {},
   "source": [
    "#### Шаг 6. Проверка гипотез"
   ]
  },
  {
   "cell_type": "markdown",
   "id": "5a99e0ce",
   "metadata": {},
   "source": [
    "Зададим уровень стат. значимости"
   ]
  },
  {
   "cell_type": "code",
   "execution_count": 42,
   "id": "9dc99c59",
   "metadata": {},
   "outputs": [],
   "source": [
    "alpha = .05"
   ]
  },
  {
   "cell_type": "markdown",
   "id": "7c2adfbc",
   "metadata": {},
   "source": [
    "##### Важно понять, тратят ли пользователи с подпиской больше времени на поездки? Если да, то пользователи с подпиской могут быть «выгоднее» для компании. Проверьте гипотезу."
   ]
  },
  {
   "cell_type": "markdown",
   "id": "9bd32e84",
   "metadata": {},
   "source": [
    "Для начала сформулируем нулевую гипотезу $H_0$ - среднее значение пройденной дистанции пользователя с подпиской и без будут равны, $H_1$ - пользователи с подпиской тратят больше времени (правостороняя), исходя из построенных гистограмм, можно заметить, что дисперсии двух выборок не равны.\n",
    "\n",
    "Вначале напишем функию для проверки pvalue"
   ]
  },
  {
   "cell_type": "code",
   "execution_count": 43,
   "id": "ff19ea85",
   "metadata": {},
   "outputs": [],
   "source": [
    "def pvalue(result):\n",
    "    print(result.pvalue)\n",
    "    \n",
    "    if result.pvalue < alpha:\n",
    "        print('Отвергаем нулевую гипотезу')\n",
    "    else:\n",
    "        print('Не получилось отвергнуть нулевую гипотезу')"
   ]
  },
  {
   "cell_type": "code",
   "execution_count": 44,
   "id": "64ec55be",
   "metadata": {},
   "outputs": [
    {
     "name": "stdout",
     "output_type": "stream",
     "text": [
      "3.086332092684639e-29\n",
      "Отвергаем нулевую гипотезу\n"
     ]
    }
   ],
   "source": [
    "result = st.ttest_ind(users_rides_ultra['duration'],\n",
    "                     users_rides_free['duration'],\n",
    "                     equal_var=False,\n",
    "                     alternative='greater')\n",
    "pvalue(result)"
   ]
  },
  {
   "cell_type": "markdown",
   "id": "249d4473",
   "metadata": {},
   "source": [
    "**Отсюда, можно сделать вывод, что пользователи c подпиской в среднем используют самокаты дольше, чем без.**"
   ]
  },
  {
   "cell_type": "markdown",
   "id": "3f2d52f5",
   "metadata": {},
   "source": [
    "##### Расстояние одной поездки в 3130 метров — оптимальное с точки зрения износа самоката. Можно ли сказать, что среднее расстояние, которое проезжают пользователи с подпиской за одну поездку, не превышает 3130 метров? Проверьте гипотезу и сделайте выводы."
   ]
  },
  {
   "cell_type": "markdown",
   "id": "ef2c911e",
   "metadata": {},
   "source": [
    "Правостороняя гипотеза $H_0 \\; : \\; \\bar{x}=3130$ для пользователей с подпиской, $H_1 \\; : \\; \\bar{x}>3130$"
   ]
  },
  {
   "cell_type": "code",
   "execution_count": 45,
   "id": "79d3a2cc",
   "metadata": {},
   "outputs": [
    {
     "name": "stdout",
     "output_type": "stream",
     "text": [
      "0.9195427368335852\n",
      "Не получилось отвергнуть нулевую гипотезу\n"
     ]
    }
   ],
   "source": [
    "expected = 3130\n",
    "result = st.ttest_1samp(users_rides.query('subscription_type == \"ultra\"')['distance'], expected, alternative='greater')\n",
    "\n",
    "pvalue(result)"
   ]
  },
  {
   "cell_type": "markdown",
   "id": "fef964c2",
   "metadata": {},
   "source": [
    "**Да, среднее расстояние, которое пользователи с подпиской проезжает за одну поездку, не превышает 3130 м.**"
   ]
  },
  {
   "cell_type": "markdown",
   "id": "eb0197cd",
   "metadata": {},
   "source": [
    "##### Проверьте гипотезу о том, будет ли помесячная выручка от пользователей с подпиской по месяцам выше, чем выручка от пользователей без подписки. Сделайте вывод."
   ]
  },
  {
   "cell_type": "markdown",
   "id": "4cc163fb",
   "metadata": {},
   "source": [
    "Правостороняя гипотеза, $H_0 \\; : \\; \\bar{x}_{free}=\\bar{x_{ultra}}$ по месяцам, $H_1 \\; : \\; \\bar{x}_{ultra}>\\bar{x}_{free}$"
   ]
  },
  {
   "cell_type": "code",
   "execution_count": 46,
   "id": "a8bdd290",
   "metadata": {},
   "outputs": [
    {
     "name": "stdout",
     "output_type": "stream",
     "text": [
      "2.4970242872858465e-38\n",
      "Отвергаем нулевую гипотезу\n"
     ]
    }
   ],
   "source": [
    "result = st.ttest_ind(users_rides_pivot_free['gain'], \n",
    "                      users_rides_pivot_ultra['gain'], \n",
    "                      equal_var=False, alternative='less')\n",
    "pvalue(result)"
   ]
  },
  {
   "cell_type": "code",
   "execution_count": 47,
   "id": "3798beec",
   "metadata": {},
   "outputs": [
    {
     "name": "stdout",
     "output_type": "stream",
     "text": [
      "329.3326437121324\n",
      "362.7921906022502\n"
     ]
    }
   ],
   "source": [
    "print(users_rides_pivot_free['gain'].mean())\n",
    "print(users_rides_pivot_ultra['gain'].mean())"
   ]
  },
  {
   "cell_type": "markdown",
   "id": "09d9a395",
   "metadata": {},
   "source": [
    "**Пользователи с подпиской тратят больше в месяц, чем без.**"
   ]
  },
  {
   "cell_type": "markdown",
   "id": "c0471c88",
   "metadata": {},
   "source": [
    "##### Представьте такую ситуацию: техническая команда сервиса обновила сервера, с которыми взаимодействует мобильное приложение. Она надеется, что из-за этого количество обращений в техподдержку значимо снизилось. Некоторый файл содержит для каждого пользователя данные о количестве обращений до обновления и после него. Какой тест вам понадобился бы для проверки этой гипотезы?"
   ]
  },
  {
   "cell_type": "markdown",
   "id": "f26f5ad2",
   "metadata": {},
   "source": [
    "Поскольку здесь сама выборка до и после зависима, то стоит использовать `scipy.stats.ttest_rel(до, после, alternative='greater')`, и указать левосторонюю гипотезу.\n",
    "\n",
    "$H_0$ - не изменилась, $H_1$ - стало меньше обращений"
   ]
  },
  {
   "cell_type": "markdown",
   "id": "8594e87f",
   "metadata": {},
   "source": [
    "#### Шаг 7. Распределения"
   ]
  },
  {
   "cell_type": "markdown",
   "id": "a1d99464",
   "metadata": {},
   "source": [
    "##### Отделу маркетинга GoFast поставили задачу: нужно провести акцию с раздачей промокодов на один бесплатный месяц подписки, в рамках которой как минимум 100 существующих клиентов должны продлить эту подписку. То есть по завершении периода действия подписки пользователь может либо отказаться от неё, либо продлить, совершив соответствующий платёж. Эта акция уже проводилась ранее и по итогу выяснилось, что после бесплатного пробного периода подписку продлевают 10 % пользователей. Выясните, какое минимальное количество промокодов нужно разослать, чтобы вероятность не выполнить план была примерно 5 %. Подберите параметры распределения, описывающего эту ситуацию, постройте график распределения и сформулируйте ответ на вопрос о количестве промокодов."
   ]
  },
  {
   "cell_type": "code",
   "execution_count": 48,
   "id": "be72c5d0",
   "metadata": {},
   "outputs": [
    {
     "name": "stdout",
     "output_type": "stream",
     "text": [
      "Количество промокодов, которое нужно разослать: 1172\n"
     ]
    },
    {
     "data": {
      "image/png": "[encoded data removed]",
      "text/plain": [
       "<Figure size 640x480 with 1 Axes>"
      ]
     },
     "metadata": {},
     "output_type": "display_data"
    }
   ],
   "source": [
    "p = .1 # вероятность успеха\n",
    "x = 100 # Количество подписок\n",
    "n = 600\n",
    "# Напишем цикл который найдет нужное количество попыток\n",
    "while x > 0:\n",
    "    \n",
    "    if (1 - st.binom.cdf(x, n, p)) >= .95:\n",
    "        break\n",
    "        \n",
    "    n += 1\n",
    "\n",
    "distr = []\n",
    "for k in range(0, n + 1):\n",
    "    current_value = st.binom.pmf(k, n, p)\n",
    "    distr.append(current_value)\n",
    "    \n",
    "plt.bar(range(0, n + 1), distr)\n",
    "plt.xlim(75, 175)\n",
    "plt.xlabel('Количество промокодов')\n",
    "plt.ylabel('Вероятность успеха')\n",
    "plt.title('Биномиальное распределение для промокодов')\n",
    "print('Количество промокодов, которое нужно разослать:',n)"
   ]
  },
  {
   "cell_type": "markdown",
   "id": "85d2e3ee",
   "metadata": {},
   "source": [
    "**Из полученных данных можно сделать вывод, что нужно отправить 1172 промокода, чтобы вероятность успеха состовляла >= 95%**"
   ]
  },
  {
   "cell_type": "markdown",
   "id": "34b99ee9",
   "metadata": {},
   "source": [
    "##### Отдел маркетинга рассылает клиентам push-уведомления в мобильном приложении. Клиенты могут открыть его или не открывать. Известно, что уведомления открывают около 40 % получивших клиентов. Отдел планирует разослать 1 млн уведомлений. С помощью аппроксимации постройте примерный график распределения и оцените вероятность того, что уведомление откроют не более 399,5 тыс. пользователей."
   ]
  },
  {
   "cell_type": "code",
   "execution_count": 49,
   "id": "3ed81432",
   "metadata": {},
   "outputs": [],
   "source": [
    "# зададим функцию, которая выдаёт <num> чисел,\n",
    "# равномерно распределённых от <start> до <stop>\n",
    "# (понадобится для визуализации нормального распределения\n",
    "def linspace(start, stop, num):\n",
    "    step = (stop - start) / (num - 1)\n",
    "    result = []\n",
    "    for i in range(num):\n",
    "        result.append(start + step * i)\n",
    "    return result"
   ]
  },
  {
   "cell_type": "code",
   "execution_count": 50,
   "id": "ded79f63",
   "metadata": {},
   "outputs": [
    {
     "name": "stdout",
     "output_type": "stream",
     "text": [
      "0.15371708296369768\n"
     ]
    },
    {
     "data": {
      "image/png": "[encoded data removed]",
      "text/plain": [
       "<Figure size 640x480 with 1 Axes>"
      ]
     },
     "metadata": {},
     "output_type": "display_data"
    }
   ],
   "source": [
    "# задаём параметры биномиального распределения\n",
    "p = .4 \n",
    "n = 10**6\n",
    "x = 399.5 * 10**3\n",
    "\n",
    "# зададим мат.ожидание и ст.отклонение нормального распределения равными\n",
    "# мат.ожиданию и ст.отклонению биномиального распределения\n",
    "mu = n * p\n",
    "sigma = sqrt(n * p * (1 - p))\n",
    "\n",
    "# границы промежутка, в котором будем строить аппроксимацию -\n",
    "# от n*p минус 4 ст.отклонения бином.распределения\n",
    "# до n*p плюс 4 ст.отклонения бином.распределения\n",
    "# (там, где вероятности значений почти не равны нулю)\n",
    "left = int(n * p - 4 * sqrt(n * p * (1 - p)))\n",
    "right = int(n * p + 4 * sqrt(n * p * (1 - p)))\n",
    "\n",
    "# выводим, выполняется ли наше условие аппроксимации:\n",
    "# лежит ли mu ± 3 sigma в промежутке от 0 до n:\n",
    "\n",
    "if (mu - (3 * sigma) >= 0) and ((mu + (3 * sigma) <= n)):\n",
    "\n",
    "    distr = st.norm(mu, sigma)\n",
    "    print(distr.cdf(x))\n",
    "    \n",
    "    y = linspace(left, right, 100)\n",
    "    plt.plot(y, st.norm.pdf(y, mu, sigma))\n",
    "    plt.xticks(fontsize=9)\n",
    "    plt.title('Плотность вероятности нормального распределения')\n",
    "    plt.xlabel('Количетство пользователей')\n",
    "    plt.ylabel('Вероятность успеха')\n",
    "    plt.grid()\n",
    "else:\n",
    "    print('Условие не выполняется')\n",
    "    \n"
   ]
  },
  {
   "cell_type": "markdown",
   "id": "4dd778e1",
   "metadata": {},
   "source": [
    "**Ответ: вероятность, что уведомление откроют не более 399,5 тыс. пользователей равна 15%**"
   ]
  },
  {
   "cell_type": "markdown",
   "id": "1f2556c6",
   "metadata": {},
   "source": [
    "# Заключение"
   ]
  },
  {
   "cell_type": "markdown",
   "id": "0b5b6e21",
   "metadata": {},
   "source": [
    "**Предобработка данных**\n",
    "- были обработаны дубликаты в `users`\n",
    "- в таблице `rides` столбец `date` был приведен к типу даты pandas\n",
    "- добавлена новая колонка `month`\n",
    "\n",
    "**Исследовательский анализ данных**\n",
    "1. частота встречаемости городов. В небольшом городе Пятигорске больше пользователей, чем в крупных городах. Это может быть связано с тем, что в крупных городах более развитая система общественного транспорта или наличие машины, поэтому самокаты менее предпочтительны в этих городах\n",
    "2. соотношение пользователей с подпиской и без подписки. Людей без подписки меньше, что логично, но различие не такое весомое, 54% без и 46% с подпиской ultra\n",
    "3. возраст пользователей. Получилось нормальное распределение, больше всего пользователей возрастом 25 лет\n",
    "4. расстояние, которое пользователь преодолел за одну поездку. Как можно заметить, больше всего поездок около 3 км., что так же можно объяснить альтернативой общественному транспорту в маленьких городах\n",
    "5. продолжительность поездок. Наиболее частая продолжительность поездки 13 минут, а значения около нуля могут быть связаны с первым использованием сервиса\n",
    "\n",
    "**Объединение данных**\n",
    "- Исходные таблицы были объеденены в один датафрейм\n",
    "- Было создано еще два датафрейма для людей с подпиской и без\n",
    "\n",
    "Визуализация полученной информации\n",
    "- Частота встречаемости городов:\n",
    "    1. `free`, такая же тендеция как и для общей таблицы\n",
    "    2. `ultra`, количество пользователей примерно одинаковое во всех городах\n",
    "- Возраст пользователей:\n",
    "    1. `free`, уже не нормальное распределение, но с такой же модой как и общей зависимости\n",
    "    2. `ultra`, нормальное распределение с такой же модой\n",
    "- Расстояние, которое пользователь преодолел за одну поездку\n",
    "    1. `free`, уже не очевидна мода, и распределение очень сильно отличается от общей\n",
    "    2. `ultra`, мода равна 3 км.\n",
    "- Продолжительность поездок:\n",
    "    1. `free`, похоже на нормальное распределение с большими флуктуациями, мода равна 13 минутам\n",
    "    2. `ultra`, также нормальное, мода равна 19 минутам\n",
    "    \n",
    "Исходя из визуализиции были обработаны аномалии.\n",
    "\n",
    "**Подсчёт выручки**\n",
    "\n",
    "- Были созданы датафреймы с агрегированными данными о поездках на основе датафрейма с объединёнными данными, с суммарным расстоянием, количеством поездок и суммарным время для каждого пользователя за каждый месяц.\n",
    "- В эту таблицу были добавлен столбец с месячной выручкой\n",
    "\n",
    "**Проверка гипотез**\n",
    "1. Важно понять, тратят ли пользователи с подпиской больше времени на поездки? Если да, то пользователи с подпиской могут быть «выгоднее» для компании. **Пользователи c подпиской в среднем используют самокаты дольше, чем без.**\n",
    "2. Расстояние одной поездки в 3130 метров — оптимальное с точки зрения износа самоката. Можно ли сказать, что среднее расстояние, которое проезжают пользователи с подпиской за одну поездку, не превышает 3130 метров? **Да, среднее расстояние, которое пользователи с подпиской проезжает за одну поездку, не превышает 3130 м.**\n",
    "3. Будет ли помесячная выручка от пользователей с подпиской по месяцам выше, чем выручка от пользователей без подписки. **Пользователи без подписки тратят больше, чем с подпиской.**\n",
    "4. Представьте такую ситуацию: техническая команда сервиса обновила сервера, с которыми взаимодействует мобильное приложение. Она надеется, что из-за этого количество обращений в техподдержку значимо снизилось. Некоторый файл содержит для каждого пользователя данные о количестве обращений до обновления и после него. Какой тест вам понадобился бы для проверки этой гипотезы? **Поскольку здесь сама выборка до и после зависима, то стоит использовать `scipy.stats.ttest_rel(до, после, alternative='greater')`, и указать левосторонюю гипотезу. $H_0$ - не изменилась, $H_1$ - стало меньше обращений**\n",
    "\n",
    "**Распределения**\n",
    "1. Отдел маркетинга GoFast: **нужно отправить 1172 промокода, чтобы вероятность успеха состовляла >= 95% и 100 пользователей продлили подписку**\n",
    "2. Отдел маркетинга рассылает клиентам push-уведомления в мобильном приложении: **вероятность, что уведомление откроют не более 399,5 тыс. пользователей равна 15%**"
   ]
  }
 ],
 "metadata": {
  "ExecuteTimeLog": [
   {
    "duration": 1366,
    "start_time": "2024-05-14T21:09:04.492Z"
   },
   {
    "duration": 223,
    "start_time": "2024-05-14T21:12:48.005Z"
   },
   {
    "duration": 86,
    "start_time": "2024-05-14T21:12:58.462Z"
   },
   {
    "duration": 87,
    "start_time": "2024-05-14T21:13:06.240Z"
   },
   {
    "duration": 79,
    "start_time": "2024-05-14T21:13:20.769Z"
   },
   {
    "duration": 83,
    "start_time": "2024-05-14T21:13:28.719Z"
   },
   {
    "duration": 11,
    "start_time": "2024-05-14T21:13:39.308Z"
   },
   {
    "duration": 10,
    "start_time": "2024-05-14T21:14:09.941Z"
   },
   {
    "duration": 9,
    "start_time": "2024-05-14T21:14:25.416Z"
   },
   {
    "duration": 7,
    "start_time": "2024-05-14T21:14:27.509Z"
   },
   {
    "duration": 7,
    "start_time": "2024-05-14T21:14:42.530Z"
   },
   {
    "duration": 13,
    "start_time": "2024-05-14T21:14:47.192Z"
   },
   {
    "duration": 7,
    "start_time": "2024-05-14T21:14:59.619Z"
   },
   {
    "duration": 10,
    "start_time": "2024-05-14T21:15:16.624Z"
   },
   {
    "duration": 11,
    "start_time": "2024-05-14T21:15:27.208Z"
   },
   {
    "duration": 226,
    "start_time": "2024-05-14T21:17:30.184Z"
   },
   {
    "duration": 77,
    "start_time": "2024-05-14T21:19:15.127Z"
   },
   {
    "duration": 80,
    "start_time": "2024-05-14T21:21:05.179Z"
   },
   {
    "duration": 14,
    "start_time": "2024-05-14T21:21:15.362Z"
   },
   {
    "duration": 72,
    "start_time": "2024-05-14T21:21:37.175Z"
   },
   {
    "duration": 9,
    "start_time": "2024-05-14T21:21:40.119Z"
   },
   {
    "duration": 22,
    "start_time": "2024-05-14T21:21:42.078Z"
   },
   {
    "duration": 12,
    "start_time": "2024-05-14T21:21:44.096Z"
   },
   {
    "duration": 1178,
    "start_time": "2024-05-14T21:22:16.974Z"
   },
   {
    "duration": 75,
    "start_time": "2024-05-14T21:22:18.154Z"
   },
   {
    "duration": 11,
    "start_time": "2024-05-14T21:22:18.231Z"
   },
   {
    "duration": 12,
    "start_time": "2024-05-14T21:22:18.244Z"
   },
   {
    "duration": 14,
    "start_time": "2024-05-14T21:22:18.257Z"
   },
   {
    "duration": 31,
    "start_time": "2024-05-14T21:22:18.273Z"
   },
   {
    "duration": 10,
    "start_time": "2024-05-14T21:22:18.305Z"
   },
   {
    "duration": 1142,
    "start_time": "2024-05-14T21:22:37.260Z"
   },
   {
    "duration": 71,
    "start_time": "2024-05-14T21:22:38.404Z"
   },
   {
    "duration": 19,
    "start_time": "2024-05-14T21:22:38.476Z"
   },
   {
    "duration": 23,
    "start_time": "2024-05-14T21:22:38.498Z"
   },
   {
    "duration": 20,
    "start_time": "2024-05-14T21:22:38.523Z"
   },
   {
    "duration": 15,
    "start_time": "2024-05-14T21:22:38.545Z"
   },
   {
    "duration": 35,
    "start_time": "2024-05-14T21:22:38.562Z"
   },
   {
    "duration": 71,
    "start_time": "2024-05-14T21:22:59.955Z"
   },
   {
    "duration": 1193,
    "start_time": "2024-05-14T21:23:05.369Z"
   },
   {
    "duration": 77,
    "start_time": "2024-05-14T21:23:06.565Z"
   },
   {
    "duration": 13,
    "start_time": "2024-05-14T21:23:06.644Z"
   },
   {
    "duration": 11,
    "start_time": "2024-05-14T21:23:06.660Z"
   },
   {
    "duration": 25,
    "start_time": "2024-05-14T21:23:06.674Z"
   },
   {
    "duration": 11,
    "start_time": "2024-05-14T21:23:06.700Z"
   },
   {
    "duration": 7,
    "start_time": "2024-05-14T21:23:06.712Z"
   },
   {
    "duration": 11,
    "start_time": "2024-05-14T21:23:16.092Z"
   },
   {
    "duration": 9,
    "start_time": "2024-05-14T21:23:26.565Z"
   },
   {
    "duration": 106,
    "start_time": "2024-05-14T21:24:29.823Z"
   },
   {
    "duration": 8,
    "start_time": "2024-05-14T21:24:43.304Z"
   },
   {
    "duration": 539,
    "start_time": "2024-05-14T21:24:53.898Z"
   },
   {
    "duration": 669,
    "start_time": "2024-05-14T21:25:14.327Z"
   },
   {
    "duration": 602,
    "start_time": "2024-05-14T21:26:24.875Z"
   },
   {
    "duration": 7,
    "start_time": "2024-05-14T21:26:29.205Z"
   },
   {
    "duration": 15,
    "start_time": "2024-05-14T21:26:37.544Z"
   },
   {
    "duration": 20,
    "start_time": "2024-05-14T21:26:43.740Z"
   },
   {
    "duration": 22,
    "start_time": "2024-05-14T21:26:54.054Z"
   },
   {
    "duration": 19,
    "start_time": "2024-05-14T21:26:56.904Z"
   },
   {
    "duration": 28,
    "start_time": "2024-05-14T21:27:00.568Z"
   },
   {
    "duration": 14,
    "start_time": "2024-05-14T21:27:18.787Z"
   },
   {
    "duration": 22,
    "start_time": "2024-05-14T21:28:23.242Z"
   },
   {
    "duration": 19,
    "start_time": "2024-05-14T21:28:27.848Z"
   },
   {
    "duration": 76,
    "start_time": "2024-05-14T21:28:32.593Z"
   },
   {
    "duration": 5,
    "start_time": "2024-05-14T21:29:20.715Z"
   },
   {
    "duration": 14,
    "start_time": "2024-05-14T21:29:24.426Z"
   },
   {
    "duration": 5,
    "start_time": "2024-05-14T21:29:49.939Z"
   },
   {
    "duration": 9,
    "start_time": "2024-05-14T21:30:14.217Z"
   },
   {
    "duration": 9,
    "start_time": "2024-05-14T21:30:24.994Z"
   },
   {
    "duration": 8,
    "start_time": "2024-05-14T21:30:28.993Z"
   },
   {
    "duration": 8,
    "start_time": "2024-05-14T21:30:43.793Z"
   },
   {
    "duration": 6,
    "start_time": "2024-05-14T21:30:47.793Z"
   },
   {
    "duration": 6,
    "start_time": "2024-05-14T21:31:07.688Z"
   },
   {
    "duration": 6,
    "start_time": "2024-05-14T21:31:21.695Z"
   },
   {
    "duration": 4,
    "start_time": "2024-05-14T21:31:54.560Z"
   },
   {
    "duration": 4,
    "start_time": "2024-05-14T21:32:00.248Z"
   },
   {
    "duration": 6,
    "start_time": "2024-05-14T21:33:03.268Z"
   },
   {
    "duration": 8,
    "start_time": "2024-05-14T21:35:00.812Z"
   },
   {
    "duration": 5,
    "start_time": "2024-05-14T21:35:15.696Z"
   },
   {
    "duration": 8,
    "start_time": "2024-05-14T21:35:24.070Z"
   },
   {
    "duration": 7,
    "start_time": "2024-05-14T21:37:09.755Z"
   },
   {
    "duration": 6,
    "start_time": "2024-05-14T21:37:35.654Z"
   },
   {
    "duration": 7,
    "start_time": "2024-05-14T21:39:25.768Z"
   },
   {
    "duration": 11,
    "start_time": "2024-05-14T21:39:38.445Z"
   },
   {
    "duration": 13,
    "start_time": "2024-05-14T21:40:39.858Z"
   },
   {
    "duration": 17,
    "start_time": "2024-05-14T21:40:45.871Z"
   },
   {
    "duration": 1156,
    "start_time": "2024-05-14T21:40:51.022Z"
   },
   {
    "duration": 81,
    "start_time": "2024-05-14T21:40:52.180Z"
   },
   {
    "duration": 12,
    "start_time": "2024-05-14T21:40:52.263Z"
   },
   {
    "duration": 24,
    "start_time": "2024-05-14T21:40:52.277Z"
   },
   {
    "duration": 10,
    "start_time": "2024-05-14T21:40:52.303Z"
   },
   {
    "duration": 37,
    "start_time": "2024-05-14T21:40:52.314Z"
   },
   {
    "duration": 22,
    "start_time": "2024-05-14T21:40:52.353Z"
   },
   {
    "duration": 26,
    "start_time": "2024-05-14T21:40:52.377Z"
   },
   {
    "duration": 12,
    "start_time": "2024-05-14T21:40:52.404Z"
   },
   {
    "duration": 24,
    "start_time": "2024-05-14T21:40:52.418Z"
   },
   {
    "duration": 6,
    "start_time": "2024-05-14T21:40:52.444Z"
   },
   {
    "duration": 7,
    "start_time": "2024-05-14T21:40:52.451Z"
   },
   {
    "duration": 10,
    "start_time": "2024-05-14T21:40:52.460Z"
   },
   {
    "duration": 24,
    "start_time": "2024-05-14T21:40:52.473Z"
   },
   {
    "duration": 5,
    "start_time": "2024-05-14T21:41:12.101Z"
   },
   {
    "duration": 5,
    "start_time": "2024-05-14T21:41:24.804Z"
   },
   {
    "duration": 7,
    "start_time": "2024-05-14T21:41:26.342Z"
   },
   {
    "duration": 1158,
    "start_time": "2024-05-14T21:41:59.704Z"
   },
   {
    "duration": 81,
    "start_time": "2024-05-14T21:42:00.865Z"
   },
   {
    "duration": 17,
    "start_time": "2024-05-14T21:42:00.948Z"
   },
   {
    "duration": 59,
    "start_time": "2024-05-14T21:42:00.967Z"
   },
   {
    "duration": 144,
    "start_time": "2024-05-14T21:42:01.029Z"
   },
   {
    "duration": 73,
    "start_time": "2024-05-14T21:42:01.175Z"
   },
   {
    "duration": 59,
    "start_time": "2024-05-14T21:42:01.250Z"
   },
   {
    "duration": 62,
    "start_time": "2024-05-14T21:42:01.310Z"
   },
   {
    "duration": 55,
    "start_time": "2024-05-14T21:42:01.374Z"
   },
   {
    "duration": 62,
    "start_time": "2024-05-14T21:42:01.431Z"
   },
   {
    "duration": 55,
    "start_time": "2024-05-14T21:42:01.494Z"
   },
   {
    "duration": 60,
    "start_time": "2024-05-14T21:42:01.550Z"
   },
   {
    "duration": 47,
    "start_time": "2024-05-14T21:42:01.612Z"
   },
   {
    "duration": 19,
    "start_time": "2024-05-14T21:42:01.661Z"
   },
   {
    "duration": 44,
    "start_time": "2024-05-14T21:42:01.685Z"
   },
   {
    "duration": 12,
    "start_time": "2024-05-14T21:43:39.721Z"
   },
   {
    "duration": 5,
    "start_time": "2024-05-14T21:45:22.940Z"
   },
   {
    "duration": 7,
    "start_time": "2024-05-14T21:45:24.937Z"
   },
   {
    "duration": 7,
    "start_time": "2024-05-14T21:45:26.614Z"
   },
   {
    "duration": 6,
    "start_time": "2024-05-14T21:45:30.520Z"
   },
   {
    "duration": 13,
    "start_time": "2024-05-14T21:45:32.888Z"
   },
   {
    "duration": 6,
    "start_time": "2024-05-14T21:47:40.225Z"
   },
   {
    "duration": 12,
    "start_time": "2024-05-14T21:47:47.930Z"
   },
   {
    "duration": 1176,
    "start_time": "2024-05-14T21:48:23.389Z"
   },
   {
    "duration": 75,
    "start_time": "2024-05-14T21:48:24.567Z"
   },
   {
    "duration": 13,
    "start_time": "2024-05-14T21:48:24.643Z"
   },
   {
    "duration": 12,
    "start_time": "2024-05-14T21:48:24.657Z"
   },
   {
    "duration": 10,
    "start_time": "2024-05-14T21:48:24.671Z"
   },
   {
    "duration": 16,
    "start_time": "2024-05-14T21:48:24.685Z"
   },
   {
    "duration": 8,
    "start_time": "2024-05-14T21:48:24.702Z"
   },
   {
    "duration": 7,
    "start_time": "2024-05-14T21:48:24.712Z"
   },
   {
    "duration": 9,
    "start_time": "2024-05-14T21:48:24.721Z"
   },
   {
    "duration": 12,
    "start_time": "2024-05-14T21:48:24.732Z"
   },
   {
    "duration": 51,
    "start_time": "2024-05-14T21:48:24.746Z"
   },
   {
    "duration": 4,
    "start_time": "2024-05-14T21:48:24.799Z"
   },
   {
    "duration": 6,
    "start_time": "2024-05-14T21:48:24.805Z"
   },
   {
    "duration": 11,
    "start_time": "2024-05-14T21:48:24.813Z"
   },
   {
    "duration": 8,
    "start_time": "2024-05-14T21:48:24.825Z"
   },
   {
    "duration": 5,
    "start_time": "2024-05-14T21:48:24.835Z"
   },
   {
    "duration": 53,
    "start_time": "2024-05-14T21:48:24.841Z"
   },
   {
    "duration": 6,
    "start_time": "2024-05-14T21:49:20.314Z"
   },
   {
    "duration": 18,
    "start_time": "2024-05-14T21:49:22.183Z"
   },
   {
    "duration": 1314,
    "start_time": "2024-05-15T18:22:31.223Z"
   },
   {
    "duration": 301,
    "start_time": "2024-05-15T18:22:32.539Z"
   },
   {
    "duration": 13,
    "start_time": "2024-05-15T18:22:32.842Z"
   },
   {
    "duration": 16,
    "start_time": "2024-05-15T18:22:32.857Z"
   },
   {
    "duration": 32,
    "start_time": "2024-05-15T18:22:32.875Z"
   },
   {
    "duration": 28,
    "start_time": "2024-05-15T18:22:32.908Z"
   },
   {
    "duration": 7,
    "start_time": "2024-05-15T18:22:32.937Z"
   },
   {
    "duration": 15,
    "start_time": "2024-05-15T18:22:32.945Z"
   },
   {
    "duration": 13,
    "start_time": "2024-05-15T18:22:32.961Z"
   },
   {
    "duration": 6,
    "start_time": "2024-05-15T18:22:32.976Z"
   },
   {
    "duration": 16,
    "start_time": "2024-05-15T18:22:32.984Z"
   },
   {
    "duration": 5,
    "start_time": "2024-05-15T18:22:33.002Z"
   },
   {
    "duration": 19,
    "start_time": "2024-05-15T18:22:33.008Z"
   },
   {
    "duration": 27,
    "start_time": "2024-05-15T18:22:33.030Z"
   },
   {
    "duration": 8,
    "start_time": "2024-05-15T18:22:33.058Z"
   },
   {
    "duration": 48,
    "start_time": "2024-05-15T18:22:33.068Z"
   },
   {
    "duration": 71,
    "start_time": "2024-05-15T18:22:33.118Z"
   },
   {
    "duration": 8,
    "start_time": "2024-05-15T18:23:18.304Z"
   },
   {
    "duration": 6,
    "start_time": "2024-05-15T18:23:28.786Z"
   },
   {
    "duration": 326,
    "start_time": "2024-05-15T18:23:50.777Z"
   },
   {
    "duration": 6,
    "start_time": "2024-05-15T18:23:56.496Z"
   },
   {
    "duration": 6,
    "start_time": "2024-05-15T18:24:16.257Z"
   },
   {
    "duration": 10,
    "start_time": "2024-05-15T18:24:25.384Z"
   },
   {
    "duration": 11,
    "start_time": "2024-05-15T18:24:32.861Z"
   },
   {
    "duration": 5,
    "start_time": "2024-05-15T18:24:55.212Z"
   },
   {
    "duration": 8,
    "start_time": "2024-05-15T18:25:02.884Z"
   },
   {
    "duration": 11,
    "start_time": "2024-05-15T18:26:20.420Z"
   },
   {
    "duration": 37,
    "start_time": "2024-05-15T18:26:20.433Z"
   },
   {
    "duration": 8,
    "start_time": "2024-05-15T18:26:20.472Z"
   },
   {
    "duration": 16,
    "start_time": "2024-05-15T18:26:20.481Z"
   },
   {
    "duration": 19,
    "start_time": "2024-05-15T18:26:20.498Z"
   },
   {
    "duration": 22,
    "start_time": "2024-05-15T18:26:20.519Z"
   },
   {
    "duration": 6,
    "start_time": "2024-05-15T18:26:20.542Z"
   },
   {
    "duration": 19,
    "start_time": "2024-05-15T18:26:20.550Z"
   },
   {
    "duration": 7,
    "start_time": "2024-05-15T18:26:20.570Z"
   },
   {
    "duration": 24,
    "start_time": "2024-05-15T18:26:20.578Z"
   },
   {
    "duration": 29,
    "start_time": "2024-05-15T18:26:20.603Z"
   },
   {
    "duration": 5,
    "start_time": "2024-05-15T18:26:20.634Z"
   },
   {
    "duration": 16,
    "start_time": "2024-05-15T18:26:20.640Z"
   },
   {
    "duration": 21,
    "start_time": "2024-05-15T18:26:20.658Z"
   },
   {
    "duration": 13,
    "start_time": "2024-05-15T18:26:20.681Z"
   },
   {
    "duration": 9,
    "start_time": "2024-05-15T18:26:20.695Z"
   },
   {
    "duration": 3,
    "start_time": "2024-05-15T18:26:20.706Z"
   },
   {
    "duration": 13,
    "start_time": "2024-05-15T18:26:20.710Z"
   },
   {
    "duration": 12,
    "start_time": "2024-05-15T18:28:08.412Z"
   },
   {
    "duration": 5,
    "start_time": "2024-05-15T18:29:47.820Z"
   },
   {
    "duration": 11,
    "start_time": "2024-05-15T18:29:49.569Z"
   },
   {
    "duration": 106,
    "start_time": "2024-05-15T18:32:51.462Z"
   },
   {
    "duration": 9,
    "start_time": "2024-05-15T18:33:37.168Z"
   },
   {
    "duration": 4,
    "start_time": "2024-05-15T18:33:51.637Z"
   },
   {
    "duration": 6,
    "start_time": "2024-05-15T18:34:00.832Z"
   },
   {
    "duration": 247,
    "start_time": "2024-05-15T18:34:05.990Z"
   },
   {
    "duration": 236,
    "start_time": "2024-05-15T18:34:15.272Z"
   },
   {
    "duration": 213,
    "start_time": "2024-05-15T18:34:56.615Z"
   },
   {
    "duration": 207,
    "start_time": "2024-05-15T18:35:13.606Z"
   },
   {
    "duration": 1162,
    "start_time": "2024-05-15T18:37:03.864Z"
   },
   {
    "duration": 70,
    "start_time": "2024-05-15T18:37:05.028Z"
   },
   {
    "duration": 13,
    "start_time": "2024-05-15T18:37:05.100Z"
   },
   {
    "duration": 11,
    "start_time": "2024-05-15T18:37:05.116Z"
   },
   {
    "duration": 18,
    "start_time": "2024-05-15T18:37:05.129Z"
   },
   {
    "duration": 30,
    "start_time": "2024-05-15T18:37:05.149Z"
   },
   {
    "duration": 19,
    "start_time": "2024-05-15T18:37:05.181Z"
   },
   {
    "duration": 17,
    "start_time": "2024-05-15T18:37:05.201Z"
   },
   {
    "duration": 11,
    "start_time": "2024-05-15T18:37:05.220Z"
   },
   {
    "duration": 8,
    "start_time": "2024-05-15T18:37:05.234Z"
   },
   {
    "duration": 39,
    "start_time": "2024-05-15T18:37:05.244Z"
   },
   {
    "duration": 8,
    "start_time": "2024-05-15T18:37:05.284Z"
   },
   {
    "duration": 11,
    "start_time": "2024-05-15T18:37:05.294Z"
   },
   {
    "duration": 13,
    "start_time": "2024-05-15T18:37:05.307Z"
   },
   {
    "duration": 10,
    "start_time": "2024-05-15T18:37:05.321Z"
   },
   {
    "duration": 8,
    "start_time": "2024-05-15T18:37:05.333Z"
   },
   {
    "duration": 19,
    "start_time": "2024-05-15T18:37:05.343Z"
   },
   {
    "duration": 295,
    "start_time": "2024-05-15T18:37:05.363Z"
   },
   {
    "duration": 169,
    "start_time": "2024-05-15T18:37:13.954Z"
   },
   {
    "duration": 183,
    "start_time": "2024-05-15T18:37:20.099Z"
   },
   {
    "duration": 6,
    "start_time": "2024-05-15T18:38:19.114Z"
   },
   {
    "duration": 154,
    "start_time": "2024-05-15T18:40:59.336Z"
   },
   {
    "duration": 97,
    "start_time": "2024-05-15T18:42:15.753Z"
   },
   {
    "duration": 5,
    "start_time": "2024-05-15T18:42:19.966Z"
   },
   {
    "duration": 10,
    "start_time": "2024-05-15T18:43:15.500Z"
   },
   {
    "duration": 6,
    "start_time": "2024-05-15T18:43:21.128Z"
   },
   {
    "duration": 137,
    "start_time": "2024-05-15T18:44:21.782Z"
   },
   {
    "duration": 278,
    "start_time": "2024-05-15T18:44:41.116Z"
   },
   {
    "duration": 235,
    "start_time": "2024-05-15T18:44:47.292Z"
   },
   {
    "duration": 294,
    "start_time": "2024-05-15T18:44:52.116Z"
   },
   {
    "duration": 217,
    "start_time": "2024-05-15T18:44:59.363Z"
   },
   {
    "duration": 234,
    "start_time": "2024-05-15T18:45:05.738Z"
   },
   {
    "duration": 4,
    "start_time": "2024-05-15T18:47:56.122Z"
   },
   {
    "duration": 16,
    "start_time": "2024-05-15T18:48:00.845Z"
   },
   {
    "duration": 179,
    "start_time": "2024-05-15T18:50:18.635Z"
   },
   {
    "duration": 208,
    "start_time": "2024-05-15T18:50:26.366Z"
   },
   {
    "duration": 221,
    "start_time": "2024-05-15T18:50:29.947Z"
   },
   {
    "duration": 331,
    "start_time": "2024-05-15T18:50:34.426Z"
   },
   {
    "duration": 494,
    "start_time": "2024-05-15T18:50:39.055Z"
   },
   {
    "duration": 406,
    "start_time": "2024-05-15T18:52:35.334Z"
   },
   {
    "duration": 11,
    "start_time": "2024-05-15T19:04:56.126Z"
   },
   {
    "duration": 21,
    "start_time": "2024-05-15T19:05:03.126Z"
   },
   {
    "duration": 9,
    "start_time": "2024-05-15T19:05:28.956Z"
   },
   {
    "duration": 25,
    "start_time": "2024-05-15T19:07:48.121Z"
   },
   {
    "duration": 19,
    "start_time": "2024-05-15T19:08:01.239Z"
   },
   {
    "duration": 6,
    "start_time": "2024-05-15T19:08:22.037Z"
   },
   {
    "duration": 10,
    "start_time": "2024-05-15T19:08:42.536Z"
   },
   {
    "duration": 4,
    "start_time": "2024-05-15T19:12:03.680Z"
   },
   {
    "duration": 752,
    "start_time": "2024-05-15T19:12:19.854Z"
   },
   {
    "duration": 7,
    "start_time": "2024-05-15T19:15:25.263Z"
   },
   {
    "duration": 318,
    "start_time": "2024-05-15T19:15:30.262Z"
   },
   {
    "duration": 5,
    "start_time": "2024-05-15T19:15:59.816Z"
   },
   {
    "duration": 1163,
    "start_time": "2024-05-15T19:16:04.498Z"
   },
   {
    "duration": 55,
    "start_time": "2024-05-15T19:17:09.166Z"
   },
   {
    "duration": 4,
    "start_time": "2024-05-15T19:17:14.049Z"
   },
   {
    "duration": 201,
    "start_time": "2024-05-15T19:17:19.164Z"
   },
   {
    "duration": 80,
    "start_time": "2024-05-15T19:20:25.253Z"
   },
   {
    "duration": 4,
    "start_time": "2024-05-15T19:20:28.789Z"
   },
   {
    "duration": 1245,
    "start_time": "2024-05-15T19:20:34.491Z"
   },
   {
    "duration": 4,
    "start_time": "2024-05-15T19:25:34.952Z"
   },
   {
    "duration": 1212,
    "start_time": "2024-05-15T19:25:40.412Z"
   },
   {
    "duration": 7,
    "start_time": "2024-05-15T19:26:39.173Z"
   },
   {
    "duration": 1175,
    "start_time": "2024-05-15T19:26:43.349Z"
   },
   {
    "duration": 5,
    "start_time": "2024-05-15T19:28:07.044Z"
   },
   {
    "duration": 712,
    "start_time": "2024-05-15T19:28:14.735Z"
   },
   {
    "duration": 5,
    "start_time": "2024-05-15T19:29:50.714Z"
   },
   {
    "duration": 980,
    "start_time": "2024-05-15T19:29:56.622Z"
   },
   {
    "duration": 1009,
    "start_time": "2024-05-15T19:30:01.023Z"
   },
   {
    "duration": 5,
    "start_time": "2024-05-15T19:30:45.809Z"
   },
   {
    "duration": 10,
    "start_time": "2024-05-15T19:31:01.643Z"
   },
   {
    "duration": 5,
    "start_time": "2024-05-15T19:31:25.629Z"
   },
   {
    "duration": 11,
    "start_time": "2024-05-15T19:31:32.584Z"
   },
   {
    "duration": 4,
    "start_time": "2024-05-15T19:31:49.599Z"
   },
   {
    "duration": 1001,
    "start_time": "2024-05-15T19:31:55.856Z"
   },
   {
    "duration": 5,
    "start_time": "2024-05-15T19:34:22.082Z"
   },
   {
    "duration": 1112,
    "start_time": "2024-05-15T19:34:27.176Z"
   },
   {
    "duration": 5,
    "start_time": "2024-05-15T19:34:44.194Z"
   },
   {
    "duration": 1075,
    "start_time": "2024-05-15T19:34:49.143Z"
   },
   {
    "duration": 5,
    "start_time": "2024-05-15T19:35:12.085Z"
   },
   {
    "duration": 930,
    "start_time": "2024-05-15T19:35:16.762Z"
   },
   {
    "duration": 6,
    "start_time": "2024-05-15T19:36:48.335Z"
   },
   {
    "duration": 1072,
    "start_time": "2024-05-15T19:37:11.573Z"
   },
   {
    "duration": 5,
    "start_time": "2024-05-15T19:37:45.576Z"
   },
   {
    "duration": 1160,
    "start_time": "2024-05-15T19:37:50.310Z"
   },
   {
    "duration": 1013,
    "start_time": "2024-05-15T19:38:15.512Z"
   },
   {
    "duration": 7,
    "start_time": "2024-05-15T19:42:02.775Z"
   },
   {
    "duration": 1709,
    "start_time": "2024-05-15T19:42:07.829Z"
   },
   {
    "duration": 124,
    "start_time": "2024-05-15T19:42:36.332Z"
   },
   {
    "duration": 1745,
    "start_time": "2024-05-15T19:42:42.761Z"
   },
   {
    "duration": 7,
    "start_time": "2024-05-15T19:44:09.659Z"
   },
   {
    "duration": 1951,
    "start_time": "2024-05-15T19:44:14.050Z"
   },
   {
    "duration": 11,
    "start_time": "2024-05-15T19:48:55.317Z"
   },
   {
    "duration": 1891,
    "start_time": "2024-05-15T19:48:57.623Z"
   },
   {
    "duration": 7,
    "start_time": "2024-05-15T19:52:06.304Z"
   },
   {
    "duration": 1827,
    "start_time": "2024-05-15T19:52:08.122Z"
   },
   {
    "duration": 7,
    "start_time": "2024-05-15T19:53:08.746Z"
   },
   {
    "duration": 1873,
    "start_time": "2024-05-15T19:53:10.232Z"
   },
   {
    "duration": 8,
    "start_time": "2024-05-15T19:54:23.076Z"
   },
   {
    "duration": 2048,
    "start_time": "2024-05-15T19:54:24.873Z"
   },
   {
    "duration": 8,
    "start_time": "2024-05-15T19:54:42.333Z"
   },
   {
    "duration": 2017,
    "start_time": "2024-05-15T19:54:44.284Z"
   },
   {
    "duration": 9,
    "start_time": "2024-05-15T19:56:23.412Z"
   },
   {
    "duration": 1976,
    "start_time": "2024-05-15T19:56:24.794Z"
   },
   {
    "duration": 8,
    "start_time": "2024-05-15T19:58:56.504Z"
   },
   {
    "duration": 2381,
    "start_time": "2024-05-15T19:58:59.282Z"
   },
   {
    "duration": 9,
    "start_time": "2024-05-15T20:00:03.140Z"
   },
   {
    "duration": 2343,
    "start_time": "2024-05-15T20:00:06.001Z"
   },
   {
    "duration": 1089,
    "start_time": "2024-05-15T20:00:16.903Z"
   },
   {
    "duration": 69,
    "start_time": "2024-05-15T20:00:17.994Z"
   },
   {
    "duration": 12,
    "start_time": "2024-05-15T20:00:18.065Z"
   },
   {
    "duration": 27,
    "start_time": "2024-05-15T20:00:18.078Z"
   },
   {
    "duration": 29,
    "start_time": "2024-05-15T20:00:18.107Z"
   },
   {
    "duration": 11,
    "start_time": "2024-05-15T20:00:18.138Z"
   },
   {
    "duration": 6,
    "start_time": "2024-05-15T20:00:18.151Z"
   },
   {
    "duration": 6,
    "start_time": "2024-05-15T20:00:18.159Z"
   },
   {
    "duration": 11,
    "start_time": "2024-05-15T20:00:18.167Z"
   },
   {
    "duration": 12,
    "start_time": "2024-05-15T20:00:18.180Z"
   },
   {
    "duration": 14,
    "start_time": "2024-05-15T20:00:18.193Z"
   },
   {
    "duration": 4,
    "start_time": "2024-05-15T20:00:18.209Z"
   },
   {
    "duration": 6,
    "start_time": "2024-05-15T20:00:18.215Z"
   },
   {
    "duration": 6,
    "start_time": "2024-05-15T20:00:18.223Z"
   },
   {
    "duration": 36,
    "start_time": "2024-05-15T20:00:18.231Z"
   },
   {
    "duration": 7,
    "start_time": "2024-05-15T20:00:18.269Z"
   },
   {
    "duration": 6,
    "start_time": "2024-05-15T20:00:18.278Z"
   },
   {
    "duration": 17,
    "start_time": "2024-05-15T20:00:18.286Z"
   },
   {
    "duration": 216,
    "start_time": "2024-05-15T20:00:18.304Z"
   },
   {
    "duration": 169,
    "start_time": "2024-05-15T20:00:18.521Z"
   },
   {
    "duration": 7,
    "start_time": "2024-05-15T20:00:18.692Z"
   },
   {
    "duration": 259,
    "start_time": "2024-05-15T20:00:18.700Z"
   },
   {
    "duration": 437,
    "start_time": "2024-05-15T20:00:18.961Z"
   },
   {
    "duration": 479,
    "start_time": "2024-05-15T20:00:19.400Z"
   },
   {
    "duration": 20,
    "start_time": "2024-05-15T20:00:19.881Z"
   },
   {
    "duration": 8,
    "start_time": "2024-05-15T20:00:19.903Z"
   },
   {
    "duration": 13,
    "start_time": "2024-05-15T20:00:19.913Z"
   },
   {
    "duration": 29,
    "start_time": "2024-05-15T20:00:19.928Z"
   },
   {
    "duration": 2327,
    "start_time": "2024-05-15T20:00:19.958Z"
   },
   {
    "duration": 8,
    "start_time": "2024-05-15T20:01:05.844Z"
   },
   {
    "duration": 2353,
    "start_time": "2024-05-15T20:01:08.273Z"
   },
   {
    "duration": 9,
    "start_time": "2024-05-15T20:01:47.047Z"
   },
   {
    "duration": 2351,
    "start_time": "2024-05-15T20:01:48.720Z"
   },
   {
    "duration": 127,
    "start_time": "2024-05-15T20:03:01.842Z"
   },
   {
    "duration": 2303,
    "start_time": "2024-05-15T20:03:04.220Z"
   },
   {
    "duration": 2080,
    "start_time": "2024-05-15T20:27:05.784Z"
   },
   {
    "duration": 2156,
    "start_time": "2024-05-15T20:27:14.118Z"
   },
   {
    "duration": 383,
    "start_time": "2024-05-15T20:27:29.062Z"
   },
   {
    "duration": 366,
    "start_time": "2024-05-15T20:28:02.619Z"
   },
   {
    "duration": 366,
    "start_time": "2024-05-15T20:28:27.865Z"
   },
   {
    "duration": 6,
    "start_time": "2024-05-15T20:30:42.752Z"
   },
   {
    "duration": 99,
    "start_time": "2024-05-15T20:33:40.125Z"
   },
   {
    "duration": 14,
    "start_time": "2024-05-15T20:34:43.166Z"
   },
   {
    "duration": 21,
    "start_time": "2024-05-15T20:36:26.265Z"
   },
   {
    "duration": 25,
    "start_time": "2024-05-15T20:36:53.066Z"
   },
   {
    "duration": 4,
    "start_time": "2024-05-15T20:41:05.747Z"
   },
   {
    "duration": 3,
    "start_time": "2024-05-15T20:41:20.818Z"
   },
   {
    "duration": 3,
    "start_time": "2024-05-15T20:41:50.880Z"
   },
   {
    "duration": 14,
    "start_time": "2024-05-15T20:42:15.861Z"
   },
   {
    "duration": 22,
    "start_time": "2024-05-15T20:42:24.482Z"
   },
   {
    "duration": 9,
    "start_time": "2024-05-15T20:43:35.837Z"
   },
   {
    "duration": 14,
    "start_time": "2024-05-15T20:44:00.605Z"
   },
   {
    "duration": 23,
    "start_time": "2024-05-15T20:44:05.914Z"
   },
   {
    "duration": 48,
    "start_time": "2024-05-15T20:44:54.883Z"
   },
   {
    "duration": 60,
    "start_time": "2024-05-15T20:44:58.859Z"
   },
   {
    "duration": 57,
    "start_time": "2024-05-15T20:45:49.314Z"
   },
   {
    "duration": 30,
    "start_time": "2024-05-15T20:46:02.449Z"
   },
   {
    "duration": 19,
    "start_time": "2024-05-15T20:46:32.220Z"
   },
   {
    "duration": 19,
    "start_time": "2024-05-15T20:47:04.460Z"
   },
   {
    "duration": 29,
    "start_time": "2024-05-15T20:47:09.544Z"
   },
   {
    "duration": 30,
    "start_time": "2024-05-15T20:48:31.111Z"
   },
   {
    "duration": 29,
    "start_time": "2024-05-15T20:48:37.977Z"
   },
   {
    "duration": 22,
    "start_time": "2024-05-15T20:48:51.073Z"
   },
   {
    "duration": 28,
    "start_time": "2024-05-15T20:49:00.326Z"
   },
   {
    "duration": 29,
    "start_time": "2024-05-15T20:49:55.227Z"
   },
   {
    "duration": 19,
    "start_time": "2024-05-15T20:53:09.043Z"
   },
   {
    "duration": 12,
    "start_time": "2024-05-15T20:53:46.408Z"
   },
   {
    "duration": 3,
    "start_time": "2024-05-15T20:54:23.380Z"
   },
   {
    "duration": 16,
    "start_time": "2024-05-15T20:54:36.128Z"
   },
   {
    "duration": 17,
    "start_time": "2024-05-15T20:54:46.797Z"
   },
   {
    "duration": 18,
    "start_time": "2024-05-15T20:55:43.886Z"
   },
   {
    "duration": 16,
    "start_time": "2024-05-15T20:58:50.105Z"
   },
   {
    "duration": 16,
    "start_time": "2024-05-15T21:00:10.182Z"
   },
   {
    "duration": 24,
    "start_time": "2024-05-15T21:00:12.271Z"
   },
   {
    "duration": 22,
    "start_time": "2024-05-15T21:00:46.689Z"
   },
   {
    "duration": 19,
    "start_time": "2024-05-15T21:00:48.620Z"
   },
   {
    "duration": 33,
    "start_time": "2024-05-15T21:03:14.737Z"
   },
   {
    "duration": 57,
    "start_time": "2024-05-15T21:03:30.781Z"
   },
   {
    "duration": 31,
    "start_time": "2024-05-15T21:03:35.138Z"
   },
   {
    "duration": 31,
    "start_time": "2024-05-15T21:04:59.950Z"
   },
   {
    "duration": 32,
    "start_time": "2024-05-15T21:05:15.639Z"
   },
   {
    "duration": 1364,
    "start_time": "2024-05-17T17:38:01.200Z"
   },
   {
    "duration": 323,
    "start_time": "2024-05-17T17:38:02.566Z"
   },
   {
    "duration": 14,
    "start_time": "2024-05-17T17:38:02.890Z"
   },
   {
    "duration": 76,
    "start_time": "2024-05-17T17:38:02.905Z"
   },
   {
    "duration": 35,
    "start_time": "2024-05-17T17:38:02.983Z"
   },
   {
    "duration": 54,
    "start_time": "2024-05-17T17:38:03.019Z"
   },
   {
    "duration": 106,
    "start_time": "2024-05-17T17:38:03.075Z"
   },
   {
    "duration": 36,
    "start_time": "2024-05-17T17:38:03.182Z"
   },
   {
    "duration": 61,
    "start_time": "2024-05-17T17:38:03.220Z"
   },
   {
    "duration": 24,
    "start_time": "2024-05-17T17:38:03.284Z"
   },
   {
    "duration": 15,
    "start_time": "2024-05-17T17:38:03.310Z"
   },
   {
    "duration": 5,
    "start_time": "2024-05-17T17:38:03.326Z"
   },
   {
    "duration": 10,
    "start_time": "2024-05-17T17:38:03.332Z"
   },
   {
    "duration": 11,
    "start_time": "2024-05-17T17:38:03.343Z"
   },
   {
    "duration": 18,
    "start_time": "2024-05-17T17:38:03.356Z"
   },
   {
    "duration": 9,
    "start_time": "2024-05-17T17:38:03.377Z"
   },
   {
    "duration": 22,
    "start_time": "2024-05-17T17:38:03.388Z"
   },
   {
    "duration": 23,
    "start_time": "2024-05-17T17:38:03.412Z"
   },
   {
    "duration": 236,
    "start_time": "2024-05-17T17:38:03.437Z"
   },
   {
    "duration": 179,
    "start_time": "2024-05-17T17:38:03.675Z"
   },
   {
    "duration": 18,
    "start_time": "2024-05-17T17:38:03.856Z"
   },
   {
    "duration": 441,
    "start_time": "2024-05-17T17:38:03.875Z"
   },
   {
    "duration": 431,
    "start_time": "2024-05-17T17:38:04.318Z"
   },
   {
    "duration": 514,
    "start_time": "2024-05-17T17:38:04.751Z"
   },
   {
    "duration": 20,
    "start_time": "2024-05-17T17:38:05.273Z"
   },
   {
    "duration": 15,
    "start_time": "2024-05-17T17:38:05.295Z"
   },
   {
    "duration": 38,
    "start_time": "2024-05-17T17:38:05.311Z"
   },
   {
    "duration": 24,
    "start_time": "2024-05-17T17:38:05.353Z"
   },
   {
    "duration": 2523,
    "start_time": "2024-05-17T17:38:05.379Z"
   },
   {
    "duration": 437,
    "start_time": "2024-05-17T17:38:07.904Z"
   },
   {
    "duration": 7,
    "start_time": "2024-05-17T17:38:08.343Z"
   },
   {
    "duration": 88,
    "start_time": "2024-05-17T17:38:08.352Z"
   },
   {
    "duration": 40,
    "start_time": "2024-05-17T17:38:08.442Z"
   },
   {
    "duration": 3,
    "start_time": "2024-05-17T17:40:16.474Z"
   },
   {
    "duration": 6,
    "start_time": "2024-05-17T17:50:29.448Z"
   },
   {
    "duration": 5,
    "start_time": "2024-05-17T17:50:59.582Z"
   },
   {
    "duration": 5,
    "start_time": "2024-05-17T17:51:07.122Z"
   },
   {
    "duration": 5,
    "start_time": "2024-05-17T17:51:51.207Z"
   },
   {
    "duration": 3,
    "start_time": "2024-05-17T17:52:46.183Z"
   },
   {
    "duration": 4,
    "start_time": "2024-05-17T17:52:53.894Z"
   },
   {
    "duration": 106,
    "start_time": "2024-05-17T18:00:03.331Z"
   },
   {
    "duration": 5,
    "start_time": "2024-05-17T18:01:30.658Z"
   },
   {
    "duration": 4,
    "start_time": "2024-05-17T18:02:38.137Z"
   },
   {
    "duration": 5,
    "start_time": "2024-05-17T18:04:22.316Z"
   },
   {
    "duration": 4,
    "start_time": "2024-05-17T18:04:41.602Z"
   },
   {
    "duration": 4,
    "start_time": "2024-05-17T18:07:40.390Z"
   },
   {
    "duration": 6,
    "start_time": "2024-05-17T18:13:09.595Z"
   },
   {
    "duration": 4,
    "start_time": "2024-05-17T18:13:40.758Z"
   },
   {
    "duration": 5,
    "start_time": "2024-05-17T18:13:50.522Z"
   },
   {
    "duration": 8,
    "start_time": "2024-05-17T18:15:26.037Z"
   },
   {
    "duration": 972,
    "start_time": "2024-05-17T18:16:41.683Z"
   },
   {
    "duration": 35,
    "start_time": "2024-05-17T18:18:37.871Z"
   },
   {
    "duration": 35,
    "start_time": "2024-05-17T18:18:51.502Z"
   },
   {
    "duration": 33,
    "start_time": "2024-05-17T18:20:02.962Z"
   },
   {
    "duration": 1192,
    "start_time": "2024-05-17T18:20:31.244Z"
   },
   {
    "duration": 73,
    "start_time": "2024-05-17T18:20:32.437Z"
   },
   {
    "duration": 16,
    "start_time": "2024-05-17T18:20:32.512Z"
   },
   {
    "duration": 80,
    "start_time": "2024-05-17T18:20:32.530Z"
   },
   {
    "duration": 16,
    "start_time": "2024-05-17T18:20:32.612Z"
   },
   {
    "duration": 19,
    "start_time": "2024-05-17T18:20:32.629Z"
   },
   {
    "duration": 7,
    "start_time": "2024-05-17T18:20:32.650Z"
   },
   {
    "duration": 14,
    "start_time": "2024-05-17T18:20:32.659Z"
   },
   {
    "duration": 19,
    "start_time": "2024-05-17T18:20:32.674Z"
   },
   {
    "duration": 15,
    "start_time": "2024-05-17T18:20:32.695Z"
   },
   {
    "duration": 27,
    "start_time": "2024-05-17T18:20:32.712Z"
   },
   {
    "duration": 5,
    "start_time": "2024-05-17T18:20:32.741Z"
   },
   {
    "duration": 6,
    "start_time": "2024-05-17T18:20:32.747Z"
   },
   {
    "duration": 10,
    "start_time": "2024-05-17T18:20:32.757Z"
   },
   {
    "duration": 23,
    "start_time": "2024-05-17T18:20:32.768Z"
   },
   {
    "duration": 9,
    "start_time": "2024-05-17T18:20:32.792Z"
   },
   {
    "duration": 78,
    "start_time": "2024-05-17T18:20:32.802Z"
   },
   {
    "duration": 17,
    "start_time": "2024-05-17T18:20:32.882Z"
   },
   {
    "duration": 216,
    "start_time": "2024-05-17T18:20:32.900Z"
   },
   {
    "duration": 184,
    "start_time": "2024-05-17T18:20:33.118Z"
   },
   {
    "duration": 8,
    "start_time": "2024-05-17T18:20:33.304Z"
   },
   {
    "duration": 349,
    "start_time": "2024-05-17T18:20:33.314Z"
   },
   {
    "duration": 451,
    "start_time": "2024-05-17T18:20:33.664Z"
   },
   {
    "duration": 578,
    "start_time": "2024-05-17T18:20:34.117Z"
   },
   {
    "duration": 21,
    "start_time": "2024-05-17T18:20:34.696Z"
   },
   {
    "duration": 39,
    "start_time": "2024-05-17T18:20:34.719Z"
   },
   {
    "duration": 106,
    "start_time": "2024-05-17T18:20:34.760Z"
   },
   {
    "duration": 89,
    "start_time": "2024-05-17T18:20:34.868Z"
   },
   {
    "duration": 2558,
    "start_time": "2024-05-17T18:20:34.959Z"
   },
   {
    "duration": 405,
    "start_time": "2024-05-17T18:20:37.519Z"
   },
   {
    "duration": 5,
    "start_time": "2024-05-17T18:20:37.926Z"
   },
   {
    "duration": 51,
    "start_time": "2024-05-17T18:20:37.933Z"
   },
   {
    "duration": 9,
    "start_time": "2024-05-17T18:20:37.987Z"
   },
   {
    "duration": 84,
    "start_time": "2024-05-17T18:20:37.997Z"
   },
   {
    "duration": 149,
    "start_time": "2024-05-17T18:20:38.083Z"
   },
   {
    "duration": 16,
    "start_time": "2024-05-17T18:20:38.234Z"
   },
   {
    "duration": 9,
    "start_time": "2024-05-17T18:20:38.251Z"
   },
   {
    "duration": 70,
    "start_time": "2024-05-17T18:20:38.262Z"
   },
   {
    "duration": 5,
    "start_time": "2024-05-17T18:20:38.333Z"
   },
   {
    "duration": 8,
    "start_time": "2024-05-17T18:20:38.339Z"
   },
   {
    "duration": 4,
    "start_time": "2024-05-17T18:20:38.351Z"
   },
   {
    "duration": 256,
    "start_time": "2024-05-17T18:46:03.660Z"
   },
   {
    "duration": 381,
    "start_time": "2024-05-17T18:47:18.421Z"
   },
   {
    "duration": 1674,
    "start_time": "2024-05-17T18:52:26.762Z"
   },
   {
    "duration": 822,
    "start_time": "2024-05-17T18:52:41.240Z"
   },
   {
    "duration": 73,
    "start_time": "2024-05-17T18:52:49.199Z"
   },
   {
    "duration": 63,
    "start_time": "2024-05-17T18:53:00.121Z"
   },
   {
    "duration": 1663,
    "start_time": "2024-05-17T18:53:56.122Z"
   },
   {
    "duration": 1644,
    "start_time": "2024-05-17T18:54:02.517Z"
   },
   {
    "duration": 2441,
    "start_time": "2024-05-17T18:54:12.813Z"
   },
   {
    "duration": 2619,
    "start_time": "2024-05-17T19:02:11.412Z"
   },
   {
    "duration": 2548,
    "start_time": "2024-05-17T19:02:43.670Z"
   },
   {
    "duration": 2580,
    "start_time": "2024-05-17T19:05:05.454Z"
   },
   {
    "duration": 2367,
    "start_time": "2024-05-17T19:05:29.703Z"
   },
   {
    "duration": 2595,
    "start_time": "2024-05-17T19:07:01.722Z"
   },
   {
    "duration": 2589,
    "start_time": "2024-05-17T19:09:49.550Z"
   },
   {
    "duration": 2716,
    "start_time": "2024-05-17T19:10:02.189Z"
   },
   {
    "duration": 3009,
    "start_time": "2024-05-17T19:10:13.402Z"
   },
   {
    "duration": 2016,
    "start_time": "2024-05-17T19:10:32.643Z"
   },
   {
    "duration": 1747,
    "start_time": "2024-05-17T19:13:06.009Z"
   },
   {
    "duration": 1682,
    "start_time": "2024-05-17T19:15:28.162Z"
   },
   {
    "duration": 1025,
    "start_time": "2024-05-17T19:15:47.690Z"
   },
   {
    "duration": 838,
    "start_time": "2024-05-17T19:16:11.368Z"
   },
   {
    "duration": 1141,
    "start_time": "2024-05-17T19:16:15.064Z"
   },
   {
    "duration": 1378,
    "start_time": "2024-05-17T19:16:20.468Z"
   },
   {
    "duration": 1365,
    "start_time": "2024-05-17T19:16:25.241Z"
   },
   {
    "duration": 4,
    "start_time": "2024-05-17T19:25:23.760Z"
   },
   {
    "duration": 5,
    "start_time": "2024-05-17T19:25:46.538Z"
   },
   {
    "duration": 4,
    "start_time": "2024-05-17T19:26:30.974Z"
   },
   {
    "duration": 50,
    "start_time": "2024-05-17T19:27:53.622Z"
   },
   {
    "duration": 1170,
    "start_time": "2024-05-17T19:28:02.053Z"
   },
   {
    "duration": 71,
    "start_time": "2024-05-17T19:28:03.225Z"
   },
   {
    "duration": 13,
    "start_time": "2024-05-17T19:28:03.300Z"
   },
   {
    "duration": 34,
    "start_time": "2024-05-17T19:28:03.314Z"
   },
   {
    "duration": 22,
    "start_time": "2024-05-17T19:28:03.350Z"
   },
   {
    "duration": 22,
    "start_time": "2024-05-17T19:28:03.374Z"
   },
   {
    "duration": 9,
    "start_time": "2024-05-17T19:28:03.398Z"
   },
   {
    "duration": 10,
    "start_time": "2024-05-17T19:28:03.409Z"
   },
   {
    "duration": 19,
    "start_time": "2024-05-17T19:28:03.422Z"
   },
   {
    "duration": 7,
    "start_time": "2024-05-17T19:28:03.443Z"
   },
   {
    "duration": 51,
    "start_time": "2024-05-17T19:28:03.452Z"
   },
   {
    "duration": 36,
    "start_time": "2024-05-17T19:28:03.505Z"
   },
   {
    "duration": 4,
    "start_time": "2024-05-17T19:28:03.543Z"
   },
   {
    "duration": 18,
    "start_time": "2024-05-17T19:28:03.549Z"
   },
   {
    "duration": 81,
    "start_time": "2024-05-17T19:28:03.569Z"
   },
   {
    "duration": 10,
    "start_time": "2024-05-17T19:28:03.652Z"
   },
   {
    "duration": 20,
    "start_time": "2024-05-17T19:28:03.663Z"
   },
   {
    "duration": 11,
    "start_time": "2024-05-17T19:28:03.685Z"
   },
   {
    "duration": 208,
    "start_time": "2024-05-17T19:28:03.697Z"
   },
   {
    "duration": 174,
    "start_time": "2024-05-17T19:28:03.907Z"
   },
   {
    "duration": 9,
    "start_time": "2024-05-17T19:28:04.082Z"
   },
   {
    "duration": 253,
    "start_time": "2024-05-17T19:28:04.093Z"
   },
   {
    "duration": 426,
    "start_time": "2024-05-17T19:28:04.347Z"
   },
   {
    "duration": 532,
    "start_time": "2024-05-17T19:28:04.775Z"
   },
   {
    "duration": 19,
    "start_time": "2024-05-17T19:28:05.309Z"
   },
   {
    "duration": 54,
    "start_time": "2024-05-17T19:28:05.330Z"
   },
   {
    "duration": 52,
    "start_time": "2024-05-17T19:28:05.389Z"
   },
   {
    "duration": 11,
    "start_time": "2024-05-17T19:28:05.442Z"
   },
   {
    "duration": 2488,
    "start_time": "2024-05-17T19:28:05.454Z"
   },
   {
    "duration": 422,
    "start_time": "2024-05-17T19:28:07.943Z"
   },
   {
    "duration": 10,
    "start_time": "2024-05-17T19:28:08.367Z"
   },
   {
    "duration": 95,
    "start_time": "2024-05-17T19:28:08.379Z"
   },
   {
    "duration": 33,
    "start_time": "2024-05-17T19:28:08.476Z"
   },
   {
    "duration": 3,
    "start_time": "2024-05-17T19:28:08.510Z"
   },
   {
    "duration": 82,
    "start_time": "2024-05-17T19:28:08.515Z"
   },
   {
    "duration": 25,
    "start_time": "2024-05-17T19:28:08.598Z"
   },
   {
    "duration": 17,
    "start_time": "2024-05-17T19:28:08.624Z"
   },
   {
    "duration": 19,
    "start_time": "2024-05-17T19:28:08.642Z"
   },
   {
    "duration": 1571,
    "start_time": "2024-05-17T19:28:08.663Z"
   },
   {
    "duration": 5,
    "start_time": "2024-05-17T19:28:10.236Z"
   },
   {
    "duration": 475,
    "start_time": "2024-05-17T19:28:38.459Z"
   },
   {
    "duration": 1502,
    "start_time": "2024-05-17T19:28:57.514Z"
   },
   {
    "duration": 405,
    "start_time": "2024-05-17T19:29:07.509Z"
   },
   {
    "duration": 668,
    "start_time": "2024-05-17T19:29:19.915Z"
   },
   {
    "duration": 689,
    "start_time": "2024-05-17T19:29:24.300Z"
   },
   {
    "duration": 1141,
    "start_time": "2024-05-17T19:29:56.013Z"
   },
   {
    "duration": 73,
    "start_time": "2024-05-17T19:29:57.156Z"
   },
   {
    "duration": 13,
    "start_time": "2024-05-17T19:29:57.230Z"
   },
   {
    "duration": 70,
    "start_time": "2024-05-17T19:29:57.244Z"
   },
   {
    "duration": 34,
    "start_time": "2024-05-17T19:29:57.317Z"
   },
   {
    "duration": 17,
    "start_time": "2024-05-17T19:29:57.353Z"
   },
   {
    "duration": 7,
    "start_time": "2024-05-17T19:29:57.371Z"
   },
   {
    "duration": 10,
    "start_time": "2024-05-17T19:29:57.379Z"
   },
   {
    "duration": 42,
    "start_time": "2024-05-17T19:29:57.390Z"
   },
   {
    "duration": 27,
    "start_time": "2024-05-17T19:29:57.434Z"
   },
   {
    "duration": 23,
    "start_time": "2024-05-17T19:29:57.463Z"
   },
   {
    "duration": 4,
    "start_time": "2024-05-17T19:29:57.488Z"
   },
   {
    "duration": 9,
    "start_time": "2024-05-17T19:29:57.494Z"
   },
   {
    "duration": 19,
    "start_time": "2024-05-17T19:29:57.506Z"
   },
   {
    "duration": 14,
    "start_time": "2024-05-17T19:29:57.527Z"
   },
   {
    "duration": 19,
    "start_time": "2024-05-17T19:29:57.543Z"
   },
   {
    "duration": 9,
    "start_time": "2024-05-17T19:29:57.564Z"
   },
   {
    "duration": 72,
    "start_time": "2024-05-17T19:29:57.574Z"
   },
   {
    "duration": 198,
    "start_time": "2024-05-17T19:29:57.647Z"
   },
   {
    "duration": 172,
    "start_time": "2024-05-17T19:29:57.846Z"
   },
   {
    "duration": 9,
    "start_time": "2024-05-17T19:29:58.023Z"
   },
   {
    "duration": 284,
    "start_time": "2024-05-17T19:29:58.033Z"
   },
   {
    "duration": 434,
    "start_time": "2024-05-17T19:29:58.319Z"
   },
   {
    "duration": 502,
    "start_time": "2024-05-17T19:29:58.755Z"
   },
   {
    "duration": 24,
    "start_time": "2024-05-17T19:29:59.259Z"
   },
   {
    "duration": 35,
    "start_time": "2024-05-17T19:29:59.285Z"
   },
   {
    "duration": 11,
    "start_time": "2024-05-17T19:29:59.321Z"
   },
   {
    "duration": 8,
    "start_time": "2024-05-17T19:29:59.334Z"
   },
   {
    "duration": 2511,
    "start_time": "2024-05-17T19:29:59.344Z"
   },
   {
    "duration": 403,
    "start_time": "2024-05-17T19:30:01.856Z"
   },
   {
    "duration": 13,
    "start_time": "2024-05-17T19:30:02.262Z"
   },
   {
    "duration": 73,
    "start_time": "2024-05-17T19:30:02.277Z"
   },
   {
    "duration": 178,
    "start_time": "2024-05-17T19:30:02.352Z"
   },
   {
    "duration": 104,
    "start_time": "2024-05-17T19:30:02.532Z"
   },
   {
    "duration": 46,
    "start_time": "2024-05-17T19:30:02.638Z"
   },
   {
    "duration": 18,
    "start_time": "2024-05-17T19:30:02.686Z"
   },
   {
    "duration": 38,
    "start_time": "2024-05-17T19:30:02.706Z"
   },
   {
    "duration": 11,
    "start_time": "2024-05-17T19:30:02.746Z"
   },
   {
    "duration": 909,
    "start_time": "2024-05-17T19:30:02.759Z"
   },
   {
    "duration": 856,
    "start_time": "2024-05-17T19:30:09.887Z"
   },
   {
    "duration": 1152,
    "start_time": "2024-05-17T19:30:15.214Z"
   },
   {
    "duration": 22631,
    "start_time": "2024-05-17T19:30:46.884Z"
   },
   {
    "duration": 1171,
    "start_time": "2024-05-17T19:31:20.090Z"
   },
   {
    "duration": 73,
    "start_time": "2024-05-17T19:31:21.262Z"
   },
   {
    "duration": 24,
    "start_time": "2024-05-17T19:31:21.336Z"
   },
   {
    "duration": 39,
    "start_time": "2024-05-17T19:31:21.361Z"
   },
   {
    "duration": 92,
    "start_time": "2024-05-17T19:31:21.402Z"
   },
   {
    "duration": 38,
    "start_time": "2024-05-17T19:31:21.496Z"
   },
   {
    "duration": 59,
    "start_time": "2024-05-17T19:31:21.535Z"
   },
   {
    "duration": 86,
    "start_time": "2024-05-17T19:31:21.596Z"
   },
   {
    "duration": 36,
    "start_time": "2024-05-17T19:31:21.684Z"
   },
   {
    "duration": 61,
    "start_time": "2024-05-17T19:31:21.722Z"
   },
   {
    "duration": 88,
    "start_time": "2024-05-17T19:31:21.786Z"
   },
   {
    "duration": 56,
    "start_time": "2024-05-17T19:31:21.876Z"
   },
   {
    "duration": 42,
    "start_time": "2024-05-17T19:31:21.934Z"
   },
   {
    "duration": 33,
    "start_time": "2024-05-17T19:31:21.979Z"
   },
   {
    "duration": 77,
    "start_time": "2024-05-17T19:31:22.014Z"
   },
   {
    "duration": 48,
    "start_time": "2024-05-17T19:31:22.093Z"
   },
   {
    "duration": 24,
    "start_time": "2024-05-17T19:31:22.144Z"
   },
   {
    "duration": 117,
    "start_time": "2024-05-17T19:31:22.170Z"
   },
   {
    "duration": 235,
    "start_time": "2024-05-17T19:31:22.288Z"
   },
   {
    "duration": 174,
    "start_time": "2024-05-17T19:31:22.525Z"
   },
   {
    "duration": 8,
    "start_time": "2024-05-17T19:31:22.701Z"
   },
   {
    "duration": 289,
    "start_time": "2024-05-17T19:31:22.710Z"
   },
   {
    "duration": 445,
    "start_time": "2024-05-17T19:31:23.001Z"
   },
   {
    "duration": 527,
    "start_time": "2024-05-17T19:31:23.448Z"
   },
   {
    "duration": 21,
    "start_time": "2024-05-17T19:31:23.977Z"
   },
   {
    "duration": 22,
    "start_time": "2024-05-17T19:31:23.999Z"
   },
   {
    "duration": 65,
    "start_time": "2024-05-17T19:31:24.022Z"
   },
   {
    "duration": 33,
    "start_time": "2024-05-17T19:31:24.088Z"
   },
   {
    "duration": 2552,
    "start_time": "2024-05-17T19:31:24.123Z"
   },
   {
    "duration": 405,
    "start_time": "2024-05-17T19:31:26.677Z"
   },
   {
    "duration": 6,
    "start_time": "2024-05-17T19:31:27.085Z"
   },
   {
    "duration": 122,
    "start_time": "2024-05-17T19:31:27.093Z"
   },
   {
    "duration": 60,
    "start_time": "2024-05-17T19:31:27.217Z"
   },
   {
    "duration": 44,
    "start_time": "2024-05-17T19:31:27.279Z"
   },
   {
    "duration": 52,
    "start_time": "2024-05-17T19:31:27.325Z"
   },
   {
    "duration": 18,
    "start_time": "2024-05-17T19:31:27.379Z"
   },
   {
    "duration": 59,
    "start_time": "2024-05-17T19:31:27.398Z"
   },
   {
    "duration": 62,
    "start_time": "2024-05-17T19:31:27.458Z"
   },
   {
    "duration": 1266,
    "start_time": "2024-05-17T19:31:27.522Z"
   },
   {
    "duration": 127,
    "start_time": "2024-05-17T19:31:28.790Z"
   },
   {
    "duration": 1930,
    "start_time": "2024-05-17T19:31:45.344Z"
   },
   {
    "duration": 5,
    "start_time": "2024-05-17T19:32:06.994Z"
   },
   {
    "duration": 5,
    "start_time": "2024-05-17T19:32:14.026Z"
   },
   {
    "duration": 97,
    "start_time": "2024-05-17T19:33:19.077Z"
   },
   {
    "duration": 1462,
    "start_time": "2024-05-17T19:33:25.140Z"
   },
   {
    "duration": 1489,
    "start_time": "2024-05-17T19:34:11.620Z"
   },
   {
    "duration": 14139,
    "start_time": "2024-05-17T19:36:10.564Z"
   },
   {
    "duration": 1191,
    "start_time": "2024-05-17T19:36:29.463Z"
   },
   {
    "duration": 79,
    "start_time": "2024-05-17T19:36:30.656Z"
   },
   {
    "duration": 15,
    "start_time": "2024-05-17T19:36:30.740Z"
   },
   {
    "duration": 53,
    "start_time": "2024-05-17T19:36:30.757Z"
   },
   {
    "duration": 226,
    "start_time": "2024-05-17T19:36:30.812Z"
   },
   {
    "duration": 59,
    "start_time": "2024-05-17T19:36:31.040Z"
   },
   {
    "duration": 159,
    "start_time": "2024-05-17T19:36:31.101Z"
   },
   {
    "duration": 180,
    "start_time": "2024-05-17T19:36:31.261Z"
   },
   {
    "duration": 76,
    "start_time": "2024-05-17T19:36:31.444Z"
   },
   {
    "duration": 82,
    "start_time": "2024-05-17T19:36:31.521Z"
   },
   {
    "duration": 133,
    "start_time": "2024-05-17T19:36:31.605Z"
   },
   {
    "duration": 17,
    "start_time": "2024-05-17T19:36:31.740Z"
   },
   {
    "duration": 114,
    "start_time": "2024-05-17T19:36:31.759Z"
   },
   {
    "duration": 37,
    "start_time": "2024-05-17T19:36:31.875Z"
   },
   {
    "duration": 152,
    "start_time": "2024-05-17T19:36:31.914Z"
   },
   {
    "duration": 48,
    "start_time": "2024-05-17T19:36:32.068Z"
   },
   {
    "duration": 6,
    "start_time": "2024-05-17T19:36:32.119Z"
   },
   {
    "duration": 35,
    "start_time": "2024-05-17T19:36:32.127Z"
   },
   {
    "duration": 215,
    "start_time": "2024-05-17T19:36:32.164Z"
   },
   {
    "duration": 184,
    "start_time": "2024-05-17T19:36:32.381Z"
   },
   {
    "duration": 14,
    "start_time": "2024-05-17T19:36:32.567Z"
   },
   {
    "duration": 343,
    "start_time": "2024-05-17T19:36:32.583Z"
   },
   {
    "duration": 432,
    "start_time": "2024-05-17T19:36:32.927Z"
   },
   {
    "duration": 518,
    "start_time": "2024-05-17T19:36:33.361Z"
   },
   {
    "duration": 23,
    "start_time": "2024-05-17T19:36:33.882Z"
   },
   {
    "duration": 11,
    "start_time": "2024-05-17T19:36:33.906Z"
   },
   {
    "duration": 23,
    "start_time": "2024-05-17T19:36:33.921Z"
   },
   {
    "duration": 28,
    "start_time": "2024-05-17T19:36:33.945Z"
   },
   {
    "duration": 2506,
    "start_time": "2024-05-17T19:36:33.975Z"
   },
   {
    "duration": 393,
    "start_time": "2024-05-17T19:36:36.483Z"
   },
   {
    "duration": 5,
    "start_time": "2024-05-17T19:36:36.878Z"
   },
   {
    "duration": 90,
    "start_time": "2024-05-17T19:36:36.885Z"
   },
   {
    "duration": 36,
    "start_time": "2024-05-17T19:36:36.977Z"
   },
   {
    "duration": 4,
    "start_time": "2024-05-17T19:36:37.015Z"
   },
   {
    "duration": 6,
    "start_time": "2024-05-17T19:36:37.021Z"
   },
   {
    "duration": 14,
    "start_time": "2024-05-17T19:36:37.029Z"
   },
   {
    "duration": 6,
    "start_time": "2024-05-17T19:36:37.046Z"
   },
   {
    "duration": 23,
    "start_time": "2024-05-17T19:36:37.054Z"
   },
   {
    "duration": 125,
    "start_time": "2024-05-17T19:36:37.079Z"
   },
   {
    "duration": 0,
    "start_time": "2024-05-17T19:36:37.206Z"
   },
   {
    "duration": 1588,
    "start_time": "2024-05-17T19:37:02.087Z"
   },
   {
    "duration": 5,
    "start_time": "2024-05-17T19:37:11.534Z"
   },
   {
    "duration": 41,
    "start_time": "2024-05-17T19:37:20.446Z"
   },
   {
    "duration": 1492,
    "start_time": "2024-05-17T19:37:50.539Z"
   },
   {
    "duration": 1500,
    "start_time": "2024-05-17T19:38:16.640Z"
   },
   {
    "duration": 1464,
    "start_time": "2024-05-17T19:39:01.311Z"
   },
   {
    "duration": 2039,
    "start_time": "2024-05-17T19:40:10.325Z"
   },
   {
    "duration": 2050,
    "start_time": "2024-05-17T19:41:34.971Z"
   },
   {
    "duration": 1933,
    "start_time": "2024-05-17T19:41:58.698Z"
   },
   {
    "duration": 10,
    "start_time": "2024-05-17T19:52:08.848Z"
   },
   {
    "duration": 10,
    "start_time": "2024-05-17T19:52:34.080Z"
   },
   {
    "duration": 123,
    "start_time": "2024-05-17T19:54:52.372Z"
   },
   {
    "duration": 6,
    "start_time": "2024-05-17T19:55:08.355Z"
   },
   {
    "duration": 12,
    "start_time": "2024-05-17T19:58:48.901Z"
   },
   {
    "duration": 9,
    "start_time": "2024-05-17T19:58:54.315Z"
   },
   {
    "duration": 11,
    "start_time": "2024-05-17T19:59:11.412Z"
   },
   {
    "duration": 12,
    "start_time": "2024-05-17T19:59:27.411Z"
   },
   {
    "duration": 13,
    "start_time": "2024-05-17T20:01:27.608Z"
   },
   {
    "duration": 3,
    "start_time": "2024-05-17T20:01:46.325Z"
   },
   {
    "duration": 14,
    "start_time": "2024-05-17T20:01:47.785Z"
   },
   {
    "duration": 14,
    "start_time": "2024-05-17T20:01:55.611Z"
   },
   {
    "duration": 2065,
    "start_time": "2024-05-17T20:02:23.600Z"
   },
   {
    "duration": 139,
    "start_time": "2024-05-17T20:02:28.440Z"
   },
   {
    "duration": 152,
    "start_time": "2024-05-17T20:02:46.146Z"
   },
   {
    "duration": 125,
    "start_time": "2024-05-17T20:03:07.563Z"
   },
   {
    "duration": 161,
    "start_time": "2024-05-17T20:03:20.405Z"
   },
   {
    "duration": 148,
    "start_time": "2024-05-17T20:03:33.511Z"
   },
   {
    "duration": 190,
    "start_time": "2024-05-17T20:04:06.268Z"
   },
   {
    "duration": 15,
    "start_time": "2024-05-17T20:04:27.595Z"
   },
   {
    "duration": 13,
    "start_time": "2024-05-17T20:04:39.675Z"
   },
   {
    "duration": 13,
    "start_time": "2024-05-17T20:04:59.767Z"
   },
   {
    "duration": 4,
    "start_time": "2024-05-17T20:09:43.478Z"
   },
   {
    "duration": 16,
    "start_time": "2024-05-17T20:09:58.190Z"
   },
   {
    "duration": 3,
    "start_time": "2024-05-17T20:11:46.542Z"
   },
   {
    "duration": 120,
    "start_time": "2024-05-17T20:11:48.295Z"
   },
   {
    "duration": 118,
    "start_time": "2024-05-17T20:12:11.049Z"
   },
   {
    "duration": 4,
    "start_time": "2024-05-17T20:19:01.508Z"
   },
   {
    "duration": 143,
    "start_time": "2024-05-17T20:19:04.419Z"
   },
   {
    "duration": 4,
    "start_time": "2024-05-17T20:19:27.331Z"
   },
   {
    "duration": 5,
    "start_time": "2024-05-17T20:19:37.470Z"
   },
   {
    "duration": 159,
    "start_time": "2024-05-17T20:20:05.109Z"
   },
   {
    "duration": 3,
    "start_time": "2024-05-17T20:20:15.363Z"
   },
   {
    "duration": 333,
    "start_time": "2024-05-17T20:20:16.724Z"
   },
   {
    "duration": 9,
    "start_time": "2024-05-17T20:49:13.780Z"
   },
   {
    "duration": 11,
    "start_time": "2024-05-17T20:49:19.418Z"
   },
   {
    "duration": 7,
    "start_time": "2024-05-17T20:49:33.715Z"
   },
   {
    "duration": 27,
    "start_time": "2024-05-17T20:52:04.347Z"
   },
   {
    "duration": 21,
    "start_time": "2024-05-17T20:52:27.385Z"
   },
   {
    "duration": 28,
    "start_time": "2024-05-17T20:52:31.315Z"
   },
   {
    "duration": 31,
    "start_time": "2024-05-17T20:53:13.409Z"
   },
   {
    "duration": 37,
    "start_time": "2024-05-17T20:54:38.409Z"
   },
   {
    "duration": 1193,
    "start_time": "2024-05-17T20:54:53.768Z"
   },
   {
    "duration": 75,
    "start_time": "2024-05-17T20:54:54.964Z"
   },
   {
    "duration": 18,
    "start_time": "2024-05-17T20:54:55.041Z"
   },
   {
    "duration": 21,
    "start_time": "2024-05-17T20:54:55.061Z"
   },
   {
    "duration": 10,
    "start_time": "2024-05-17T20:54:55.085Z"
   },
   {
    "duration": 17,
    "start_time": "2024-05-17T20:54:55.097Z"
   },
   {
    "duration": 8,
    "start_time": "2024-05-17T20:54:55.116Z"
   },
   {
    "duration": 12,
    "start_time": "2024-05-17T20:54:55.126Z"
   },
   {
    "duration": 37,
    "start_time": "2024-05-17T20:54:55.140Z"
   },
   {
    "duration": 29,
    "start_time": "2024-05-17T20:54:55.179Z"
   },
   {
    "duration": 34,
    "start_time": "2024-05-17T20:54:55.210Z"
   },
   {
    "duration": 5,
    "start_time": "2024-05-17T20:54:55.246Z"
   },
   {
    "duration": 6,
    "start_time": "2024-05-17T20:54:55.253Z"
   },
   {
    "duration": 14,
    "start_time": "2024-05-17T20:54:55.263Z"
   },
   {
    "duration": 15,
    "start_time": "2024-05-17T20:54:55.278Z"
   },
   {
    "duration": 8,
    "start_time": "2024-05-17T20:54:55.295Z"
   },
   {
    "duration": 6,
    "start_time": "2024-05-17T20:54:55.305Z"
   },
   {
    "duration": 44,
    "start_time": "2024-05-17T20:54:55.313Z"
   },
   {
    "duration": 288,
    "start_time": "2024-05-17T20:54:55.358Z"
   },
   {
    "duration": 174,
    "start_time": "2024-05-17T20:54:55.648Z"
   },
   {
    "duration": 7,
    "start_time": "2024-05-17T20:54:55.825Z"
   },
   {
    "duration": 324,
    "start_time": "2024-05-17T20:54:55.835Z"
   },
   {
    "duration": 452,
    "start_time": "2024-05-17T20:54:56.160Z"
   },
   {
    "duration": 548,
    "start_time": "2024-05-17T20:54:56.614Z"
   },
   {
    "duration": 11,
    "start_time": "2024-05-17T20:54:57.164Z"
   },
   {
    "duration": 33,
    "start_time": "2024-05-17T20:54:57.177Z"
   },
   {
    "duration": 10,
    "start_time": "2024-05-17T20:54:57.211Z"
   },
   {
    "duration": 34,
    "start_time": "2024-05-17T20:54:57.222Z"
   },
   {
    "duration": 11,
    "start_time": "2024-05-17T20:54:57.258Z"
   },
   {
    "duration": 2524,
    "start_time": "2024-05-17T20:54:57.272Z"
   },
   {
    "duration": 413,
    "start_time": "2024-05-17T20:54:59.798Z"
   },
   {
    "duration": 7,
    "start_time": "2024-05-17T20:55:00.213Z"
   },
   {
    "duration": 78,
    "start_time": "2024-05-17T20:55:00.222Z"
   },
   {
    "duration": 185,
    "start_time": "2024-05-17T20:55:00.302Z"
   },
   {
    "duration": 140,
    "start_time": "2024-05-17T20:55:00.489Z"
   },
   {
    "duration": 215,
    "start_time": "2024-05-17T20:55:00.630Z"
   },
   {
    "duration": 73,
    "start_time": "2024-05-17T20:55:00.846Z"
   },
   {
    "duration": 256,
    "start_time": "2024-05-17T20:55:00.921Z"
   },
   {
    "duration": 56,
    "start_time": "2024-05-17T20:55:01.179Z"
   },
   {
    "duration": 2019,
    "start_time": "2024-05-17T20:55:01.237Z"
   },
   {
    "duration": 12,
    "start_time": "2024-05-17T20:55:03.260Z"
   },
   {
    "duration": 182,
    "start_time": "2024-05-17T20:55:03.275Z"
   },
   {
    "duration": 1024,
    "start_time": "2024-05-17T20:56:24.039Z"
   },
   {
    "duration": 16,
    "start_time": "2024-05-17T20:56:55.977Z"
   },
   {
    "duration": 190,
    "start_time": "2024-05-17T20:57:46.190Z"
   },
   {
    "duration": 35,
    "start_time": "2024-05-17T20:59:11.835Z"
   },
   {
    "duration": 44,
    "start_time": "2024-05-17T20:59:24.369Z"
   },
   {
    "duration": 2009,
    "start_time": "2024-05-17T21:13:31.841Z"
   },
   {
    "duration": 1187,
    "start_time": "2024-05-17T21:13:41.740Z"
   },
   {
    "duration": 74,
    "start_time": "2024-05-17T21:13:42.929Z"
   },
   {
    "duration": 13,
    "start_time": "2024-05-17T21:13:43.004Z"
   },
   {
    "duration": 145,
    "start_time": "2024-05-17T21:13:43.020Z"
   },
   {
    "duration": 52,
    "start_time": "2024-05-17T21:13:43.167Z"
   },
   {
    "duration": 65,
    "start_time": "2024-05-17T21:13:43.221Z"
   },
   {
    "duration": 41,
    "start_time": "2024-05-17T21:13:43.288Z"
   },
   {
    "duration": 18,
    "start_time": "2024-05-17T21:13:43.331Z"
   },
   {
    "duration": 14,
    "start_time": "2024-05-17T21:13:43.351Z"
   },
   {
    "duration": 43,
    "start_time": "2024-05-17T21:13:43.369Z"
   },
   {
    "duration": 127,
    "start_time": "2024-05-17T21:13:43.414Z"
   },
   {
    "duration": 73,
    "start_time": "2024-05-17T21:13:43.543Z"
   },
   {
    "duration": 8,
    "start_time": "2024-05-17T21:13:43.618Z"
   },
   {
    "duration": 28,
    "start_time": "2024-05-17T21:13:43.628Z"
   },
   {
    "duration": 49,
    "start_time": "2024-05-17T21:13:43.658Z"
   },
   {
    "duration": 36,
    "start_time": "2024-05-17T21:13:43.709Z"
   },
   {
    "duration": 9,
    "start_time": "2024-05-17T21:13:43.747Z"
   },
   {
    "duration": 40,
    "start_time": "2024-05-17T21:13:43.758Z"
   },
   {
    "duration": 321,
    "start_time": "2024-05-17T21:13:43.800Z"
   },
   {
    "duration": 227,
    "start_time": "2024-05-17T21:13:44.123Z"
   },
   {
    "duration": 9,
    "start_time": "2024-05-17T21:13:44.352Z"
   },
   {
    "duration": 302,
    "start_time": "2024-05-17T21:13:44.363Z"
   },
   {
    "duration": 443,
    "start_time": "2024-05-17T21:13:44.667Z"
   },
   {
    "duration": 547,
    "start_time": "2024-05-17T21:13:45.111Z"
   },
   {
    "duration": 15,
    "start_time": "2024-05-17T21:13:45.660Z"
   },
   {
    "duration": 42,
    "start_time": "2024-05-17T21:13:45.677Z"
   },
   {
    "duration": 15,
    "start_time": "2024-05-17T21:13:45.720Z"
   },
   {
    "duration": 42,
    "start_time": "2024-05-17T21:13:45.740Z"
   },
   {
    "duration": 16,
    "start_time": "2024-05-17T21:13:45.784Z"
   },
   {
    "duration": 2709,
    "start_time": "2024-05-17T21:13:45.802Z"
   },
   {
    "duration": 433,
    "start_time": "2024-05-17T21:13:48.514Z"
   },
   {
    "duration": 7,
    "start_time": "2024-05-17T21:13:48.949Z"
   },
   {
    "duration": 50,
    "start_time": "2024-05-17T21:13:48.958Z"
   },
   {
    "duration": 37,
    "start_time": "2024-05-17T21:13:49.010Z"
   },
   {
    "duration": 101,
    "start_time": "2024-05-17T21:13:49.049Z"
   },
   {
    "duration": 5,
    "start_time": "2024-05-17T21:13:49.152Z"
   },
   {
    "duration": 16,
    "start_time": "2024-05-17T21:13:49.159Z"
   },
   {
    "duration": 10,
    "start_time": "2024-05-17T21:13:49.176Z"
   },
   {
    "duration": 35,
    "start_time": "2024-05-17T21:13:49.187Z"
   },
   {
    "duration": 120,
    "start_time": "2024-05-17T21:13:49.224Z"
   },
   {
    "duration": 0,
    "start_time": "2024-05-17T21:13:49.346Z"
   },
   {
    "duration": 0,
    "start_time": "2024-05-17T21:13:49.347Z"
   },
   {
    "duration": 1267,
    "start_time": "2024-05-17T21:14:26.874Z"
   },
   {
    "duration": 85,
    "start_time": "2024-05-17T21:14:28.143Z"
   },
   {
    "duration": 19,
    "start_time": "2024-05-17T21:14:28.231Z"
   },
   {
    "duration": 15,
    "start_time": "2024-05-17T21:14:28.251Z"
   },
   {
    "duration": 12,
    "start_time": "2024-05-17T21:14:28.270Z"
   },
   {
    "duration": 16,
    "start_time": "2024-05-17T21:14:28.284Z"
   },
   {
    "duration": 9,
    "start_time": "2024-05-17T21:14:28.302Z"
   },
   {
    "duration": 24,
    "start_time": "2024-05-17T21:14:28.313Z"
   },
   {
    "duration": 11,
    "start_time": "2024-05-17T21:14:28.339Z"
   },
   {
    "duration": 25,
    "start_time": "2024-05-17T21:14:28.352Z"
   },
   {
    "duration": 26,
    "start_time": "2024-05-17T21:14:28.379Z"
   },
   {
    "duration": 11,
    "start_time": "2024-05-17T21:14:28.407Z"
   },
   {
    "duration": 41,
    "start_time": "2024-05-17T21:14:28.420Z"
   },
   {
    "duration": 21,
    "start_time": "2024-05-17T21:14:28.466Z"
   },
   {
    "duration": 25,
    "start_time": "2024-05-17T21:14:28.489Z"
   },
   {
    "duration": 12,
    "start_time": "2024-05-17T21:14:28.516Z"
   },
   {
    "duration": 18,
    "start_time": "2024-05-17T21:14:28.530Z"
   },
   {
    "duration": 93,
    "start_time": "2024-05-17T21:14:28.550Z"
   },
   {
    "duration": 232,
    "start_time": "2024-05-17T21:14:28.645Z"
   },
   {
    "duration": 174,
    "start_time": "2024-05-17T21:14:28.879Z"
   },
   {
    "duration": 19,
    "start_time": "2024-05-17T21:14:29.055Z"
   },
   {
    "duration": 343,
    "start_time": "2024-05-17T21:14:29.075Z"
   },
   {
    "duration": 471,
    "start_time": "2024-05-17T21:14:29.421Z"
   },
   {
    "duration": 546,
    "start_time": "2024-05-17T21:14:29.893Z"
   },
   {
    "duration": 8,
    "start_time": "2024-05-17T21:14:30.441Z"
   },
   {
    "duration": 214,
    "start_time": "2024-05-17T21:14:30.451Z"
   },
   {
    "duration": 218,
    "start_time": "2024-05-17T21:14:30.667Z"
   },
   {
    "duration": 91,
    "start_time": "2024-05-17T21:14:30.888Z"
   },
   {
    "duration": 108,
    "start_time": "2024-05-17T21:14:30.981Z"
   },
   {
    "duration": 2746,
    "start_time": "2024-05-17T21:14:31.090Z"
   },
   {
    "duration": 476,
    "start_time": "2024-05-17T21:14:33.838Z"
   },
   {
    "duration": 7,
    "start_time": "2024-05-17T21:14:34.316Z"
   },
   {
    "duration": 58,
    "start_time": "2024-05-17T21:14:34.325Z"
   },
   {
    "duration": 37,
    "start_time": "2024-05-17T21:14:34.385Z"
   },
   {
    "duration": 2,
    "start_time": "2024-05-17T21:14:34.424Z"
   },
   {
    "duration": 12,
    "start_time": "2024-05-17T21:14:34.428Z"
   },
   {
    "duration": 26,
    "start_time": "2024-05-17T21:14:34.441Z"
   },
   {
    "duration": 42,
    "start_time": "2024-05-17T21:14:34.468Z"
   },
   {
    "duration": 24,
    "start_time": "2024-05-17T21:14:34.512Z"
   },
   {
    "duration": 2119,
    "start_time": "2024-05-17T21:14:34.538Z"
   },
   {
    "duration": 4,
    "start_time": "2024-05-17T21:14:36.660Z"
   },
   {
    "duration": 270,
    "start_time": "2024-05-17T21:14:36.665Z"
   },
   {
    "duration": 2176,
    "start_time": "2024-05-17T21:15:32.224Z"
   },
   {
    "duration": 2257,
    "start_time": "2024-05-17T21:15:36.929Z"
   },
   {
    "duration": 1197,
    "start_time": "2024-05-17T21:15:50.747Z"
   },
   {
    "duration": 72,
    "start_time": "2024-05-17T21:15:51.946Z"
   },
   {
    "duration": 17,
    "start_time": "2024-05-17T21:15:52.020Z"
   },
   {
    "duration": 46,
    "start_time": "2024-05-17T21:15:52.040Z"
   },
   {
    "duration": 45,
    "start_time": "2024-05-17T21:15:52.088Z"
   },
   {
    "duration": 45,
    "start_time": "2024-05-17T21:15:52.135Z"
   },
   {
    "duration": 35,
    "start_time": "2024-05-17T21:15:52.182Z"
   },
   {
    "duration": 36,
    "start_time": "2024-05-17T21:15:52.219Z"
   },
   {
    "duration": 21,
    "start_time": "2024-05-17T21:15:52.257Z"
   },
   {
    "duration": 21,
    "start_time": "2024-05-17T21:15:52.282Z"
   },
   {
    "duration": 44,
    "start_time": "2024-05-17T21:15:52.305Z"
   },
   {
    "duration": 13,
    "start_time": "2024-05-17T21:15:52.351Z"
   },
   {
    "duration": 111,
    "start_time": "2024-05-17T21:15:52.366Z"
   },
   {
    "duration": 47,
    "start_time": "2024-05-17T21:15:52.479Z"
   },
   {
    "duration": 107,
    "start_time": "2024-05-17T21:15:52.527Z"
   },
   {
    "duration": 31,
    "start_time": "2024-05-17T21:15:52.636Z"
   },
   {
    "duration": 136,
    "start_time": "2024-05-17T21:15:52.670Z"
   },
   {
    "duration": 56,
    "start_time": "2024-05-17T21:15:52.808Z"
   },
   {
    "duration": 227,
    "start_time": "2024-05-17T21:15:52.866Z"
   },
   {
    "duration": 180,
    "start_time": "2024-05-17T21:15:53.095Z"
   },
   {
    "duration": 10,
    "start_time": "2024-05-17T21:15:53.277Z"
   },
   {
    "duration": 298,
    "start_time": "2024-05-17T21:15:53.289Z"
   },
   {
    "duration": 436,
    "start_time": "2024-05-17T21:15:53.589Z"
   },
   {
    "duration": 599,
    "start_time": "2024-05-17T21:15:54.027Z"
   },
   {
    "duration": 8,
    "start_time": "2024-05-17T21:15:54.628Z"
   },
   {
    "duration": 58,
    "start_time": "2024-05-17T21:15:54.637Z"
   },
   {
    "duration": 10,
    "start_time": "2024-05-17T21:15:54.697Z"
   },
   {
    "duration": 125,
    "start_time": "2024-05-17T21:15:54.711Z"
   },
   {
    "duration": 9,
    "start_time": "2024-05-17T21:15:54.838Z"
   },
   {
    "duration": 2781,
    "start_time": "2024-05-17T21:15:54.848Z"
   },
   {
    "duration": 424,
    "start_time": "2024-05-17T21:15:57.632Z"
   },
   {
    "duration": 7,
    "start_time": "2024-05-17T21:15:58.058Z"
   },
   {
    "duration": 48,
    "start_time": "2024-05-17T21:15:58.073Z"
   },
   {
    "duration": 67,
    "start_time": "2024-05-17T21:15:58.124Z"
   },
   {
    "duration": 3,
    "start_time": "2024-05-17T21:15:58.194Z"
   },
   {
    "duration": 11,
    "start_time": "2024-05-17T21:15:58.198Z"
   },
   {
    "duration": 36,
    "start_time": "2024-05-17T21:15:58.210Z"
   },
   {
    "duration": 40,
    "start_time": "2024-05-17T21:15:58.248Z"
   },
   {
    "duration": 26,
    "start_time": "2024-05-17T21:15:58.290Z"
   },
   {
    "duration": 2272,
    "start_time": "2024-05-17T21:15:58.318Z"
   },
   {
    "duration": 4,
    "start_time": "2024-05-17T21:16:00.592Z"
   },
   {
    "duration": 468,
    "start_time": "2024-05-17T21:16:00.598Z"
   },
   {
    "duration": 1171,
    "start_time": "2024-05-17T21:17:13.581Z"
   },
   {
    "duration": 76,
    "start_time": "2024-05-17T21:17:14.754Z"
   },
   {
    "duration": 26,
    "start_time": "2024-05-17T21:17:14.831Z"
   },
   {
    "duration": 11,
    "start_time": "2024-05-17T21:17:14.859Z"
   },
   {
    "duration": 22,
    "start_time": "2024-05-17T21:17:14.873Z"
   },
   {
    "duration": 14,
    "start_time": "2024-05-17T21:17:14.897Z"
   },
   {
    "duration": 6,
    "start_time": "2024-05-17T21:17:14.913Z"
   },
   {
    "duration": 26,
    "start_time": "2024-05-17T21:17:14.921Z"
   },
   {
    "duration": 7,
    "start_time": "2024-05-17T21:17:14.949Z"
   },
   {
    "duration": 13,
    "start_time": "2024-05-17T21:17:14.958Z"
   },
   {
    "duration": 27,
    "start_time": "2024-05-17T21:17:14.973Z"
   },
   {
    "duration": 6,
    "start_time": "2024-05-17T21:17:15.002Z"
   },
   {
    "duration": 42,
    "start_time": "2024-05-17T21:17:15.010Z"
   },
   {
    "duration": 144,
    "start_time": "2024-05-17T21:17:15.056Z"
   },
   {
    "duration": 30,
    "start_time": "2024-05-17T21:17:15.202Z"
   },
   {
    "duration": 26,
    "start_time": "2024-05-17T21:17:15.234Z"
   },
   {
    "duration": 18,
    "start_time": "2024-05-17T21:17:15.262Z"
   },
   {
    "duration": 41,
    "start_time": "2024-05-17T21:17:15.282Z"
   },
   {
    "duration": 278,
    "start_time": "2024-05-17T21:17:15.324Z"
   },
   {
    "duration": 249,
    "start_time": "2024-05-17T21:17:15.603Z"
   },
   {
    "duration": 21,
    "start_time": "2024-05-17T21:17:15.854Z"
   },
   {
    "duration": 299,
    "start_time": "2024-05-17T21:17:15.877Z"
   },
   {
    "duration": 436,
    "start_time": "2024-05-17T21:17:16.188Z"
   },
   {
    "duration": 528,
    "start_time": "2024-05-17T21:17:16.626Z"
   },
   {
    "duration": 18,
    "start_time": "2024-05-17T21:17:17.156Z"
   },
   {
    "duration": 31,
    "start_time": "2024-05-17T21:17:17.175Z"
   },
   {
    "duration": 15,
    "start_time": "2024-05-17T21:17:17.209Z"
   },
   {
    "duration": 41,
    "start_time": "2024-05-17T21:17:17.226Z"
   },
   {
    "duration": 10,
    "start_time": "2024-05-17T21:17:17.273Z"
   },
   {
    "duration": 2584,
    "start_time": "2024-05-17T21:17:17.285Z"
   },
   {
    "duration": 422,
    "start_time": "2024-05-17T21:17:19.874Z"
   },
   {
    "duration": 7,
    "start_time": "2024-05-17T21:17:20.298Z"
   },
   {
    "duration": 49,
    "start_time": "2024-05-17T21:17:20.308Z"
   },
   {
    "duration": 63,
    "start_time": "2024-05-17T21:17:20.359Z"
   },
   {
    "duration": 12,
    "start_time": "2024-05-17T21:17:20.424Z"
   },
   {
    "duration": 85,
    "start_time": "2024-05-17T21:17:20.438Z"
   },
   {
    "duration": 40,
    "start_time": "2024-05-17T21:17:20.525Z"
   },
   {
    "duration": 92,
    "start_time": "2024-05-17T21:17:20.567Z"
   },
   {
    "duration": 41,
    "start_time": "2024-05-17T21:17:20.661Z"
   },
   {
    "duration": 2202,
    "start_time": "2024-05-17T21:17:20.703Z"
   },
   {
    "duration": 3,
    "start_time": "2024-05-17T21:17:22.909Z"
   },
   {
    "duration": 192,
    "start_time": "2024-05-17T21:17:22.914Z"
   },
   {
    "duration": 1191,
    "start_time": "2024-05-17T21:18:06.866Z"
   },
   {
    "duration": 79,
    "start_time": "2024-05-17T21:18:08.060Z"
   },
   {
    "duration": 16,
    "start_time": "2024-05-17T21:18:08.141Z"
   },
   {
    "duration": 17,
    "start_time": "2024-05-17T21:18:08.159Z"
   },
   {
    "duration": 18,
    "start_time": "2024-05-17T21:18:08.178Z"
   },
   {
    "duration": 29,
    "start_time": "2024-05-17T21:18:08.199Z"
   },
   {
    "duration": 9,
    "start_time": "2024-05-17T21:18:08.230Z"
   },
   {
    "duration": 20,
    "start_time": "2024-05-17T21:18:08.241Z"
   },
   {
    "duration": 17,
    "start_time": "2024-05-17T21:18:08.263Z"
   },
   {
    "duration": 16,
    "start_time": "2024-05-17T21:18:08.283Z"
   },
   {
    "duration": 28,
    "start_time": "2024-05-17T21:18:08.302Z"
   },
   {
    "duration": 5,
    "start_time": "2024-05-17T21:18:08.331Z"
   },
   {
    "duration": 8,
    "start_time": "2024-05-17T21:18:08.338Z"
   },
   {
    "duration": 27,
    "start_time": "2024-05-17T21:18:08.347Z"
   },
   {
    "duration": 21,
    "start_time": "2024-05-17T21:18:08.377Z"
   },
   {
    "duration": 12,
    "start_time": "2024-05-17T21:18:08.401Z"
   },
   {
    "duration": 21,
    "start_time": "2024-05-17T21:18:08.416Z"
   },
   {
    "duration": 50,
    "start_time": "2024-05-17T21:18:08.439Z"
   },
   {
    "duration": 231,
    "start_time": "2024-05-17T21:18:08.491Z"
   },
   {
    "duration": 224,
    "start_time": "2024-05-17T21:18:08.725Z"
   },
   {
    "duration": 7,
    "start_time": "2024-05-17T21:18:08.951Z"
   },
   {
    "duration": 361,
    "start_time": "2024-05-17T21:18:08.960Z"
   },
   {
    "duration": 459,
    "start_time": "2024-05-17T21:18:09.323Z"
   },
   {
    "duration": 574,
    "start_time": "2024-05-17T21:18:09.784Z"
   },
   {
    "duration": 20,
    "start_time": "2024-05-17T21:18:10.360Z"
   },
   {
    "duration": 31,
    "start_time": "2024-05-17T21:18:10.383Z"
   },
   {
    "duration": 10,
    "start_time": "2024-05-17T21:18:10.415Z"
   },
   {
    "duration": 23,
    "start_time": "2024-05-17T21:18:10.428Z"
   },
   {
    "duration": 21,
    "start_time": "2024-05-17T21:18:10.453Z"
   },
   {
    "duration": 2619,
    "start_time": "2024-05-17T21:18:10.477Z"
   },
   {
    "duration": 438,
    "start_time": "2024-05-17T21:18:13.099Z"
   },
   {
    "duration": 7,
    "start_time": "2024-05-17T21:18:13.538Z"
   },
   {
    "duration": 69,
    "start_time": "2024-05-17T21:18:13.548Z"
   },
   {
    "duration": 59,
    "start_time": "2024-05-17T21:18:13.619Z"
   },
   {
    "duration": 3,
    "start_time": "2024-05-17T21:18:13.679Z"
   },
   {
    "duration": 74,
    "start_time": "2024-05-17T21:18:13.684Z"
   },
   {
    "duration": 23,
    "start_time": "2024-05-17T21:18:13.760Z"
   },
   {
    "duration": 10,
    "start_time": "2024-05-17T21:18:13.785Z"
   },
   {
    "duration": 11,
    "start_time": "2024-05-17T21:18:13.797Z"
   },
   {
    "duration": 2112,
    "start_time": "2024-05-17T21:18:13.810Z"
   },
   {
    "duration": 3,
    "start_time": "2024-05-17T21:18:15.924Z"
   },
   {
    "duration": 259,
    "start_time": "2024-05-17T21:18:15.929Z"
   },
   {
    "duration": 1117,
    "start_time": "2024-05-18T05:46:59.038Z"
   },
   {
    "duration": 312,
    "start_time": "2024-05-18T05:47:00.157Z"
   },
   {
    "duration": 12,
    "start_time": "2024-05-18T05:47:00.470Z"
   },
   {
    "duration": 237,
    "start_time": "2024-05-18T05:47:00.484Z"
   },
   {
    "duration": 151,
    "start_time": "2024-05-18T05:47:00.724Z"
   },
   {
    "duration": 144,
    "start_time": "2024-05-18T05:47:00.876Z"
   },
   {
    "duration": 45,
    "start_time": "2024-05-18T05:47:01.022Z"
   },
   {
    "duration": 74,
    "start_time": "2024-05-18T05:47:01.068Z"
   },
   {
    "duration": 102,
    "start_time": "2024-05-18T05:47:01.144Z"
   },
   {
    "duration": 114,
    "start_time": "2024-05-18T05:47:01.248Z"
   },
   {
    "duration": 61,
    "start_time": "2024-05-18T05:47:01.364Z"
   },
   {
    "duration": 44,
    "start_time": "2024-05-18T05:47:01.427Z"
   },
   {
    "duration": 59,
    "start_time": "2024-05-18T05:47:01.473Z"
   },
   {
    "duration": 79,
    "start_time": "2024-05-18T05:47:01.536Z"
   },
   {
    "duration": 118,
    "start_time": "2024-05-18T05:47:01.617Z"
   },
   {
    "duration": 15,
    "start_time": "2024-05-18T05:47:01.737Z"
   },
   {
    "duration": 88,
    "start_time": "2024-05-18T05:47:01.754Z"
   },
   {
    "duration": 38,
    "start_time": "2024-05-18T05:47:01.843Z"
   },
   {
    "duration": 296,
    "start_time": "2024-05-18T05:47:01.883Z"
   },
   {
    "duration": 179,
    "start_time": "2024-05-18T05:47:02.181Z"
   },
   {
    "duration": 16,
    "start_time": "2024-05-18T05:47:02.361Z"
   },
   {
    "duration": 285,
    "start_time": "2024-05-18T05:47:02.379Z"
   },
   {
    "duration": 436,
    "start_time": "2024-05-18T05:47:02.666Z"
   },
   {
    "duration": 526,
    "start_time": "2024-05-18T05:47:03.103Z"
   },
   {
    "duration": 7,
    "start_time": "2024-05-18T05:47:03.631Z"
   },
   {
    "duration": 72,
    "start_time": "2024-05-18T05:47:03.640Z"
   },
   {
    "duration": 10,
    "start_time": "2024-05-18T05:47:03.713Z"
   },
   {
    "duration": 11,
    "start_time": "2024-05-18T05:47:03.725Z"
   },
   {
    "duration": 14,
    "start_time": "2024-05-18T05:47:03.738Z"
   },
   {
    "duration": 2504,
    "start_time": "2024-05-18T05:47:03.754Z"
   },
   {
    "duration": 373,
    "start_time": "2024-05-18T05:47:06.260Z"
   },
   {
    "duration": 6,
    "start_time": "2024-05-18T05:47:06.634Z"
   },
   {
    "duration": 50,
    "start_time": "2024-05-18T05:47:06.641Z"
   },
   {
    "duration": 33,
    "start_time": "2024-05-18T05:47:06.692Z"
   },
   {
    "duration": 10,
    "start_time": "2024-05-18T05:47:06.726Z"
   },
   {
    "duration": 14,
    "start_time": "2024-05-18T05:47:06.737Z"
   },
   {
    "duration": 29,
    "start_time": "2024-05-18T05:47:06.753Z"
   },
   {
    "duration": 11,
    "start_time": "2024-05-18T05:47:06.784Z"
   },
   {
    "duration": 39,
    "start_time": "2024-05-18T05:47:06.797Z"
   },
   {
    "duration": 1955,
    "start_time": "2024-05-18T05:47:06.838Z"
   },
   {
    "duration": 4,
    "start_time": "2024-05-18T05:47:08.797Z"
   },
   {
    "duration": 171,
    "start_time": "2024-05-18T05:47:08.802Z"
   },
   {
    "duration": 5,
    "start_time": "2024-05-18T05:53:21.347Z"
   },
   {
    "duration": 5,
    "start_time": "2024-05-18T05:53:27.120Z"
   },
   {
    "duration": 15,
    "start_time": "2024-05-18T05:55:57.755Z"
   },
   {
    "duration": 1936,
    "start_time": "2024-05-18T06:00:37.237Z"
   },
   {
    "duration": 1905,
    "start_time": "2024-05-18T06:00:44.175Z"
   },
   {
    "duration": 1203,
    "start_time": "2024-05-18T06:01:48.264Z"
   },
   {
    "duration": 72,
    "start_time": "2024-05-18T06:01:49.469Z"
   },
   {
    "duration": 13,
    "start_time": "2024-05-18T06:01:49.543Z"
   },
   {
    "duration": 24,
    "start_time": "2024-05-18T06:01:49.558Z"
   },
   {
    "duration": 53,
    "start_time": "2024-05-18T06:01:49.584Z"
   },
   {
    "duration": 65,
    "start_time": "2024-05-18T06:01:49.638Z"
   },
   {
    "duration": 44,
    "start_time": "2024-05-18T06:01:49.705Z"
   },
   {
    "duration": 18,
    "start_time": "2024-05-18T06:01:49.752Z"
   },
   {
    "duration": 27,
    "start_time": "2024-05-18T06:01:49.772Z"
   },
   {
    "duration": 27,
    "start_time": "2024-05-18T06:01:49.801Z"
   },
   {
    "duration": 38,
    "start_time": "2024-05-18T06:01:49.830Z"
   },
   {
    "duration": 9,
    "start_time": "2024-05-18T06:01:49.870Z"
   },
   {
    "duration": 28,
    "start_time": "2024-05-18T06:01:49.881Z"
   },
   {
    "duration": 29,
    "start_time": "2024-05-18T06:01:49.913Z"
   },
   {
    "duration": 88,
    "start_time": "2024-05-18T06:01:49.944Z"
   },
   {
    "duration": 97,
    "start_time": "2024-05-18T06:01:50.034Z"
   },
   {
    "duration": 30,
    "start_time": "2024-05-18T06:01:50.134Z"
   },
   {
    "duration": 20,
    "start_time": "2024-05-18T06:01:50.166Z"
   },
   {
    "duration": 219,
    "start_time": "2024-05-18T06:01:50.188Z"
   },
   {
    "duration": 185,
    "start_time": "2024-05-18T06:01:50.409Z"
   },
   {
    "duration": 8,
    "start_time": "2024-05-18T06:01:50.595Z"
   },
   {
    "duration": 284,
    "start_time": "2024-05-18T06:01:50.605Z"
   },
   {
    "duration": 448,
    "start_time": "2024-05-18T06:01:50.891Z"
   },
   {
    "duration": 538,
    "start_time": "2024-05-18T06:01:51.341Z"
   },
   {
    "duration": 7,
    "start_time": "2024-05-18T06:01:51.881Z"
   },
   {
    "duration": 54,
    "start_time": "2024-05-18T06:01:51.890Z"
   },
   {
    "duration": 83,
    "start_time": "2024-05-18T06:01:51.946Z"
   },
   {
    "duration": 119,
    "start_time": "2024-05-18T06:01:52.031Z"
   },
   {
    "duration": 11,
    "start_time": "2024-05-18T06:01:52.152Z"
   },
   {
    "duration": 2682,
    "start_time": "2024-05-18T06:01:52.165Z"
   },
   {
    "duration": 413,
    "start_time": "2024-05-18T06:01:54.849Z"
   },
   {
    "duration": 11,
    "start_time": "2024-05-18T06:01:55.263Z"
   },
   {
    "duration": 133,
    "start_time": "2024-05-18T06:01:55.276Z"
   },
   {
    "duration": 43,
    "start_time": "2024-05-18T06:01:55.411Z"
   },
   {
    "duration": 3,
    "start_time": "2024-05-18T06:01:55.456Z"
   },
   {
    "duration": 40,
    "start_time": "2024-05-18T06:01:55.461Z"
   },
   {
    "duration": 64,
    "start_time": "2024-05-18T06:01:55.503Z"
   },
   {
    "duration": 56,
    "start_time": "2024-05-18T06:01:55.569Z"
   },
   {
    "duration": 104,
    "start_time": "2024-05-18T06:01:55.627Z"
   },
   {
    "duration": 2094,
    "start_time": "2024-05-18T06:01:55.733Z"
   },
   {
    "duration": 5,
    "start_time": "2024-05-18T06:01:57.832Z"
   },
   {
    "duration": 228,
    "start_time": "2024-05-18T06:01:57.839Z"
   },
   {
    "duration": 1443,
    "start_time": "2024-05-18T12:06:19.429Z"
   },
   {
    "duration": 307,
    "start_time": "2024-05-18T12:06:20.875Z"
   },
   {
    "duration": 13,
    "start_time": "2024-05-18T12:06:21.183Z"
   },
   {
    "duration": 15,
    "start_time": "2024-05-18T12:06:21.198Z"
   },
   {
    "duration": 33,
    "start_time": "2024-05-18T12:06:21.215Z"
   },
   {
    "duration": 14,
    "start_time": "2024-05-18T12:06:21.249Z"
   },
   {
    "duration": 9,
    "start_time": "2024-05-18T12:06:21.264Z"
   },
   {
    "duration": 22,
    "start_time": "2024-05-18T12:06:21.275Z"
   },
   {
    "duration": 15,
    "start_time": "2024-05-18T12:06:21.299Z"
   },
   {
    "duration": 52,
    "start_time": "2024-05-18T12:06:21.317Z"
   },
   {
    "duration": 14,
    "start_time": "2024-05-18T12:06:21.371Z"
   },
   {
    "duration": 53,
    "start_time": "2024-05-18T12:06:21.386Z"
   },
   {
    "duration": 167,
    "start_time": "2024-05-18T12:06:21.441Z"
   },
   {
    "duration": 55,
    "start_time": "2024-05-18T12:06:21.610Z"
   },
   {
    "duration": 15,
    "start_time": "2024-05-18T12:06:21.666Z"
   },
   {
    "duration": 8,
    "start_time": "2024-05-18T12:06:21.683Z"
   },
   {
    "duration": 5,
    "start_time": "2024-05-18T12:06:21.693Z"
   },
   {
    "duration": 21,
    "start_time": "2024-05-18T12:06:21.700Z"
   },
   {
    "duration": 219,
    "start_time": "2024-05-18T12:06:21.723Z"
   },
   {
    "duration": 200,
    "start_time": "2024-05-18T12:06:21.944Z"
   },
   {
    "duration": 9,
    "start_time": "2024-05-18T12:06:22.146Z"
   },
   {
    "duration": 264,
    "start_time": "2024-05-18T12:06:22.157Z"
   },
   {
    "duration": 449,
    "start_time": "2024-05-18T12:06:22.423Z"
   },
   {
    "duration": 501,
    "start_time": "2024-05-18T12:06:22.874Z"
   },
   {
    "duration": 8,
    "start_time": "2024-05-18T12:06:23.377Z"
   },
   {
    "duration": 135,
    "start_time": "2024-05-18T12:06:23.387Z"
   },
   {
    "duration": 10,
    "start_time": "2024-05-18T12:06:23.524Z"
   },
   {
    "duration": 13,
    "start_time": "2024-05-18T12:06:23.538Z"
   },
   {
    "duration": 9,
    "start_time": "2024-05-18T12:06:23.553Z"
   },
   {
    "duration": 2504,
    "start_time": "2024-05-18T12:06:23.564Z"
   },
   {
    "duration": 392,
    "start_time": "2024-05-18T12:06:26.070Z"
   },
   {
    "duration": 6,
    "start_time": "2024-05-18T12:06:26.464Z"
   },
   {
    "duration": 36,
    "start_time": "2024-05-18T12:06:26.479Z"
   },
   {
    "duration": 56,
    "start_time": "2024-05-18T12:06:26.517Z"
   },
   {
    "duration": 3,
    "start_time": "2024-05-18T12:06:26.580Z"
   },
   {
    "duration": 34,
    "start_time": "2024-05-18T12:06:26.586Z"
   },
   {
    "duration": 31,
    "start_time": "2024-05-18T12:06:26.622Z"
   },
   {
    "duration": 61,
    "start_time": "2024-05-18T12:06:26.655Z"
   },
   {
    "duration": 23,
    "start_time": "2024-05-18T12:06:26.718Z"
   },
   {
    "duration": 2023,
    "start_time": "2024-05-18T12:06:26.743Z"
   },
   {
    "duration": 17,
    "start_time": "2024-05-18T12:06:28.768Z"
   },
   {
    "duration": 200,
    "start_time": "2024-05-18T12:06:28.787Z"
   },
   {
    "duration": 7,
    "start_time": "2024-05-18T12:34:16.206Z"
   },
   {
    "duration": 6,
    "start_time": "2024-05-18T12:34:26.815Z"
   },
   {
    "duration": 113,
    "start_time": "2024-05-18T12:34:40.766Z"
   },
   {
    "duration": 6,
    "start_time": "2024-05-18T12:34:51.615Z"
   },
   {
    "duration": 13,
    "start_time": "2024-05-18T12:35:01.456Z"
   },
   {
    "duration": 11,
    "start_time": "2024-05-18T12:35:06.220Z"
   },
   {
    "duration": 12,
    "start_time": "2024-05-18T12:35:08.472Z"
   },
   {
    "duration": 10,
    "start_time": "2024-05-18T12:35:48.471Z"
   },
   {
    "duration": 12,
    "start_time": "2024-05-18T12:36:03.379Z"
   },
   {
    "duration": 11,
    "start_time": "2024-05-18T12:36:24.354Z"
   },
   {
    "duration": 6,
    "start_time": "2024-05-18T12:37:55.560Z"
   },
   {
    "duration": 7,
    "start_time": "2024-05-18T12:38:20.421Z"
   },
   {
    "duration": 5,
    "start_time": "2024-05-18T12:38:26.813Z"
   },
   {
    "duration": 4,
    "start_time": "2024-05-18T12:39:44.804Z"
   },
   {
    "duration": 6,
    "start_time": "2024-05-18T12:39:48.010Z"
   },
   {
    "duration": 6,
    "start_time": "2024-05-18T12:40:00.717Z"
   },
   {
    "duration": 13,
    "start_time": "2024-05-18T12:40:07.078Z"
   },
   {
    "duration": 50,
    "start_time": "2024-05-18T12:40:11.123Z"
   },
   {
    "duration": 6,
    "start_time": "2024-05-18T12:40:14.028Z"
   },
   {
    "duration": 4,
    "start_time": "2024-05-18T12:40:18.433Z"
   },
   {
    "duration": 6,
    "start_time": "2024-05-18T12:40:22.005Z"
   },
   {
    "duration": 9,
    "start_time": "2024-05-18T12:40:47.857Z"
   },
   {
    "duration": 9,
    "start_time": "2024-05-18T12:40:52.025Z"
   },
   {
    "duration": 6,
    "start_time": "2024-05-18T12:41:03.688Z"
   },
   {
    "duration": 5,
    "start_time": "2024-05-18T12:41:37.496Z"
   },
   {
    "duration": 9,
    "start_time": "2024-05-18T12:41:45.689Z"
   },
   {
    "duration": 4,
    "start_time": "2024-05-18T12:41:55.444Z"
   },
   {
    "duration": 3,
    "start_time": "2024-05-18T12:41:58.310Z"
   },
   {
    "duration": 50,
    "start_time": "2024-05-18T12:42:10.127Z"
   },
   {
    "duration": 4,
    "start_time": "2024-05-18T12:42:20.883Z"
   },
   {
    "duration": 5,
    "start_time": "2024-05-18T12:42:28.928Z"
   },
   {
    "duration": 9,
    "start_time": "2024-05-18T12:43:02.915Z"
   },
   {
    "duration": 5,
    "start_time": "2024-05-18T12:43:57.301Z"
   },
   {
    "duration": 5,
    "start_time": "2024-05-18T12:44:16.874Z"
   },
   {
    "duration": 4,
    "start_time": "2024-05-18T12:44:37.483Z"
   },
   {
    "duration": 3,
    "start_time": "2024-05-18T12:44:53.904Z"
   },
   {
    "duration": 4,
    "start_time": "2024-05-18T12:45:02.846Z"
   },
   {
    "duration": 4,
    "start_time": "2024-05-18T12:45:18.063Z"
   },
   {
    "duration": 6,
    "start_time": "2024-05-18T12:52:33.880Z"
   },
   {
    "duration": 18,
    "start_time": "2024-05-18T12:52:39.540Z"
   },
   {
    "duration": 5,
    "start_time": "2024-05-18T12:53:12.503Z"
   },
   {
    "duration": 11,
    "start_time": "2024-05-18T12:55:13.193Z"
   },
   {
    "duration": 6,
    "start_time": "2024-05-18T12:55:38.620Z"
   },
   {
    "duration": 10,
    "start_time": "2024-05-18T12:56:21.428Z"
   },
   {
    "duration": 120,
    "start_time": "2024-05-18T12:56:36.899Z"
   },
   {
    "duration": 19,
    "start_time": "2024-05-18T13:00:01.828Z"
   },
   {
    "duration": 14,
    "start_time": "2024-05-18T13:00:16.485Z"
   },
   {
    "duration": 13,
    "start_time": "2024-05-18T13:01:38.542Z"
   },
   {
    "duration": 17,
    "start_time": "2024-05-18T13:01:50.326Z"
   },
   {
    "duration": 18,
    "start_time": "2024-05-18T13:02:01.877Z"
   },
   {
    "duration": 306,
    "start_time": "2024-05-18T13:02:05.041Z"
   },
   {
    "duration": 16,
    "start_time": "2024-05-18T13:03:52.806Z"
   },
   {
    "duration": 104,
    "start_time": "2024-05-18T13:04:51.696Z"
   },
   {
    "duration": 159,
    "start_time": "2024-05-18T13:05:10.164Z"
   },
   {
    "duration": 146,
    "start_time": "2024-05-18T13:06:08.557Z"
   },
   {
    "duration": 162,
    "start_time": "2024-05-18T13:06:27.403Z"
   },
   {
    "duration": 68,
    "start_time": "2024-05-18T13:07:44.135Z"
   },
   {
    "duration": 60,
    "start_time": "2024-05-18T13:07:48.362Z"
   },
   {
    "duration": 69,
    "start_time": "2024-05-18T13:08:32.961Z"
   },
   {
    "duration": 146,
    "start_time": "2024-05-18T13:09:21.164Z"
   },
   {
    "duration": 65,
    "start_time": "2024-05-18T13:09:36.767Z"
   },
   {
    "duration": 19,
    "start_time": "2024-05-18T13:10:32.002Z"
   },
   {
    "duration": 59,
    "start_time": "2024-05-18T13:10:47.055Z"
   },
   {
    "duration": 11,
    "start_time": "2024-05-18T13:10:50.208Z"
   },
   {
    "duration": 121,
    "start_time": "2024-05-18T13:12:27.649Z"
   },
   {
    "duration": 67,
    "start_time": "2024-05-18T13:12:35.209Z"
   },
   {
    "duration": 77,
    "start_time": "2024-05-18T13:13:24.578Z"
   },
   {
    "duration": 72,
    "start_time": "2024-05-18T13:14:04.443Z"
   },
   {
    "duration": 152,
    "start_time": "2024-05-18T13:14:17.009Z"
   },
   {
    "duration": 96,
    "start_time": "2024-05-18T13:14:40.365Z"
   },
   {
    "duration": 76,
    "start_time": "2024-05-18T13:14:45.901Z"
   },
   {
    "duration": 166,
    "start_time": "2024-05-18T13:15:20.765Z"
   },
   {
    "duration": 107,
    "start_time": "2024-05-18T13:15:59.175Z"
   },
   {
    "duration": 8,
    "start_time": "2024-05-18T13:16:23.849Z"
   },
   {
    "duration": 79,
    "start_time": "2024-05-18T13:17:16.486Z"
   },
   {
    "duration": 12,
    "start_time": "2024-05-18T13:18:19.404Z"
   },
   {
    "duration": 17,
    "start_time": "2024-05-18T13:18:28.799Z"
   },
   {
    "duration": 156,
    "start_time": "2024-05-18T13:18:42.075Z"
   },
   {
    "duration": 140,
    "start_time": "2024-05-18T13:22:01.071Z"
   },
   {
    "duration": 50,
    "start_time": "2024-05-18T13:22:46.737Z"
   },
   {
    "duration": 79,
    "start_time": "2024-05-18T13:22:54.631Z"
   },
   {
    "duration": 58,
    "start_time": "2024-05-18T13:23:01.880Z"
   },
   {
    "duration": 49,
    "start_time": "2024-05-18T13:23:09.872Z"
   },
   {
    "duration": 140,
    "start_time": "2024-05-18T13:23:19.193Z"
   },
   {
    "duration": 54,
    "start_time": "2024-05-18T13:23:36.661Z"
   },
   {
    "duration": 146,
    "start_time": "2024-05-18T13:24:58.699Z"
   },
   {
    "duration": 139,
    "start_time": "2024-05-18T13:27:16.282Z"
   },
   {
    "duration": 8,
    "start_time": "2024-05-18T13:27:48.600Z"
   },
   {
    "duration": 8,
    "start_time": "2024-05-18T13:27:59.445Z"
   },
   {
    "duration": 9,
    "start_time": "2024-05-18T13:28:13.135Z"
   },
   {
    "duration": 8,
    "start_time": "2024-05-18T13:29:54.753Z"
   },
   {
    "duration": 253,
    "start_time": "2024-05-18T13:30:43.922Z"
   },
   {
    "duration": 341,
    "start_time": "2024-05-18T13:32:02.184Z"
   },
   {
    "duration": 243,
    "start_time": "2024-05-18T13:32:47.506Z"
   },
   {
    "duration": 266,
    "start_time": "2024-05-18T13:33:57.006Z"
   },
   {
    "duration": 258,
    "start_time": "2024-05-18T13:34:46.516Z"
   },
   {
    "duration": 242,
    "start_time": "2024-05-18T13:35:14.808Z"
   },
   {
    "duration": 176,
    "start_time": "2024-05-18T13:35:21.228Z"
   },
   {
    "duration": 245,
    "start_time": "2024-05-18T13:35:25.866Z"
   },
   {
    "duration": 279,
    "start_time": "2024-05-18T13:37:00.578Z"
   },
   {
    "duration": 427,
    "start_time": "2024-05-18T13:37:44.731Z"
   },
   {
    "duration": 405,
    "start_time": "2024-05-18T13:38:00.833Z"
   },
   {
    "duration": 551,
    "start_time": "2024-05-18T13:39:04.726Z"
   },
   {
    "duration": 454,
    "start_time": "2024-05-18T13:39:14.685Z"
   },
   {
    "duration": 412,
    "start_time": "2024-05-18T13:39:35.008Z"
   },
   {
    "duration": 452,
    "start_time": "2024-05-18T13:39:50.872Z"
   },
   {
    "duration": 413,
    "start_time": "2024-05-18T13:39:59.606Z"
   },
   {
    "duration": 291,
    "start_time": "2024-05-18T13:40:43.131Z"
   },
   {
    "duration": 9,
    "start_time": "2024-05-18T13:42:40.800Z"
   },
   {
    "duration": 2352,
    "start_time": "2024-05-18T13:42:46.440Z"
   },
   {
    "duration": 1223,
    "start_time": "2024-05-18T14:00:47.645Z"
   },
   {
    "duration": 73,
    "start_time": "2024-05-18T14:00:48.870Z"
   },
   {
    "duration": 13,
    "start_time": "2024-05-18T14:00:48.945Z"
   },
   {
    "duration": 12,
    "start_time": "2024-05-18T14:00:48.960Z"
   },
   {
    "duration": 11,
    "start_time": "2024-05-18T14:00:48.974Z"
   },
   {
    "duration": 15,
    "start_time": "2024-05-18T14:00:48.987Z"
   },
   {
    "duration": 7,
    "start_time": "2024-05-18T14:00:49.004Z"
   },
   {
    "duration": 13,
    "start_time": "2024-05-18T14:00:49.013Z"
   },
   {
    "duration": 17,
    "start_time": "2024-05-18T14:00:49.028Z"
   },
   {
    "duration": 16,
    "start_time": "2024-05-18T14:00:49.046Z"
   },
   {
    "duration": 26,
    "start_time": "2024-05-18T14:00:49.063Z"
   },
   {
    "duration": 5,
    "start_time": "2024-05-18T14:00:49.091Z"
   },
   {
    "duration": 5,
    "start_time": "2024-05-18T14:00:49.097Z"
   },
   {
    "duration": 8,
    "start_time": "2024-05-18T14:00:49.104Z"
   },
   {
    "duration": 7,
    "start_time": "2024-05-18T14:00:49.113Z"
   },
   {
    "duration": 14,
    "start_time": "2024-05-18T14:00:49.121Z"
   },
   {
    "duration": 8,
    "start_time": "2024-05-18T14:00:49.136Z"
   },
   {
    "duration": 43,
    "start_time": "2024-05-18T14:00:49.146Z"
   },
   {
    "duration": 87,
    "start_time": "2024-05-18T14:00:49.190Z"
   },
   {
    "duration": 183,
    "start_time": "2024-05-18T14:00:49.278Z"
   },
   {
    "duration": 6,
    "start_time": "2024-05-18T14:00:49.463Z"
   },
   {
    "duration": 145,
    "start_time": "2024-05-18T14:00:49.479Z"
   },
   {
    "duration": 260,
    "start_time": "2024-05-18T14:00:49.626Z"
   },
   {
    "duration": 8,
    "start_time": "2024-05-18T14:00:49.888Z"
   },
   {
    "duration": 437,
    "start_time": "2024-05-18T14:00:49.898Z"
   },
   {
    "duration": 333,
    "start_time": "2024-05-18T14:00:50.336Z"
   },
   {
    "duration": 37,
    "start_time": "2024-05-18T14:00:50.671Z"
   },
   {
    "duration": 37,
    "start_time": "2024-05-18T14:00:50.710Z"
   },
   {
    "duration": 87,
    "start_time": "2024-05-18T14:00:50.749Z"
   },
   {
    "duration": 49,
    "start_time": "2024-05-18T14:00:50.837Z"
   },
   {
    "duration": 2359,
    "start_time": "2024-05-18T14:00:50.887Z"
   },
   {
    "duration": 384,
    "start_time": "2024-05-18T14:00:53.248Z"
   },
   {
    "duration": 6,
    "start_time": "2024-05-18T14:00:53.633Z"
   },
   {
    "duration": 100,
    "start_time": "2024-05-18T14:00:53.641Z"
   },
   {
    "duration": 33,
    "start_time": "2024-05-18T14:00:53.743Z"
   },
   {
    "duration": 3,
    "start_time": "2024-05-18T14:00:53.778Z"
   },
   {
    "duration": 12,
    "start_time": "2024-05-18T14:00:53.782Z"
   },
   {
    "duration": 15,
    "start_time": "2024-05-18T14:00:53.796Z"
   },
   {
    "duration": 72,
    "start_time": "2024-05-18T14:00:53.812Z"
   },
   {
    "duration": 7,
    "start_time": "2024-05-18T14:00:53.886Z"
   },
   {
    "duration": 1956,
    "start_time": "2024-05-18T14:00:53.897Z"
   },
   {
    "duration": 3,
    "start_time": "2024-05-18T14:00:55.855Z"
   },
   {
    "duration": 372,
    "start_time": "2024-05-18T14:00:55.860Z"
   },
   {
    "duration": 9,
    "start_time": "2024-05-18T14:01:27.074Z"
   },
   {
    "duration": 2037,
    "start_time": "2024-05-18T14:01:28.826Z"
   },
   {
    "duration": 17,
    "start_time": "2024-05-18T14:09:32.330Z"
   },
   {
    "duration": 745,
    "start_time": "2024-05-18T14:09:53.072Z"
   },
   {
    "duration": 145,
    "start_time": "2024-05-18T14:10:01.674Z"
   },
   {
    "duration": 131,
    "start_time": "2024-05-18T14:10:53.433Z"
   },
   {
    "duration": 140,
    "start_time": "2024-05-18T14:11:12.911Z"
   },
   {
    "duration": 257,
    "start_time": "2024-05-18T14:11:44.943Z"
   },
   {
    "duration": 143,
    "start_time": "2024-05-18T14:11:51.606Z"
   },
   {
    "duration": 154,
    "start_time": "2024-05-18T14:12:04.289Z"
   },
   {
    "duration": 169,
    "start_time": "2024-05-18T14:12:08.948Z"
   },
   {
    "duration": 153,
    "start_time": "2024-05-18T14:12:12.154Z"
   },
   {
    "duration": 149,
    "start_time": "2024-05-18T14:12:36.751Z"
   },
   {
    "duration": 162,
    "start_time": "2024-05-18T14:12:42.085Z"
   },
   {
    "duration": 15,
    "start_time": "2024-05-18T14:14:02.628Z"
   },
   {
    "duration": 16,
    "start_time": "2024-05-18T14:14:18.830Z"
   },
   {
    "duration": 15,
    "start_time": "2024-05-18T14:14:32.979Z"
   },
   {
    "duration": 16,
    "start_time": "2024-05-18T14:14:38.408Z"
   },
   {
    "duration": 15,
    "start_time": "2024-05-18T14:14:43.701Z"
   },
   {
    "duration": 275,
    "start_time": "2024-05-18T14:15:56.705Z"
   },
   {
    "duration": 149,
    "start_time": "2024-05-18T14:16:27.686Z"
   },
   {
    "duration": 166,
    "start_time": "2024-05-18T14:16:50.817Z"
   },
   {
    "duration": 154,
    "start_time": "2024-05-18T14:17:03.595Z"
   },
   {
    "duration": 148,
    "start_time": "2024-05-18T14:18:34.819Z"
   },
   {
    "duration": 151,
    "start_time": "2024-05-18T14:18:44.833Z"
   },
   {
    "duration": 147,
    "start_time": "2024-05-18T14:18:51.835Z"
   },
   {
    "duration": 155,
    "start_time": "2024-05-18T14:18:54.832Z"
   },
   {
    "duration": 181,
    "start_time": "2024-05-18T14:19:05.778Z"
   },
   {
    "duration": 23,
    "start_time": "2024-05-18T14:29:03.660Z"
   },
   {
    "duration": 10,
    "start_time": "2024-05-18T14:29:15.349Z"
   },
   {
    "duration": 10,
    "start_time": "2024-05-18T14:29:53.204Z"
   },
   {
    "duration": 10,
    "start_time": "2024-05-18T14:30:03.778Z"
   },
   {
    "duration": 11,
    "start_time": "2024-05-18T14:30:44.518Z"
   },
   {
    "duration": 5,
    "start_time": "2024-05-18T14:30:58.850Z"
   },
   {
    "duration": 11,
    "start_time": "2024-05-18T14:31:01.096Z"
   },
   {
    "duration": 10,
    "start_time": "2024-05-18T14:31:05.960Z"
   },
   {
    "duration": 597,
    "start_time": "2024-05-18T17:08:18.583Z"
   },
   {
    "duration": 458,
    "start_time": "2024-05-18T17:08:54.455Z"
   },
   {
    "duration": 10,
    "start_time": "2024-05-18T17:13:31.086Z"
   },
   {
    "duration": 134,
    "start_time": "2024-05-18T17:13:32.631Z"
   },
   {
    "duration": 9,
    "start_time": "2024-05-18T17:14:42.550Z"
   },
   {
    "duration": 1937,
    "start_time": "2024-05-18T17:14:45.489Z"
   },
   {
    "duration": 24,
    "start_time": "2024-05-18T17:17:22.130Z"
   },
   {
    "duration": 13,
    "start_time": "2024-05-18T17:18:00.079Z"
   },
   {
    "duration": 11,
    "start_time": "2024-05-18T17:19:43.341Z"
   },
   {
    "duration": 14,
    "start_time": "2024-05-18T17:19:50.715Z"
   },
   {
    "duration": 11,
    "start_time": "2024-05-18T17:20:00.151Z"
   },
   {
    "duration": 10,
    "start_time": "2024-05-18T17:20:55.834Z"
   },
   {
    "duration": 126,
    "start_time": "2024-05-18T17:21:00.067Z"
   },
   {
    "duration": 9,
    "start_time": "2024-05-18T17:21:48.029Z"
   },
   {
    "duration": 124,
    "start_time": "2024-05-18T17:21:50.156Z"
   },
   {
    "duration": 9,
    "start_time": "2024-05-18T17:24:53.681Z"
   },
   {
    "duration": 111,
    "start_time": "2024-05-18T17:24:55.978Z"
   },
   {
    "duration": 11,
    "start_time": "2024-05-18T17:25:22.129Z"
   },
   {
    "duration": 15,
    "start_time": "2024-05-18T17:25:50.630Z"
   },
   {
    "duration": 111,
    "start_time": "2024-05-18T17:26:03.651Z"
   },
   {
    "duration": 126,
    "start_time": "2024-05-18T17:27:34.718Z"
   },
   {
    "duration": 320,
    "start_time": "2024-05-18T17:27:44.976Z"
   },
   {
    "duration": 101,
    "start_time": "2024-05-18T17:27:56.522Z"
   },
   {
    "duration": 119,
    "start_time": "2024-05-18T17:28:02.031Z"
   },
   {
    "duration": 142,
    "start_time": "2024-05-18T17:28:39.013Z"
   },
   {
    "duration": 160,
    "start_time": "2024-05-18T17:28:55.772Z"
   },
   {
    "duration": 167,
    "start_time": "2024-05-18T17:29:03.175Z"
   },
   {
    "duration": 140,
    "start_time": "2024-05-18T17:30:17.411Z"
   },
   {
    "duration": 168,
    "start_time": "2024-05-18T17:30:30.006Z"
   },
   {
    "duration": 142,
    "start_time": "2024-05-18T17:30:37.870Z"
   },
   {
    "duration": 140,
    "start_time": "2024-05-18T17:30:45.549Z"
   },
   {
    "duration": 10,
    "start_time": "2024-05-18T17:31:16.359Z"
   },
   {
    "duration": 107,
    "start_time": "2024-05-18T17:31:18.842Z"
   },
   {
    "duration": 9,
    "start_time": "2024-05-18T17:31:41.134Z"
   },
   {
    "duration": 1955,
    "start_time": "2024-05-18T17:31:43.565Z"
   },
   {
    "duration": 10,
    "start_time": "2024-05-18T17:32:03.943Z"
   },
   {
    "duration": 2009,
    "start_time": "2024-05-18T17:32:06.400Z"
   },
   {
    "duration": 23,
    "start_time": "2024-05-18T17:32:49.152Z"
   },
   {
    "duration": 10,
    "start_time": "2024-05-18T17:32:56.832Z"
   },
   {
    "duration": 11,
    "start_time": "2024-05-18T17:33:01.450Z"
   },
   {
    "duration": 178,
    "start_time": "2024-05-18T17:37:36.435Z"
   },
   {
    "duration": 166,
    "start_time": "2024-05-18T17:37:58.106Z"
   },
   {
    "duration": 19,
    "start_time": "2024-05-18T17:42:06.894Z"
   },
   {
    "duration": 28,
    "start_time": "2024-05-18T17:44:54.817Z"
   },
   {
    "duration": 45,
    "start_time": "2024-05-18T17:45:03.815Z"
   },
   {
    "duration": 18,
    "start_time": "2024-05-18T17:45:32.985Z"
   },
   {
    "duration": 479,
    "start_time": "2024-05-18T17:46:06.568Z"
   },
   {
    "duration": 39,
    "start_time": "2024-05-18T17:46:15.222Z"
   },
   {
    "duration": 36,
    "start_time": "2024-05-18T17:47:07.215Z"
   },
   {
    "duration": 37,
    "start_time": "2024-05-18T17:48:49.607Z"
   },
   {
    "duration": 32,
    "start_time": "2024-05-18T17:49:11.013Z"
   },
   {
    "duration": 35,
    "start_time": "2024-05-18T17:49:20.138Z"
   },
   {
    "duration": 25,
    "start_time": "2024-05-18T17:49:33.790Z"
   },
   {
    "duration": 35,
    "start_time": "2024-05-18T17:49:40.528Z"
   },
   {
    "duration": 86,
    "start_time": "2024-05-18T17:50:15.910Z"
   },
   {
    "duration": 82,
    "start_time": "2024-05-18T17:50:54.308Z"
   },
   {
    "duration": 39,
    "start_time": "2024-05-18T17:51:32.056Z"
   },
   {
    "duration": 260,
    "start_time": "2024-05-18T17:53:13.745Z"
   },
   {
    "duration": 37,
    "start_time": "2024-05-18T17:53:24.128Z"
   },
   {
    "duration": 31,
    "start_time": "2024-05-18T17:53:41.118Z"
   },
   {
    "duration": 41,
    "start_time": "2024-05-18T17:53:51.807Z"
   },
   {
    "duration": 56,
    "start_time": "2024-05-18T17:54:45.413Z"
   },
   {
    "duration": 43,
    "start_time": "2024-05-18T17:55:35.095Z"
   },
   {
    "duration": 43,
    "start_time": "2024-05-18T17:56:53.108Z"
   },
   {
    "duration": 58,
    "start_time": "2024-05-18T17:56:59.957Z"
   },
   {
    "duration": 46,
    "start_time": "2024-05-18T17:57:22.785Z"
   },
   {
    "duration": 47,
    "start_time": "2024-05-18T17:58:27.495Z"
   },
   {
    "duration": 49,
    "start_time": "2024-05-18T17:58:37.327Z"
   },
   {
    "duration": 44,
    "start_time": "2024-05-18T17:58:54.473Z"
   },
   {
    "duration": 45,
    "start_time": "2024-05-18T18:00:53.945Z"
   },
   {
    "duration": 39,
    "start_time": "2024-05-18T18:01:29.302Z"
   },
   {
    "duration": 45,
    "start_time": "2024-05-18T18:02:18.580Z"
   },
   {
    "duration": 63,
    "start_time": "2024-05-18T18:02:40.549Z"
   },
   {
    "duration": 84,
    "start_time": "2024-05-18T18:03:52.297Z"
   },
   {
    "duration": 91,
    "start_time": "2024-05-18T18:04:11.902Z"
   },
   {
    "duration": 97,
    "start_time": "2024-05-18T18:04:15.176Z"
   },
   {
    "duration": 98,
    "start_time": "2024-05-18T18:05:43.089Z"
   },
   {
    "duration": 114,
    "start_time": "2024-05-18T18:10:02.589Z"
   },
   {
    "duration": 623,
    "start_time": "2024-05-18T18:11:50.109Z"
   },
   {
    "duration": 114,
    "start_time": "2024-05-18T18:12:09.818Z"
   },
   {
    "duration": 100,
    "start_time": "2024-05-18T18:12:16.146Z"
   },
   {
    "duration": 121,
    "start_time": "2024-05-18T18:12:29.474Z"
   },
   {
    "duration": 93,
    "start_time": "2024-05-18T18:12:52.041Z"
   },
   {
    "duration": 98,
    "start_time": "2024-05-18T18:14:24.322Z"
   },
   {
    "duration": 122,
    "start_time": "2024-05-18T18:14:28.693Z"
   },
   {
    "duration": 138,
    "start_time": "2024-05-18T18:18:36.490Z"
   },
   {
    "duration": 100,
    "start_time": "2024-05-18T18:19:10.359Z"
   },
   {
    "duration": 97,
    "start_time": "2024-05-18T18:19:55.230Z"
   },
   {
    "duration": 1181,
    "start_time": "2024-05-18T18:21:50.982Z"
   },
   {
    "duration": 68,
    "start_time": "2024-05-18T18:21:52.165Z"
   },
   {
    "duration": 11,
    "start_time": "2024-05-18T18:21:52.235Z"
   },
   {
    "duration": 18,
    "start_time": "2024-05-18T18:21:52.248Z"
   },
   {
    "duration": 29,
    "start_time": "2024-05-18T18:21:52.268Z"
   },
   {
    "duration": 22,
    "start_time": "2024-05-18T18:21:52.299Z"
   },
   {
    "duration": 20,
    "start_time": "2024-05-18T18:21:52.322Z"
   },
   {
    "duration": 65,
    "start_time": "2024-05-18T18:21:52.343Z"
   },
   {
    "duration": 10,
    "start_time": "2024-05-18T18:21:52.410Z"
   },
   {
    "duration": 16,
    "start_time": "2024-05-18T18:21:52.423Z"
   },
   {
    "duration": 20,
    "start_time": "2024-05-18T18:21:52.441Z"
   },
   {
    "duration": 5,
    "start_time": "2024-05-18T18:21:52.463Z"
   },
   {
    "duration": 5,
    "start_time": "2024-05-18T18:21:52.470Z"
   },
   {
    "duration": 6,
    "start_time": "2024-05-18T18:21:52.477Z"
   },
   {
    "duration": 63,
    "start_time": "2024-05-18T18:21:52.484Z"
   },
   {
    "duration": 27,
    "start_time": "2024-05-18T18:21:52.549Z"
   },
   {
    "duration": 11,
    "start_time": "2024-05-18T18:21:52.578Z"
   },
   {
    "duration": 20,
    "start_time": "2024-05-18T18:21:52.591Z"
   },
   {
    "duration": 40,
    "start_time": "2024-05-18T18:21:52.613Z"
   },
   {
    "duration": 363,
    "start_time": "2024-05-18T18:21:52.655Z"
   },
   {
    "duration": 6,
    "start_time": "2024-05-18T18:21:53.020Z"
   },
   {
    "duration": 164,
    "start_time": "2024-05-18T18:21:53.028Z"
   },
   {
    "duration": 251,
    "start_time": "2024-05-18T18:21:53.193Z"
   },
   {
    "duration": 9,
    "start_time": "2024-05-18T18:21:53.445Z"
   },
   {
    "duration": 440,
    "start_time": "2024-05-18T18:21:53.455Z"
   },
   {
    "duration": 310,
    "start_time": "2024-05-18T18:21:53.897Z"
   },
   {
    "duration": 244,
    "start_time": "2024-05-18T18:21:54.209Z"
   },
   {
    "duration": 5,
    "start_time": "2024-05-18T18:21:54.457Z"
   },
   {
    "duration": 189,
    "start_time": "2024-05-18T18:21:54.464Z"
   },
   {
    "duration": 41,
    "start_time": "2024-05-18T18:21:54.654Z"
   },
   {
    "duration": 21,
    "start_time": "2024-05-18T18:21:54.697Z"
   },
   {
    "duration": 14,
    "start_time": "2024-05-18T18:21:54.720Z"
   },
   {
    "duration": 10,
    "start_time": "2024-05-18T18:21:54.736Z"
   },
   {
    "duration": 1956,
    "start_time": "2024-05-18T18:21:54.747Z"
   },
   {
    "duration": 35,
    "start_time": "2024-05-18T18:21:56.705Z"
   },
   {
    "duration": 48,
    "start_time": "2024-05-18T18:21:56.742Z"
   },
   {
    "duration": 124,
    "start_time": "2024-05-18T18:21:56.792Z"
   },
   {
    "duration": 3,
    "start_time": "2024-05-18T18:21:56.918Z"
   },
   {
    "duration": 7,
    "start_time": "2024-05-18T18:21:56.922Z"
   },
   {
    "duration": 9,
    "start_time": "2024-05-18T18:21:56.931Z"
   },
   {
    "duration": 4,
    "start_time": "2024-05-18T18:21:56.942Z"
   },
   {
    "duration": 6,
    "start_time": "2024-05-18T18:21:56.948Z"
   },
   {
    "duration": 1967,
    "start_time": "2024-05-18T18:21:56.956Z"
   },
   {
    "duration": 4,
    "start_time": "2024-05-18T18:21:58.925Z"
   },
   {
    "duration": 157,
    "start_time": "2024-05-18T18:21:58.930Z"
   },
   {
    "duration": 115,
    "start_time": "2024-05-18T18:22:46.455Z"
   },
   {
    "duration": 1053,
    "start_time": "2024-05-18T18:48:08.727Z"
   },
   {
    "duration": 69,
    "start_time": "2024-05-18T18:48:09.782Z"
   },
   {
    "duration": 32,
    "start_time": "2024-05-18T18:48:09.853Z"
   },
   {
    "duration": 28,
    "start_time": "2024-05-18T18:48:09.887Z"
   },
   {
    "duration": 26,
    "start_time": "2024-05-18T18:48:09.917Z"
   },
   {
    "duration": 30,
    "start_time": "2024-05-18T18:48:09.945Z"
   },
   {
    "duration": 6,
    "start_time": "2024-05-18T18:48:09.977Z"
   },
   {
    "duration": 6,
    "start_time": "2024-05-18T18:48:09.984Z"
   },
   {
    "duration": 18,
    "start_time": "2024-05-18T18:48:09.991Z"
   },
   {
    "duration": 43,
    "start_time": "2024-05-18T18:48:10.012Z"
   },
   {
    "duration": 68,
    "start_time": "2024-05-18T18:48:10.057Z"
   },
   {
    "duration": 4,
    "start_time": "2024-05-18T18:48:10.127Z"
   },
   {
    "duration": 121,
    "start_time": "2024-05-18T18:48:10.132Z"
   },
   {
    "duration": 16,
    "start_time": "2024-05-18T18:48:10.254Z"
   },
   {
    "duration": 6,
    "start_time": "2024-05-18T18:48:10.271Z"
   },
   {
    "duration": 13,
    "start_time": "2024-05-18T18:48:10.279Z"
   },
   {
    "duration": 7,
    "start_time": "2024-05-18T18:48:10.294Z"
   },
   {
    "duration": 8,
    "start_time": "2024-05-18T18:48:10.302Z"
   },
   {
    "duration": 13,
    "start_time": "2024-05-18T18:48:10.311Z"
   },
   {
    "duration": 184,
    "start_time": "2024-05-18T18:48:10.325Z"
   },
   {
    "duration": 5,
    "start_time": "2024-05-18T18:48:10.511Z"
   },
   {
    "duration": 164,
    "start_time": "2024-05-18T18:48:10.517Z"
   },
   {
    "duration": 255,
    "start_time": "2024-05-18T18:48:10.683Z"
   },
   {
    "duration": 9,
    "start_time": "2024-05-18T18:48:10.939Z"
   },
   {
    "duration": 548,
    "start_time": "2024-05-18T18:48:10.950Z"
   },
   {
    "duration": 311,
    "start_time": "2024-05-18T18:48:11.500Z"
   },
   {
    "duration": 250,
    "start_time": "2024-05-18T18:48:11.813Z"
   },
   {
    "duration": 6,
    "start_time": "2024-05-18T18:48:12.067Z"
   },
   {
    "duration": 210,
    "start_time": "2024-05-18T18:48:12.075Z"
   },
   {
    "duration": 29,
    "start_time": "2024-05-18T18:48:12.287Z"
   },
   {
    "duration": 10,
    "start_time": "2024-05-18T18:48:12.318Z"
   },
   {
    "duration": 15,
    "start_time": "2024-05-18T18:48:12.329Z"
   },
   {
    "duration": 42,
    "start_time": "2024-05-18T18:48:12.346Z"
   },
   {
    "duration": 2128,
    "start_time": "2024-05-18T18:48:12.389Z"
   },
   {
    "duration": 62,
    "start_time": "2024-05-18T18:48:14.518Z"
   },
   {
    "duration": 42,
    "start_time": "2024-05-18T18:48:14.582Z"
   },
   {
    "duration": 159,
    "start_time": "2024-05-18T18:48:14.626Z"
   },
   {
    "duration": 2,
    "start_time": "2024-05-18T18:48:14.787Z"
   },
   {
    "duration": 9,
    "start_time": "2024-05-18T18:48:14.791Z"
   },
   {
    "duration": 12,
    "start_time": "2024-05-18T18:48:14.801Z"
   },
   {
    "duration": 4,
    "start_time": "2024-05-18T18:48:14.815Z"
   },
   {
    "duration": 8,
    "start_time": "2024-05-18T18:48:14.821Z"
   },
   {
    "duration": 1898,
    "start_time": "2024-05-18T18:48:14.830Z"
   },
   {
    "duration": 3,
    "start_time": "2024-05-18T18:48:16.730Z"
   },
   {
    "duration": 178,
    "start_time": "2024-05-18T18:48:16.734Z"
   },
   {
    "duration": 115,
    "start_time": "2024-05-18T18:51:38.988Z"
   },
   {
    "duration": 1843,
    "start_time": "2024-05-18T18:54:01.491Z"
   },
   {
    "duration": 153,
    "start_time": "2024-05-18T18:54:53.521Z"
   },
   {
    "duration": 195,
    "start_time": "2024-05-18T18:55:42.474Z"
   },
   {
    "duration": 20,
    "start_time": "2024-05-18T18:58:59.777Z"
   },
   {
    "duration": 98,
    "start_time": "2024-05-18T18:59:09.892Z"
   },
   {
    "duration": 17,
    "start_time": "2024-05-18T18:59:13.164Z"
   },
   {
    "duration": 13,
    "start_time": "2024-05-18T18:59:27.099Z"
   },
   {
    "duration": 12,
    "start_time": "2024-05-18T18:59:36.245Z"
   },
   {
    "duration": 6,
    "start_time": "2024-05-18T19:09:59.524Z"
   },
   {
    "duration": 6,
    "start_time": "2024-05-18T19:10:22.105Z"
   },
   {
    "duration": 7,
    "start_time": "2024-05-18T19:12:32.978Z"
   },
   {
    "duration": 6,
    "start_time": "2024-05-18T19:12:51.482Z"
   },
   {
    "duration": 5,
    "start_time": "2024-05-18T19:13:21.906Z"
   },
   {
    "duration": 7,
    "start_time": "2024-05-18T19:13:22.449Z"
   },
   {
    "duration": 7,
    "start_time": "2024-05-18T19:13:22.912Z"
   },
   {
    "duration": 6,
    "start_time": "2024-05-18T19:13:23.206Z"
   },
   {
    "duration": 5,
    "start_time": "2024-05-18T19:13:23.448Z"
   },
   {
    "duration": 6,
    "start_time": "2024-05-18T19:13:23.668Z"
   },
   {
    "duration": 6,
    "start_time": "2024-05-18T19:13:24.025Z"
   },
   {
    "duration": 5,
    "start_time": "2024-05-18T19:13:24.291Z"
   },
   {
    "duration": 6,
    "start_time": "2024-05-18T19:13:24.693Z"
   },
   {
    "duration": 8,
    "start_time": "2024-05-18T19:14:05.047Z"
   },
   {
    "duration": 6,
    "start_time": "2024-05-18T19:14:58.764Z"
   },
   {
    "duration": 6,
    "start_time": "2024-05-18T19:16:56.293Z"
   },
   {
    "duration": 5,
    "start_time": "2024-05-18T19:26:43.561Z"
   },
   {
    "duration": 6,
    "start_time": "2024-05-18T19:26:57.913Z"
   },
   {
    "duration": 6,
    "start_time": "2024-05-18T19:27:04.315Z"
   },
   {
    "duration": 6,
    "start_time": "2024-05-18T19:27:04.762Z"
   },
   {
    "duration": 5,
    "start_time": "2024-05-18T19:27:04.993Z"
   },
   {
    "duration": 6,
    "start_time": "2024-05-18T19:27:05.131Z"
   },
   {
    "duration": 7,
    "start_time": "2024-05-18T19:27:05.706Z"
   },
   {
    "duration": 6,
    "start_time": "2024-05-18T19:32:46.859Z"
   },
   {
    "duration": 5,
    "start_time": "2024-05-18T19:33:18.793Z"
   },
   {
    "duration": 3,
    "start_time": "2024-05-18T19:35:07.976Z"
   },
   {
    "duration": 5,
    "start_time": "2024-05-18T19:35:34.538Z"
   },
   {
    "duration": 14,
    "start_time": "2024-05-18T19:36:47.668Z"
   },
   {
    "duration": 15,
    "start_time": "2024-05-18T19:37:08.125Z"
   },
   {
    "duration": 8,
    "start_time": "2024-05-18T19:37:47.898Z"
   },
   {
    "duration": 8,
    "start_time": "2024-05-18T19:38:32.043Z"
   },
   {
    "duration": 7,
    "start_time": "2024-05-18T19:38:55.859Z"
   },
   {
    "duration": 8,
    "start_time": "2024-05-18T19:39:09.522Z"
   },
   {
    "duration": 6,
    "start_time": "2024-05-18T19:40:20.182Z"
   },
   {
    "duration": 24,
    "start_time": "2024-05-18T19:47:10.716Z"
   },
   {
    "duration": 11,
    "start_time": "2024-05-18T19:47:23.016Z"
   },
   {
    "duration": 14,
    "start_time": "2024-05-18T19:48:04.799Z"
   },
   {
    "duration": 10,
    "start_time": "2024-05-18T19:48:45.589Z"
   },
   {
    "duration": 12,
    "start_time": "2024-05-18T19:51:37.193Z"
   },
   {
    "duration": 11,
    "start_time": "2024-05-18T19:51:44.158Z"
   },
   {
    "duration": 8,
    "start_time": "2024-05-18T19:53:57.419Z"
   },
   {
    "duration": 1060,
    "start_time": "2024-05-18T19:58:18.927Z"
   },
   {
    "duration": 68,
    "start_time": "2024-05-18T19:58:19.989Z"
   },
   {
    "duration": 12,
    "start_time": "2024-05-18T19:58:20.058Z"
   },
   {
    "duration": 15,
    "start_time": "2024-05-18T19:58:20.071Z"
   },
   {
    "duration": 10,
    "start_time": "2024-05-18T19:58:20.088Z"
   },
   {
    "duration": 12,
    "start_time": "2024-05-18T19:58:20.099Z"
   },
   {
    "duration": 6,
    "start_time": "2024-05-18T19:58:20.113Z"
   },
   {
    "duration": 6,
    "start_time": "2024-05-18T19:58:20.120Z"
   },
   {
    "duration": 7,
    "start_time": "2024-05-18T19:58:20.128Z"
   },
   {
    "duration": 6,
    "start_time": "2024-05-18T19:58:20.137Z"
   },
   {
    "duration": 45,
    "start_time": "2024-05-18T19:58:20.145Z"
   },
   {
    "duration": 4,
    "start_time": "2024-05-18T19:58:20.192Z"
   },
   {
    "duration": 6,
    "start_time": "2024-05-18T19:58:20.198Z"
   },
   {
    "duration": 9,
    "start_time": "2024-05-18T19:58:20.206Z"
   },
   {
    "duration": 10,
    "start_time": "2024-05-18T19:58:20.216Z"
   },
   {
    "duration": 21,
    "start_time": "2024-05-18T19:58:20.227Z"
   },
   {
    "duration": 7,
    "start_time": "2024-05-18T19:58:20.250Z"
   },
   {
    "duration": 24,
    "start_time": "2024-05-18T19:58:20.258Z"
   },
   {
    "duration": 12,
    "start_time": "2024-05-18T19:58:20.284Z"
   },
   {
    "duration": 173,
    "start_time": "2024-05-18T19:58:20.297Z"
   },
   {
    "duration": 9,
    "start_time": "2024-05-18T19:58:20.472Z"
   },
   {
    "duration": 149,
    "start_time": "2024-05-18T19:58:20.482Z"
   },
   {
    "duration": 254,
    "start_time": "2024-05-18T19:58:20.632Z"
   },
   {
    "duration": 9,
    "start_time": "2024-05-18T19:58:20.889Z"
   },
   {
    "duration": 460,
    "start_time": "2024-05-18T19:58:20.900Z"
   },
   {
    "duration": 317,
    "start_time": "2024-05-18T19:58:21.362Z"
   },
   {
    "duration": 232,
    "start_time": "2024-05-18T19:58:21.680Z"
   },
   {
    "duration": 6,
    "start_time": "2024-05-18T19:58:21.914Z"
   },
   {
    "duration": 176,
    "start_time": "2024-05-18T19:58:21.921Z"
   },
   {
    "duration": 29,
    "start_time": "2024-05-18T19:58:22.098Z"
   },
   {
    "duration": 10,
    "start_time": "2024-05-18T19:58:22.129Z"
   },
   {
    "duration": 11,
    "start_time": "2024-05-18T19:58:22.141Z"
   },
   {
    "duration": 29,
    "start_time": "2024-05-18T19:58:22.153Z"
   },
   {
    "duration": 1937,
    "start_time": "2024-05-18T19:58:22.183Z"
   },
   {
    "duration": 35,
    "start_time": "2024-05-18T19:58:24.121Z"
   },
   {
    "duration": 48,
    "start_time": "2024-05-18T19:58:24.158Z"
   },
   {
    "duration": 124,
    "start_time": "2024-05-18T19:58:24.207Z"
   },
   {
    "duration": 2,
    "start_time": "2024-05-18T19:58:24.333Z"
   },
   {
    "duration": 51,
    "start_time": "2024-05-18T19:58:24.337Z"
   },
   {
    "duration": 14,
    "start_time": "2024-05-18T19:58:24.390Z"
   },
   {
    "duration": 7,
    "start_time": "2024-05-18T19:58:24.408Z"
   },
   {
    "duration": 61,
    "start_time": "2024-05-18T19:58:24.416Z"
   },
   {
    "duration": 1867,
    "start_time": "2024-05-18T19:58:24.479Z"
   },
   {
    "duration": 3,
    "start_time": "2024-05-18T19:58:26.348Z"
   },
   {
    "duration": 227,
    "start_time": "2024-05-18T19:58:26.353Z"
   },
   {
    "duration": 7,
    "start_time": "2024-05-18T20:00:36.307Z"
   },
   {
    "duration": 1093,
    "start_time": "2024-05-18T20:02:40.347Z"
   },
   {
    "duration": 69,
    "start_time": "2024-05-18T20:02:41.441Z"
   },
   {
    "duration": 12,
    "start_time": "2024-05-18T20:02:41.514Z"
   },
   {
    "duration": 11,
    "start_time": "2024-05-18T20:02:41.528Z"
   },
   {
    "duration": 9,
    "start_time": "2024-05-18T20:02:41.540Z"
   },
   {
    "duration": 15,
    "start_time": "2024-05-18T20:02:41.551Z"
   },
   {
    "duration": 15,
    "start_time": "2024-05-18T20:02:41.567Z"
   },
   {
    "duration": 7,
    "start_time": "2024-05-18T20:02:41.583Z"
   },
   {
    "duration": 6,
    "start_time": "2024-05-18T20:02:41.593Z"
   },
   {
    "duration": 6,
    "start_time": "2024-05-18T20:02:41.601Z"
   },
   {
    "duration": 15,
    "start_time": "2024-05-18T20:02:41.609Z"
   },
   {
    "duration": 5,
    "start_time": "2024-05-18T20:02:41.625Z"
   },
   {
    "duration": 8,
    "start_time": "2024-05-18T20:02:41.632Z"
   },
   {
    "duration": 39,
    "start_time": "2024-05-18T20:02:41.641Z"
   },
   {
    "duration": 6,
    "start_time": "2024-05-18T20:02:41.682Z"
   },
   {
    "duration": 14,
    "start_time": "2024-05-18T20:02:41.689Z"
   },
   {
    "duration": 8,
    "start_time": "2024-05-18T20:02:41.705Z"
   },
   {
    "duration": 5,
    "start_time": "2024-05-18T20:02:41.714Z"
   },
   {
    "duration": 11,
    "start_time": "2024-05-18T20:02:41.720Z"
   },
   {
    "duration": 196,
    "start_time": "2024-05-18T20:02:41.732Z"
   },
   {
    "duration": 6,
    "start_time": "2024-05-18T20:02:41.929Z"
   },
   {
    "duration": 153,
    "start_time": "2024-05-18T20:02:41.936Z"
   },
   {
    "duration": 265,
    "start_time": "2024-05-18T20:02:42.091Z"
   },
   {
    "duration": 8,
    "start_time": "2024-05-18T20:02:42.358Z"
   },
   {
    "duration": 474,
    "start_time": "2024-05-18T20:02:42.379Z"
   },
   {
    "duration": 310,
    "start_time": "2024-05-18T20:02:42.855Z"
   },
   {
    "duration": 236,
    "start_time": "2024-05-18T20:02:43.170Z"
   },
   {
    "duration": 6,
    "start_time": "2024-05-18T20:02:43.408Z"
   },
   {
    "duration": 170,
    "start_time": "2024-05-18T20:02:43.416Z"
   },
   {
    "duration": 30,
    "start_time": "2024-05-18T20:02:43.587Z"
   },
   {
    "duration": 99,
    "start_time": "2024-05-18T20:02:43.619Z"
   },
   {
    "duration": 12,
    "start_time": "2024-05-18T20:02:43.720Z"
   },
   {
    "duration": 9,
    "start_time": "2024-05-18T20:02:43.734Z"
   },
   {
    "duration": 2050,
    "start_time": "2024-05-18T20:02:43.745Z"
   },
   {
    "duration": 38,
    "start_time": "2024-05-18T20:02:45.797Z"
   },
   {
    "duration": 52,
    "start_time": "2024-05-18T20:02:45.837Z"
   },
   {
    "duration": 139,
    "start_time": "2024-05-18T20:02:45.891Z"
   },
   {
    "duration": 3,
    "start_time": "2024-05-18T20:02:46.031Z"
   },
   {
    "duration": 18,
    "start_time": "2024-05-18T20:02:46.036Z"
   },
   {
    "duration": 17,
    "start_time": "2024-05-18T20:02:46.055Z"
   },
   {
    "duration": 12,
    "start_time": "2024-05-18T20:02:46.073Z"
   },
   {
    "duration": 7,
    "start_time": "2024-05-18T20:02:46.087Z"
   },
   {
    "duration": 1840,
    "start_time": "2024-05-18T20:02:46.096Z"
   },
   {
    "duration": 4,
    "start_time": "2024-05-18T20:02:47.937Z"
   },
   {
    "duration": 179,
    "start_time": "2024-05-18T20:02:47.942Z"
   },
   {
    "duration": 1148,
    "start_time": "2024-05-19T04:55:47.594Z"
   },
   {
    "duration": 220,
    "start_time": "2024-05-19T04:55:48.744Z"
   },
   {
    "duration": 11,
    "start_time": "2024-05-19T04:55:48.966Z"
   },
   {
    "duration": 10,
    "start_time": "2024-05-19T04:55:48.979Z"
   },
   {
    "duration": 12,
    "start_time": "2024-05-19T04:55:48.990Z"
   },
   {
    "duration": 11,
    "start_time": "2024-05-19T04:55:49.004Z"
   },
   {
    "duration": 5,
    "start_time": "2024-05-19T04:55:49.016Z"
   },
   {
    "duration": 11,
    "start_time": "2024-05-19T04:55:49.022Z"
   },
   {
    "duration": 8,
    "start_time": "2024-05-19T04:55:49.034Z"
   },
   {
    "duration": 9,
    "start_time": "2024-05-19T04:55:49.043Z"
   },
   {
    "duration": 16,
    "start_time": "2024-05-19T04:55:49.053Z"
   },
   {
    "duration": 3,
    "start_time": "2024-05-19T04:55:49.071Z"
   },
   {
    "duration": 12,
    "start_time": "2024-05-19T04:55:49.075Z"
   },
   {
    "duration": 15,
    "start_time": "2024-05-19T04:55:49.088Z"
   },
   {
    "duration": 25,
    "start_time": "2024-05-19T04:55:49.104Z"
   },
   {
    "duration": 23,
    "start_time": "2024-05-19T04:55:49.130Z"
   },
   {
    "duration": 6,
    "start_time": "2024-05-19T04:55:49.154Z"
   },
   {
    "duration": 5,
    "start_time": "2024-05-19T04:55:49.162Z"
   },
   {
    "duration": 24,
    "start_time": "2024-05-19T04:55:49.168Z"
   },
   {
    "duration": 153,
    "start_time": "2024-05-19T04:55:49.194Z"
   },
   {
    "duration": 5,
    "start_time": "2024-05-19T04:55:49.348Z"
   },
   {
    "duration": 114,
    "start_time": "2024-05-19T04:55:49.355Z"
   },
   {
    "duration": 210,
    "start_time": "2024-05-19T04:55:49.470Z"
   },
   {
    "duration": 6,
    "start_time": "2024-05-19T04:55:49.682Z"
   },
   {
    "duration": 348,
    "start_time": "2024-05-19T04:55:49.689Z"
   },
   {
    "duration": 239,
    "start_time": "2024-05-19T04:55:50.038Z"
   },
   {
    "duration": 219,
    "start_time": "2024-05-19T04:55:50.278Z"
   },
   {
    "duration": 5,
    "start_time": "2024-05-19T04:55:50.501Z"
   },
   {
    "duration": 140,
    "start_time": "2024-05-19T04:55:50.507Z"
   },
   {
    "duration": 23,
    "start_time": "2024-05-19T04:55:50.648Z"
   },
   {
    "duration": 6,
    "start_time": "2024-05-19T04:55:50.672Z"
   },
   {
    "duration": 25,
    "start_time": "2024-05-19T04:55:50.680Z"
   },
   {
    "duration": 8,
    "start_time": "2024-05-19T04:55:50.706Z"
   },
   {
    "duration": 1535,
    "start_time": "2024-05-19T04:55:50.716Z"
   },
   {
    "duration": 29,
    "start_time": "2024-05-19T04:55:52.252Z"
   },
   {
    "duration": 36,
    "start_time": "2024-05-19T04:55:52.283Z"
   },
   {
    "duration": 104,
    "start_time": "2024-05-19T04:55:52.320Z"
   },
   {
    "duration": 1,
    "start_time": "2024-05-19T04:55:52.426Z"
   },
   {
    "duration": 7,
    "start_time": "2024-05-19T04:55:52.428Z"
   },
   {
    "duration": 11,
    "start_time": "2024-05-19T04:55:52.436Z"
   },
   {
    "duration": 5,
    "start_time": "2024-05-19T04:55:52.449Z"
   },
   {
    "duration": 14,
    "start_time": "2024-05-19T04:55:52.455Z"
   },
   {
    "duration": 1352,
    "start_time": "2024-05-19T04:55:52.470Z"
   },
   {
    "duration": 3,
    "start_time": "2024-05-19T04:55:53.824Z"
   },
   {
    "duration": 145,
    "start_time": "2024-05-19T04:55:53.829Z"
   },
   {
    "duration": 5,
    "start_time": "2024-05-19T05:01:25.661Z"
   },
   {
    "duration": 5,
    "start_time": "2024-05-19T05:01:31.041Z"
   },
   {
    "duration": 87,
    "start_time": "2024-05-19T05:02:01.597Z"
   },
   {
    "duration": 3,
    "start_time": "2024-05-19T05:02:09.504Z"
   },
   {
    "duration": 3,
    "start_time": "2024-05-19T05:02:18.949Z"
   },
   {
    "duration": 25,
    "start_time": "2024-05-19T05:03:17.231Z"
   },
   {
    "duration": 21,
    "start_time": "2024-05-19T05:03:31.076Z"
   },
   {
    "duration": 15,
    "start_time": "2024-05-19T05:04:47.042Z"
   },
   {
    "duration": 1024,
    "start_time": "2024-05-19T06:10:52.683Z"
   },
   {
    "duration": 65,
    "start_time": "2024-05-19T06:10:53.709Z"
   },
   {
    "duration": 10,
    "start_time": "2024-05-19T06:10:53.776Z"
   },
   {
    "duration": 13,
    "start_time": "2024-05-19T06:10:53.787Z"
   },
   {
    "duration": 23,
    "start_time": "2024-05-19T06:10:53.801Z"
   },
   {
    "duration": 22,
    "start_time": "2024-05-19T06:10:53.825Z"
   },
   {
    "duration": 20,
    "start_time": "2024-05-19T06:10:53.849Z"
   },
   {
    "duration": 27,
    "start_time": "2024-05-19T06:10:53.870Z"
   },
   {
    "duration": 10,
    "start_time": "2024-05-19T06:10:53.898Z"
   },
   {
    "duration": 11,
    "start_time": "2024-05-19T06:10:53.909Z"
   },
   {
    "duration": 24,
    "start_time": "2024-05-19T06:10:53.921Z"
   },
   {
    "duration": 14,
    "start_time": "2024-05-19T06:10:53.946Z"
   },
   {
    "duration": 14,
    "start_time": "2024-05-19T06:10:53.961Z"
   },
   {
    "duration": 28,
    "start_time": "2024-05-19T06:10:53.977Z"
   },
   {
    "duration": 13,
    "start_time": "2024-05-19T06:10:54.006Z"
   },
   {
    "duration": 18,
    "start_time": "2024-05-19T06:10:54.020Z"
   },
   {
    "duration": 7,
    "start_time": "2024-05-19T06:10:54.039Z"
   },
   {
    "duration": 9,
    "start_time": "2024-05-19T06:10:54.047Z"
   },
   {
    "duration": 11,
    "start_time": "2024-05-19T06:10:54.057Z"
   },
   {
    "duration": 137,
    "start_time": "2024-05-19T06:10:54.069Z"
   },
   {
    "duration": 5,
    "start_time": "2024-05-19T06:10:54.207Z"
   },
   {
    "duration": 113,
    "start_time": "2024-05-19T06:10:54.214Z"
   },
   {
    "duration": 207,
    "start_time": "2024-05-19T06:10:54.328Z"
   },
   {
    "duration": 7,
    "start_time": "2024-05-19T06:10:54.537Z"
   },
   {
    "duration": 340,
    "start_time": "2024-05-19T06:10:54.546Z"
   },
   {
    "duration": 251,
    "start_time": "2024-05-19T06:10:54.888Z"
   },
   {
    "duration": 222,
    "start_time": "2024-05-19T06:10:55.141Z"
   },
   {
    "duration": 6,
    "start_time": "2024-05-19T06:10:55.364Z"
   },
   {
    "duration": 138,
    "start_time": "2024-05-19T06:10:55.371Z"
   },
   {
    "duration": 23,
    "start_time": "2024-05-19T06:10:55.511Z"
   },
   {
    "duration": 6,
    "start_time": "2024-05-19T06:10:55.535Z"
   },
   {
    "duration": 16,
    "start_time": "2024-05-19T06:10:55.542Z"
   },
   {
    "duration": 63,
    "start_time": "2024-05-19T06:10:55.559Z"
   },
   {
    "duration": 1481,
    "start_time": "2024-05-19T06:10:55.623Z"
   },
   {
    "duration": 28,
    "start_time": "2024-05-19T06:10:57.105Z"
   },
   {
    "duration": 24,
    "start_time": "2024-05-19T06:10:57.135Z"
   },
   {
    "duration": 113,
    "start_time": "2024-05-19T06:10:57.161Z"
   },
   {
    "duration": 27,
    "start_time": "2024-05-19T06:10:57.275Z"
   },
   {
    "duration": 5,
    "start_time": "2024-05-19T06:10:57.303Z"
   },
   {
    "duration": 5,
    "start_time": "2024-05-19T06:10:57.309Z"
   },
   {
    "duration": 17,
    "start_time": "2024-05-19T06:10:57.317Z"
   },
   {
    "duration": 14,
    "start_time": "2024-05-19T06:10:57.335Z"
   },
   {
    "duration": 12,
    "start_time": "2024-05-19T06:10:57.350Z"
   },
   {
    "duration": 1379,
    "start_time": "2024-05-19T06:10:57.363Z"
   },
   {
    "duration": 3,
    "start_time": "2024-05-19T06:10:58.743Z"
   },
   {
    "duration": 142,
    "start_time": "2024-05-19T06:10:58.748Z"
   },
   {
    "duration": 1406,
    "start_time": "2024-05-19T07:12:24.516Z"
   },
   {
    "duration": 222,
    "start_time": "2024-05-19T07:12:25.924Z"
   },
   {
    "duration": 12,
    "start_time": "2024-05-19T07:12:26.147Z"
   },
   {
    "duration": 13,
    "start_time": "2024-05-19T07:12:26.161Z"
   },
   {
    "duration": 31,
    "start_time": "2024-05-19T07:12:26.176Z"
   },
   {
    "duration": 14,
    "start_time": "2024-05-19T07:12:26.210Z"
   },
   {
    "duration": 9,
    "start_time": "2024-05-19T07:12:26.227Z"
   },
   {
    "duration": 27,
    "start_time": "2024-05-19T07:12:26.238Z"
   },
   {
    "duration": 29,
    "start_time": "2024-05-19T07:12:26.267Z"
   },
   {
    "duration": 17,
    "start_time": "2024-05-19T07:12:26.302Z"
   },
   {
    "duration": 15,
    "start_time": "2024-05-19T07:12:26.321Z"
   },
   {
    "duration": 5,
    "start_time": "2024-05-19T07:12:26.337Z"
   },
   {
    "duration": 4,
    "start_time": "2024-05-19T07:12:26.344Z"
   },
   {
    "duration": 5,
    "start_time": "2024-05-19T07:12:26.350Z"
   },
   {
    "duration": 35,
    "start_time": "2024-05-19T07:12:26.356Z"
   },
   {
    "duration": 22,
    "start_time": "2024-05-19T07:12:26.395Z"
   },
   {
    "duration": 11,
    "start_time": "2024-05-19T07:12:26.419Z"
   },
   {
    "duration": 5,
    "start_time": "2024-05-19T07:12:26.432Z"
   },
   {
    "duration": 16,
    "start_time": "2024-05-19T07:12:26.439Z"
   },
   {
    "duration": 247,
    "start_time": "2024-05-19T07:12:26.457Z"
   },
   {
    "duration": 13,
    "start_time": "2024-05-19T07:12:26.706Z"
   },
   {
    "duration": 175,
    "start_time": "2024-05-19T07:12:26.720Z"
   },
   {
    "duration": 304,
    "start_time": "2024-05-19T07:12:26.906Z"
   },
   {
    "duration": 8,
    "start_time": "2024-05-19T07:12:27.212Z"
   },
   {
    "duration": 468,
    "start_time": "2024-05-19T07:12:27.221Z"
   },
   {
    "duration": 347,
    "start_time": "2024-05-19T07:12:27.696Z"
   },
   {
    "duration": 327,
    "start_time": "2024-05-19T07:12:28.044Z"
   },
   {
    "duration": 11,
    "start_time": "2024-05-19T07:12:28.382Z"
   },
   {
    "duration": 251,
    "start_time": "2024-05-19T07:12:28.400Z"
   },
   {
    "duration": 40,
    "start_time": "2024-05-19T07:12:28.653Z"
   },
   {
    "duration": 15,
    "start_time": "2024-05-19T07:12:28.705Z"
   },
   {
    "duration": 15,
    "start_time": "2024-05-19T07:12:28.722Z"
   },
   {
    "duration": 11,
    "start_time": "2024-05-19T07:12:28.739Z"
   },
   {
    "duration": 2216,
    "start_time": "2024-05-19T07:12:28.752Z"
   },
   {
    "duration": 49,
    "start_time": "2024-05-19T07:12:30.970Z"
   },
   {
    "duration": 90,
    "start_time": "2024-05-19T07:12:31.021Z"
   },
   {
    "duration": 202,
    "start_time": "2024-05-19T07:12:31.113Z"
   },
   {
    "duration": 26,
    "start_time": "2024-05-19T07:12:31.316Z"
   },
   {
    "duration": 88,
    "start_time": "2024-05-19T07:12:31.344Z"
   },
   {
    "duration": 22,
    "start_time": "2024-05-19T07:12:31.434Z"
   },
   {
    "duration": 44,
    "start_time": "2024-05-19T07:12:31.457Z"
   },
   {
    "duration": 41,
    "start_time": "2024-05-19T07:12:31.502Z"
   },
   {
    "duration": 19,
    "start_time": "2024-05-19T07:12:31.545Z"
   },
   {
    "duration": 2139,
    "start_time": "2024-05-19T07:12:31.566Z"
   },
   {
    "duration": 3,
    "start_time": "2024-05-19T07:12:33.707Z"
   },
   {
    "duration": 220,
    "start_time": "2024-05-19T07:12:33.715Z"
   },
   {
    "duration": 8,
    "start_time": "2024-05-19T07:13:37.453Z"
   },
   {
    "duration": 157,
    "start_time": "2024-05-19T07:16:03.250Z"
   },
   {
    "duration": 172,
    "start_time": "2024-05-19T07:16:15.698Z"
   },
   {
    "duration": 15,
    "start_time": "2024-05-19T07:16:30.413Z"
   },
   {
    "duration": 19,
    "start_time": "2024-05-19T07:16:40.832Z"
   },
   {
    "duration": 15,
    "start_time": "2024-05-19T07:17:00.634Z"
   },
   {
    "duration": 33,
    "start_time": "2024-05-19T07:17:12.473Z"
   },
   {
    "duration": 185,
    "start_time": "2024-05-19T07:17:21.881Z"
   },
   {
    "duration": 28,
    "start_time": "2024-05-19T07:17:39.678Z"
   },
   {
    "duration": 16,
    "start_time": "2024-05-19T07:17:44.046Z"
   },
   {
    "duration": 22,
    "start_time": "2024-05-19T07:17:49.481Z"
   },
   {
    "duration": 17,
    "start_time": "2024-05-19T07:17:52.472Z"
   },
   {
    "duration": 172,
    "start_time": "2024-05-19T07:18:20.057Z"
   },
   {
    "duration": 159,
    "start_time": "2024-05-19T07:20:39.655Z"
   },
   {
    "duration": 98,
    "start_time": "2024-05-19T07:21:02.160Z"
   },
   {
    "duration": 281,
    "start_time": "2024-05-19T07:22:36.380Z"
   },
   {
    "duration": 127,
    "start_time": "2024-05-19T07:22:52.287Z"
   },
   {
    "duration": 131,
    "start_time": "2024-05-19T07:23:32.979Z"
   },
   {
    "duration": 203,
    "start_time": "2024-05-19T07:24:21.539Z"
   },
   {
    "duration": 217,
    "start_time": "2024-05-19T07:24:30.904Z"
   },
   {
    "duration": 223,
    "start_time": "2024-05-19T07:25:02.296Z"
   },
   {
    "duration": 97,
    "start_time": "2024-05-19T07:25:07.618Z"
   },
   {
    "duration": 128,
    "start_time": "2024-05-19T07:25:18.909Z"
   },
   {
    "duration": 14,
    "start_time": "2024-05-19T07:50:15.633Z"
   },
   {
    "duration": 5,
    "start_time": "2024-05-19T07:51:42.236Z"
   },
   {
    "duration": 9,
    "start_time": "2024-05-19T07:52:00.742Z"
   },
   {
    "duration": 5,
    "start_time": "2024-05-19T08:03:21.892Z"
   },
   {
    "duration": 1179,
    "start_time": "2024-05-19T08:04:43.776Z"
   },
   {
    "duration": 81,
    "start_time": "2024-05-19T08:04:44.962Z"
   },
   {
    "duration": 17,
    "start_time": "2024-05-19T08:04:45.044Z"
   },
   {
    "duration": 29,
    "start_time": "2024-05-19T08:04:45.064Z"
   },
   {
    "duration": 39,
    "start_time": "2024-05-19T08:04:45.095Z"
   },
   {
    "duration": 45,
    "start_time": "2024-05-19T08:04:45.136Z"
   },
   {
    "duration": 51,
    "start_time": "2024-05-19T08:04:45.183Z"
   },
   {
    "duration": 15,
    "start_time": "2024-05-19T08:04:45.236Z"
   },
   {
    "duration": 25,
    "start_time": "2024-05-19T08:04:45.253Z"
   },
   {
    "duration": 25,
    "start_time": "2024-05-19T08:04:45.280Z"
   },
   {
    "duration": 19,
    "start_time": "2024-05-19T08:04:45.307Z"
   },
   {
    "duration": 8,
    "start_time": "2024-05-19T08:04:45.328Z"
   },
   {
    "duration": 13,
    "start_time": "2024-05-19T08:04:45.337Z"
   },
   {
    "duration": 17,
    "start_time": "2024-05-19T08:04:45.352Z"
   },
   {
    "duration": 5,
    "start_time": "2024-05-19T08:04:45.370Z"
   },
   {
    "duration": 15,
    "start_time": "2024-05-19T08:04:45.377Z"
   },
   {
    "duration": 23,
    "start_time": "2024-05-19T08:04:45.394Z"
   },
   {
    "duration": 25,
    "start_time": "2024-05-19T08:04:45.419Z"
   },
   {
    "duration": 9,
    "start_time": "2024-05-19T08:04:45.446Z"
   },
   {
    "duration": 16,
    "start_time": "2024-05-19T08:04:45.456Z"
   },
   {
    "duration": 30,
    "start_time": "2024-05-19T08:04:45.474Z"
   },
   {
    "duration": 58,
    "start_time": "2024-05-19T08:04:45.506Z"
   },
   {
    "duration": 0,
    "start_time": "2024-05-19T08:04:45.567Z"
   },
   {
    "duration": 0,
    "start_time": "2024-05-19T08:04:45.568Z"
   },
   {
    "duration": 0,
    "start_time": "2024-05-19T08:04:45.569Z"
   },
   {
    "duration": 0,
    "start_time": "2024-05-19T08:04:45.570Z"
   },
   {
    "duration": 0,
    "start_time": "2024-05-19T08:04:45.571Z"
   },
   {
    "duration": 0,
    "start_time": "2024-05-19T08:04:45.572Z"
   },
   {
    "duration": 0,
    "start_time": "2024-05-19T08:04:45.574Z"
   },
   {
    "duration": 0,
    "start_time": "2024-05-19T08:04:45.575Z"
   },
   {
    "duration": 0,
    "start_time": "2024-05-19T08:04:45.577Z"
   },
   {
    "duration": 0,
    "start_time": "2024-05-19T08:04:45.578Z"
   },
   {
    "duration": 0,
    "start_time": "2024-05-19T08:04:45.580Z"
   },
   {
    "duration": 0,
    "start_time": "2024-05-19T08:04:45.581Z"
   },
   {
    "duration": 0,
    "start_time": "2024-05-19T08:04:45.582Z"
   },
   {
    "duration": 0,
    "start_time": "2024-05-19T08:04:45.583Z"
   },
   {
    "duration": 0,
    "start_time": "2024-05-19T08:04:45.585Z"
   },
   {
    "duration": 0,
    "start_time": "2024-05-19T08:04:45.589Z"
   },
   {
    "duration": 0,
    "start_time": "2024-05-19T08:04:45.590Z"
   },
   {
    "duration": 0,
    "start_time": "2024-05-19T08:04:45.591Z"
   },
   {
    "duration": 0,
    "start_time": "2024-05-19T08:04:45.592Z"
   },
   {
    "duration": 0,
    "start_time": "2024-05-19T08:04:45.593Z"
   },
   {
    "duration": 0,
    "start_time": "2024-05-19T08:04:45.593Z"
   },
   {
    "duration": 0,
    "start_time": "2024-05-19T08:04:45.597Z"
   },
   {
    "duration": 0,
    "start_time": "2024-05-19T08:04:45.598Z"
   },
   {
    "duration": 0,
    "start_time": "2024-05-19T08:04:45.599Z"
   },
   {
    "duration": 0,
    "start_time": "2024-05-19T08:04:45.600Z"
   },
   {
    "duration": 0,
    "start_time": "2024-05-19T08:04:45.601Z"
   },
   {
    "duration": 0,
    "start_time": "2024-05-19T08:04:45.602Z"
   },
   {
    "duration": 70,
    "start_time": "2024-05-19T08:05:25.160Z"
   },
   {
    "duration": 55,
    "start_time": "2024-05-19T08:05:39.771Z"
   },
   {
    "duration": 197,
    "start_time": "2024-05-19T08:05:54.305Z"
   },
   {
    "duration": 1173,
    "start_time": "2024-05-19T08:06:00.700Z"
   },
   {
    "duration": 85,
    "start_time": "2024-05-19T08:06:01.876Z"
   },
   {
    "duration": 13,
    "start_time": "2024-05-19T08:06:01.962Z"
   },
   {
    "duration": 57,
    "start_time": "2024-05-19T08:06:01.977Z"
   },
   {
    "duration": 13,
    "start_time": "2024-05-19T08:06:02.035Z"
   },
   {
    "duration": 59,
    "start_time": "2024-05-19T08:06:02.049Z"
   },
   {
    "duration": 17,
    "start_time": "2024-05-19T08:06:02.110Z"
   },
   {
    "duration": 10,
    "start_time": "2024-05-19T08:06:02.129Z"
   },
   {
    "duration": 7,
    "start_time": "2024-05-19T08:06:02.140Z"
   },
   {
    "duration": 21,
    "start_time": "2024-05-19T08:06:02.150Z"
   },
   {
    "duration": 30,
    "start_time": "2024-05-19T08:06:02.174Z"
   },
   {
    "duration": 6,
    "start_time": "2024-05-19T08:06:02.205Z"
   },
   {
    "duration": 19,
    "start_time": "2024-05-19T08:06:02.212Z"
   },
   {
    "duration": 8,
    "start_time": "2024-05-19T08:06:02.234Z"
   },
   {
    "duration": 18,
    "start_time": "2024-05-19T08:06:02.244Z"
   },
   {
    "duration": 40,
    "start_time": "2024-05-19T08:06:02.264Z"
   },
   {
    "duration": 31,
    "start_time": "2024-05-19T08:06:02.306Z"
   },
   {
    "duration": 13,
    "start_time": "2024-05-19T08:06:02.338Z"
   },
   {
    "duration": 20,
    "start_time": "2024-05-19T08:06:02.352Z"
   },
   {
    "duration": 28,
    "start_time": "2024-05-19T08:06:02.374Z"
   },
   {
    "duration": 13,
    "start_time": "2024-05-19T08:06:02.404Z"
   },
   {
    "duration": 194,
    "start_time": "2024-05-19T08:06:02.418Z"
   },
   {
    "duration": 6,
    "start_time": "2024-05-19T08:06:02.614Z"
   },
   {
    "duration": 107,
    "start_time": "2024-05-19T08:06:02.621Z"
   },
   {
    "duration": 277,
    "start_time": "2024-05-19T08:06:02.729Z"
   },
   {
    "duration": 9,
    "start_time": "2024-05-19T08:06:03.007Z"
   },
   {
    "duration": 502,
    "start_time": "2024-05-19T08:06:03.017Z"
   },
   {
    "duration": 443,
    "start_time": "2024-05-19T08:06:03.523Z"
   },
   {
    "duration": 285,
    "start_time": "2024-05-19T08:06:03.968Z"
   },
   {
    "duration": 5,
    "start_time": "2024-05-19T08:06:04.255Z"
   },
   {
    "duration": 186,
    "start_time": "2024-05-19T08:06:04.262Z"
   },
   {
    "duration": 5,
    "start_time": "2024-05-19T08:06:04.449Z"
   },
   {
    "duration": 52,
    "start_time": "2024-05-19T08:06:04.455Z"
   },
   {
    "duration": 10,
    "start_time": "2024-05-19T08:06:04.508Z"
   },
   {
    "duration": 11,
    "start_time": "2024-05-19T08:06:04.520Z"
   },
   {
    "duration": 9,
    "start_time": "2024-05-19T08:06:04.533Z"
   },
   {
    "duration": 2165,
    "start_time": "2024-05-19T08:06:04.544Z"
   },
   {
    "duration": 42,
    "start_time": "2024-05-19T08:06:06.710Z"
   },
   {
    "duration": 58,
    "start_time": "2024-05-19T08:06:06.754Z"
   },
   {
    "duration": 139,
    "start_time": "2024-05-19T08:06:06.814Z"
   },
   {
    "duration": 52,
    "start_time": "2024-05-19T08:06:06.955Z"
   },
   {
    "duration": 3,
    "start_time": "2024-05-19T08:06:07.010Z"
   },
   {
    "duration": 27,
    "start_time": "2024-05-19T08:06:07.015Z"
   },
   {
    "duration": 24,
    "start_time": "2024-05-19T08:06:07.044Z"
   },
   {
    "duration": 18,
    "start_time": "2024-05-19T08:06:07.070Z"
   },
   {
    "duration": 22,
    "start_time": "2024-05-19T08:06:07.090Z"
   },
   {
    "duration": 2056,
    "start_time": "2024-05-19T08:06:07.114Z"
   },
   {
    "duration": 17,
    "start_time": "2024-05-19T08:06:09.171Z"
   },
   {
    "duration": 219,
    "start_time": "2024-05-19T08:06:09.190Z"
   },
   {
    "duration": 8,
    "start_time": "2024-05-19T08:11:42.429Z"
   },
   {
    "duration": 5,
    "start_time": "2024-05-19T08:18:57.048Z"
   },
   {
    "duration": 22,
    "start_time": "2024-05-19T08:19:45.970Z"
   },
   {
    "duration": 6,
    "start_time": "2024-05-19T08:27:22.606Z"
   },
   {
    "duration": 5,
    "start_time": "2024-05-19T08:29:24.232Z"
   },
   {
    "duration": 4,
    "start_time": "2024-05-19T08:30:00.865Z"
   },
   {
    "duration": 4,
    "start_time": "2024-05-19T08:30:19.805Z"
   },
   {
    "duration": 1913,
    "start_time": "2024-05-19T08:32:07.833Z"
   },
   {
    "duration": 7,
    "start_time": "2024-05-19T08:38:47.595Z"
   },
   {
    "duration": 1164,
    "start_time": "2024-05-19T08:39:27.055Z"
   },
   {
    "duration": 79,
    "start_time": "2024-05-19T08:39:28.221Z"
   },
   {
    "duration": 13,
    "start_time": "2024-05-19T08:39:28.301Z"
   },
   {
    "duration": 11,
    "start_time": "2024-05-19T08:39:28.317Z"
   },
   {
    "duration": 12,
    "start_time": "2024-05-19T08:39:28.329Z"
   },
   {
    "duration": 13,
    "start_time": "2024-05-19T08:39:28.343Z"
   },
   {
    "duration": 29,
    "start_time": "2024-05-19T08:39:28.358Z"
   },
   {
    "duration": 6,
    "start_time": "2024-05-19T08:39:28.389Z"
   },
   {
    "duration": 6,
    "start_time": "2024-05-19T08:39:28.397Z"
   },
   {
    "duration": 8,
    "start_time": "2024-05-19T08:39:28.406Z"
   },
   {
    "duration": 14,
    "start_time": "2024-05-19T08:39:28.415Z"
   },
   {
    "duration": 4,
    "start_time": "2024-05-19T08:39:28.431Z"
   },
   {
    "duration": 3,
    "start_time": "2024-05-19T08:39:28.437Z"
   },
   {
    "duration": 41,
    "start_time": "2024-05-19T08:39:28.442Z"
   },
   {
    "duration": 4,
    "start_time": "2024-05-19T08:39:28.485Z"
   },
   {
    "duration": 10,
    "start_time": "2024-05-19T08:39:28.490Z"
   },
   {
    "duration": 20,
    "start_time": "2024-05-19T08:39:28.502Z"
   },
   {
    "duration": 10,
    "start_time": "2024-05-19T08:39:28.524Z"
   },
   {
    "duration": 46,
    "start_time": "2024-05-19T08:39:28.536Z"
   },
   {
    "duration": 12,
    "start_time": "2024-05-19T08:39:28.584Z"
   },
   {
    "duration": 12,
    "start_time": "2024-05-19T08:39:28.597Z"
   },
   {
    "duration": 207,
    "start_time": "2024-05-19T08:39:28.611Z"
   },
   {
    "duration": 6,
    "start_time": "2024-05-19T08:39:28.820Z"
   },
   {
    "duration": 85,
    "start_time": "2024-05-19T08:39:28.827Z"
   },
   {
    "duration": 272,
    "start_time": "2024-05-19T08:39:28.914Z"
   },
   {
    "duration": 8,
    "start_time": "2024-05-19T08:39:29.189Z"
   },
   {
    "duration": 462,
    "start_time": "2024-05-19T08:39:29.199Z"
   },
   {
    "duration": 316,
    "start_time": "2024-05-19T08:39:29.665Z"
   },
   {
    "duration": 249,
    "start_time": "2024-05-19T08:39:29.982Z"
   },
   {
    "duration": 5,
    "start_time": "2024-05-19T08:39:30.234Z"
   },
   {
    "duration": 193,
    "start_time": "2024-05-19T08:39:30.241Z"
   },
   {
    "duration": 4,
    "start_time": "2024-05-19T08:39:30.436Z"
   },
   {
    "duration": 91,
    "start_time": "2024-05-19T08:39:30.442Z"
   },
   {
    "duration": 15,
    "start_time": "2024-05-19T08:39:30.535Z"
   },
   {
    "duration": 137,
    "start_time": "2024-05-19T08:39:30.551Z"
   },
   {
    "duration": 89,
    "start_time": "2024-05-19T08:39:30.690Z"
   },
   {
    "duration": 2086,
    "start_time": "2024-05-19T08:39:30.781Z"
   },
   {
    "duration": 39,
    "start_time": "2024-05-19T08:39:32.869Z"
   },
   {
    "duration": 34,
    "start_time": "2024-05-19T08:39:32.909Z"
   },
   {
    "duration": 138,
    "start_time": "2024-05-19T08:39:32.944Z"
   },
   {
    "duration": 36,
    "start_time": "2024-05-19T08:39:33.083Z"
   },
   {
    "duration": 3,
    "start_time": "2024-05-19T08:39:33.121Z"
   },
   {
    "duration": 4,
    "start_time": "2024-05-19T08:39:33.125Z"
   },
   {
    "duration": 5,
    "start_time": "2024-05-19T08:39:33.131Z"
   },
   {
    "duration": 8,
    "start_time": "2024-05-19T08:39:33.138Z"
   },
   {
    "duration": 36,
    "start_time": "2024-05-19T08:39:33.148Z"
   },
   {
    "duration": 3,
    "start_time": "2024-05-19T08:39:33.186Z"
   },
   {
    "duration": 1930,
    "start_time": "2024-05-19T08:39:33.191Z"
   },
   {
    "duration": 3,
    "start_time": "2024-05-19T08:39:35.123Z"
   },
   {
    "duration": 182,
    "start_time": "2024-05-19T08:39:35.128Z"
   },
   {
    "duration": 1123,
    "start_time": "2024-05-19T13:47:37.449Z"
   },
   {
    "duration": 80,
    "start_time": "2024-05-19T13:47:38.574Z"
   },
   {
    "duration": 16,
    "start_time": "2024-05-19T13:47:38.656Z"
   },
   {
    "duration": 22,
    "start_time": "2024-05-19T13:47:38.673Z"
   },
   {
    "duration": 9,
    "start_time": "2024-05-19T13:47:38.702Z"
   },
   {
    "duration": 13,
    "start_time": "2024-05-19T13:47:38.713Z"
   },
   {
    "duration": 7,
    "start_time": "2024-05-19T13:47:38.728Z"
   },
   {
    "duration": 20,
    "start_time": "2024-05-19T13:47:38.737Z"
   },
   {
    "duration": 7,
    "start_time": "2024-05-19T13:47:38.759Z"
   },
   {
    "duration": 29,
    "start_time": "2024-05-19T13:47:38.768Z"
   },
   {
    "duration": 20,
    "start_time": "2024-05-19T13:47:38.802Z"
   },
   {
    "duration": 6,
    "start_time": "2024-05-19T13:47:38.823Z"
   },
   {
    "duration": 30,
    "start_time": "2024-05-19T13:47:38.830Z"
   },
   {
    "duration": 22,
    "start_time": "2024-05-19T13:47:38.864Z"
   },
   {
    "duration": 11,
    "start_time": "2024-05-19T13:47:38.888Z"
   },
   {
    "duration": 15,
    "start_time": "2024-05-19T13:47:38.901Z"
   },
   {
    "duration": 14,
    "start_time": "2024-05-19T13:47:38.918Z"
   },
   {
    "duration": 9,
    "start_time": "2024-05-19T13:47:38.934Z"
   },
   {
    "duration": 4,
    "start_time": "2024-05-19T13:47:38.945Z"
   },
   {
    "duration": 16,
    "start_time": "2024-05-19T13:47:38.951Z"
   },
   {
    "duration": 26,
    "start_time": "2024-05-19T13:47:38.969Z"
   },
   {
    "duration": 178,
    "start_time": "2024-05-19T13:47:39.000Z"
   },
   {
    "duration": 16,
    "start_time": "2024-05-19T13:47:39.179Z"
   },
   {
    "duration": 113,
    "start_time": "2024-05-19T13:47:39.197Z"
   },
   {
    "duration": 256,
    "start_time": "2024-05-19T13:47:39.312Z"
   },
   {
    "duration": 18,
    "start_time": "2024-05-19T13:47:39.569Z"
   },
   {
    "duration": 454,
    "start_time": "2024-05-19T13:47:39.588Z"
   },
   {
    "duration": 318,
    "start_time": "2024-05-19T13:47:40.044Z"
   },
   {
    "duration": 297,
    "start_time": "2024-05-19T13:47:40.364Z"
   },
   {
    "duration": 6,
    "start_time": "2024-05-19T13:47:40.662Z"
   },
   {
    "duration": 176,
    "start_time": "2024-05-19T13:47:40.669Z"
   },
   {
    "duration": 4,
    "start_time": "2024-05-19T13:47:40.847Z"
   },
   {
    "duration": 45,
    "start_time": "2024-05-19T13:47:40.852Z"
   },
   {
    "duration": 11,
    "start_time": "2024-05-19T13:47:40.899Z"
   },
   {
    "duration": 24,
    "start_time": "2024-05-19T13:47:40.911Z"
   },
   {
    "duration": 10,
    "start_time": "2024-05-19T13:47:40.936Z"
   },
   {
    "duration": 2062,
    "start_time": "2024-05-19T13:47:40.947Z"
   },
   {
    "duration": 35,
    "start_time": "2024-05-19T13:47:43.011Z"
   },
   {
    "duration": 57,
    "start_time": "2024-05-19T13:47:43.048Z"
   },
   {
    "duration": 137,
    "start_time": "2024-05-19T13:47:43.106Z"
   },
   {
    "duration": 25,
    "start_time": "2024-05-19T13:47:43.246Z"
   },
   {
    "duration": 13,
    "start_time": "2024-05-19T13:47:43.272Z"
   },
   {
    "duration": 10,
    "start_time": "2024-05-19T13:47:43.289Z"
   },
   {
    "duration": 31,
    "start_time": "2024-05-19T13:47:43.300Z"
   },
   {
    "duration": 10,
    "start_time": "2024-05-19T13:47:43.333Z"
   },
   {
    "duration": 7,
    "start_time": "2024-05-19T13:47:43.345Z"
   },
   {
    "duration": 4,
    "start_time": "2024-05-19T13:47:43.353Z"
   },
   {
    "duration": 1972,
    "start_time": "2024-05-19T13:47:43.358Z"
   },
   {
    "duration": 3,
    "start_time": "2024-05-19T13:47:45.332Z"
   },
   {
    "duration": 195,
    "start_time": "2024-05-19T13:47:45.337Z"
   },
   {
    "duration": 6,
    "start_time": "2024-05-19T13:54:09.009Z"
   },
   {
    "duration": 1332,
    "start_time": "2024-05-19T17:03:47.928Z"
   },
   {
    "duration": 312,
    "start_time": "2024-05-19T17:03:49.262Z"
   },
   {
    "duration": 13,
    "start_time": "2024-05-19T17:03:49.576Z"
   },
   {
    "duration": 50,
    "start_time": "2024-05-19T17:03:49.591Z"
   },
   {
    "duration": 11,
    "start_time": "2024-05-19T17:03:49.642Z"
   },
   {
    "duration": 16,
    "start_time": "2024-05-19T17:03:49.655Z"
   },
   {
    "duration": 16,
    "start_time": "2024-05-19T17:03:49.673Z"
   },
   {
    "duration": 7,
    "start_time": "2024-05-19T17:03:49.690Z"
   },
   {
    "duration": 21,
    "start_time": "2024-05-19T17:03:49.699Z"
   },
   {
    "duration": 10,
    "start_time": "2024-05-19T17:03:49.723Z"
   },
   {
    "duration": 15,
    "start_time": "2024-05-19T17:03:49.735Z"
   },
   {
    "duration": 6,
    "start_time": "2024-05-19T17:03:49.751Z"
   },
   {
    "duration": 31,
    "start_time": "2024-05-19T17:03:49.758Z"
   },
   {
    "duration": 10,
    "start_time": "2024-05-19T17:03:49.791Z"
   },
   {
    "duration": 3,
    "start_time": "2024-05-19T17:03:49.803Z"
   },
   {
    "duration": 7,
    "start_time": "2024-05-19T17:03:49.807Z"
   },
   {
    "duration": 13,
    "start_time": "2024-05-19T17:03:49.816Z"
   },
   {
    "duration": 8,
    "start_time": "2024-05-19T17:03:49.830Z"
   },
   {
    "duration": 8,
    "start_time": "2024-05-19T17:03:49.840Z"
   },
   {
    "duration": 38,
    "start_time": "2024-05-19T17:03:49.849Z"
   },
   {
    "duration": 14,
    "start_time": "2024-05-19T17:03:49.889Z"
   },
   {
    "duration": 192,
    "start_time": "2024-05-19T17:03:49.905Z"
   },
   {
    "duration": 6,
    "start_time": "2024-05-19T17:03:50.099Z"
   },
   {
    "duration": 99,
    "start_time": "2024-05-19T17:03:50.107Z"
   },
   {
    "duration": 259,
    "start_time": "2024-05-19T17:03:50.208Z"
   },
   {
    "duration": 17,
    "start_time": "2024-05-19T17:03:50.469Z"
   },
   {
    "duration": 426,
    "start_time": "2024-05-19T17:03:50.488Z"
   },
   {
    "duration": 315,
    "start_time": "2024-05-19T17:03:50.919Z"
   },
   {
    "duration": 277,
    "start_time": "2024-05-19T17:03:51.236Z"
   },
   {
    "duration": 7,
    "start_time": "2024-05-19T17:03:51.514Z"
   },
   {
    "duration": 180,
    "start_time": "2024-05-19T17:03:51.523Z"
   },
   {
    "duration": 5,
    "start_time": "2024-05-19T17:03:51.705Z"
   },
   {
    "duration": 32,
    "start_time": "2024-05-19T17:03:51.711Z"
   },
   {
    "duration": 9,
    "start_time": "2024-05-19T17:03:51.745Z"
   },
   {
    "duration": 32,
    "start_time": "2024-05-19T17:03:51.755Z"
   },
   {
    "duration": 10,
    "start_time": "2024-05-19T17:03:51.789Z"
   },
   {
    "duration": 2000,
    "start_time": "2024-05-19T17:03:51.800Z"
   },
   {
    "duration": 34,
    "start_time": "2024-05-19T17:03:53.801Z"
   },
   {
    "duration": 49,
    "start_time": "2024-05-19T17:03:53.837Z"
   },
   {
    "duration": 118,
    "start_time": "2024-05-19T17:03:53.888Z"
   },
   {
    "duration": 28,
    "start_time": "2024-05-19T17:03:54.007Z"
   },
   {
    "duration": 5,
    "start_time": "2024-05-19T17:03:54.037Z"
   },
   {
    "duration": 16,
    "start_time": "2024-05-19T17:03:54.044Z"
   },
   {
    "duration": 11,
    "start_time": "2024-05-19T17:03:54.061Z"
   },
   {
    "duration": 18,
    "start_time": "2024-05-19T17:03:54.081Z"
   },
   {
    "duration": 32,
    "start_time": "2024-05-19T17:03:54.100Z"
   },
   {
    "duration": 18,
    "start_time": "2024-05-19T17:03:54.134Z"
   },
   {
    "duration": 1970,
    "start_time": "2024-05-19T17:03:54.154Z"
   },
   {
    "duration": 4,
    "start_time": "2024-05-19T17:03:56.125Z"
   },
   {
    "duration": 181,
    "start_time": "2024-05-19T17:03:56.131Z"
   },
   {
    "duration": 19,
    "start_time": "2024-05-19T17:06:09.771Z"
   },
   {
    "duration": 52,
    "start_time": "2024-05-19T17:15:16.481Z"
   },
   {
    "duration": 1435,
    "start_time": "2024-05-19T17:15:20.711Z"
   },
   {
    "duration": 210,
    "start_time": "2024-05-19T17:15:22.148Z"
   },
   {
    "duration": 13,
    "start_time": "2024-05-19T17:15:22.359Z"
   },
   {
    "duration": 11,
    "start_time": "2024-05-19T17:15:22.375Z"
   },
   {
    "duration": 19,
    "start_time": "2024-05-19T17:15:22.387Z"
   },
   {
    "duration": 15,
    "start_time": "2024-05-19T17:15:22.408Z"
   },
   {
    "duration": 7,
    "start_time": "2024-05-19T17:15:22.424Z"
   },
   {
    "duration": 12,
    "start_time": "2024-05-19T17:15:22.433Z"
   },
   {
    "duration": 26,
    "start_time": "2024-05-19T17:15:22.446Z"
   },
   {
    "duration": 14,
    "start_time": "2024-05-19T17:15:22.476Z"
   },
   {
    "duration": 26,
    "start_time": "2024-05-19T17:15:22.492Z"
   },
   {
    "duration": 6,
    "start_time": "2024-05-19T17:15:22.520Z"
   },
   {
    "duration": 17,
    "start_time": "2024-05-19T17:15:22.527Z"
   },
   {
    "duration": 8,
    "start_time": "2024-05-19T17:15:22.546Z"
   },
   {
    "duration": 5,
    "start_time": "2024-05-19T17:15:22.556Z"
   },
   {
    "duration": 11,
    "start_time": "2024-05-19T17:15:22.563Z"
   },
   {
    "duration": 15,
    "start_time": "2024-05-19T17:15:22.576Z"
   },
   {
    "duration": 10,
    "start_time": "2024-05-19T17:15:22.593Z"
   },
   {
    "duration": 31,
    "start_time": "2024-05-19T17:15:22.604Z"
   },
   {
    "duration": 16,
    "start_time": "2024-05-19T17:15:22.637Z"
   },
   {
    "duration": 15,
    "start_time": "2024-05-19T17:15:22.655Z"
   },
   {
    "duration": 195,
    "start_time": "2024-05-19T17:15:22.672Z"
   },
   {
    "duration": 7,
    "start_time": "2024-05-19T17:15:22.869Z"
   },
   {
    "duration": 104,
    "start_time": "2024-05-19T17:15:22.878Z"
   },
   {
    "duration": 291,
    "start_time": "2024-05-19T17:15:22.984Z"
   },
   {
    "duration": 9,
    "start_time": "2024-05-19T17:15:23.278Z"
   },
   {
    "duration": 468,
    "start_time": "2024-05-19T17:15:23.289Z"
   },
   {
    "duration": 315,
    "start_time": "2024-05-19T17:15:23.762Z"
   },
   {
    "duration": 255,
    "start_time": "2024-05-19T17:15:24.079Z"
   },
   {
    "duration": 6,
    "start_time": "2024-05-19T17:15:24.335Z"
   },
   {
    "duration": 197,
    "start_time": "2024-05-19T17:15:24.344Z"
   },
   {
    "duration": 4,
    "start_time": "2024-05-19T17:15:24.543Z"
   },
   {
    "duration": 39,
    "start_time": "2024-05-19T17:15:24.549Z"
   },
   {
    "duration": 10,
    "start_time": "2024-05-19T17:15:24.589Z"
   },
   {
    "duration": 28,
    "start_time": "2024-05-19T17:15:24.601Z"
   },
   {
    "duration": 10,
    "start_time": "2024-05-19T17:15:24.631Z"
   },
   {
    "duration": 2137,
    "start_time": "2024-05-19T17:15:24.652Z"
   },
   {
    "duration": 45,
    "start_time": "2024-05-19T17:15:26.791Z"
   },
   {
    "duration": 34,
    "start_time": "2024-05-19T17:15:26.838Z"
   },
   {
    "duration": 138,
    "start_time": "2024-05-19T17:15:26.873Z"
   },
   {
    "duration": 38,
    "start_time": "2024-05-19T17:15:27.013Z"
   },
   {
    "duration": 3,
    "start_time": "2024-05-19T17:15:27.052Z"
   },
   {
    "duration": 9,
    "start_time": "2024-05-19T17:15:27.056Z"
   },
   {
    "duration": 6,
    "start_time": "2024-05-19T17:15:27.066Z"
   },
   {
    "duration": 8,
    "start_time": "2024-05-19T17:15:27.074Z"
   },
   {
    "duration": 7,
    "start_time": "2024-05-19T17:15:27.083Z"
   },
   {
    "duration": 6,
    "start_time": "2024-05-19T17:15:27.091Z"
   },
   {
    "duration": 1913,
    "start_time": "2024-05-19T17:15:27.129Z"
   },
   {
    "duration": 4,
    "start_time": "2024-05-19T17:15:29.043Z"
   },
   {
    "duration": 207,
    "start_time": "2024-05-19T17:15:29.049Z"
   },
   {
    "duration": 1179,
    "start_time": "2024-05-19T17:20:15.037Z"
   },
   {
    "duration": 71,
    "start_time": "2024-05-19T17:20:16.218Z"
   },
   {
    "duration": 13,
    "start_time": "2024-05-19T17:20:16.291Z"
   },
   {
    "duration": 25,
    "start_time": "2024-05-19T17:20:16.306Z"
   },
   {
    "duration": 25,
    "start_time": "2024-05-19T17:20:16.332Z"
   },
   {
    "duration": 28,
    "start_time": "2024-05-19T17:20:16.358Z"
   },
   {
    "duration": 22,
    "start_time": "2024-05-19T17:20:16.387Z"
   },
   {
    "duration": 14,
    "start_time": "2024-05-19T17:20:16.411Z"
   },
   {
    "duration": 10,
    "start_time": "2024-05-19T17:20:16.427Z"
   },
   {
    "duration": 33,
    "start_time": "2024-05-19T17:20:16.440Z"
   },
   {
    "duration": 28,
    "start_time": "2024-05-19T17:20:16.475Z"
   },
   {
    "duration": 9,
    "start_time": "2024-05-19T17:20:16.504Z"
   },
   {
    "duration": 21,
    "start_time": "2024-05-19T17:20:16.515Z"
   },
   {
    "duration": 37,
    "start_time": "2024-05-19T17:20:16.538Z"
   },
   {
    "duration": 29,
    "start_time": "2024-05-19T17:20:16.577Z"
   },
   {
    "duration": 18,
    "start_time": "2024-05-19T17:20:16.608Z"
   },
   {
    "duration": 22,
    "start_time": "2024-05-19T17:20:16.628Z"
   },
   {
    "duration": 9,
    "start_time": "2024-05-19T17:20:16.652Z"
   },
   {
    "duration": 19,
    "start_time": "2024-05-19T17:20:16.663Z"
   },
   {
    "duration": 29,
    "start_time": "2024-05-19T17:20:16.683Z"
   },
   {
    "duration": 14,
    "start_time": "2024-05-19T17:20:16.714Z"
   },
   {
    "duration": 186,
    "start_time": "2024-05-19T17:20:16.730Z"
   },
   {
    "duration": 13,
    "start_time": "2024-05-19T17:20:16.918Z"
   },
   {
    "duration": 98,
    "start_time": "2024-05-19T17:20:16.932Z"
   },
   {
    "duration": 276,
    "start_time": "2024-05-19T17:20:17.032Z"
   },
   {
    "duration": 8,
    "start_time": "2024-05-19T17:20:17.310Z"
   },
   {
    "duration": 469,
    "start_time": "2024-05-19T17:20:17.329Z"
   },
   {
    "duration": 335,
    "start_time": "2024-05-19T17:20:17.802Z"
   },
   {
    "duration": 269,
    "start_time": "2024-05-19T17:20:18.139Z"
   },
   {
    "duration": 7,
    "start_time": "2024-05-19T17:20:18.410Z"
   },
   {
    "duration": 180,
    "start_time": "2024-05-19T17:20:18.419Z"
   },
   {
    "duration": 5,
    "start_time": "2024-05-19T17:20:18.601Z"
   },
   {
    "duration": 46,
    "start_time": "2024-05-19T17:20:18.608Z"
   },
   {
    "duration": 11,
    "start_time": "2024-05-19T17:20:18.655Z"
   },
   {
    "duration": 24,
    "start_time": "2024-05-19T17:20:18.667Z"
   },
   {
    "duration": 9,
    "start_time": "2024-05-19T17:20:18.693Z"
   },
   {
    "duration": 2220,
    "start_time": "2024-05-19T17:20:18.705Z"
   },
   {
    "duration": 44,
    "start_time": "2024-05-19T17:20:20.928Z"
   },
   {
    "duration": 100,
    "start_time": "2024-05-19T17:20:20.974Z"
   },
   {
    "duration": 142,
    "start_time": "2024-05-19T17:20:21.076Z"
   },
   {
    "duration": 30,
    "start_time": "2024-05-19T17:20:21.220Z"
   },
   {
    "duration": 2,
    "start_time": "2024-05-19T17:20:21.252Z"
   },
   {
    "duration": 21,
    "start_time": "2024-05-19T17:20:21.256Z"
   },
   {
    "duration": 25,
    "start_time": "2024-05-19T17:20:21.279Z"
   },
   {
    "duration": 28,
    "start_time": "2024-05-19T17:20:21.306Z"
   },
   {
    "duration": 30,
    "start_time": "2024-05-19T17:20:21.336Z"
   },
   {
    "duration": 19,
    "start_time": "2024-05-19T17:20:21.367Z"
   },
   {
    "duration": 1984,
    "start_time": "2024-05-19T17:20:21.387Z"
   },
   {
    "duration": 4,
    "start_time": "2024-05-19T17:20:23.373Z"
   },
   {
    "duration": 192,
    "start_time": "2024-05-19T17:20:23.379Z"
   },
   {
    "duration": 1182,
    "start_time": "2024-05-19T17:23:33.330Z"
   },
   {
    "duration": 77,
    "start_time": "2024-05-19T17:23:34.514Z"
   },
   {
    "duration": 18,
    "start_time": "2024-05-19T17:23:34.593Z"
   },
   {
    "duration": 39,
    "start_time": "2024-05-19T17:23:34.614Z"
   },
   {
    "duration": 15,
    "start_time": "2024-05-19T17:23:34.655Z"
   },
   {
    "duration": 11,
    "start_time": "2024-05-19T17:23:34.672Z"
   },
   {
    "duration": 7,
    "start_time": "2024-05-19T17:23:34.684Z"
   },
   {
    "duration": 10,
    "start_time": "2024-05-19T17:23:34.693Z"
   },
   {
    "duration": 17,
    "start_time": "2024-05-19T17:23:34.704Z"
   },
   {
    "duration": 8,
    "start_time": "2024-05-19T17:23:34.728Z"
   },
   {
    "duration": 19,
    "start_time": "2024-05-19T17:23:34.738Z"
   },
   {
    "duration": 6,
    "start_time": "2024-05-19T17:23:34.759Z"
   },
   {
    "duration": 5,
    "start_time": "2024-05-19T17:23:34.767Z"
   },
   {
    "duration": 7,
    "start_time": "2024-05-19T17:23:34.774Z"
   },
   {
    "duration": 4,
    "start_time": "2024-05-19T17:23:34.782Z"
   },
   {
    "duration": 43,
    "start_time": "2024-05-19T17:23:34.787Z"
   },
   {
    "duration": 14,
    "start_time": "2024-05-19T17:23:34.832Z"
   },
   {
    "duration": 12,
    "start_time": "2024-05-19T17:23:34.848Z"
   },
   {
    "duration": 6,
    "start_time": "2024-05-19T17:23:34.862Z"
   },
   {
    "duration": 19,
    "start_time": "2024-05-19T17:23:34.870Z"
   },
   {
    "duration": 15,
    "start_time": "2024-05-19T17:23:34.928Z"
   },
   {
    "duration": 203,
    "start_time": "2024-05-19T17:23:34.944Z"
   },
   {
    "duration": 6,
    "start_time": "2024-05-19T17:23:35.149Z"
   },
   {
    "duration": 103,
    "start_time": "2024-05-19T17:23:35.156Z"
   },
   {
    "duration": 277,
    "start_time": "2024-05-19T17:23:35.261Z"
   },
   {
    "duration": 10,
    "start_time": "2024-05-19T17:23:35.540Z"
   },
   {
    "duration": 452,
    "start_time": "2024-05-19T17:23:35.552Z"
   },
   {
    "duration": 328,
    "start_time": "2024-05-19T17:23:36.008Z"
   },
   {
    "duration": 295,
    "start_time": "2024-05-19T17:23:36.339Z"
   },
   {
    "duration": 6,
    "start_time": "2024-05-19T17:23:36.636Z"
   },
   {
    "duration": 177,
    "start_time": "2024-05-19T17:23:36.644Z"
   },
   {
    "duration": 10,
    "start_time": "2024-05-19T17:23:36.823Z"
   },
   {
    "duration": 30,
    "start_time": "2024-05-19T17:23:36.834Z"
   },
   {
    "duration": 11,
    "start_time": "2024-05-19T17:23:36.866Z"
   },
   {
    "duration": 13,
    "start_time": "2024-05-19T17:23:36.879Z"
   },
   {
    "duration": 41,
    "start_time": "2024-05-19T17:23:36.894Z"
   },
   {
    "duration": 2034,
    "start_time": "2024-05-19T17:23:36.937Z"
   },
   {
    "duration": 39,
    "start_time": "2024-05-19T17:23:38.973Z"
   },
   {
    "duration": 37,
    "start_time": "2024-05-19T17:23:39.028Z"
   },
   {
    "duration": 139,
    "start_time": "2024-05-19T17:23:39.067Z"
   },
   {
    "duration": 48,
    "start_time": "2024-05-19T17:23:39.208Z"
   },
   {
    "duration": 3,
    "start_time": "2024-05-19T17:23:39.258Z"
   },
   {
    "duration": 20,
    "start_time": "2024-05-19T17:23:39.263Z"
   },
   {
    "duration": 15,
    "start_time": "2024-05-19T17:23:39.285Z"
   },
   {
    "duration": 15,
    "start_time": "2024-05-19T17:23:39.302Z"
   },
   {
    "duration": 10,
    "start_time": "2024-05-19T17:23:39.319Z"
   },
   {
    "duration": 15,
    "start_time": "2024-05-19T17:23:39.331Z"
   },
   {
    "duration": 1915,
    "start_time": "2024-05-19T17:23:39.348Z"
   },
   {
    "duration": 4,
    "start_time": "2024-05-19T17:23:41.265Z"
   },
   {
    "duration": 199,
    "start_time": "2024-05-19T17:23:41.271Z"
   }
  ],
  "kernelspec": {
   "display_name": "Python 3 (ipykernel)",
   "language": "python",
   "name": "python3"
  },
  "language_info": {
   "codemirror_mode": {
    "name": "ipython",
    "version": 3
   },
   "file_extension": ".py",
   "mimetype": "text/x-python",
   "name": "python",
   "nbconvert_exporter": "python",
   "pygments_lexer": "ipython3",
   "version": "3.11.7"
  },
  "toc": {
   "base_numbering": 1,
   "nav_menu": {
    "height": "307px",
    "width": "344px"
   },
   "number_sections": true,
   "sideBar": true,
   "skip_h1_title": true,
   "title_cell": "Table of Contents",
   "title_sidebar": "Contents",
   "toc_cell": false,
   "toc_position": {
    "height": "calc(100% - 180px)",
    "left": "10px",
    "top": "150px",
    "width": "303.825px"
   },
   "toc_section_display": true,
   "toc_window_display": true
  }
 },
 "nbformat": 4,
 "nbformat_minor": 5
}
