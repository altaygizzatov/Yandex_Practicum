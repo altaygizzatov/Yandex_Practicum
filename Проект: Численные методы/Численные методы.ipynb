{
 "cells": [
  {
   "cell_type": "markdown",
   "metadata": {
    "id": "fe1fVcNjU_El"
   },
   "source": [
    "# Определение стоимости автомобилей"
   ]
  },
  {
   "cell_type": "markdown",
   "metadata": {
    "id": "EMUSM1olU_Ep"
   },
   "source": [
    "Сервис по продаже автомобилей с пробегом «Не бит, не крашен» разрабатывает приложение для привлечения новых клиентов. В нём можно быстро узнать рыночную стоимость своего автомобиля. В вашем распоряжении исторические данные: технические характеристики, комплектации и цены автомобилей. Вам нужно построить модель для определения стоимости.\n",
    "\n",
    "Заказчику важны:\n",
    "\n",
    "- качество предсказания;\n",
    "- скорость предсказания;\n",
    "- время обучения."
   ]
  },
  {
   "cell_type": "markdown",
   "metadata": {
    "id": "3J-eUJxWU_Es"
   },
   "source": [
    "## Описание данных\n",
    "\n",
    "**Признаки**\n",
    "- DateCrawled — дата скачивания анкеты из базы\n",
    "- VehicleType — тип автомобильного кузова\n",
    "- RegistrationYear — год регистрации автомобиля\n",
    "- Gearbox — тип коробки передач\n",
    "- Power — мощность (л. с.)\n",
    "- Model — модель автомобиля\n",
    "- Kilometer — пробег (км)\n",
    "- RegistrationMonth — месяц регистрации автомобиля\n",
    "- FuelType — тип топлива\n",
    "- Brand — марка автомобиля\n",
    "- Repaired — была машина в ремонте или нет\n",
    "- DateCreated — дата создания анкеты\n",
    "- NumberOfPictures — количество фотографий автомобиля\n",
    "- PostalCode — почтовый индекс владельца анкеты (пользователя)\n",
    "- LastSeen — дата последней активности пользователя\n",
    "\n",
    "**Целевой признак**\n",
    "- Price — цена (евро)\n",
    "\n",
    "Шаги по выполнению проекта:\n",
    "1. Загрузка данных\n",
    "2. Подготовка  данных\n",
    "3. Обучение моделей\n",
    "4. Анализ моделей (сравнение)"
   ]
  },
  {
   "cell_type": "code",
   "execution_count": 1,
   "metadata": {
    "colab": {
     "base_uri": "https://localhost:8080/"
    },
    "id": "podMC1-wU_Et",
    "outputId": "2b0bc115-775a-4483-9287-b7a06a8f25e7",
    "scrolled": true
   },
   "outputs": [],
   "source": [
    "import pandas as pd\n",
    "import numpy as np\n",
    "import matplotlib.pyplot as plt\n",
    "import seaborn as sns\n",
    "import phik\n",
    "from datetime import datetime\n",
    "from catboost import CatBoostRegressor, Pool\n",
    "import lightgbm as lgb\n",
    "from time import time\n",
    "import warnings\n",
    "import logging\n",
    "\n",
    "from sklearn.preprocessing import OrdinalEncoder, MinMaxScaler\n",
    "from sklearn.model_selection import train_test_split\n",
    "from sklearn.metrics import mean_squared_error\n",
    "from sklearn.ensemble import RandomForestRegressor\n",
    "from sklearn.model_selection import RandomizedSearchCV\n",
    "\n",
    "warnings.filterwarnings(\"ignore\")\n",
    "\n",
    "logger = logging.getLogger()\n",
    "logger.setLevel(logging.CRITICAL)"
   ]
  },
  {
   "cell_type": "code",
   "execution_count": 2,
   "metadata": {
    "id": "DA9EvQ0jU_Ew"
   },
   "outputs": [],
   "source": [
    "RANDOM_STATE = 42\n",
    "TEST_SIZE= 0.25"
   ]
  },
  {
   "cell_type": "markdown",
   "metadata": {
    "id": "J5KH7mlkU_Ew"
   },
   "source": [
    "## Загрузка данных"
   ]
  },
  {
   "cell_type": "markdown",
   "metadata": {
    "id": "MPoMYTMNU_Ex"
   },
   "source": [
    "Загрузим данные и сразу пропарсим datetime тип"
   ]
  },
  {
   "cell_type": "code",
   "execution_count": 3,
   "metadata": {
    "colab": {
     "base_uri": "https://localhost:8080/"
    },
    "id": "t7LsKmLIU_Ex",
    "outputId": "7ed1ae87-635d-4c0c-d7e3-1906bef163f2"
   },
   "outputs": [],
   "source": [
    "dateparse = lambda x: datetime.strptime(x, '%Y-%m-%d %H:%M:%S')\n",
    "df = pd.read_csv('datasets/autos.csv',\n",
    "                 parse_dates=['DateCrawled', 'DateCreated', 'LastSeen'], date_parser=dateparse)"
   ]
  },
  {
   "cell_type": "code",
   "execution_count": 4,
   "metadata": {
    "colab": {
     "base_uri": "https://localhost:8080/",
     "height": 399
    },
    "id": "Fw17At3uU_Ey",
    "outputId": "f13df0af-1a4c-427f-b9de-3bb322bfc0b4",
    "scrolled": true
   },
   "outputs": [
    {
     "data": {
      "text/html": [
       "<div>\n",
       "<style scoped>\n",
       "    .dataframe tbody tr th:only-of-type {\n",
       "        vertical-align: middle;\n",
       "    }\n",
       "\n",
       "    .dataframe tbody tr th {\n",
       "        vertical-align: top;\n",
       "    }\n",
       "\n",
       "    .dataframe thead th {\n",
       "        text-align: right;\n",
       "    }\n",
       "</style>\n",
       "<table border=\"1\" class=\"dataframe\">\n",
       "  <thead>\n",
       "    <tr style=\"text-align: right;\">\n",
       "      <th></th>\n",
       "      <th>DateCrawled</th>\n",
       "      <th>Price</th>\n",
       "      <th>VehicleType</th>\n",
       "      <th>RegistrationYear</th>\n",
       "      <th>Gearbox</th>\n",
       "      <th>Power</th>\n",
       "      <th>Model</th>\n",
       "      <th>Kilometer</th>\n",
       "      <th>RegistrationMonth</th>\n",
       "      <th>FuelType</th>\n",
       "      <th>Brand</th>\n",
       "      <th>Repaired</th>\n",
       "      <th>DateCreated</th>\n",
       "      <th>NumberOfPictures</th>\n",
       "      <th>PostalCode</th>\n",
       "      <th>LastSeen</th>\n",
       "    </tr>\n",
       "  </thead>\n",
       "  <tbody>\n",
       "    <tr>\n",
       "      <th>0</th>\n",
       "      <td>2016-03-24 11:52:17</td>\n",
       "      <td>480</td>\n",
       "      <td>NaN</td>\n",
       "      <td>1993</td>\n",
       "      <td>manual</td>\n",
       "      <td>0</td>\n",
       "      <td>golf</td>\n",
       "      <td>150000</td>\n",
       "      <td>0</td>\n",
       "      <td>petrol</td>\n",
       "      <td>volkswagen</td>\n",
       "      <td>NaN</td>\n",
       "      <td>2016-03-24</td>\n",
       "      <td>0</td>\n",
       "      <td>70435</td>\n",
       "      <td>2016-04-07 03:16:57</td>\n",
       "    </tr>\n",
       "    <tr>\n",
       "      <th>1</th>\n",
       "      <td>2016-03-24 10:58:45</td>\n",
       "      <td>18300</td>\n",
       "      <td>coupe</td>\n",
       "      <td>2011</td>\n",
       "      <td>manual</td>\n",
       "      <td>190</td>\n",
       "      <td>NaN</td>\n",
       "      <td>125000</td>\n",
       "      <td>5</td>\n",
       "      <td>gasoline</td>\n",
       "      <td>audi</td>\n",
       "      <td>yes</td>\n",
       "      <td>2016-03-24</td>\n",
       "      <td>0</td>\n",
       "      <td>66954</td>\n",
       "      <td>2016-04-07 01:46:50</td>\n",
       "    </tr>\n",
       "    <tr>\n",
       "      <th>2</th>\n",
       "      <td>2016-03-14 12:52:21</td>\n",
       "      <td>9800</td>\n",
       "      <td>suv</td>\n",
       "      <td>2004</td>\n",
       "      <td>auto</td>\n",
       "      <td>163</td>\n",
       "      <td>grand</td>\n",
       "      <td>125000</td>\n",
       "      <td>8</td>\n",
       "      <td>gasoline</td>\n",
       "      <td>jeep</td>\n",
       "      <td>NaN</td>\n",
       "      <td>2016-03-14</td>\n",
       "      <td>0</td>\n",
       "      <td>90480</td>\n",
       "      <td>2016-04-05 12:47:46</td>\n",
       "    </tr>\n",
       "    <tr>\n",
       "      <th>3</th>\n",
       "      <td>2016-03-17 16:54:04</td>\n",
       "      <td>1500</td>\n",
       "      <td>small</td>\n",
       "      <td>2001</td>\n",
       "      <td>manual</td>\n",
       "      <td>75</td>\n",
       "      <td>golf</td>\n",
       "      <td>150000</td>\n",
       "      <td>6</td>\n",
       "      <td>petrol</td>\n",
       "      <td>volkswagen</td>\n",
       "      <td>no</td>\n",
       "      <td>2016-03-17</td>\n",
       "      <td>0</td>\n",
       "      <td>91074</td>\n",
       "      <td>2016-03-17 17:40:17</td>\n",
       "    </tr>\n",
       "    <tr>\n",
       "      <th>4</th>\n",
       "      <td>2016-03-31 17:25:20</td>\n",
       "      <td>3600</td>\n",
       "      <td>small</td>\n",
       "      <td>2008</td>\n",
       "      <td>manual</td>\n",
       "      <td>69</td>\n",
       "      <td>fabia</td>\n",
       "      <td>90000</td>\n",
       "      <td>7</td>\n",
       "      <td>gasoline</td>\n",
       "      <td>skoda</td>\n",
       "      <td>no</td>\n",
       "      <td>2016-03-31</td>\n",
       "      <td>0</td>\n",
       "      <td>60437</td>\n",
       "      <td>2016-04-06 10:17:21</td>\n",
       "    </tr>\n",
       "  </tbody>\n",
       "</table>\n",
       "</div>"
      ],
      "text/plain": [
       "          DateCrawled  Price VehicleType  RegistrationYear Gearbox  Power  \\\n",
       "0 2016-03-24 11:52:17    480         NaN              1993  manual      0   \n",
       "1 2016-03-24 10:58:45  18300       coupe              2011  manual    190   \n",
       "2 2016-03-14 12:52:21   9800         suv              2004    auto    163   \n",
       "3 2016-03-17 16:54:04   1500       small              2001  manual     75   \n",
       "4 2016-03-31 17:25:20   3600       small              2008  manual     69   \n",
       "\n",
       "   Model  Kilometer  RegistrationMonth  FuelType       Brand Repaired  \\\n",
       "0   golf     150000                  0    petrol  volkswagen      NaN   \n",
       "1    NaN     125000                  5  gasoline        audi      yes   \n",
       "2  grand     125000                  8  gasoline        jeep      NaN   \n",
       "3   golf     150000                  6    petrol  volkswagen       no   \n",
       "4  fabia      90000                  7  gasoline       skoda       no   \n",
       "\n",
       "  DateCreated  NumberOfPictures  PostalCode            LastSeen  \n",
       "0  2016-03-24                 0       70435 2016-04-07 03:16:57  \n",
       "1  2016-03-24                 0       66954 2016-04-07 01:46:50  \n",
       "2  2016-03-14                 0       90480 2016-04-05 12:47:46  \n",
       "3  2016-03-17                 0       91074 2016-03-17 17:40:17  \n",
       "4  2016-03-31                 0       60437 2016-04-06 10:17:21  "
      ]
     },
     "execution_count": 4,
     "metadata": {},
     "output_type": "execute_result"
    }
   ],
   "source": [
    "df.head()"
   ]
  },
  {
   "cell_type": "code",
   "execution_count": 5,
   "metadata": {
    "colab": {
     "base_uri": "https://localhost:8080/"
    },
    "id": "X-BSfy13U_Ez",
    "outputId": "2aa73187-15b7-452c-cbc1-2b25b72e5924"
   },
   "outputs": [
    {
     "name": "stdout",
     "output_type": "stream",
     "text": [
      "<class 'pandas.core.frame.DataFrame'>\n",
      "RangeIndex: 354369 entries, 0 to 354368\n",
      "Data columns (total 16 columns):\n",
      " #   Column             Non-Null Count   Dtype         \n",
      "---  ------             --------------   -----         \n",
      " 0   DateCrawled        354369 non-null  datetime64[ns]\n",
      " 1   Price              354369 non-null  int64         \n",
      " 2   VehicleType        316879 non-null  object        \n",
      " 3   RegistrationYear   354369 non-null  int64         \n",
      " 4   Gearbox            334536 non-null  object        \n",
      " 5   Power              354369 non-null  int64         \n",
      " 6   Model              334664 non-null  object        \n",
      " 7   Kilometer          354369 non-null  int64         \n",
      " 8   RegistrationMonth  354369 non-null  int64         \n",
      " 9   FuelType           321474 non-null  object        \n",
      " 10  Brand              354369 non-null  object        \n",
      " 11  Repaired           283215 non-null  object        \n",
      " 12  DateCreated        354369 non-null  datetime64[ns]\n",
      " 13  NumberOfPictures   354369 non-null  int64         \n",
      " 14  PostalCode         354369 non-null  int64         \n",
      " 15  LastSeen           354369 non-null  datetime64[ns]\n",
      "dtypes: datetime64[ns](3), int64(7), object(6)\n",
      "memory usage: 43.3+ MB\n"
     ]
    }
   ],
   "source": [
    "df.info()"
   ]
  },
  {
   "cell_type": "markdown",
   "metadata": {
    "id": "7UJ-qWeOU_E0"
   },
   "source": [
    "Тип данных в столбцах корректный, переведем название столбцов в змейиный регистр"
   ]
  },
  {
   "cell_type": "code",
   "execution_count": 6,
   "metadata": {
    "id": "zyxe18sbU_E0"
   },
   "outputs": [],
   "source": [
    "df.columns = list(map(lambda x: x.lower(), list(df)))"
   ]
  },
  {
   "cell_type": "code",
   "execution_count": 7,
   "metadata": {
    "id": "QELxkccXU_E0"
   },
   "outputs": [],
   "source": [
    "df = df.rename(columns = {'datecrawled': 'date_crawled',\n",
    "                     'vehicletype': 'vehicle_type',\n",
    "                     'registrationyear': 'registration_year',\n",
    "                     'registrationmonth': 'registration_month',\n",
    "                     'fueltype': 'fuel_type',\n",
    "                     'datecreated': 'date_created',\n",
    "                     'numberofpictures': 'number_of_pictures',\n",
    "                     'postalcode': 'postal_code',\n",
    "                     'lastseen': 'last_seen'})"
   ]
  },
  {
   "cell_type": "markdown",
   "metadata": {
    "id": "bTxLgt3bU_E1"
   },
   "source": [
    "Переведем колонки типа object в нижний регистр для обработки дубликатов"
   ]
  },
  {
   "cell_type": "code",
   "execution_count": 8,
   "metadata": {
    "id": "V20b-IpBU_E1"
   },
   "outputs": [],
   "source": [
    "for col in df.select_dtypes(include='object'):\n",
    "    df[col] = df[col].str.lower()"
   ]
  },
  {
   "cell_type": "markdown",
   "metadata": {
    "id": "5rWaQyidU_E2"
   },
   "source": [
    "Посмотрим на количество пропусков"
   ]
  },
  {
   "cell_type": "code",
   "execution_count": 9,
   "metadata": {
    "colab": {
     "base_uri": "https://localhost:8080/",
     "height": 585
    },
    "id": "wkWmbeiAU_E3",
    "outputId": "effb653e-6e4e-4699-bfce-9d13b74014cc"
   },
   "outputs": [
    {
     "data": {
      "text/plain": [
       "date_crawled              0\n",
       "price                     0\n",
       "vehicle_type          37490\n",
       "registration_year         0\n",
       "gearbox               19833\n",
       "power                     0\n",
       "model                 19705\n",
       "kilometer                 0\n",
       "registration_month        0\n",
       "fuel_type             32895\n",
       "brand                     0\n",
       "repaired              71154\n",
       "date_created              0\n",
       "number_of_pictures        0\n",
       "postal_code               0\n",
       "last_seen                 0\n",
       "dtype: int64"
      ]
     },
     "execution_count": 9,
     "metadata": {},
     "output_type": "execute_result"
    }
   ],
   "source": [
    "df.isna().sum()"
   ]
  },
  {
   "cell_type": "markdown",
   "metadata": {
    "id": "CVQUNZDTU_E3"
   },
   "source": [
    "Отработаем их на следущем шаге"
   ]
  },
  {
   "cell_type": "markdown",
   "metadata": {
    "id": "qAARsVWzU_E3"
   },
   "source": [
    "Рассмотрим неявные дубликаты"
   ]
  },
  {
   "cell_type": "code",
   "execution_count": 10,
   "metadata": {
    "colab": {
     "base_uri": "https://localhost:8080/"
    },
    "id": "qS4qXD4mU_E3",
    "outputId": "8dcb48fe-d19b-491f-d274-5031fdf8ae44"
   },
   "outputs": [
    {
     "name": "stdout",
     "output_type": "stream",
     "text": [
      "VEHICLE_TYPE \n",
      " vehicle_type\n",
      "sedan          91457\n",
      "small          79831\n",
      "wagon          65166\n",
      "bus            28775\n",
      "convertible    20203\n",
      "coupe          16163\n",
      "suv            11996\n",
      "other           3288\n",
      "Name: count, dtype: int64\n",
      "\n",
      "GEARBOX \n",
      " gearbox\n",
      "manual    268251\n",
      "auto       66285\n",
      "Name: count, dtype: int64\n",
      "\n",
      "MODEL \n",
      " model\n",
      "golf                  29232\n",
      "other                 24421\n",
      "3er                   19761\n",
      "polo                  13066\n",
      "corsa                 12570\n",
      "                      ...  \n",
      "i3                        8\n",
      "serie_3                   4\n",
      "rangerover                4\n",
      "range_rover_evoque        2\n",
      "serie_1                   2\n",
      "Name: count, Length: 250, dtype: int64\n",
      "\n",
      "FUEL_TYPE \n",
      " fuel_type\n",
      "petrol      216352\n",
      "gasoline     98720\n",
      "lpg           5310\n",
      "cng            565\n",
      "hybrid         233\n",
      "other          204\n",
      "electric        90\n",
      "Name: count, dtype: int64\n",
      "\n",
      "BRAND \n",
      " brand\n",
      "volkswagen        77013\n",
      "opel              39931\n",
      "bmw               36914\n",
      "mercedes_benz     32046\n",
      "audi              29456\n",
      "ford              25179\n",
      "renault           17927\n",
      "peugeot           10998\n",
      "fiat               9643\n",
      "seat               6907\n",
      "mazda              5615\n",
      "skoda              5500\n",
      "smart              5246\n",
      "citroen            5148\n",
      "nissan             4941\n",
      "toyota             4606\n",
      "hyundai            3587\n",
      "sonstige_autos     3374\n",
      "volvo              3210\n",
      "mini               3202\n",
      "mitsubishi         3022\n",
      "honda              2817\n",
      "kia                2465\n",
      "suzuki             2323\n",
      "alfa_romeo         2314\n",
      "chevrolet          1754\n",
      "chrysler           1439\n",
      "dacia               900\n",
      "daihatsu            806\n",
      "subaru              762\n",
      "porsche             758\n",
      "jeep                677\n",
      "trabant             589\n",
      "land_rover          545\n",
      "daewoo              542\n",
      "saab                526\n",
      "jaguar              505\n",
      "rover               486\n",
      "lancia              471\n",
      "lada                225\n",
      "Name: count, dtype: int64\n",
      "\n",
      "REPAIRED \n",
      " repaired\n",
      "no     247161\n",
      "yes     36054\n",
      "Name: count, dtype: int64\n",
      "\n"
     ]
    }
   ],
   "source": [
    "for col in df.select_dtypes(include='object'):\n",
    "    print(f'{col.upper()} \\n {df[col].value_counts()}\\n')"
   ]
  },
  {
   "cell_type": "markdown",
   "metadata": {
    "id": "cRSEzOMaU_E4"
   },
   "source": [
    "Удалим данный столбцы которые для нас никакой полезной информации не несут"
   ]
  },
  {
   "cell_type": "code",
   "execution_count": 11,
   "metadata": {
    "id": "rOWPEn7zU_E4"
   },
   "outputs": [],
   "source": [
    "df = df.drop(['date_created', 'postal_code', 'last_seen', 'number_of_pictures'], axis=1)"
   ]
  },
  {
   "cell_type": "markdown",
   "metadata": {
    "id": "mvBvk5h_U_E4"
   },
   "source": [
    "Удалим дубликаты, поскольку они негативно повлияют на прогноз моделей"
   ]
  },
  {
   "cell_type": "code",
   "execution_count": 12,
   "metadata": {
    "id": "l7L1qhuGU_E4"
   },
   "outputs": [],
   "source": [
    "df = df.drop_duplicates()"
   ]
  },
  {
   "cell_type": "markdown",
   "metadata": {
    "id": "GKhiKaSXU_E4"
   },
   "source": [
    "**Промежуточный вывод**\n",
    "- Были загружены и просмотренны исходные данные\n",
    "- Были переименнованы столбцы в змейиный регистр\n",
    "- `object` столбцы были переведены в нижний регистр для обработки дубликатов\n",
    "- Были удалены ненужные для прогноза столбцы"
   ]
  },
  {
   "cell_type": "markdown",
   "metadata": {
    "id": "HgGfKM0JU_E4"
   },
   "source": [
    "## Подготовка данных"
   ]
  },
  {
   "cell_type": "code",
   "execution_count": 13,
   "metadata": {
    "colab": {
     "base_uri": "https://localhost:8080/",
     "height": 300
    },
    "id": "N2BxMJXGU_E5",
    "outputId": "70c0886f-26b1-485c-a2c0-1f2fe2cca85a"
   },
   "outputs": [
    {
     "data": {
      "text/html": [
       "<div>\n",
       "<style scoped>\n",
       "    .dataframe tbody tr th:only-of-type {\n",
       "        vertical-align: middle;\n",
       "    }\n",
       "\n",
       "    .dataframe tbody tr th {\n",
       "        vertical-align: top;\n",
       "    }\n",
       "\n",
       "    .dataframe thead th {\n",
       "        text-align: right;\n",
       "    }\n",
       "</style>\n",
       "<table border=\"1\" class=\"dataframe\">\n",
       "  <thead>\n",
       "    <tr style=\"text-align: right;\">\n",
       "      <th></th>\n",
       "      <th>price</th>\n",
       "      <th>registration_year</th>\n",
       "      <th>power</th>\n",
       "      <th>kilometer</th>\n",
       "      <th>registration_month</th>\n",
       "    </tr>\n",
       "  </thead>\n",
       "  <tbody>\n",
       "    <tr>\n",
       "      <th>count</th>\n",
       "      <td>354344.000000</td>\n",
       "      <td>354344.000000</td>\n",
       "      <td>354344.000000</td>\n",
       "      <td>354344.000000</td>\n",
       "      <td>354344.000000</td>\n",
       "    </tr>\n",
       "    <tr>\n",
       "      <th>mean</th>\n",
       "      <td>4416.561477</td>\n",
       "      <td>2004.234563</td>\n",
       "      <td>110.091352</td>\n",
       "      <td>128212.330391</td>\n",
       "      <td>5.714574</td>\n",
       "    </tr>\n",
       "    <tr>\n",
       "      <th>std</th>\n",
       "      <td>4514.167328</td>\n",
       "      <td>90.231117</td>\n",
       "      <td>189.855996</td>\n",
       "      <td>37904.408738</td>\n",
       "      <td>3.726447</td>\n",
       "    </tr>\n",
       "    <tr>\n",
       "      <th>min</th>\n",
       "      <td>0.000000</td>\n",
       "      <td>1000.000000</td>\n",
       "      <td>0.000000</td>\n",
       "      <td>5000.000000</td>\n",
       "      <td>0.000000</td>\n",
       "    </tr>\n",
       "    <tr>\n",
       "      <th>25%</th>\n",
       "      <td>1050.000000</td>\n",
       "      <td>1999.000000</td>\n",
       "      <td>69.000000</td>\n",
       "      <td>125000.000000</td>\n",
       "      <td>3.000000</td>\n",
       "    </tr>\n",
       "    <tr>\n",
       "      <th>50%</th>\n",
       "      <td>2700.000000</td>\n",
       "      <td>2003.000000</td>\n",
       "      <td>105.000000</td>\n",
       "      <td>150000.000000</td>\n",
       "      <td>6.000000</td>\n",
       "    </tr>\n",
       "    <tr>\n",
       "      <th>75%</th>\n",
       "      <td>6400.000000</td>\n",
       "      <td>2008.000000</td>\n",
       "      <td>143.000000</td>\n",
       "      <td>150000.000000</td>\n",
       "      <td>9.000000</td>\n",
       "    </tr>\n",
       "    <tr>\n",
       "      <th>max</th>\n",
       "      <td>20000.000000</td>\n",
       "      <td>9999.000000</td>\n",
       "      <td>20000.000000</td>\n",
       "      <td>150000.000000</td>\n",
       "      <td>12.000000</td>\n",
       "    </tr>\n",
       "  </tbody>\n",
       "</table>\n",
       "</div>"
      ],
      "text/plain": [
       "               price  registration_year          power      kilometer  \\\n",
       "count  354344.000000      354344.000000  354344.000000  354344.000000   \n",
       "mean     4416.561477        2004.234563     110.091352  128212.330391   \n",
       "std      4514.167328          90.231117     189.855996   37904.408738   \n",
       "min         0.000000        1000.000000       0.000000    5000.000000   \n",
       "25%      1050.000000        1999.000000      69.000000  125000.000000   \n",
       "50%      2700.000000        2003.000000     105.000000  150000.000000   \n",
       "75%      6400.000000        2008.000000     143.000000  150000.000000   \n",
       "max     20000.000000        9999.000000   20000.000000  150000.000000   \n",
       "\n",
       "       registration_month  \n",
       "count       354344.000000  \n",
       "mean             5.714574  \n",
       "std              3.726447  \n",
       "min              0.000000  \n",
       "25%              3.000000  \n",
       "50%              6.000000  \n",
       "75%              9.000000  \n",
       "max             12.000000  "
      ]
     },
     "execution_count": 13,
     "metadata": {},
     "output_type": "execute_result"
    }
   ],
   "source": [
    "df.select_dtypes(include='number').describe()"
   ]
  },
  {
   "cell_type": "code",
   "execution_count": 14,
   "metadata": {
    "id": "42rrGUtIU_E5"
   },
   "outputs": [],
   "source": [
    "def histplot(data):\n",
    "    plt.figure(figsize=(16, 9))\n",
    "    plt.suptitle('Распределение числовых значений', fontsize=15)\n",
    "    columns_names = df.select_dtypes(include='number')\n",
    "\n",
    "    for i, col in zip(range(1, 7), columns_names):\n",
    "        plt.subplot(2,3,i)\n",
    "        sns.histplot(data=data, x=col, kde=True)\n",
    "    plt.tight_layout()"
   ]
  },
  {
   "cell_type": "code",
   "execution_count": 15,
   "metadata": {
    "colab": {
     "base_uri": "https://localhost:8080/",
     "height": 807
    },
    "id": "eZPz-ScwU_E5",
    "outputId": "89de498f-d554-40d0-e646-c21493d09cdb"
   },
   "outputs": [
    {
     "data": {
      "image/png": "[encoded data removed]",
      "text/plain": [
       "<Figure size 1600x900 with 5 Axes>"
      ]
     },
     "metadata": {},
     "output_type": "display_data"
    }
   ],
   "source": [
    "histplot(df)"
   ]
  },
  {
   "cell_type": "markdown",
   "metadata": {
    "id": "y9e8fR4gU_E5"
   },
   "source": [
    "Присутствуют аномалии в данных, которые надо отработать"
   ]
  },
  {
   "cell_type": "markdown",
   "metadata": {
    "id": "ShJooZ6wU_E6"
   },
   "source": [
    "Начнем с `registration_year`"
   ]
  },
  {
   "cell_type": "code",
   "execution_count": 16,
   "metadata": {
    "id": "SelVU9g7U_E6"
   },
   "outputs": [],
   "source": [
    "df_good = df.loc[(1980 <= df['registration_year'])].copy(deep=True)\n",
    "df_good = df_good.loc[df_good['date_crawled'].dt.year >= df_good['registration_year']]\n",
    "df_good = df_good.drop('date_crawled', axis=1)"
   ]
  },
  {
   "cell_type": "code",
   "execution_count": 17,
   "metadata": {
    "id": "iNQ5_MZCU_E6"
   },
   "outputs": [],
   "source": [
    "df_good = df_good.loc[(30 <= df_good['power']) & (df_good['power'] <= 400)]"
   ]
  },
  {
   "cell_type": "code",
   "execution_count": 18,
   "metadata": {},
   "outputs": [],
   "source": [
    "df_good = df_good.loc[df_good['price'] >= 1000]"
   ]
  },
  {
   "cell_type": "code",
   "execution_count": 19,
   "metadata": {
    "id": "9_VUfkdNU_E6"
   },
   "outputs": [],
   "source": [
    "df_good = df_good.loc[df_good['registration_month'] > 0]"
   ]
  },
  {
   "cell_type": "code",
   "execution_count": 20,
   "metadata": {
    "colab": {
     "base_uri": "https://localhost:8080/",
     "height": 805
    },
    "id": "Wk5gdpj8U_E7",
    "outputId": "7d9a1ae3-09a5-4f61-b87a-b8632fbf94ed"
   },
   "outputs": [
    {
     "data": {
      "image/png": "[encoded data removed]",
      "text/plain": [
       "<Figure size 1600x900 with 5 Axes>"
      ]
     },
     "metadata": {},
     "output_type": "display_data"
    }
   ],
   "source": [
    "histplot(df_good)"
   ]
  },
  {
   "cell_type": "markdown",
   "metadata": {
    "id": "4rBNp-g7U_E7"
   },
   "source": [
    "Уже лучше"
   ]
  },
  {
   "cell_type": "markdown",
   "metadata": {
    "id": "R-04fMZ3U_E7"
   },
   "source": [
    "Заполним пропуски модой, по брендам машин"
   ]
  },
  {
   "cell_type": "code",
   "execution_count": 21,
   "metadata": {
    "id": "JTK0uwNmU_E7"
   },
   "outputs": [],
   "source": [
    "columns = ['vehicle_type', 'gearbox', 'model', 'fuel_type'] # Выберем столбцы которые будем заполнять\n",
    "unique_brands = list(df_good['brand'].unique()) # Сохраним название всех брендов машин\n",
    "# Напишем двойной цикл по брендам машин и по столбцу, который мы заполняем\n",
    "for brand in unique_brands:\n",
    "    mode = ''\n",
    "    for col in columns:\n",
    "        # Используем структуру try except при случае, что моды для каких-то брендов машин нет\n",
    "        try:\n",
    "            mode = df_good.loc[df_good['brand'] == brand, col].mode().values[0] # Находим моду\n",
    "            df_good.loc[df_good['brand'] == brand, col] = df_good.loc[df_good['brand'] == brand, col].fillna(mode) # Заполняем\n",
    "        except:\n",
    "            break # Выходим из первого цикла при ошибке"
   ]
  },
  {
   "cell_type": "code",
   "execution_count": 22,
   "metadata": {
    "colab": {
     "base_uri": "https://localhost:8080/",
     "height": 429
    },
    "id": "c3eDf_4JU_E8",
    "outputId": "baa16d42-a294-4ae1-be3b-f19f65b63625"
   },
   "outputs": [
    {
     "data": {
      "text/plain": [
       "price                     0\n",
       "vehicle_type              0\n",
       "registration_year         0\n",
       "gearbox                   0\n",
       "power                     0\n",
       "model                  1125\n",
       "kilometer                 0\n",
       "registration_month        0\n",
       "fuel_type                39\n",
       "brand                     0\n",
       "repaired              23435\n",
       "dtype: int64"
      ]
     },
     "execution_count": 22,
     "metadata": {},
     "output_type": "execute_result"
    }
   ],
   "source": [
    "df_good.isna().sum()"
   ]
  },
  {
   "cell_type": "markdown",
   "metadata": {
    "id": "9-fYpNt7U_FB"
   },
   "source": [
    "После заполнения остались еще пропуски, рассмотрим их поподробнее"
   ]
  },
  {
   "cell_type": "code",
   "execution_count": 23,
   "metadata": {
    "colab": {
     "base_uri": "https://localhost:8080/"
    },
    "id": "hl1dkqlhU_FB",
    "outputId": "dfde3c6b-156a-4b4b-d77b-788e23eb9289"
   },
   "outputs": [
    {
     "data": {
      "text/plain": [
       "array(['sonstige_autos'], dtype=object)"
      ]
     },
     "execution_count": 23,
     "metadata": {},
     "output_type": "execute_result"
    }
   ],
   "source": [
    "df_good.loc[df_good['fuel_type'].isna()]['brand'].unique()"
   ]
  },
  {
   "cell_type": "code",
   "execution_count": 24,
   "metadata": {
    "colab": {
     "base_uri": "https://localhost:8080/"
    },
    "id": "mLASmlH1U_FB",
    "outputId": "f319eb32-a63a-4823-ee13-afb64b7cd870"
   },
   "outputs": [
    {
     "data": {
      "text/plain": [
       "array(['sonstige_autos'], dtype=object)"
      ]
     },
     "execution_count": 24,
     "metadata": {},
     "output_type": "execute_result"
    }
   ],
   "source": [
    "df_good.loc[df_good['model'].isna()]['brand'].unique()"
   ]
  },
  {
   "cell_type": "code",
   "execution_count": 25,
   "metadata": {
    "colab": {
     "base_uri": "https://localhost:8080/"
    },
    "id": "zeK_CS7zU_FC",
    "outputId": "a325d9e6-a4f8-4e94-ee0b-bd53420ef2b8"
   },
   "outputs": [
    {
     "name": "stdout",
     "output_type": "stream",
     "text": [
      "<class 'pandas.core.frame.DataFrame'>\n",
      "Index: 1125 entries, 661 to 354321\n",
      "Data columns (total 11 columns):\n",
      " #   Column              Non-Null Count  Dtype \n",
      "---  ------              --------------  ----- \n",
      " 0   price               1125 non-null   int64 \n",
      " 1   vehicle_type        1125 non-null   object\n",
      " 2   registration_year   1125 non-null   int64 \n",
      " 3   gearbox             1125 non-null   object\n",
      " 4   power               1125 non-null   int64 \n",
      " 5   model               0 non-null      object\n",
      " 6   kilometer           1125 non-null   int64 \n",
      " 7   registration_month  1125 non-null   int64 \n",
      " 8   fuel_type           1086 non-null   object\n",
      " 9   brand               1125 non-null   object\n",
      " 10  repaired            1024 non-null   object\n",
      "dtypes: int64(5), object(6)\n",
      "memory usage: 105.5+ KB\n"
     ]
    }
   ],
   "source": [
    "df_good.loc[df_good['brand'] == 'sonstige_autos'].info()"
   ]
  },
  {
   "cell_type": "markdown",
   "metadata": {
    "id": "C7HAwiCkU_FC"
   },
   "source": [
    "Похоже пропуски только в малоизвестном бренде машин и ни у одной из записей в таблице нет модели такой машины, поскольку записей немного удалим строки с этой маркой машины"
   ]
  },
  {
   "cell_type": "code",
   "execution_count": 26,
   "metadata": {
    "id": "k0XEpQ91U_FC"
   },
   "outputs": [],
   "source": [
    "df_good = df_good.drop(df_good.loc[df_good['brand'] == 'sonstige_autos'].index)"
   ]
  },
  {
   "cell_type": "code",
   "execution_count": 27,
   "metadata": {
    "colab": {
     "base_uri": "https://localhost:8080/",
     "height": 429
    },
    "id": "jqyiE3-RU_FC",
    "outputId": "7ab4d223-0bf8-4b83-8f4c-41741d9ec663"
   },
   "outputs": [
    {
     "data": {
      "text/plain": [
       "price                     0\n",
       "vehicle_type              0\n",
       "registration_year         0\n",
       "gearbox                   0\n",
       "power                     0\n",
       "model                     0\n",
       "kilometer                 0\n",
       "registration_month        0\n",
       "fuel_type                 0\n",
       "brand                     0\n",
       "repaired              23334\n",
       "dtype: int64"
      ]
     },
     "execution_count": 27,
     "metadata": {},
     "output_type": "execute_result"
    }
   ],
   "source": [
    "df_good.isna().sum()"
   ]
  },
  {
   "cell_type": "markdown",
   "metadata": {
    "id": "WnNKF55vU_FC"
   },
   "source": [
    "Осталась только колонка `repaired`. Рассмотрим медианы цен самый популярной марки автомобиля, в зависимости от ремонта"
   ]
  },
  {
   "cell_type": "code",
   "execution_count": 28,
   "metadata": {
    "colab": {
     "base_uri": "https://localhost:8080/",
     "height": 143
    },
    "id": "iTdBUyN3U_FC",
    "outputId": "aa7a274c-9b93-4318-e285-a3940302ed3b"
   },
   "outputs": [
    {
     "data": {
      "text/html": [
       "<div>\n",
       "<style scoped>\n",
       "    .dataframe tbody tr th:only-of-type {\n",
       "        vertical-align: middle;\n",
       "    }\n",
       "\n",
       "    .dataframe tbody tr th {\n",
       "        vertical-align: top;\n",
       "    }\n",
       "\n",
       "    .dataframe thead th {\n",
       "        text-align: right;\n",
       "    }\n",
       "</style>\n",
       "<table border=\"1\" class=\"dataframe\">\n",
       "  <thead>\n",
       "    <tr style=\"text-align: right;\">\n",
       "      <th></th>\n",
       "      <th>price</th>\n",
       "    </tr>\n",
       "    <tr>\n",
       "      <th>repaired</th>\n",
       "      <th></th>\n",
       "    </tr>\n",
       "  </thead>\n",
       "  <tbody>\n",
       "    <tr>\n",
       "      <th>no</th>\n",
       "      <td>4800.0</td>\n",
       "    </tr>\n",
       "    <tr>\n",
       "      <th>yes</th>\n",
       "      <td>2850.0</td>\n",
       "    </tr>\n",
       "  </tbody>\n",
       "</table>\n",
       "</div>"
      ],
      "text/plain": [
       "           price\n",
       "repaired        \n",
       "no        4800.0\n",
       "yes       2850.0"
      ]
     },
     "execution_count": 28,
     "metadata": {},
     "output_type": "execute_result"
    }
   ],
   "source": [
    "df_good.loc[df_good['brand'] == 'volkswagen'].pivot_table(index='repaired', values='price', aggfunc='median')"
   ]
  },
  {
   "cell_type": "code",
   "execution_count": 29,
   "metadata": {
    "colab": {
     "base_uri": "https://localhost:8080/"
    },
    "id": "EDvX-hNmU_FC",
    "outputId": "0f904f3a-bee5-44ac-fae4-c6b3354d515d"
   },
   "outputs": [
    {
     "data": {
      "text/plain": [
       "3000.0"
      ]
     },
     "execution_count": 29,
     "metadata": {},
     "output_type": "execute_result"
    }
   ],
   "source": [
    "df_good.loc[df_good['brand'] == 'volkswagen'].loc[df_good['repaired'].isna(), 'price'].median()"
   ]
  },
  {
   "cell_type": "markdown",
   "metadata": {
    "id": "jg4wPUtGU_FD"
   },
   "source": [
    "Видимо, кто-то специально не указал, что был ремонт машины, чтоб повысить цену, поэтому выберем `yes` при заполенении пропусков"
   ]
  },
  {
   "cell_type": "code",
   "execution_count": 30,
   "metadata": {
    "id": "CQ5ffYm4U_FD"
   },
   "outputs": [],
   "source": [
    "df_good['repaired'] = df_good['repaired'].fillna('yes')"
   ]
  },
  {
   "cell_type": "code",
   "execution_count": 31,
   "metadata": {
    "colab": {
     "base_uri": "https://localhost:8080/",
     "height": 429
    },
    "id": "go7RBWTvU_FD",
    "outputId": "4267db65-6332-40f9-e757-273cf5173ab2"
   },
   "outputs": [
    {
     "data": {
      "text/plain": [
       "price                 0\n",
       "vehicle_type          0\n",
       "registration_year     0\n",
       "gearbox               0\n",
       "power                 0\n",
       "model                 0\n",
       "kilometer             0\n",
       "registration_month    0\n",
       "fuel_type             0\n",
       "brand                 0\n",
       "repaired              0\n",
       "dtype: int64"
      ]
     },
     "execution_count": 31,
     "metadata": {},
     "output_type": "execute_result"
    }
   ],
   "source": [
    "df_good.isna().sum()"
   ]
  },
  {
   "cell_type": "markdown",
   "metadata": {
    "id": "AVzIJJpMU_FD"
   },
   "source": [
    "После заполнения удалим дубликаты"
   ]
  },
  {
   "cell_type": "code",
   "execution_count": 32,
   "metadata": {
    "colab": {
     "base_uri": "https://localhost:8080/"
    },
    "id": "K4tFV_i5U_FE",
    "outputId": "0e81b485-94b7-425d-e9a5-efc4c9d1ae1e"
   },
   "outputs": [
    {
     "data": {
      "text/plain": [
       "20057"
      ]
     },
     "execution_count": 32,
     "metadata": {},
     "output_type": "execute_result"
    }
   ],
   "source": [
    "df_good.duplicated().sum()"
   ]
  },
  {
   "cell_type": "code",
   "execution_count": 33,
   "metadata": {
    "id": "CAzxtBC0U_FE"
   },
   "outputs": [],
   "source": [
    "df_good = df_good.drop_duplicates()"
   ]
  },
  {
   "cell_type": "code",
   "execution_count": 34,
   "metadata": {},
   "outputs": [
    {
     "data": {
      "text/html": [
       "<div>\n",
       "<style scoped>\n",
       "    .dataframe tbody tr th:only-of-type {\n",
       "        vertical-align: middle;\n",
       "    }\n",
       "\n",
       "    .dataframe tbody tr th {\n",
       "        vertical-align: top;\n",
       "    }\n",
       "\n",
       "    .dataframe thead th {\n",
       "        text-align: right;\n",
       "    }\n",
       "</style>\n",
       "<table border=\"1\" class=\"dataframe\">\n",
       "  <thead>\n",
       "    <tr style=\"text-align: right;\">\n",
       "      <th></th>\n",
       "      <th>price</th>\n",
       "      <th>vehicle_type</th>\n",
       "      <th>registration_year</th>\n",
       "      <th>gearbox</th>\n",
       "      <th>power</th>\n",
       "      <th>model</th>\n",
       "      <th>kilometer</th>\n",
       "      <th>registration_month</th>\n",
       "      <th>fuel_type</th>\n",
       "      <th>brand</th>\n",
       "      <th>repaired</th>\n",
       "    </tr>\n",
       "  </thead>\n",
       "  <tbody>\n",
       "    <tr>\n",
       "      <th>1</th>\n",
       "      <td>18300</td>\n",
       "      <td>coupe</td>\n",
       "      <td>2011</td>\n",
       "      <td>manual</td>\n",
       "      <td>190</td>\n",
       "      <td>a4</td>\n",
       "      <td>125000</td>\n",
       "      <td>5</td>\n",
       "      <td>gasoline</td>\n",
       "      <td>audi</td>\n",
       "      <td>yes</td>\n",
       "    </tr>\n",
       "    <tr>\n",
       "      <th>2</th>\n",
       "      <td>9800</td>\n",
       "      <td>suv</td>\n",
       "      <td>2004</td>\n",
       "      <td>auto</td>\n",
       "      <td>163</td>\n",
       "      <td>grand</td>\n",
       "      <td>125000</td>\n",
       "      <td>8</td>\n",
       "      <td>gasoline</td>\n",
       "      <td>jeep</td>\n",
       "      <td>yes</td>\n",
       "    </tr>\n",
       "    <tr>\n",
       "      <th>3</th>\n",
       "      <td>1500</td>\n",
       "      <td>small</td>\n",
       "      <td>2001</td>\n",
       "      <td>manual</td>\n",
       "      <td>75</td>\n",
       "      <td>golf</td>\n",
       "      <td>150000</td>\n",
       "      <td>6</td>\n",
       "      <td>petrol</td>\n",
       "      <td>volkswagen</td>\n",
       "      <td>no</td>\n",
       "    </tr>\n",
       "    <tr>\n",
       "      <th>4</th>\n",
       "      <td>3600</td>\n",
       "      <td>small</td>\n",
       "      <td>2008</td>\n",
       "      <td>manual</td>\n",
       "      <td>69</td>\n",
       "      <td>fabia</td>\n",
       "      <td>90000</td>\n",
       "      <td>7</td>\n",
       "      <td>gasoline</td>\n",
       "      <td>skoda</td>\n",
       "      <td>no</td>\n",
       "    </tr>\n",
       "    <tr>\n",
       "      <th>6</th>\n",
       "      <td>2200</td>\n",
       "      <td>convertible</td>\n",
       "      <td>2004</td>\n",
       "      <td>manual</td>\n",
       "      <td>109</td>\n",
       "      <td>2_reihe</td>\n",
       "      <td>150000</td>\n",
       "      <td>8</td>\n",
       "      <td>petrol</td>\n",
       "      <td>peugeot</td>\n",
       "      <td>no</td>\n",
       "    </tr>\n",
       "    <tr>\n",
       "      <th>...</th>\n",
       "      <td>...</td>\n",
       "      <td>...</td>\n",
       "      <td>...</td>\n",
       "      <td>...</td>\n",
       "      <td>...</td>\n",
       "      <td>...</td>\n",
       "      <td>...</td>\n",
       "      <td>...</td>\n",
       "      <td>...</td>\n",
       "      <td>...</td>\n",
       "      <td>...</td>\n",
       "    </tr>\n",
       "    <tr>\n",
       "      <th>354361</th>\n",
       "      <td>5250</td>\n",
       "      <td>sedan</td>\n",
       "      <td>2016</td>\n",
       "      <td>auto</td>\n",
       "      <td>150</td>\n",
       "      <td>159</td>\n",
       "      <td>150000</td>\n",
       "      <td>12</td>\n",
       "      <td>petrol</td>\n",
       "      <td>alfa_romeo</td>\n",
       "      <td>no</td>\n",
       "    </tr>\n",
       "    <tr>\n",
       "      <th>354362</th>\n",
       "      <td>3200</td>\n",
       "      <td>sedan</td>\n",
       "      <td>2004</td>\n",
       "      <td>manual</td>\n",
       "      <td>225</td>\n",
       "      <td>leon</td>\n",
       "      <td>150000</td>\n",
       "      <td>5</td>\n",
       "      <td>petrol</td>\n",
       "      <td>seat</td>\n",
       "      <td>yes</td>\n",
       "    </tr>\n",
       "    <tr>\n",
       "      <th>354366</th>\n",
       "      <td>1199</td>\n",
       "      <td>convertible</td>\n",
       "      <td>2000</td>\n",
       "      <td>auto</td>\n",
       "      <td>101</td>\n",
       "      <td>fortwo</td>\n",
       "      <td>125000</td>\n",
       "      <td>3</td>\n",
       "      <td>petrol</td>\n",
       "      <td>smart</td>\n",
       "      <td>no</td>\n",
       "    </tr>\n",
       "    <tr>\n",
       "      <th>354367</th>\n",
       "      <td>9200</td>\n",
       "      <td>bus</td>\n",
       "      <td>1996</td>\n",
       "      <td>manual</td>\n",
       "      <td>102</td>\n",
       "      <td>transporter</td>\n",
       "      <td>150000</td>\n",
       "      <td>3</td>\n",
       "      <td>gasoline</td>\n",
       "      <td>volkswagen</td>\n",
       "      <td>no</td>\n",
       "    </tr>\n",
       "    <tr>\n",
       "      <th>354368</th>\n",
       "      <td>3400</td>\n",
       "      <td>wagon</td>\n",
       "      <td>2002</td>\n",
       "      <td>manual</td>\n",
       "      <td>100</td>\n",
       "      <td>golf</td>\n",
       "      <td>150000</td>\n",
       "      <td>6</td>\n",
       "      <td>gasoline</td>\n",
       "      <td>volkswagen</td>\n",
       "      <td>yes</td>\n",
       "    </tr>\n",
       "  </tbody>\n",
       "</table>\n",
       "<p>207388 rows × 11 columns</p>\n",
       "</div>"
      ],
      "text/plain": [
       "        price vehicle_type  registration_year gearbox  power        model  \\\n",
       "1       18300        coupe               2011  manual    190           a4   \n",
       "2        9800          suv               2004    auto    163        grand   \n",
       "3        1500        small               2001  manual     75         golf   \n",
       "4        3600        small               2008  manual     69        fabia   \n",
       "6        2200  convertible               2004  manual    109      2_reihe   \n",
       "...       ...          ...                ...     ...    ...          ...   \n",
       "354361   5250        sedan               2016    auto    150          159   \n",
       "354362   3200        sedan               2004  manual    225         leon   \n",
       "354366   1199  convertible               2000    auto    101       fortwo   \n",
       "354367   9200          bus               1996  manual    102  transporter   \n",
       "354368   3400        wagon               2002  manual    100         golf   \n",
       "\n",
       "        kilometer  registration_month fuel_type       brand repaired  \n",
       "1          125000                   5  gasoline        audi      yes  \n",
       "2          125000                   8  gasoline        jeep      yes  \n",
       "3          150000                   6    petrol  volkswagen       no  \n",
       "4           90000                   7  gasoline       skoda       no  \n",
       "6          150000                   8    petrol     peugeot       no  \n",
       "...           ...                 ...       ...         ...      ...  \n",
       "354361     150000                  12    petrol  alfa_romeo       no  \n",
       "354362     150000                   5    petrol        seat      yes  \n",
       "354366     125000                   3    petrol       smart       no  \n",
       "354367     150000                   3  gasoline  volkswagen       no  \n",
       "354368     150000                   6  gasoline  volkswagen      yes  \n",
       "\n",
       "[207388 rows x 11 columns]"
      ]
     },
     "execution_count": 34,
     "metadata": {},
     "output_type": "execute_result"
    }
   ],
   "source": [
    "df_good"
   ]
  },
  {
   "cell_type": "code",
   "execution_count": 35,
   "metadata": {
    "colab": {
     "base_uri": "https://localhost:8080/",
     "height": 894
    },
    "id": "KQXjDIkpU_FE",
    "outputId": "3411b4a1-492b-40bc-d57a-3fff65494493"
   },
   "outputs": [],
   "source": [
    "corr_matrix = df_good.phik_matrix(interval_cols=['price', 'power'])"
   ]
  },
  {
   "cell_type": "code",
   "execution_count": 36,
   "metadata": {
    "colab": {
     "base_uri": "https://localhost:8080/",
     "height": 894
    },
    "id": "KQXjDIkpU_FE",
    "outputId": "3411b4a1-492b-40bc-d57a-3fff65494493"
   },
   "outputs": [
    {
     "data": {
      "image/png": "[encoded data removed]",
      "text/plain": [
       "<Figure size 1600x900 with 2 Axes>"
      ]
     },
     "metadata": {},
     "output_type": "display_data"
    }
   ],
   "source": [
    "plt.figure(figsize=(16, 9))\n",
    "sns.heatmap(corr_matrix, cmap='coolwarm', annot=True, fmt='.2f')\n",
    "plt.title('Матрица корреляций всех числовых признаков')\n",
    "plt.show()"
   ]
  },
  {
   "cell_type": "markdown",
   "metadata": {
    "id": "KiOTBknTU_FF"
   },
   "source": [
    "У Бренда машины с моделью мультиколлинеарность, что логично, поэтому для ускорений вычислений, надо убрать одну из колонок, оставим модель, поскольку она важнее, исходя из корреляции, на формирование цены на машину.\n",
    "\n",
    "Также удалим `registration_month`, поскольку из корр. анализа видно, что полезной информации она не несет.\n",
    "\n",
    "Думаю стоит также убрать `vehicle_type` из-за высокой корреляцией с моделью машины"
   ]
  },
  {
   "cell_type": "code",
   "execution_count": 37,
   "metadata": {
    "id": "RTNVSqJcU_FF"
   },
   "outputs": [],
   "source": [
    "final_df = df_good.copy(deep=True)"
   ]
  },
  {
   "cell_type": "markdown",
   "metadata": {
    "id": "p-sOKKcUU_FF"
   },
   "source": [
    "**Промежуточные итоги**\n",
    "\n",
    "Был подготовлен датафрэйм для обучения моделей. При подготовке были проделаны шаги:\n",
    "1. Были отработаны аномалии в данных\n",
    "2. Заполнены пропуски\n",
    "3. Отработаны дубликаты\n",
    "4. Проведен корреляционный анализ, на основе, которого были удалены некоторые столбцы"
   ]
  },
  {
   "cell_type": "markdown",
   "metadata": {
    "id": "jXB1PmG3U_FF"
   },
   "source": [
    "## Обучение моделей"
   ]
  },
  {
   "cell_type": "code",
   "execution_count": 38,
   "metadata": {
    "id": "v7P-JjEuU_FF"
   },
   "outputs": [],
   "source": [
    "num_columns = list(final_df.select_dtypes(include='number').columns)\n",
    "num_columns.remove('price')\n",
    "ordinal_columns = list(final_df.select_dtypes(exclude='number').columns)\n",
    "\n",
    "X = final_df.drop('price', axis=1)\n",
    "y = final_df['price']\n",
    "\n",
    "X_train, X_test, y_train, y_test = train_test_split(X, y, test_size=TEST_SIZE, random_state=RANDOM_STATE)\n",
    "\n",
    "encoder = OrdinalEncoder(handle_unknown='use_encoded_value', unknown_value=np.nan)\n",
    "scaler = MinMaxScaler()"
   ]
  },
  {
   "cell_type": "code",
   "execution_count": 39,
   "metadata": {
    "id": "v7P-JjEuU_FF"
   },
   "outputs": [],
   "source": [
    "X_train_ordinal = encoder.fit_transform(X_train[ordinal_columns])\n",
    "X_test_ordinal = encoder.transform(X_test[ordinal_columns])\n",
    "encoder_col_names = encoder.get_feature_names_out()\n",
    "\n",
    "X_train_scaled = scaler.fit_transform(X_train[num_columns])\n",
    "X_test_scaled = scaler.transform(X_test[num_columns])\n",
    "\n",
    "X_train_ordinal = pd.DataFrame(X_train_ordinal, columns=encoder_col_names)\n",
    "X_test_ordinal = pd.DataFrame(X_test_ordinal, columns=encoder_col_names)\n",
    "\n",
    "X_train_scaled = pd.DataFrame(X_train_scaled, columns=num_columns)\n",
    "X_test_scaled = pd.DataFrame(X_test_scaled, columns=num_columns)\n",
    "\n",
    "X_train_ordinal_scaled = pd.concat([X_train_scaled, X_train_ordinal], axis=1)\n",
    "X_test_ordinal_scaled = pd.concat([X_test_scaled, X_test_ordinal], axis=1)"
   ]
  },
  {
   "cell_type": "markdown",
   "metadata": {},
   "source": [
    "### RandomForest"
   ]
  },
  {
   "cell_type": "code",
   "execution_count": 40,
   "metadata": {
    "colab": {
     "base_uri": "https://localhost:8080/",
     "height": 109
    },
    "id": "FbLS7bUUU_FF",
    "outputId": "0c23aaf0-1c96-4dff-dd08-101dce243776"
   },
   "outputs": [
    {
     "name": "stdout",
     "output_type": "stream",
     "text": [
      "CPU times: total: 1min 37s\n",
      "Wall time: 1min 38s\n"
     ]
    },
    {
     "data": {
      "text/html": [
       "<style>#sk-container-id-1 {\n",
       "  /* Definition of color scheme common for light and dark mode */\n",
       "  --sklearn-color-text: black;\n",
       "  --sklearn-color-line: gray;\n",
       "  /* Definition of color scheme for unfitted estimators */\n",
       "  --sklearn-color-unfitted-level-0: #fff5e6;\n",
       "  --sklearn-color-unfitted-level-1: #f6e4d2;\n",
       "  --sklearn-color-unfitted-level-2: #ffe0b3;\n",
       "  --sklearn-color-unfitted-level-3: chocolate;\n",
       "  /* Definition of color scheme for fitted estimators */\n",
       "  --sklearn-color-fitted-level-0: #f0f8ff;\n",
       "  --sklearn-color-fitted-level-1: #d4ebff;\n",
       "  --sklearn-color-fitted-level-2: #b3dbfd;\n",
       "  --sklearn-color-fitted-level-3: cornflowerblue;\n",
       "\n",
       "  /* Specific color for light theme */\n",
       "  --sklearn-color-text-on-default-background: var(--sg-text-color, var(--theme-code-foreground, var(--jp-content-font-color1, black)));\n",
       "  --sklearn-color-background: var(--sg-background-color, var(--theme-background, var(--jp-layout-color0, white)));\n",
       "  --sklearn-color-border-box: var(--sg-text-color, var(--theme-code-foreground, var(--jp-content-font-color1, black)));\n",
       "  --sklearn-color-icon: #696969;\n",
       "\n",
       "  @media (prefers-color-scheme: dark) {\n",
       "    /* Redefinition of color scheme for dark theme */\n",
       "    --sklearn-color-text-on-default-background: var(--sg-text-color, var(--theme-code-foreground, var(--jp-content-font-color1, white)));\n",
       "    --sklearn-color-background: var(--sg-background-color, var(--theme-background, var(--jp-layout-color0, #111)));\n",
       "    --sklearn-color-border-box: var(--sg-text-color, var(--theme-code-foreground, var(--jp-content-font-color1, white)));\n",
       "    --sklearn-color-icon: #878787;\n",
       "  }\n",
       "}\n",
       "\n",
       "#sk-container-id-1 {\n",
       "  color: var(--sklearn-color-text);\n",
       "}\n",
       "\n",
       "#sk-container-id-1 pre {\n",
       "  padding: 0;\n",
       "}\n",
       "\n",
       "#sk-container-id-1 input.sk-hidden--visually {\n",
       "  border: 0;\n",
       "  clip: rect(1px 1px 1px 1px);\n",
       "  clip: rect(1px, 1px, 1px, 1px);\n",
       "  height: 1px;\n",
       "  margin: -1px;\n",
       "  overflow: hidden;\n",
       "  padding: 0;\n",
       "  position: absolute;\n",
       "  width: 1px;\n",
       "}\n",
       "\n",
       "#sk-container-id-1 div.sk-dashed-wrapped {\n",
       "  border: 1px dashed var(--sklearn-color-line);\n",
       "  margin: 0 0.4em 0.5em 0.4em;\n",
       "  box-sizing: border-box;\n",
       "  padding-bottom: 0.4em;\n",
       "  background-color: var(--sklearn-color-background);\n",
       "}\n",
       "\n",
       "#sk-container-id-1 div.sk-container {\n",
       "  /* jupyter's `normalize.less` sets `[hidden] { display: none; }`\n",
       "     but bootstrap.min.css set `[hidden] { display: none !important; }`\n",
       "     so we also need the `!important` here to be able to override the\n",
       "     default hidden behavior on the sphinx rendered scikit-learn.org.\n",
       "     See: https://github.com/scikit-learn/scikit-learn/issues/21755 */\n",
       "  display: inline-block !important;\n",
       "  position: relative;\n",
       "}\n",
       "\n",
       "#sk-container-id-1 div.sk-text-repr-fallback {\n",
       "  display: none;\n",
       "}\n",
       "\n",
       "div.sk-parallel-item,\n",
       "div.sk-serial,\n",
       "div.sk-item {\n",
       "  /* draw centered vertical line to link estimators */\n",
       "  background-image: linear-gradient(var(--sklearn-color-text-on-default-background), var(--sklearn-color-text-on-default-background));\n",
       "  background-size: 2px 100%;\n",
       "  background-repeat: no-repeat;\n",
       "  background-position: center center;\n",
       "}\n",
       "\n",
       "/* Parallel-specific style estimator block */\n",
       "\n",
       "#sk-container-id-1 div.sk-parallel-item::after {\n",
       "  content: \"\";\n",
       "  width: 100%;\n",
       "  border-bottom: 2px solid var(--sklearn-color-text-on-default-background);\n",
       "  flex-grow: 1;\n",
       "}\n",
       "\n",
       "#sk-container-id-1 div.sk-parallel {\n",
       "  display: flex;\n",
       "  align-items: stretch;\n",
       "  justify-content: center;\n",
       "  background-color: var(--sklearn-color-background);\n",
       "  position: relative;\n",
       "}\n",
       "\n",
       "#sk-container-id-1 div.sk-parallel-item {\n",
       "  display: flex;\n",
       "  flex-direction: column;\n",
       "}\n",
       "\n",
       "#sk-container-id-1 div.sk-parallel-item:first-child::after {\n",
       "  align-self: flex-end;\n",
       "  width: 50%;\n",
       "}\n",
       "\n",
       "#sk-container-id-1 div.sk-parallel-item:last-child::after {\n",
       "  align-self: flex-start;\n",
       "  width: 50%;\n",
       "}\n",
       "\n",
       "#sk-container-id-1 div.sk-parallel-item:only-child::after {\n",
       "  width: 0;\n",
       "}\n",
       "\n",
       "/* Serial-specific style estimator block */\n",
       "\n",
       "#sk-container-id-1 div.sk-serial {\n",
       "  display: flex;\n",
       "  flex-direction: column;\n",
       "  align-items: center;\n",
       "  background-color: var(--sklearn-color-background);\n",
       "  padding-right: 1em;\n",
       "  padding-left: 1em;\n",
       "}\n",
       "\n",
       "\n",
       "/* Toggleable style: style used for estimator/Pipeline/ColumnTransformer box that is\n",
       "clickable and can be expanded/collapsed.\n",
       "- Pipeline and ColumnTransformer use this feature and define the default style\n",
       "- Estimators will overwrite some part of the style using the `sk-estimator` class\n",
       "*/\n",
       "\n",
       "/* Pipeline and ColumnTransformer style (default) */\n",
       "\n",
       "#sk-container-id-1 div.sk-toggleable {\n",
       "  /* Default theme specific background. It is overwritten whether we have a\n",
       "  specific estimator or a Pipeline/ColumnTransformer */\n",
       "  background-color: var(--sklearn-color-background);\n",
       "}\n",
       "\n",
       "/* Toggleable label */\n",
       "#sk-container-id-1 label.sk-toggleable__label {\n",
       "  cursor: pointer;\n",
       "  display: block;\n",
       "  width: 100%;\n",
       "  margin-bottom: 0;\n",
       "  padding: 0.5em;\n",
       "  box-sizing: border-box;\n",
       "  text-align: center;\n",
       "}\n",
       "\n",
       "#sk-container-id-1 label.sk-toggleable__label-arrow:before {\n",
       "  /* Arrow on the left of the label */\n",
       "  content: \"▸\";\n",
       "  float: left;\n",
       "  margin-right: 0.25em;\n",
       "  color: var(--sklearn-color-icon);\n",
       "}\n",
       "\n",
       "#sk-container-id-1 label.sk-toggleable__label-arrow:hover:before {\n",
       "  color: var(--sklearn-color-text);\n",
       "}\n",
       "\n",
       "/* Toggleable content - dropdown */\n",
       "\n",
       "#sk-container-id-1 div.sk-toggleable__content {\n",
       "  max-height: 0;\n",
       "  max-width: 0;\n",
       "  overflow: hidden;\n",
       "  text-align: left;\n",
       "  /* unfitted */\n",
       "  background-color: var(--sklearn-color-unfitted-level-0);\n",
       "}\n",
       "\n",
       "#sk-container-id-1 div.sk-toggleable__content.fitted {\n",
       "  /* fitted */\n",
       "  background-color: var(--sklearn-color-fitted-level-0);\n",
       "}\n",
       "\n",
       "#sk-container-id-1 div.sk-toggleable__content pre {\n",
       "  margin: 0.2em;\n",
       "  border-radius: 0.25em;\n",
       "  color: var(--sklearn-color-text);\n",
       "  /* unfitted */\n",
       "  background-color: var(--sklearn-color-unfitted-level-0);\n",
       "}\n",
       "\n",
       "#sk-container-id-1 div.sk-toggleable__content.fitted pre {\n",
       "  /* unfitted */\n",
       "  background-color: var(--sklearn-color-fitted-level-0);\n",
       "}\n",
       "\n",
       "#sk-container-id-1 input.sk-toggleable__control:checked~div.sk-toggleable__content {\n",
       "  /* Expand drop-down */\n",
       "  max-height: 200px;\n",
       "  max-width: 100%;\n",
       "  overflow: auto;\n",
       "}\n",
       "\n",
       "#sk-container-id-1 input.sk-toggleable__control:checked~label.sk-toggleable__label-arrow:before {\n",
       "  content: \"▾\";\n",
       "}\n",
       "\n",
       "/* Pipeline/ColumnTransformer-specific style */\n",
       "\n",
       "#sk-container-id-1 div.sk-label input.sk-toggleable__control:checked~label.sk-toggleable__label {\n",
       "  color: var(--sklearn-color-text);\n",
       "  background-color: var(--sklearn-color-unfitted-level-2);\n",
       "}\n",
       "\n",
       "#sk-container-id-1 div.sk-label.fitted input.sk-toggleable__control:checked~label.sk-toggleable__label {\n",
       "  background-color: var(--sklearn-color-fitted-level-2);\n",
       "}\n",
       "\n",
       "/* Estimator-specific style */\n",
       "\n",
       "/* Colorize estimator box */\n",
       "#sk-container-id-1 div.sk-estimator input.sk-toggleable__control:checked~label.sk-toggleable__label {\n",
       "  /* unfitted */\n",
       "  background-color: var(--sklearn-color-unfitted-level-2);\n",
       "}\n",
       "\n",
       "#sk-container-id-1 div.sk-estimator.fitted input.sk-toggleable__control:checked~label.sk-toggleable__label {\n",
       "  /* fitted */\n",
       "  background-color: var(--sklearn-color-fitted-level-2);\n",
       "}\n",
       "\n",
       "#sk-container-id-1 div.sk-label label.sk-toggleable__label,\n",
       "#sk-container-id-1 div.sk-label label {\n",
       "  /* The background is the default theme color */\n",
       "  color: var(--sklearn-color-text-on-default-background);\n",
       "}\n",
       "\n",
       "/* On hover, darken the color of the background */\n",
       "#sk-container-id-1 div.sk-label:hover label.sk-toggleable__label {\n",
       "  color: var(--sklearn-color-text);\n",
       "  background-color: var(--sklearn-color-unfitted-level-2);\n",
       "}\n",
       "\n",
       "/* Label box, darken color on hover, fitted */\n",
       "#sk-container-id-1 div.sk-label.fitted:hover label.sk-toggleable__label.fitted {\n",
       "  color: var(--sklearn-color-text);\n",
       "  background-color: var(--sklearn-color-fitted-level-2);\n",
       "}\n",
       "\n",
       "/* Estimator label */\n",
       "\n",
       "#sk-container-id-1 div.sk-label label {\n",
       "  font-family: monospace;\n",
       "  font-weight: bold;\n",
       "  display: inline-block;\n",
       "  line-height: 1.2em;\n",
       "}\n",
       "\n",
       "#sk-container-id-1 div.sk-label-container {\n",
       "  text-align: center;\n",
       "}\n",
       "\n",
       "/* Estimator-specific */\n",
       "#sk-container-id-1 div.sk-estimator {\n",
       "  font-family: monospace;\n",
       "  border: 1px dotted var(--sklearn-color-border-box);\n",
       "  border-radius: 0.25em;\n",
       "  box-sizing: border-box;\n",
       "  margin-bottom: 0.5em;\n",
       "  /* unfitted */\n",
       "  background-color: var(--sklearn-color-unfitted-level-0);\n",
       "}\n",
       "\n",
       "#sk-container-id-1 div.sk-estimator.fitted {\n",
       "  /* fitted */\n",
       "  background-color: var(--sklearn-color-fitted-level-0);\n",
       "}\n",
       "\n",
       "/* on hover */\n",
       "#sk-container-id-1 div.sk-estimator:hover {\n",
       "  /* unfitted */\n",
       "  background-color: var(--sklearn-color-unfitted-level-2);\n",
       "}\n",
       "\n",
       "#sk-container-id-1 div.sk-estimator.fitted:hover {\n",
       "  /* fitted */\n",
       "  background-color: var(--sklearn-color-fitted-level-2);\n",
       "}\n",
       "\n",
       "/* Specification for estimator info (e.g. \"i\" and \"?\") */\n",
       "\n",
       "/* Common style for \"i\" and \"?\" */\n",
       "\n",
       ".sk-estimator-doc-link,\n",
       "a:link.sk-estimator-doc-link,\n",
       "a:visited.sk-estimator-doc-link {\n",
       "  float: right;\n",
       "  font-size: smaller;\n",
       "  line-height: 1em;\n",
       "  font-family: monospace;\n",
       "  background-color: var(--sklearn-color-background);\n",
       "  border-radius: 1em;\n",
       "  height: 1em;\n",
       "  width: 1em;\n",
       "  text-decoration: none !important;\n",
       "  margin-left: 1ex;\n",
       "  /* unfitted */\n",
       "  border: var(--sklearn-color-unfitted-level-1) 1pt solid;\n",
       "  color: var(--sklearn-color-unfitted-level-1);\n",
       "}\n",
       "\n",
       ".sk-estimator-doc-link.fitted,\n",
       "a:link.sk-estimator-doc-link.fitted,\n",
       "a:visited.sk-estimator-doc-link.fitted {\n",
       "  /* fitted */\n",
       "  border: var(--sklearn-color-fitted-level-1) 1pt solid;\n",
       "  color: var(--sklearn-color-fitted-level-1);\n",
       "}\n",
       "\n",
       "/* On hover */\n",
       "div.sk-estimator:hover .sk-estimator-doc-link:hover,\n",
       ".sk-estimator-doc-link:hover,\n",
       "div.sk-label-container:hover .sk-estimator-doc-link:hover,\n",
       ".sk-estimator-doc-link:hover {\n",
       "  /* unfitted */\n",
       "  background-color: var(--sklearn-color-unfitted-level-3);\n",
       "  color: var(--sklearn-color-background);\n",
       "  text-decoration: none;\n",
       "}\n",
       "\n",
       "div.sk-estimator.fitted:hover .sk-estimator-doc-link.fitted:hover,\n",
       ".sk-estimator-doc-link.fitted:hover,\n",
       "div.sk-label-container:hover .sk-estimator-doc-link.fitted:hover,\n",
       ".sk-estimator-doc-link.fitted:hover {\n",
       "  /* fitted */\n",
       "  background-color: var(--sklearn-color-fitted-level-3);\n",
       "  color: var(--sklearn-color-background);\n",
       "  text-decoration: none;\n",
       "}\n",
       "\n",
       "/* Span, style for the box shown on hovering the info icon */\n",
       ".sk-estimator-doc-link span {\n",
       "  display: none;\n",
       "  z-index: 9999;\n",
       "  position: relative;\n",
       "  font-weight: normal;\n",
       "  right: .2ex;\n",
       "  padding: .5ex;\n",
       "  margin: .5ex;\n",
       "  width: min-content;\n",
       "  min-width: 20ex;\n",
       "  max-width: 50ex;\n",
       "  color: var(--sklearn-color-text);\n",
       "  box-shadow: 2pt 2pt 4pt #999;\n",
       "  /* unfitted */\n",
       "  background: var(--sklearn-color-unfitted-level-0);\n",
       "  border: .5pt solid var(--sklearn-color-unfitted-level-3);\n",
       "}\n",
       "\n",
       ".sk-estimator-doc-link.fitted span {\n",
       "  /* fitted */\n",
       "  background: var(--sklearn-color-fitted-level-0);\n",
       "  border: var(--sklearn-color-fitted-level-3);\n",
       "}\n",
       "\n",
       ".sk-estimator-doc-link:hover span {\n",
       "  display: block;\n",
       "}\n",
       "\n",
       "/* \"?\"-specific style due to the `<a>` HTML tag */\n",
       "\n",
       "#sk-container-id-1 a.estimator_doc_link {\n",
       "  float: right;\n",
       "  font-size: 1rem;\n",
       "  line-height: 1em;\n",
       "  font-family: monospace;\n",
       "  background-color: var(--sklearn-color-background);\n",
       "  border-radius: 1rem;\n",
       "  height: 1rem;\n",
       "  width: 1rem;\n",
       "  text-decoration: none;\n",
       "  /* unfitted */\n",
       "  color: var(--sklearn-color-unfitted-level-1);\n",
       "  border: var(--sklearn-color-unfitted-level-1) 1pt solid;\n",
       "}\n",
       "\n",
       "#sk-container-id-1 a.estimator_doc_link.fitted {\n",
       "  /* fitted */\n",
       "  border: var(--sklearn-color-fitted-level-1) 1pt solid;\n",
       "  color: var(--sklearn-color-fitted-level-1);\n",
       "}\n",
       "\n",
       "/* On hover */\n",
       "#sk-container-id-1 a.estimator_doc_link:hover {\n",
       "  /* unfitted */\n",
       "  background-color: var(--sklearn-color-unfitted-level-3);\n",
       "  color: var(--sklearn-color-background);\n",
       "  text-decoration: none;\n",
       "}\n",
       "\n",
       "#sk-container-id-1 a.estimator_doc_link.fitted:hover {\n",
       "  /* fitted */\n",
       "  background-color: var(--sklearn-color-fitted-level-3);\n",
       "}\n",
       "</style><div id=\"sk-container-id-1\" class=\"sk-top-container\"><div class=\"sk-text-repr-fallback\"><pre>RandomizedSearchCV(cv=3,\n",
       "                   estimator=RandomForestRegressor(n_jobs=-1, random_state=42),\n",
       "                   n_jobs=-1,\n",
       "                   param_distributions={&#x27;max_depth&#x27;: [None, 2, 3, 4, 5, 6],\n",
       "                                        &#x27;min_samples_split&#x27;: range(2, 10)},\n",
       "                   random_state=42, scoring=&#x27;neg_root_mean_squared_error&#x27;)</pre><b>In a Jupyter environment, please rerun this cell to show the HTML representation or trust the notebook. <br />On GitHub, the HTML representation is unable to render, please try loading this page with nbviewer.org.</b></div><div class=\"sk-container\" hidden><div class=\"sk-item sk-dashed-wrapped\"><div class=\"sk-label-container\"><div class=\"sk-label fitted sk-toggleable\"><input class=\"sk-toggleable__control sk-hidden--visually\" id=\"sk-estimator-id-1\" type=\"checkbox\" ><label for=\"sk-estimator-id-1\" class=\"sk-toggleable__label fitted sk-toggleable__label-arrow fitted\">&nbsp;&nbsp;RandomizedSearchCV<a class=\"sk-estimator-doc-link fitted\" rel=\"noreferrer\" target=\"_blank\" href=\"https://scikit-learn.org/1.5/modules/generated/sklearn.model_selection.RandomizedSearchCV.html\">?<span>Documentation for RandomizedSearchCV</span></a><span class=\"sk-estimator-doc-link fitted\">i<span>Fitted</span></span></label><div class=\"sk-toggleable__content fitted\"><pre>RandomizedSearchCV(cv=3,\n",
       "                   estimator=RandomForestRegressor(n_jobs=-1, random_state=42),\n",
       "                   n_jobs=-1,\n",
       "                   param_distributions={&#x27;max_depth&#x27;: [None, 2, 3, 4, 5, 6],\n",
       "                                        &#x27;min_samples_split&#x27;: range(2, 10)},\n",
       "                   random_state=42, scoring=&#x27;neg_root_mean_squared_error&#x27;)</pre></div> </div></div><div class=\"sk-parallel\"><div class=\"sk-parallel-item\"><div class=\"sk-item\"><div class=\"sk-label-container\"><div class=\"sk-label fitted sk-toggleable\"><input class=\"sk-toggleable__control sk-hidden--visually\" id=\"sk-estimator-id-2\" type=\"checkbox\" ><label for=\"sk-estimator-id-2\" class=\"sk-toggleable__label fitted sk-toggleable__label-arrow fitted\">best_estimator_: RandomForestRegressor</label><div class=\"sk-toggleable__content fitted\"><pre>RandomForestRegressor(min_samples_split=6, n_jobs=-1, random_state=42)</pre></div> </div></div><div class=\"sk-serial\"><div class=\"sk-item\"><div class=\"sk-estimator fitted sk-toggleable\"><input class=\"sk-toggleable__control sk-hidden--visually\" id=\"sk-estimator-id-3\" type=\"checkbox\" ><label for=\"sk-estimator-id-3\" class=\"sk-toggleable__label fitted sk-toggleable__label-arrow fitted\">&nbsp;RandomForestRegressor<a class=\"sk-estimator-doc-link fitted\" rel=\"noreferrer\" target=\"_blank\" href=\"https://scikit-learn.org/1.5/modules/generated/sklearn.ensemble.RandomForestRegressor.html\">?<span>Documentation for RandomForestRegressor</span></a></label><div class=\"sk-toggleable__content fitted\"><pre>RandomForestRegressor(min_samples_split=6, n_jobs=-1, random_state=42)</pre></div> </div></div></div></div></div></div></div></div></div>"
      ],
      "text/plain": [
       "RandomizedSearchCV(cv=3,\n",
       "                   estimator=RandomForestRegressor(n_jobs=-1, random_state=42),\n",
       "                   n_jobs=-1,\n",
       "                   param_distributions={'max_depth': [None, 2, 3, 4, 5, 6],\n",
       "                                        'min_samples_split': range(2, 10)},\n",
       "                   random_state=42, scoring='neg_root_mean_squared_error')"
      ]
     },
     "execution_count": 40,
     "metadata": {},
     "output_type": "execute_result"
    }
   ],
   "source": [
    "%%time\n",
    "RF = RandomForestRegressor(criterion = \"squared_error\", random_state=RANDOM_STATE, n_estimators = 100, n_jobs=-1)\n",
    "param_grid = {\n",
    "    'max_depth': [None] + [i for i in range(2, 7)],\n",
    "    'min_samples_split': range(2, 10)\n",
    "             }\n",
    "randomized_search = RandomizedSearchCV(\n",
    "    RF, \n",
    "    param_grid, \n",
    "    cv=3,\n",
    "    scoring='neg_root_mean_squared_error',\n",
    "    random_state=RANDOM_STATE,\n",
    "    n_jobs=-1\n",
    ")\n",
    "randomized_search.fit(X_train_ordinal_scaled, y_train)"
   ]
  },
  {
   "cell_type": "code",
   "execution_count": 41,
   "metadata": {},
   "outputs": [
    {
     "name": "stdout",
     "output_type": "stream",
     "text": [
      "\n",
      "RandomForest с лучшими гиперпараметрами:\n",
      " RandomForestRegressor(min_samples_split=6, n_jobs=-1, random_state=42)\n",
      "Метрика RMSE:\n",
      " 1692.2096640770949\n"
     ]
    }
   ],
   "source": [
    "print('\\nRandomForest с лучшими гиперпараметрами:\\n', randomized_search.best_estimator_)\n",
    "print('Метрика RMSE:\\n', -1*randomized_search.best_score_)"
   ]
  },
  {
   "cell_type": "code",
   "execution_count": 42,
   "metadata": {},
   "outputs": [
    {
     "name": "stdout",
     "output_type": "stream",
     "text": [
      "CPU times: total: 1min 38s\n",
      "Wall time: 13.3 s\n"
     ]
    }
   ],
   "source": [
    "%%time\n",
    "start = time()\n",
    "RF = randomized_search.best_estimator_\n",
    "RF.fit(X_train_ordinal_scaled, y_train)\n",
    "end = time()\n",
    "RF_fit_time = end - start"
   ]
  },
  {
   "cell_type": "code",
   "execution_count": 43,
   "metadata": {
    "colab": {
     "base_uri": "https://localhost:8080/"
    },
    "id": "TQ3hadoQU_FG",
    "outputId": "22fc4954-3c68-49a6-ba11-867ce6654203"
   },
   "outputs": [
    {
     "name": "stdout",
     "output_type": "stream",
     "text": [
      "CPU times: total: 10.3 s\n",
      "Wall time: 1.42 s\n"
     ]
    }
   ],
   "source": [
    "%%time\n",
    "start = time()\n",
    "RF.predict(X_train_ordinal_scaled)\n",
    "end = time()\n",
    "RF_predict_time = end - start"
   ]
  },
  {
   "cell_type": "code",
   "execution_count": 44,
   "metadata": {
    "colab": {
     "base_uri": "https://localhost:8080/"
    },
    "id": "oz7pLwUzU_FG",
    "outputId": "6fbcbf05-037d-4370-b6e6-03d86d59444a"
   },
   "outputs": [
    {
     "name": "stdout",
     "output_type": "stream",
     "text": [
      "RandomForest: 1692.2096640770949\n"
     ]
    }
   ],
   "source": [
    "rmse_rf = -1*randomized_search.best_score_\n",
    "print(f'RandomForest: {rmse_rf}')"
   ]
  },
  {
   "cell_type": "markdown",
   "metadata": {},
   "source": [
    "### CatBoost"
   ]
  },
  {
   "cell_type": "code",
   "execution_count": null,
   "metadata": {
    "colab": {
     "base_uri": "https://localhost:8080/"
    },
    "collapsed": true,
    "id": "hUdSVdnPU_FG",
    "outputId": "dfc0b2fa-7dfa-49e5-bd19-5ba4d4d36451"
   },
   "outputs": [],
   "source": [
    "%%time\n",
    "catboost = CatBoostRegressor(random_state=RANDOM_STATE, loss_function='RMSE')\n",
    "param_grid = {'depth':[None] + [i for i in range(2, 7)], 'learning_rate': np.arange(0.1, 1, 0.3)}\n",
    "catboost_grid = catboost.grid_search(param_grid,\n",
    "            Pool(X_train, y_train, cat_features=ordinal_columns),\n",
    "            cv=3,\n",
    "            verbose=0,\n",
    "            plot=False)"
   ]
  },
  {
   "cell_type": "code",
   "execution_count": 46,
   "metadata": {},
   "outputs": [],
   "source": [
    "rmse_catboost = catboost_grid['cv_results']['test-RMSE-mean'][-1]"
   ]
  },
  {
   "cell_type": "code",
   "execution_count": 47,
   "metadata": {},
   "outputs": [
    {
     "name": "stdout",
     "output_type": "stream",
     "text": [
      "CPU times: total: 7min 42s\n",
      "Wall time: 1min 20s\n"
     ]
    }
   ],
   "source": [
    "%%time\n",
    "start = time()\n",
    "final_cat = CatBoostRegressor(depth=catboost_grid[\"params\"][\"depth\"], \n",
    "                              learning_rate=catboost_grid[\"params\"]['learning_rate'],\n",
    "                              loss_function='RMSE',verbose=0)\n",
    "final_cat.fit(Pool(X_train, y_train, cat_features=ordinal_columns))\n",
    "end = time()\n",
    "catboost_fit_time = end - start"
   ]
  },
  {
   "cell_type": "code",
   "execution_count": 48,
   "metadata": {
    "colab": {
     "base_uri": "https://localhost:8080/"
    },
    "id": "cK6XB3DpU_FG",
    "outputId": "94ac6135-567c-4690-98c9-f16111b8a8a2"
   },
   "outputs": [
    {
     "name": "stdout",
     "output_type": "stream",
     "text": [
      "CPU times: total: 2.55 s\n",
      "Wall time: 763 ms\n"
     ]
    }
   ],
   "source": [
    "%%time\n",
    "start = time()\n",
    "final_cat.predict(X_train)\n",
    "end = time()\n",
    "catboost_predict_time = end - start"
   ]
  },
  {
   "cell_type": "code",
   "execution_count": 49,
   "metadata": {
    "colab": {
     "base_uri": "https://localhost:8080/"
    },
    "id": "eRIAIjpzU_FG",
    "outputId": "2daddd18-0981-49f1-c650-04d1162b53b8"
   },
   "outputs": [
    {
     "name": "stdout",
     "output_type": "stream",
     "text": [
      "Catboost: 1625.4993682260995\n"
     ]
    }
   ],
   "source": [
    "print(f'Catboost: {rmse_catboost}')"
   ]
  },
  {
   "cell_type": "markdown",
   "metadata": {},
   "source": [
    "### LightGBM"
   ]
  },
  {
   "cell_type": "code",
   "execution_count": 50,
   "metadata": {},
   "outputs": [
    {
     "name": "stdout",
     "output_type": "stream",
     "text": [
      "[LightGBM] [Info] Auto-choosing col-wise multi-threading, the overhead of testing was 0.016686 seconds.\n",
      "You can set `force_col_wise=true` to remove the overhead.\n",
      "[LightGBM] [Info] Total Bins 568\n",
      "[LightGBM] [Info] Number of data points in the train set: 155541, number of used features: 10\n",
      "[LightGBM] [Info] Start training from score 5875.329347\n",
      "CPU times: total: 8.64 s\n",
      "Wall time: 1min\n"
     ]
    },
    {
     "data": {
      "text/html": [
       "<style>#sk-container-id-2 {\n",
       "  /* Definition of color scheme common for light and dark mode */\n",
       "  --sklearn-color-text: black;\n",
       "  --sklearn-color-line: gray;\n",
       "  /* Definition of color scheme for unfitted estimators */\n",
       "  --sklearn-color-unfitted-level-0: #fff5e6;\n",
       "  --sklearn-color-unfitted-level-1: #f6e4d2;\n",
       "  --sklearn-color-unfitted-level-2: #ffe0b3;\n",
       "  --sklearn-color-unfitted-level-3: chocolate;\n",
       "  /* Definition of color scheme for fitted estimators */\n",
       "  --sklearn-color-fitted-level-0: #f0f8ff;\n",
       "  --sklearn-color-fitted-level-1: #d4ebff;\n",
       "  --sklearn-color-fitted-level-2: #b3dbfd;\n",
       "  --sklearn-color-fitted-level-3: cornflowerblue;\n",
       "\n",
       "  /* Specific color for light theme */\n",
       "  --sklearn-color-text-on-default-background: var(--sg-text-color, var(--theme-code-foreground, var(--jp-content-font-color1, black)));\n",
       "  --sklearn-color-background: var(--sg-background-color, var(--theme-background, var(--jp-layout-color0, white)));\n",
       "  --sklearn-color-border-box: var(--sg-text-color, var(--theme-code-foreground, var(--jp-content-font-color1, black)));\n",
       "  --sklearn-color-icon: #696969;\n",
       "\n",
       "  @media (prefers-color-scheme: dark) {\n",
       "    /* Redefinition of color scheme for dark theme */\n",
       "    --sklearn-color-text-on-default-background: var(--sg-text-color, var(--theme-code-foreground, var(--jp-content-font-color1, white)));\n",
       "    --sklearn-color-background: var(--sg-background-color, var(--theme-background, var(--jp-layout-color0, #111)));\n",
       "    --sklearn-color-border-box: var(--sg-text-color, var(--theme-code-foreground, var(--jp-content-font-color1, white)));\n",
       "    --sklearn-color-icon: #878787;\n",
       "  }\n",
       "}\n",
       "\n",
       "#sk-container-id-2 {\n",
       "  color: var(--sklearn-color-text);\n",
       "}\n",
       "\n",
       "#sk-container-id-2 pre {\n",
       "  padding: 0;\n",
       "}\n",
       "\n",
       "#sk-container-id-2 input.sk-hidden--visually {\n",
       "  border: 0;\n",
       "  clip: rect(1px 1px 1px 1px);\n",
       "  clip: rect(1px, 1px, 1px, 1px);\n",
       "  height: 1px;\n",
       "  margin: -1px;\n",
       "  overflow: hidden;\n",
       "  padding: 0;\n",
       "  position: absolute;\n",
       "  width: 1px;\n",
       "}\n",
       "\n",
       "#sk-container-id-2 div.sk-dashed-wrapped {\n",
       "  border: 1px dashed var(--sklearn-color-line);\n",
       "  margin: 0 0.4em 0.5em 0.4em;\n",
       "  box-sizing: border-box;\n",
       "  padding-bottom: 0.4em;\n",
       "  background-color: var(--sklearn-color-background);\n",
       "}\n",
       "\n",
       "#sk-container-id-2 div.sk-container {\n",
       "  /* jupyter's `normalize.less` sets `[hidden] { display: none; }`\n",
       "     but bootstrap.min.css set `[hidden] { display: none !important; }`\n",
       "     so we also need the `!important` here to be able to override the\n",
       "     default hidden behavior on the sphinx rendered scikit-learn.org.\n",
       "     See: https://github.com/scikit-learn/scikit-learn/issues/21755 */\n",
       "  display: inline-block !important;\n",
       "  position: relative;\n",
       "}\n",
       "\n",
       "#sk-container-id-2 div.sk-text-repr-fallback {\n",
       "  display: none;\n",
       "}\n",
       "\n",
       "div.sk-parallel-item,\n",
       "div.sk-serial,\n",
       "div.sk-item {\n",
       "  /* draw centered vertical line to link estimators */\n",
       "  background-image: linear-gradient(var(--sklearn-color-text-on-default-background), var(--sklearn-color-text-on-default-background));\n",
       "  background-size: 2px 100%;\n",
       "  background-repeat: no-repeat;\n",
       "  background-position: center center;\n",
       "}\n",
       "\n",
       "/* Parallel-specific style estimator block */\n",
       "\n",
       "#sk-container-id-2 div.sk-parallel-item::after {\n",
       "  content: \"\";\n",
       "  width: 100%;\n",
       "  border-bottom: 2px solid var(--sklearn-color-text-on-default-background);\n",
       "  flex-grow: 1;\n",
       "}\n",
       "\n",
       "#sk-container-id-2 div.sk-parallel {\n",
       "  display: flex;\n",
       "  align-items: stretch;\n",
       "  justify-content: center;\n",
       "  background-color: var(--sklearn-color-background);\n",
       "  position: relative;\n",
       "}\n",
       "\n",
       "#sk-container-id-2 div.sk-parallel-item {\n",
       "  display: flex;\n",
       "  flex-direction: column;\n",
       "}\n",
       "\n",
       "#sk-container-id-2 div.sk-parallel-item:first-child::after {\n",
       "  align-self: flex-end;\n",
       "  width: 50%;\n",
       "}\n",
       "\n",
       "#sk-container-id-2 div.sk-parallel-item:last-child::after {\n",
       "  align-self: flex-start;\n",
       "  width: 50%;\n",
       "}\n",
       "\n",
       "#sk-container-id-2 div.sk-parallel-item:only-child::after {\n",
       "  width: 0;\n",
       "}\n",
       "\n",
       "/* Serial-specific style estimator block */\n",
       "\n",
       "#sk-container-id-2 div.sk-serial {\n",
       "  display: flex;\n",
       "  flex-direction: column;\n",
       "  align-items: center;\n",
       "  background-color: var(--sklearn-color-background);\n",
       "  padding-right: 1em;\n",
       "  padding-left: 1em;\n",
       "}\n",
       "\n",
       "\n",
       "/* Toggleable style: style used for estimator/Pipeline/ColumnTransformer box that is\n",
       "clickable and can be expanded/collapsed.\n",
       "- Pipeline and ColumnTransformer use this feature and define the default style\n",
       "- Estimators will overwrite some part of the style using the `sk-estimator` class\n",
       "*/\n",
       "\n",
       "/* Pipeline and ColumnTransformer style (default) */\n",
       "\n",
       "#sk-container-id-2 div.sk-toggleable {\n",
       "  /* Default theme specific background. It is overwritten whether we have a\n",
       "  specific estimator or a Pipeline/ColumnTransformer */\n",
       "  background-color: var(--sklearn-color-background);\n",
       "}\n",
       "\n",
       "/* Toggleable label */\n",
       "#sk-container-id-2 label.sk-toggleable__label {\n",
       "  cursor: pointer;\n",
       "  display: block;\n",
       "  width: 100%;\n",
       "  margin-bottom: 0;\n",
       "  padding: 0.5em;\n",
       "  box-sizing: border-box;\n",
       "  text-align: center;\n",
       "}\n",
       "\n",
       "#sk-container-id-2 label.sk-toggleable__label-arrow:before {\n",
       "  /* Arrow on the left of the label */\n",
       "  content: \"▸\";\n",
       "  float: left;\n",
       "  margin-right: 0.25em;\n",
       "  color: var(--sklearn-color-icon);\n",
       "}\n",
       "\n",
       "#sk-container-id-2 label.sk-toggleable__label-arrow:hover:before {\n",
       "  color: var(--sklearn-color-text);\n",
       "}\n",
       "\n",
       "/* Toggleable content - dropdown */\n",
       "\n",
       "#sk-container-id-2 div.sk-toggleable__content {\n",
       "  max-height: 0;\n",
       "  max-width: 0;\n",
       "  overflow: hidden;\n",
       "  text-align: left;\n",
       "  /* unfitted */\n",
       "  background-color: var(--sklearn-color-unfitted-level-0);\n",
       "}\n",
       "\n",
       "#sk-container-id-2 div.sk-toggleable__content.fitted {\n",
       "  /* fitted */\n",
       "  background-color: var(--sklearn-color-fitted-level-0);\n",
       "}\n",
       "\n",
       "#sk-container-id-2 div.sk-toggleable__content pre {\n",
       "  margin: 0.2em;\n",
       "  border-radius: 0.25em;\n",
       "  color: var(--sklearn-color-text);\n",
       "  /* unfitted */\n",
       "  background-color: var(--sklearn-color-unfitted-level-0);\n",
       "}\n",
       "\n",
       "#sk-container-id-2 div.sk-toggleable__content.fitted pre {\n",
       "  /* unfitted */\n",
       "  background-color: var(--sklearn-color-fitted-level-0);\n",
       "}\n",
       "\n",
       "#sk-container-id-2 input.sk-toggleable__control:checked~div.sk-toggleable__content {\n",
       "  /* Expand drop-down */\n",
       "  max-height: 200px;\n",
       "  max-width: 100%;\n",
       "  overflow: auto;\n",
       "}\n",
       "\n",
       "#sk-container-id-2 input.sk-toggleable__control:checked~label.sk-toggleable__label-arrow:before {\n",
       "  content: \"▾\";\n",
       "}\n",
       "\n",
       "/* Pipeline/ColumnTransformer-specific style */\n",
       "\n",
       "#sk-container-id-2 div.sk-label input.sk-toggleable__control:checked~label.sk-toggleable__label {\n",
       "  color: var(--sklearn-color-text);\n",
       "  background-color: var(--sklearn-color-unfitted-level-2);\n",
       "}\n",
       "\n",
       "#sk-container-id-2 div.sk-label.fitted input.sk-toggleable__control:checked~label.sk-toggleable__label {\n",
       "  background-color: var(--sklearn-color-fitted-level-2);\n",
       "}\n",
       "\n",
       "/* Estimator-specific style */\n",
       "\n",
       "/* Colorize estimator box */\n",
       "#sk-container-id-2 div.sk-estimator input.sk-toggleable__control:checked~label.sk-toggleable__label {\n",
       "  /* unfitted */\n",
       "  background-color: var(--sklearn-color-unfitted-level-2);\n",
       "}\n",
       "\n",
       "#sk-container-id-2 div.sk-estimator.fitted input.sk-toggleable__control:checked~label.sk-toggleable__label {\n",
       "  /* fitted */\n",
       "  background-color: var(--sklearn-color-fitted-level-2);\n",
       "}\n",
       "\n",
       "#sk-container-id-2 div.sk-label label.sk-toggleable__label,\n",
       "#sk-container-id-2 div.sk-label label {\n",
       "  /* The background is the default theme color */\n",
       "  color: var(--sklearn-color-text-on-default-background);\n",
       "}\n",
       "\n",
       "/* On hover, darken the color of the background */\n",
       "#sk-container-id-2 div.sk-label:hover label.sk-toggleable__label {\n",
       "  color: var(--sklearn-color-text);\n",
       "  background-color: var(--sklearn-color-unfitted-level-2);\n",
       "}\n",
       "\n",
       "/* Label box, darken color on hover, fitted */\n",
       "#sk-container-id-2 div.sk-label.fitted:hover label.sk-toggleable__label.fitted {\n",
       "  color: var(--sklearn-color-text);\n",
       "  background-color: var(--sklearn-color-fitted-level-2);\n",
       "}\n",
       "\n",
       "/* Estimator label */\n",
       "\n",
       "#sk-container-id-2 div.sk-label label {\n",
       "  font-family: monospace;\n",
       "  font-weight: bold;\n",
       "  display: inline-block;\n",
       "  line-height: 1.2em;\n",
       "}\n",
       "\n",
       "#sk-container-id-2 div.sk-label-container {\n",
       "  text-align: center;\n",
       "}\n",
       "\n",
       "/* Estimator-specific */\n",
       "#sk-container-id-2 div.sk-estimator {\n",
       "  font-family: monospace;\n",
       "  border: 1px dotted var(--sklearn-color-border-box);\n",
       "  border-radius: 0.25em;\n",
       "  box-sizing: border-box;\n",
       "  margin-bottom: 0.5em;\n",
       "  /* unfitted */\n",
       "  background-color: var(--sklearn-color-unfitted-level-0);\n",
       "}\n",
       "\n",
       "#sk-container-id-2 div.sk-estimator.fitted {\n",
       "  /* fitted */\n",
       "  background-color: var(--sklearn-color-fitted-level-0);\n",
       "}\n",
       "\n",
       "/* on hover */\n",
       "#sk-container-id-2 div.sk-estimator:hover {\n",
       "  /* unfitted */\n",
       "  background-color: var(--sklearn-color-unfitted-level-2);\n",
       "}\n",
       "\n",
       "#sk-container-id-2 div.sk-estimator.fitted:hover {\n",
       "  /* fitted */\n",
       "  background-color: var(--sklearn-color-fitted-level-2);\n",
       "}\n",
       "\n",
       "/* Specification for estimator info (e.g. \"i\" and \"?\") */\n",
       "\n",
       "/* Common style for \"i\" and \"?\" */\n",
       "\n",
       ".sk-estimator-doc-link,\n",
       "a:link.sk-estimator-doc-link,\n",
       "a:visited.sk-estimator-doc-link {\n",
       "  float: right;\n",
       "  font-size: smaller;\n",
       "  line-height: 1em;\n",
       "  font-family: monospace;\n",
       "  background-color: var(--sklearn-color-background);\n",
       "  border-radius: 1em;\n",
       "  height: 1em;\n",
       "  width: 1em;\n",
       "  text-decoration: none !important;\n",
       "  margin-left: 1ex;\n",
       "  /* unfitted */\n",
       "  border: var(--sklearn-color-unfitted-level-1) 1pt solid;\n",
       "  color: var(--sklearn-color-unfitted-level-1);\n",
       "}\n",
       "\n",
       ".sk-estimator-doc-link.fitted,\n",
       "a:link.sk-estimator-doc-link.fitted,\n",
       "a:visited.sk-estimator-doc-link.fitted {\n",
       "  /* fitted */\n",
       "  border: var(--sklearn-color-fitted-level-1) 1pt solid;\n",
       "  color: var(--sklearn-color-fitted-level-1);\n",
       "}\n",
       "\n",
       "/* On hover */\n",
       "div.sk-estimator:hover .sk-estimator-doc-link:hover,\n",
       ".sk-estimator-doc-link:hover,\n",
       "div.sk-label-container:hover .sk-estimator-doc-link:hover,\n",
       ".sk-estimator-doc-link:hover {\n",
       "  /* unfitted */\n",
       "  background-color: var(--sklearn-color-unfitted-level-3);\n",
       "  color: var(--sklearn-color-background);\n",
       "  text-decoration: none;\n",
       "}\n",
       "\n",
       "div.sk-estimator.fitted:hover .sk-estimator-doc-link.fitted:hover,\n",
       ".sk-estimator-doc-link.fitted:hover,\n",
       "div.sk-label-container:hover .sk-estimator-doc-link.fitted:hover,\n",
       ".sk-estimator-doc-link.fitted:hover {\n",
       "  /* fitted */\n",
       "  background-color: var(--sklearn-color-fitted-level-3);\n",
       "  color: var(--sklearn-color-background);\n",
       "  text-decoration: none;\n",
       "}\n",
       "\n",
       "/* Span, style for the box shown on hovering the info icon */\n",
       ".sk-estimator-doc-link span {\n",
       "  display: none;\n",
       "  z-index: 9999;\n",
       "  position: relative;\n",
       "  font-weight: normal;\n",
       "  right: .2ex;\n",
       "  padding: .5ex;\n",
       "  margin: .5ex;\n",
       "  width: min-content;\n",
       "  min-width: 20ex;\n",
       "  max-width: 50ex;\n",
       "  color: var(--sklearn-color-text);\n",
       "  box-shadow: 2pt 2pt 4pt #999;\n",
       "  /* unfitted */\n",
       "  background: var(--sklearn-color-unfitted-level-0);\n",
       "  border: .5pt solid var(--sklearn-color-unfitted-level-3);\n",
       "}\n",
       "\n",
       ".sk-estimator-doc-link.fitted span {\n",
       "  /* fitted */\n",
       "  background: var(--sklearn-color-fitted-level-0);\n",
       "  border: var(--sklearn-color-fitted-level-3);\n",
       "}\n",
       "\n",
       ".sk-estimator-doc-link:hover span {\n",
       "  display: block;\n",
       "}\n",
       "\n",
       "/* \"?\"-specific style due to the `<a>` HTML tag */\n",
       "\n",
       "#sk-container-id-2 a.estimator_doc_link {\n",
       "  float: right;\n",
       "  font-size: 1rem;\n",
       "  line-height: 1em;\n",
       "  font-family: monospace;\n",
       "  background-color: var(--sklearn-color-background);\n",
       "  border-radius: 1rem;\n",
       "  height: 1rem;\n",
       "  width: 1rem;\n",
       "  text-decoration: none;\n",
       "  /* unfitted */\n",
       "  color: var(--sklearn-color-unfitted-level-1);\n",
       "  border: var(--sklearn-color-unfitted-level-1) 1pt solid;\n",
       "}\n",
       "\n",
       "#sk-container-id-2 a.estimator_doc_link.fitted {\n",
       "  /* fitted */\n",
       "  border: var(--sklearn-color-fitted-level-1) 1pt solid;\n",
       "  color: var(--sklearn-color-fitted-level-1);\n",
       "}\n",
       "\n",
       "/* On hover */\n",
       "#sk-container-id-2 a.estimator_doc_link:hover {\n",
       "  /* unfitted */\n",
       "  background-color: var(--sklearn-color-unfitted-level-3);\n",
       "  color: var(--sklearn-color-background);\n",
       "  text-decoration: none;\n",
       "}\n",
       "\n",
       "#sk-container-id-2 a.estimator_doc_link.fitted:hover {\n",
       "  /* fitted */\n",
       "  background-color: var(--sklearn-color-fitted-level-3);\n",
       "}\n",
       "</style><div id=\"sk-container-id-2\" class=\"sk-top-container\"><div class=\"sk-text-repr-fallback\"><pre>RandomizedSearchCV(cv=5, estimator=LGBMRegressor(random_state=42), n_jobs=-1,\n",
       "                   param_distributions={&#x27;learning_rate&#x27;: array([0.1, 0.3, 0.5, 0.7, 0.9]),\n",
       "                                        &#x27;max_depth&#x27;: range(10, 30),\n",
       "                                        &#x27;num_leaves&#x27;: array([ 20,  40,  60,  80, 100, 120, 140, 160, 180, 200, 220, 240, 260,\n",
       "       280])},\n",
       "                   random_state=42, scoring=&#x27;neg_root_mean_squared_error&#x27;)</pre><b>In a Jupyter environment, please rerun this cell to show the HTML representation or trust the notebook. <br />On GitHub, the HTML representation is unable to render, please try loading this page with nbviewer.org.</b></div><div class=\"sk-container\" hidden><div class=\"sk-item sk-dashed-wrapped\"><div class=\"sk-label-container\"><div class=\"sk-label fitted sk-toggleable\"><input class=\"sk-toggleable__control sk-hidden--visually\" id=\"sk-estimator-id-4\" type=\"checkbox\" ><label for=\"sk-estimator-id-4\" class=\"sk-toggleable__label fitted sk-toggleable__label-arrow fitted\">&nbsp;&nbsp;RandomizedSearchCV<a class=\"sk-estimator-doc-link fitted\" rel=\"noreferrer\" target=\"_blank\" href=\"https://scikit-learn.org/1.5/modules/generated/sklearn.model_selection.RandomizedSearchCV.html\">?<span>Documentation for RandomizedSearchCV</span></a><span class=\"sk-estimator-doc-link fitted\">i<span>Fitted</span></span></label><div class=\"sk-toggleable__content fitted\"><pre>RandomizedSearchCV(cv=5, estimator=LGBMRegressor(random_state=42), n_jobs=-1,\n",
       "                   param_distributions={&#x27;learning_rate&#x27;: array([0.1, 0.3, 0.5, 0.7, 0.9]),\n",
       "                                        &#x27;max_depth&#x27;: range(10, 30),\n",
       "                                        &#x27;num_leaves&#x27;: array([ 20,  40,  60,  80, 100, 120, 140, 160, 180, 200, 220, 240, 260,\n",
       "       280])},\n",
       "                   random_state=42, scoring=&#x27;neg_root_mean_squared_error&#x27;)</pre></div> </div></div><div class=\"sk-parallel\"><div class=\"sk-parallel-item\"><div class=\"sk-item\"><div class=\"sk-label-container\"><div class=\"sk-label fitted sk-toggleable\"><input class=\"sk-toggleable__control sk-hidden--visually\" id=\"sk-estimator-id-5\" type=\"checkbox\" ><label for=\"sk-estimator-id-5\" class=\"sk-toggleable__label fitted sk-toggleable__label-arrow fitted\">best_estimator_: LGBMRegressor</label><div class=\"sk-toggleable__content fitted\"><pre>LGBMRegressor(max_depth=18, num_leaves=200, random_state=42)</pre></div> </div></div><div class=\"sk-serial\"><div class=\"sk-item\"><div class=\"sk-estimator fitted sk-toggleable\"><input class=\"sk-toggleable__control sk-hidden--visually\" id=\"sk-estimator-id-6\" type=\"checkbox\" ><label for=\"sk-estimator-id-6\" class=\"sk-toggleable__label fitted sk-toggleable__label-arrow fitted\">LGBMRegressor</label><div class=\"sk-toggleable__content fitted\"><pre>LGBMRegressor(max_depth=18, num_leaves=200, random_state=42)</pre></div> </div></div></div></div></div></div></div></div></div>"
      ],
      "text/plain": [
       "RandomizedSearchCV(cv=5, estimator=LGBMRegressor(random_state=42), n_jobs=-1,\n",
       "                   param_distributions={'learning_rate': array([0.1, 0.3, 0.5, 0.7, 0.9]),\n",
       "                                        'max_depth': range(10, 30),\n",
       "                                        'num_leaves': array([ 20,  40,  60,  80, 100, 120, 140, 160, 180, 200, 220, 240, 260,\n",
       "       280])},\n",
       "                   random_state=42, scoring='neg_root_mean_squared_error')"
      ]
     },
     "execution_count": 50,
     "metadata": {},
     "output_type": "execute_result"
    }
   ],
   "source": [
    "%%time\n",
    "X_test[ordinal_columns] = X_test[ordinal_columns].astype('category')\n",
    "X_train[ordinal_columns] = X_train[ordinal_columns].astype('category')\n",
    "\n",
    "param_grid = {'max_depth': range(10, 30), 'num_leaves': np.arange(20, 300, 20), 'learning_rate': np.arange(0.1, 1, 0.2)}\n",
    "light = lgb.LGBMRegressor(random_state=RANDOM_STATE)\n",
    "randomized_search=RandomizedSearchCV(light,\n",
    "                                     param_grid,\n",
    "                                     scoring='neg_root_mean_squared_error',\n",
    "                                     random_state=RANDOM_STATE,\n",
    "                                     cv=5,\n",
    "                                     verbose=0,\n",
    "                                     n_jobs=-1)\n",
    "randomized_search.fit(X_train, y_train)"
   ]
  },
  {
   "cell_type": "code",
   "execution_count": 51,
   "metadata": {},
   "outputs": [
    {
     "name": "stdout",
     "output_type": "stream",
     "text": [
      "\n",
      "LightGBM с лучшими гиперпараметрами:\n",
      " LGBMRegressor(max_depth=18, num_leaves=200, random_state=42)\n",
      "Метрика RMSE:\n",
      " 1582.2464701654233\n"
     ]
    }
   ],
   "source": [
    "print('\\nLightGBM с лучшими гиперпараметрами:\\n', randomized_search.best_estimator_)\n",
    "print('Метрика RMSE:\\n', -1*randomized_search.best_score_)"
   ]
  },
  {
   "cell_type": "code",
   "execution_count": 52,
   "metadata": {},
   "outputs": [
    {
     "name": "stdout",
     "output_type": "stream",
     "text": [
      "[LightGBM] [Info] Auto-choosing col-wise multi-threading, the overhead of testing was 0.016373 seconds.\n",
      "You can set `force_col_wise=true` to remove the overhead.\n",
      "[LightGBM] [Info] Total Bins 568\n",
      "[LightGBM] [Info] Number of data points in the train set: 155541, number of used features: 10\n",
      "[LightGBM] [Info] Start training from score 5875.329347\n",
      "CPU times: total: 7.66 s\n",
      "Wall time: 2.33 s\n"
     ]
    }
   ],
   "source": [
    "%%time\n",
    "start = time()\n",
    "\n",
    "light = randomized_search.best_estimator_\n",
    "light.fit(X_train, y_train)\n",
    "\n",
    "end = time()\n",
    "light_fit_time = end - start"
   ]
  },
  {
   "cell_type": "code",
   "execution_count": 53,
   "metadata": {},
   "outputs": [
    {
     "name": "stdout",
     "output_type": "stream",
     "text": [
      "Light:1582.2464701654233\n",
      "CPU times: total: 4.44 s\n",
      "Wall time: 1.17 s\n"
     ]
    }
   ],
   "source": [
    "%%time\n",
    "\n",
    "start = time()\n",
    "\n",
    "light.predict(X_train)\n",
    "\n",
    "end = time()\n",
    "light_predict_time = end - start\n",
    "rmse_light = -1*randomized_search.best_score_\n",
    "print(f'Light:{rmse_light}')"
   ]
  },
  {
   "cell_type": "markdown",
   "metadata": {},
   "source": [
    "**Промежуточные итоги**\n",
    "\n",
    "Были обучены три модели:\n",
    "1. RandomForest\n",
    "2. Catboost\n",
    "3. LightGBM"
   ]
  },
  {
   "cell_type": "markdown",
   "metadata": {
    "id": "Fzr1J0ARU_FH"
   },
   "source": [
    "## Анализ моделей"
   ]
  },
  {
   "cell_type": "code",
   "execution_count": 54,
   "metadata": {},
   "outputs": [
    {
     "data": {
      "text/html": [
       "<div>\n",
       "<style scoped>\n",
       "    .dataframe tbody tr th:only-of-type {\n",
       "        vertical-align: middle;\n",
       "    }\n",
       "\n",
       "    .dataframe tbody tr th {\n",
       "        vertical-align: top;\n",
       "    }\n",
       "\n",
       "    .dataframe thead th {\n",
       "        text-align: right;\n",
       "    }\n",
       "</style>\n",
       "<table border=\"1\" class=\"dataframe\">\n",
       "  <thead>\n",
       "    <tr style=\"text-align: right;\">\n",
       "      <th></th>\n",
       "      <th>Модель</th>\n",
       "      <th>RMSE при кросс-валидации</th>\n",
       "      <th>Время обучения в с.</th>\n",
       "      <th>Время прогнозирования в с.</th>\n",
       "    </tr>\n",
       "  </thead>\n",
       "  <tbody>\n",
       "    <tr>\n",
       "      <th>0</th>\n",
       "      <td>RandomForest</td>\n",
       "      <td>1692.209664</td>\n",
       "      <td>13.318552</td>\n",
       "      <td>1.419556</td>\n",
       "    </tr>\n",
       "    <tr>\n",
       "      <th>1</th>\n",
       "      <td>Catboost</td>\n",
       "      <td>1625.499368</td>\n",
       "      <td>80.199595</td>\n",
       "      <td>0.762724</td>\n",
       "    </tr>\n",
       "    <tr>\n",
       "      <th>2</th>\n",
       "      <td>LightGBM</td>\n",
       "      <td>1582.246470</td>\n",
       "      <td>2.329318</td>\n",
       "      <td>1.174831</td>\n",
       "    </tr>\n",
       "  </tbody>\n",
       "</table>\n",
       "</div>"
      ],
      "text/plain": [
       "         Модель  RMSE при кросс-валидации  Время обучения в с.  \\\n",
       "0  RandomForest               1692.209664            13.318552   \n",
       "1      Catboost               1625.499368            80.199595   \n",
       "2      LightGBM               1582.246470             2.329318   \n",
       "\n",
       "   Время прогнозирования в с.  \n",
       "0                    1.419556  \n",
       "1                    0.762724  \n",
       "2                    1.174831  "
      ]
     },
     "execution_count": 54,
     "metadata": {},
     "output_type": "execute_result"
    }
   ],
   "source": [
    "models = pd.DataFrame({'Модель': ['RandomForest', 'Catboost', 'LightGBM'],\n",
    "                       'RMSE при кросс-валидации': [rmse_rf, rmse_catboost, rmse_light],\n",
    "                       'Время обучения в с.': [RF_fit_time, catboost_fit_time, light_fit_time],\n",
    "                       'Время прогнозирования в с.': [RF_predict_time, catboost_predict_time, light_predict_time]\n",
    "                      })\n",
    "models"
   ]
  },
  {
   "cell_type": "markdown",
   "metadata": {},
   "source": [
    "CatBoost проигрывает по всем параметрам, кроме времени прогнозирования.\n",
    "\n",
    "У LightGBM время прогноза чуть выше, но у нее самая низкая метрика и время обучения, поэтому она оптимальна\n",
    "\n",
    "Рассчитаем итоговую метрику на тестовой выборке"
   ]
  },
  {
   "cell_type": "code",
   "execution_count": 55,
   "metadata": {},
   "outputs": [
    {
     "name": "stdout",
     "output_type": "stream",
     "text": [
      "LightGBM RMSE на тестовой выборке: 1582.5667509704915\n",
      "LightGBM время обучения на тренировочной выборке: 2.329317569732666\n",
      "LightGBM время прогнозирования на тестовой выборке: 0.37482714653015137\n",
      "CPU times: total: 1.3 s\n",
      "Wall time: 375 ms\n"
     ]
    }
   ],
   "source": [
    "%%time\n",
    "start = time()\n",
    "light_test_rmse = mean_squared_error(y_test, light.predict(X_test))**(.5)\n",
    "end = time()\n",
    "light_test_time = end - start\n",
    "print(f'LightGBM RMSE на тестовой выборке: {light_test_rmse}')\n",
    "print(f'LightGBM время обучения на тренировочной выборке: {light_fit_time}')\n",
    "print(f'LightGBM время прогнозирования на тестовой выборке: {light_test_time}')"
   ]
  },
  {
   "cell_type": "markdown",
   "metadata": {},
   "source": [
    "- Была проведена кросс-валидация для трех выбранных моделей, благодаря, который были подобраны лучшие гиперпараметры по заданной метрике RMSE\n",
    "- Был проведен тестировани полученных моделей на тренировочной выборке, для нахождения RMSE, времени обучения и прогнозирования\n",
    "- Был проведен анализ вышеописанных показателей, из которых был сделан вывод, что **самая оптимальная модель для данной задачи - это LightGBM**"
   ]
  }
 ],
 "metadata": {
  "ExecuteTimeLog": [
   {
    "duration": 2383,
    "start_time": "2024-09-06T12:59:47.381Z"
   },
   {
    "duration": 3233,
    "start_time": "2024-09-06T13:00:38.216Z"
   },
   {
    "duration": 15,
    "start_time": "2024-09-06T13:01:27.163Z"
   },
   {
    "duration": 8,
    "start_time": "2024-09-06T13:01:37.380Z"
   },
   {
    "duration": 2,
    "start_time": "2024-09-06T13:01:43.748Z"
   },
   {
    "duration": 973,
    "start_time": "2024-09-06T13:12:17.789Z"
   },
   {
    "duration": 724,
    "start_time": "2024-09-06T13:12:59.026Z"
   },
   {
    "duration": 15,
    "start_time": "2024-09-06T13:13:09.010Z"
   },
   {
    "duration": 102,
    "start_time": "2024-09-06T13:14:51.945Z"
   },
   {
    "duration": 7,
    "start_time": "2024-09-06T13:16:41.154Z"
   },
   {
    "duration": 7,
    "start_time": "2024-09-06T13:17:02.078Z"
   },
   {
    "duration": 8,
    "start_time": "2024-09-06T13:17:30.180Z"
   },
   {
    "duration": 4,
    "start_time": "2024-09-06T13:17:39.817Z"
   },
   {
    "duration": 4,
    "start_time": "2024-09-06T13:17:44.663Z"
   },
   {
    "duration": 8,
    "start_time": "2024-09-06T13:18:05.080Z"
   },
   {
    "duration": 7,
    "start_time": "2024-09-06T13:18:07.320Z"
   },
   {
    "duration": 10,
    "start_time": "2024-09-06T13:18:12.742Z"
   },
   {
    "duration": 9,
    "start_time": "2024-09-06T13:19:21.428Z"
   },
   {
    "duration": 4,
    "start_time": "2024-09-06T13:19:28.032Z"
   },
   {
    "duration": 3,
    "start_time": "2024-09-06T13:19:37.617Z"
   },
   {
    "duration": 4,
    "start_time": "2024-09-06T13:19:44.213Z"
   },
   {
    "duration": 97,
    "start_time": "2024-09-06T13:20:05.223Z"
   },
   {
    "duration": 63,
    "start_time": "2024-09-06T13:24:54.172Z"
   },
   {
    "duration": 55,
    "start_time": "2024-09-06T13:25:07.092Z"
   },
   {
    "duration": 2600,
    "start_time": "2024-09-06T13:29:08.111Z"
   },
   {
    "duration": 868,
    "start_time": "2024-09-06T13:30:34.955Z"
   },
   {
    "duration": 69,
    "start_time": "2024-09-06T13:31:09.159Z"
   },
   {
    "duration": 6,
    "start_time": "2024-09-06T13:31:13.574Z"
   },
   {
    "duration": 3485,
    "start_time": "2024-09-06T13:31:22.006Z"
   },
   {
    "duration": 3,
    "start_time": "2024-09-06T13:31:25.493Z"
   },
   {
    "duration": 712,
    "start_time": "2024-09-06T13:31:25.497Z"
   },
   {
    "duration": 10269,
    "start_time": "2024-09-06T13:31:26.211Z"
   },
   {
    "duration": 925,
    "start_time": "2024-09-06T13:31:36.481Z"
   },
   {
    "duration": 0,
    "start_time": "2024-09-06T13:31:37.408Z"
   },
   {
    "duration": 0,
    "start_time": "2024-09-06T13:31:37.409Z"
   },
   {
    "duration": 0,
    "start_time": "2024-09-06T13:31:37.410Z"
   },
   {
    "duration": 0,
    "start_time": "2024-09-06T13:31:37.411Z"
   },
   {
    "duration": 0,
    "start_time": "2024-09-06T13:31:37.413Z"
   },
   {
    "duration": 16,
    "start_time": "2024-09-06T13:31:48.537Z"
   },
   {
    "duration": 75,
    "start_time": "2024-09-06T13:31:49.971Z"
   },
   {
    "duration": 3556,
    "start_time": "2024-09-06T13:33:05.296Z"
   },
   {
    "duration": 3,
    "start_time": "2024-09-06T13:33:08.854Z"
   },
   {
    "duration": 10580,
    "start_time": "2024-09-06T13:33:08.859Z"
   },
   {
    "duration": 20,
    "start_time": "2024-09-06T13:33:19.441Z"
   },
   {
    "duration": 79,
    "start_time": "2024-09-06T13:33:19.462Z"
   },
   {
    "duration": 2,
    "start_time": "2024-09-06T13:33:19.551Z"
   },
   {
    "duration": 37,
    "start_time": "2024-09-06T13:33:19.555Z"
   },
   {
    "duration": 86,
    "start_time": "2024-09-06T13:33:19.594Z"
   },
   {
    "duration": 36,
    "start_time": "2024-09-06T13:34:05.320Z"
   },
   {
    "duration": 29,
    "start_time": "2024-09-06T13:34:25.002Z"
   },
   {
    "duration": 516,
    "start_time": "2024-09-06T13:35:12.950Z"
   },
   {
    "duration": 61,
    "start_time": "2024-09-06T13:35:24.985Z"
   },
   {
    "duration": 44,
    "start_time": "2024-09-06T13:39:44.116Z"
   },
   {
    "duration": 118,
    "start_time": "2024-09-06T13:39:57.411Z"
   },
   {
    "duration": 47,
    "start_time": "2024-09-06T13:40:35.791Z"
   },
   {
    "duration": 487,
    "start_time": "2024-09-06T13:43:27.063Z"
   },
   {
    "duration": 73,
    "start_time": "2024-09-06T13:45:49.907Z"
   },
   {
    "duration": 76,
    "start_time": "2024-09-06T13:45:55.159Z"
   },
   {
    "duration": 70,
    "start_time": "2024-09-06T13:45:59.396Z"
   },
   {
    "duration": 73,
    "start_time": "2024-09-06T13:51:02.427Z"
   },
   {
    "duration": 7,
    "start_time": "2024-09-06T13:51:19.130Z"
   },
   {
    "duration": 289,
    "start_time": "2024-09-06T13:51:24.607Z"
   },
   {
    "duration": 262,
    "start_time": "2024-09-06T13:51:36.631Z"
   },
   {
    "duration": 205,
    "start_time": "2024-09-06T13:56:16.628Z"
   },
   {
    "duration": 38,
    "start_time": "2024-09-06T13:57:23.158Z"
   },
   {
    "duration": 185,
    "start_time": "2024-09-06T13:57:29.248Z"
   },
   {
    "duration": 185,
    "start_time": "2024-09-06T13:57:40.054Z"
   },
   {
    "duration": 185,
    "start_time": "2024-09-06T13:58:17.878Z"
   },
   {
    "duration": 182,
    "start_time": "2024-09-06T13:58:27.788Z"
   },
   {
    "duration": 185,
    "start_time": "2024-09-06T13:59:41.296Z"
   },
   {
    "duration": 180,
    "start_time": "2024-09-06T13:59:47.465Z"
   },
   {
    "duration": 21,
    "start_time": "2024-09-06T14:00:21.050Z"
   },
   {
    "duration": 26,
    "start_time": "2024-09-06T14:09:03.280Z"
   },
   {
    "duration": 3,
    "start_time": "2024-09-06T14:10:22.711Z"
   },
   {
    "duration": 4,
    "start_time": "2024-09-06T14:10:31.698Z"
   },
   {
    "duration": 64,
    "start_time": "2024-09-06T14:11:25.509Z"
   },
   {
    "duration": 57,
    "start_time": "2024-09-06T14:12:25.914Z"
   },
   {
    "duration": 59,
    "start_time": "2024-09-06T14:12:34.828Z"
   },
   {
    "duration": 7,
    "start_time": "2024-09-06T14:13:43.522Z"
   },
   {
    "duration": 8,
    "start_time": "2024-09-06T14:16:03.282Z"
   },
   {
    "duration": 7,
    "start_time": "2024-09-06T14:16:28.620Z"
   },
   {
    "duration": 7,
    "start_time": "2024-09-06T14:16:43.276Z"
   },
   {
    "duration": 44,
    "start_time": "2024-09-06T14:20:59.516Z"
   },
   {
    "duration": 435,
    "start_time": "2024-09-06T14:21:03.211Z"
   },
   {
    "duration": 29,
    "start_time": "2024-09-06T14:21:15.594Z"
   },
   {
    "duration": 32,
    "start_time": "2024-09-06T14:22:17.938Z"
   },
   {
    "duration": 29,
    "start_time": "2024-09-06T14:22:37.921Z"
   },
   {
    "duration": 27,
    "start_time": "2024-09-06T14:23:37.606Z"
   },
   {
    "duration": 10,
    "start_time": "2024-09-06T14:29:38.386Z"
   },
   {
    "duration": 4,
    "start_time": "2024-09-06T14:31:00.184Z"
   },
   {
    "duration": 7,
    "start_time": "2024-09-06T14:32:37.903Z"
   },
   {
    "duration": 3441,
    "start_time": "2024-09-06T14:32:44.378Z"
   },
   {
    "duration": 3,
    "start_time": "2024-09-06T14:32:47.821Z"
   },
   {
    "duration": 10225,
    "start_time": "2024-09-06T14:32:47.826Z"
   },
   {
    "duration": 15,
    "start_time": "2024-09-06T14:32:58.053Z"
   },
   {
    "duration": 87,
    "start_time": "2024-09-06T14:32:58.069Z"
   },
   {
    "duration": 4,
    "start_time": "2024-09-06T14:32:58.157Z"
   },
   {
    "duration": 33,
    "start_time": "2024-09-06T14:32:58.162Z"
   },
   {
    "duration": 500,
    "start_time": "2024-09-06T14:32:58.197Z"
   },
   {
    "duration": 71,
    "start_time": "2024-09-06T14:32:58.699Z"
   },
   {
    "duration": 240,
    "start_time": "2024-09-06T14:32:58.772Z"
   },
   {
    "duration": 11,
    "start_time": "2024-09-06T14:32:59.014Z"
   },
   {
    "duration": 3,
    "start_time": "2024-09-06T14:32:59.026Z"
   },
   {
    "duration": 55493,
    "start_time": "2024-09-06T14:32:59.030Z"
   },
   {
    "duration": 90,
    "start_time": "2024-09-06T14:37:31.841Z"
   },
   {
    "duration": 5,
    "start_time": "2024-09-06T14:39:11.383Z"
   },
   {
    "duration": 47,
    "start_time": "2024-09-06T14:39:51.194Z"
   },
   {
    "duration": 36,
    "start_time": "2024-09-06T14:40:13.567Z"
   },
   {
    "duration": 80,
    "start_time": "2024-09-06T14:40:17.669Z"
   },
   {
    "duration": 32,
    "start_time": "2024-09-06T14:41:49.418Z"
   },
   {
    "duration": 26,
    "start_time": "2024-09-06T14:42:11.313Z"
   },
   {
    "duration": 20,
    "start_time": "2024-09-06T14:42:57.576Z"
   },
   {
    "duration": 7,
    "start_time": "2024-09-06T14:47:50.497Z"
   },
   {
    "duration": 79,
    "start_time": "2024-09-06T14:48:01.667Z"
   },
   {
    "duration": 4,
    "start_time": "2024-09-06T14:48:26.377Z"
   },
   {
    "duration": 63751,
    "start_time": "2024-09-06T14:48:28.008Z"
   },
   {
    "duration": 40,
    "start_time": "2024-09-06T14:49:48.010Z"
   },
   {
    "duration": 41,
    "start_time": "2024-09-06T14:49:54.056Z"
   },
   {
    "duration": 2526,
    "start_time": "2024-09-06T18:38:40.835Z"
   },
   {
    "duration": 3,
    "start_time": "2024-09-06T18:38:43.364Z"
   },
   {
    "duration": 18277,
    "start_time": "2024-09-06T18:38:43.369Z"
   },
   {
    "duration": 20,
    "start_time": "2024-09-06T18:39:01.647Z"
   },
   {
    "duration": 136,
    "start_time": "2024-09-06T18:39:01.669Z"
   },
   {
    "duration": 3,
    "start_time": "2024-09-06T18:39:01.806Z"
   },
   {
    "duration": 75,
    "start_time": "2024-09-06T18:39:01.810Z"
   },
   {
    "duration": 605,
    "start_time": "2024-09-06T18:39:01.887Z"
   },
   {
    "duration": 102,
    "start_time": "2024-09-06T18:39:02.494Z"
   },
   {
    "duration": 300,
    "start_time": "2024-09-06T18:39:02.605Z"
   },
   {
    "duration": 5,
    "start_time": "2024-09-06T18:39:02.907Z"
   },
   {
    "duration": 67,
    "start_time": "2024-09-06T18:39:02.914Z"
   },
   {
    "duration": 90,
    "start_time": "2024-09-06T18:39:02.984Z"
   },
   {
    "duration": 4,
    "start_time": "2024-09-06T18:39:03.076Z"
   },
   {
    "duration": 78061,
    "start_time": "2024-09-06T18:39:03.082Z"
   },
   {
    "duration": 3698,
    "start_time": "2024-09-06T18:45:40.150Z"
   },
   {
    "duration": 3,
    "start_time": "2024-09-06T18:45:43.851Z"
   },
   {
    "duration": 12223,
    "start_time": "2024-09-06T18:45:43.855Z"
   },
   {
    "duration": 26,
    "start_time": "2024-09-06T18:45:56.080Z"
   },
   {
    "duration": 144,
    "start_time": "2024-09-06T18:45:56.107Z"
   },
   {
    "duration": 3,
    "start_time": "2024-09-06T18:45:56.253Z"
   },
   {
    "duration": 53,
    "start_time": "2024-09-06T18:45:56.257Z"
   },
   {
    "duration": 653,
    "start_time": "2024-09-06T18:45:56.312Z"
   },
   {
    "duration": 106,
    "start_time": "2024-09-06T18:45:56.967Z"
   },
   {
    "duration": 302,
    "start_time": "2024-09-06T18:45:57.076Z"
   },
   {
    "duration": 6,
    "start_time": "2024-09-06T18:45:57.379Z"
   },
   {
    "duration": 101,
    "start_time": "2024-09-06T18:45:57.387Z"
   },
   {
    "duration": 101,
    "start_time": "2024-09-06T18:45:57.489Z"
   },
   {
    "duration": 4,
    "start_time": "2024-09-06T18:45:57.591Z"
   },
   {
    "duration": 82526,
    "start_time": "2024-09-06T18:45:57.604Z"
   },
   {
    "duration": 25,
    "start_time": "2024-09-06T18:49:22.861Z"
   },
   {
    "duration": 31,
    "start_time": "2024-09-06T18:49:37.811Z"
   },
   {
    "duration": 27,
    "start_time": "2024-09-06T18:49:42.037Z"
   },
   {
    "duration": 23,
    "start_time": "2024-09-06T18:49:47.482Z"
   },
   {
    "duration": 104,
    "start_time": "2024-09-06T18:50:36.486Z"
   },
   {
    "duration": 68,
    "start_time": "2024-09-06T18:50:53.824Z"
   },
   {
    "duration": 55,
    "start_time": "2024-09-06T18:51:05.261Z"
   },
   {
    "duration": 15,
    "start_time": "2024-09-06T18:51:14.781Z"
   },
   {
    "duration": 11,
    "start_time": "2024-09-06T18:51:25.860Z"
   },
   {
    "duration": 11,
    "start_time": "2024-09-06T18:52:27.351Z"
   },
   {
    "duration": 46,
    "start_time": "2024-09-06T18:52:40.583Z"
   },
   {
    "duration": 152,
    "start_time": "2024-09-06T18:52:47.256Z"
   },
   {
    "duration": 167,
    "start_time": "2024-09-06T18:52:58.585Z"
   },
   {
    "duration": 66,
    "start_time": "2024-09-06T18:53:12.136Z"
   },
   {
    "duration": 111,
    "start_time": "2024-09-06T18:53:38.834Z"
   },
   {
    "duration": 24,
    "start_time": "2024-09-06T18:54:20.465Z"
   },
   {
    "duration": 1089,
    "start_time": "2024-09-06T18:54:47.257Z"
   },
   {
    "duration": 6054,
    "start_time": "2024-09-06T18:54:54.119Z"
   },
   {
    "duration": 149,
    "start_time": "2024-09-06T18:55:17.094Z"
   },
   {
    "duration": 142,
    "start_time": "2024-09-06T18:55:22.210Z"
   },
   {
    "duration": 153,
    "start_time": "2024-09-06T18:55:29.207Z"
   },
   {
    "duration": 12,
    "start_time": "2024-09-06T18:57:56.140Z"
   },
   {
    "duration": 143,
    "start_time": "2024-09-06T18:58:16.683Z"
   },
   {
    "duration": 47,
    "start_time": "2024-09-06T18:58:28.180Z"
   },
   {
    "duration": 42,
    "start_time": "2024-09-06T18:59:14.052Z"
   },
   {
    "duration": 8692,
    "start_time": "2024-09-06T18:59:25.261Z"
   },
   {
    "duration": 47,
    "start_time": "2024-09-06T19:01:47.310Z"
   },
   {
    "duration": 444,
    "start_time": "2024-09-06T19:02:14.366Z"
   },
   {
    "duration": 141,
    "start_time": "2024-09-06T19:02:26.623Z"
   },
   {
    "duration": 379,
    "start_time": "2024-09-06T19:08:18.893Z"
   },
   {
    "duration": 1332,
    "start_time": "2024-09-06T19:08:28.797Z"
   },
   {
    "duration": 1149,
    "start_time": "2024-09-06T19:09:17.492Z"
   },
   {
    "duration": 5,
    "start_time": "2024-09-06T19:10:37.725Z"
   },
   {
    "duration": 106,
    "start_time": "2024-09-06T19:10:47.467Z"
   },
   {
    "duration": 4,
    "start_time": "2024-09-06T19:11:06.110Z"
   },
   {
    "duration": 101,
    "start_time": "2024-09-06T19:11:06.938Z"
   },
   {
    "duration": 3713,
    "start_time": "2024-09-06T19:11:13.570Z"
   },
   {
    "duration": 3,
    "start_time": "2024-09-06T19:11:17.286Z"
   },
   {
    "duration": 11919,
    "start_time": "2024-09-06T19:11:17.290Z"
   },
   {
    "duration": 17,
    "start_time": "2024-09-06T19:11:29.211Z"
   },
   {
    "duration": 122,
    "start_time": "2024-09-06T19:11:29.230Z"
   },
   {
    "duration": 3,
    "start_time": "2024-09-06T19:11:29.354Z"
   },
   {
    "duration": 51,
    "start_time": "2024-09-06T19:11:29.358Z"
   },
   {
    "duration": 621,
    "start_time": "2024-09-06T19:11:29.410Z"
   },
   {
    "duration": 104,
    "start_time": "2024-09-06T19:11:30.033Z"
   },
   {
    "duration": 299,
    "start_time": "2024-09-06T19:11:30.139Z"
   },
   {
    "duration": 6,
    "start_time": "2024-09-06T19:11:30.439Z"
   },
   {
    "duration": 108,
    "start_time": "2024-09-06T19:11:30.447Z"
   },
   {
    "duration": 153,
    "start_time": "2024-09-06T19:11:30.557Z"
   },
   {
    "duration": 4,
    "start_time": "2024-09-06T19:11:30.712Z"
   },
   {
    "duration": 82013,
    "start_time": "2024-09-06T19:11:30.717Z"
   },
   {
    "duration": 106,
    "start_time": "2024-09-06T19:12:52.731Z"
   },
   {
    "duration": 47,
    "start_time": "2024-09-06T19:12:52.838Z"
   },
   {
    "duration": 57,
    "start_time": "2024-09-06T19:12:52.886Z"
   },
   {
    "duration": 14835,
    "start_time": "2024-09-06T19:12:52.945Z"
   },
   {
    "duration": 1150,
    "start_time": "2024-09-06T19:13:07.782Z"
   },
   {
    "duration": 41,
    "start_time": "2024-09-06T19:13:08.933Z"
   },
   {
    "duration": 988,
    "start_time": "2024-09-06T19:13:08.976Z"
   },
   {
    "duration": 5596,
    "start_time": "2024-09-06T19:19:20.626Z"
   },
   {
    "duration": 3690,
    "start_time": "2024-09-06T19:19:52.790Z"
   },
   {
    "duration": 4,
    "start_time": "2024-09-06T19:19:56.482Z"
   },
   {
    "duration": 12047,
    "start_time": "2024-09-06T19:19:56.487Z"
   },
   {
    "duration": 18,
    "start_time": "2024-09-06T19:20:08.536Z"
   },
   {
    "duration": 117,
    "start_time": "2024-09-06T19:20:08.555Z"
   },
   {
    "duration": 3,
    "start_time": "2024-09-06T19:20:08.673Z"
   },
   {
    "duration": 65,
    "start_time": "2024-09-06T19:20:08.678Z"
   },
   {
    "duration": 643,
    "start_time": "2024-09-06T19:20:08.745Z"
   },
   {
    "duration": 99,
    "start_time": "2024-09-06T19:20:09.389Z"
   },
   {
    "duration": 306,
    "start_time": "2024-09-06T19:20:09.490Z"
   },
   {
    "duration": 6,
    "start_time": "2024-09-06T19:20:09.804Z"
   },
   {
    "duration": 70,
    "start_time": "2024-09-06T19:20:09.811Z"
   },
   {
    "duration": 96,
    "start_time": "2024-09-06T19:20:09.882Z"
   },
   {
    "duration": 4,
    "start_time": "2024-09-06T19:20:09.980Z"
   },
   {
    "duration": 81499,
    "start_time": "2024-09-06T19:20:09.986Z"
   },
   {
    "duration": 107,
    "start_time": "2024-09-06T19:21:31.487Z"
   },
   {
    "duration": 52,
    "start_time": "2024-09-06T19:21:31.595Z"
   },
   {
    "duration": 61,
    "start_time": "2024-09-06T19:21:31.649Z"
   },
   {
    "duration": 1231,
    "start_time": "2024-09-06T19:21:31.712Z"
   },
   {
    "duration": 42,
    "start_time": "2024-09-06T19:21:32.944Z"
   },
   {
    "duration": 11276,
    "start_time": "2024-09-06T19:21:32.987Z"
   },
   {
    "duration": 3694,
    "start_time": "2024-09-06T19:29:55.620Z"
   },
   {
    "duration": 4,
    "start_time": "2024-09-06T19:29:59.316Z"
   },
   {
    "duration": 12073,
    "start_time": "2024-09-06T19:29:59.321Z"
   },
   {
    "duration": 18,
    "start_time": "2024-09-06T19:30:11.404Z"
   },
   {
    "duration": 122,
    "start_time": "2024-09-06T19:30:11.423Z"
   },
   {
    "duration": 3,
    "start_time": "2024-09-06T19:30:11.547Z"
   },
   {
    "duration": 77,
    "start_time": "2024-09-06T19:30:11.551Z"
   },
   {
    "duration": 634,
    "start_time": "2024-09-06T19:30:11.629Z"
   },
   {
    "duration": 102,
    "start_time": "2024-09-06T19:30:12.265Z"
   },
   {
    "duration": 302,
    "start_time": "2024-09-06T19:30:12.370Z"
   },
   {
    "duration": 5,
    "start_time": "2024-09-06T19:30:12.674Z"
   },
   {
    "duration": 111,
    "start_time": "2024-09-06T19:30:12.681Z"
   },
   {
    "duration": 94,
    "start_time": "2024-09-06T19:30:12.793Z"
   },
   {
    "duration": 4,
    "start_time": "2024-09-06T19:30:12.888Z"
   },
   {
    "duration": 81973,
    "start_time": "2024-09-06T19:30:12.893Z"
   },
   {
    "duration": 106,
    "start_time": "2024-09-06T19:31:34.867Z"
   },
   {
    "duration": 57,
    "start_time": "2024-09-06T19:31:34.975Z"
   },
   {
    "duration": 56,
    "start_time": "2024-09-06T19:31:35.034Z"
   },
   {
    "duration": 1268,
    "start_time": "2024-09-06T19:31:35.092Z"
   },
   {
    "duration": 309,
    "start_time": "2024-09-06T19:31:36.362Z"
   },
   {
    "duration": 14387,
    "start_time": "2024-09-06T19:31:36.672Z"
   },
   {
    "duration": 14,
    "start_time": "2024-09-06T19:36:43.157Z"
   },
   {
    "duration": 134,
    "start_time": "2024-09-06T19:37:21.420Z"
   },
   {
    "duration": 12,
    "start_time": "2024-09-06T19:38:05.258Z"
   },
   {
    "duration": 3731,
    "start_time": "2024-09-06T19:38:53.641Z"
   },
   {
    "duration": 4,
    "start_time": "2024-09-06T19:38:57.374Z"
   },
   {
    "duration": 11967,
    "start_time": "2024-09-06T19:38:57.379Z"
   },
   {
    "duration": 19,
    "start_time": "2024-09-06T19:39:09.348Z"
   },
   {
    "duration": 127,
    "start_time": "2024-09-06T19:39:09.369Z"
   },
   {
    "duration": 9,
    "start_time": "2024-09-06T19:39:09.497Z"
   },
   {
    "duration": 60,
    "start_time": "2024-09-06T19:39:09.507Z"
   },
   {
    "duration": 620,
    "start_time": "2024-09-06T19:39:09.569Z"
   },
   {
    "duration": 103,
    "start_time": "2024-09-06T19:39:10.191Z"
   },
   {
    "duration": 300,
    "start_time": "2024-09-06T19:39:10.305Z"
   },
   {
    "duration": 47,
    "start_time": "2024-09-06T19:39:10.607Z"
   },
   {
    "duration": 99,
    "start_time": "2024-09-06T19:39:10.656Z"
   },
   {
    "duration": 5,
    "start_time": "2024-09-06T19:39:10.757Z"
   },
   {
    "duration": 80255,
    "start_time": "2024-09-06T19:39:10.763Z"
   },
   {
    "duration": 97,
    "start_time": "2024-09-06T19:40:31.019Z"
   },
   {
    "duration": 43,
    "start_time": "2024-09-06T19:40:31.117Z"
   },
   {
    "duration": 49,
    "start_time": "2024-09-06T19:40:31.162Z"
   },
   {
    "duration": 1214,
    "start_time": "2024-09-06T19:40:31.213Z"
   },
   {
    "duration": 291,
    "start_time": "2024-09-06T19:40:32.429Z"
   },
   {
    "duration": 13418,
    "start_time": "2024-09-06T19:40:32.721Z"
   },
   {
    "duration": 37,
    "start_time": "2024-09-06T19:42:24.905Z"
   },
   {
    "duration": 49,
    "start_time": "2024-09-06T19:44:28.325Z"
   },
   {
    "duration": 21,
    "start_time": "2024-09-06T19:45:00.171Z"
   },
   {
    "duration": 33,
    "start_time": "2024-09-06T19:45:29.733Z"
   },
   {
    "duration": 38,
    "start_time": "2024-09-06T19:45:40.593Z"
   },
   {
    "duration": 40,
    "start_time": "2024-09-06T19:45:54.790Z"
   },
   {
    "duration": 297,
    "start_time": "2024-09-06T19:48:28.803Z"
   },
   {
    "duration": 80,
    "start_time": "2024-09-06T19:48:38.740Z"
   },
   {
    "duration": 23,
    "start_time": "2024-09-06T19:48:54.737Z"
   },
   {
    "duration": 81,
    "start_time": "2024-09-06T19:49:10.291Z"
   },
   {
    "duration": 22,
    "start_time": "2024-09-06T19:50:06.775Z"
   },
   {
    "duration": 22,
    "start_time": "2024-09-06T19:50:15.542Z"
   },
   {
    "duration": 21,
    "start_time": "2024-09-06T19:50:25.019Z"
   },
   {
    "duration": 3808,
    "start_time": "2024-09-06T19:50:45.133Z"
   },
   {
    "duration": 4,
    "start_time": "2024-09-06T19:50:48.943Z"
   },
   {
    "duration": 12493,
    "start_time": "2024-09-06T19:50:48.948Z"
   },
   {
    "duration": 18,
    "start_time": "2024-09-06T19:51:01.443Z"
   },
   {
    "duration": 127,
    "start_time": "2024-09-06T19:51:01.463Z"
   },
   {
    "duration": 3,
    "start_time": "2024-09-06T19:51:01.591Z"
   },
   {
    "duration": 66,
    "start_time": "2024-09-06T19:51:01.604Z"
   },
   {
    "duration": 660,
    "start_time": "2024-09-06T19:51:01.672Z"
   },
   {
    "duration": 113,
    "start_time": "2024-09-06T19:51:02.334Z"
   },
   {
    "duration": 311,
    "start_time": "2024-09-06T19:51:02.449Z"
   },
   {
    "duration": 54,
    "start_time": "2024-09-06T19:51:02.762Z"
   },
   {
    "duration": 159,
    "start_time": "2024-09-06T19:51:02.818Z"
   },
   {
    "duration": 4,
    "start_time": "2024-09-06T19:51:02.979Z"
   },
   {
    "duration": 80115,
    "start_time": "2024-09-06T19:51:02.986Z"
   },
   {
    "duration": 102,
    "start_time": "2024-09-06T19:52:23.103Z"
   },
   {
    "duration": 43,
    "start_time": "2024-09-06T19:52:23.207Z"
   },
   {
    "duration": 53,
    "start_time": "2024-09-06T19:52:23.252Z"
   },
   {
    "duration": 1239,
    "start_time": "2024-09-06T19:52:23.307Z"
   },
   {
    "duration": 260,
    "start_time": "2024-09-06T19:52:24.547Z"
   },
   {
    "duration": 13430,
    "start_time": "2024-09-06T19:52:24.808Z"
   },
   {
    "duration": 33,
    "start_time": "2024-09-06T19:52:38.240Z"
   },
   {
    "duration": 329,
    "start_time": "2024-09-06T19:52:38.276Z"
   },
   {
    "duration": 83,
    "start_time": "2024-09-06T19:52:55.789Z"
   },
   {
    "duration": 28,
    "start_time": "2024-09-06T19:53:27.614Z"
   },
   {
    "duration": 306,
    "start_time": "2024-09-06T19:54:04.730Z"
   },
   {
    "duration": 21,
    "start_time": "2024-09-06T19:54:05.790Z"
   },
   {
    "duration": 306,
    "start_time": "2024-09-06T19:54:51.736Z"
   },
   {
    "duration": 21,
    "start_time": "2024-09-06T19:54:52.944Z"
   },
   {
    "duration": 3705,
    "start_time": "2024-09-06T19:55:46.734Z"
   },
   {
    "duration": 3,
    "start_time": "2024-09-06T19:55:50.441Z"
   },
   {
    "duration": 12047,
    "start_time": "2024-09-06T19:55:50.446Z"
   },
   {
    "duration": 25,
    "start_time": "2024-09-06T19:56:02.495Z"
   },
   {
    "duration": 127,
    "start_time": "2024-09-06T19:56:02.521Z"
   },
   {
    "duration": 3,
    "start_time": "2024-09-06T19:56:02.649Z"
   },
   {
    "duration": 53,
    "start_time": "2024-09-06T19:56:02.654Z"
   },
   {
    "duration": 649,
    "start_time": "2024-09-06T19:56:02.709Z"
   },
   {
    "duration": 110,
    "start_time": "2024-09-06T19:56:03.360Z"
   },
   {
    "duration": 304,
    "start_time": "2024-09-06T19:56:03.472Z"
   },
   {
    "duration": 55,
    "start_time": "2024-09-06T19:56:03.777Z"
   },
   {
    "duration": 90,
    "start_time": "2024-09-06T19:56:03.833Z"
   },
   {
    "duration": 4,
    "start_time": "2024-09-06T19:56:03.925Z"
   },
   {
    "duration": 82116,
    "start_time": "2024-09-06T19:56:03.930Z"
   },
   {
    "duration": 103,
    "start_time": "2024-09-06T19:57:26.048Z"
   },
   {
    "duration": 54,
    "start_time": "2024-09-06T19:57:26.153Z"
   },
   {
    "duration": 42,
    "start_time": "2024-09-06T19:57:26.209Z"
   },
   {
    "duration": 1342,
    "start_time": "2024-09-06T19:57:26.253Z"
   },
   {
    "duration": 295,
    "start_time": "2024-09-06T19:57:27.605Z"
   },
   {
    "duration": 13655,
    "start_time": "2024-09-06T19:57:27.904Z"
   },
   {
    "duration": 32,
    "start_time": "2024-09-06T19:57:41.560Z"
   },
   {
    "duration": 29,
    "start_time": "2024-09-06T19:57:41.593Z"
   },
   {
    "duration": 332,
    "start_time": "2024-09-06T19:57:41.624Z"
   },
   {
    "duration": 26,
    "start_time": "2024-09-06T19:57:41.958Z"
   },
   {
    "duration": 103,
    "start_time": "2024-09-06T19:59:11.329Z"
   },
   {
    "duration": 27,
    "start_time": "2024-09-06T19:59:38.990Z"
   },
   {
    "duration": 5,
    "start_time": "2024-09-06T20:00:26.135Z"
   },
   {
    "duration": 81,
    "start_time": "2024-09-06T20:00:31.317Z"
   },
   {
    "duration": 3874,
    "start_time": "2024-09-06T20:01:00.779Z"
   },
   {
    "duration": 3,
    "start_time": "2024-09-06T20:01:04.655Z"
   },
   {
    "duration": 12265,
    "start_time": "2024-09-06T20:01:04.660Z"
   },
   {
    "duration": 18,
    "start_time": "2024-09-06T20:01:16.928Z"
   },
   {
    "duration": 132,
    "start_time": "2024-09-06T20:01:16.949Z"
   },
   {
    "duration": 3,
    "start_time": "2024-09-06T20:01:17.083Z"
   },
   {
    "duration": 51,
    "start_time": "2024-09-06T20:01:17.088Z"
   },
   {
    "duration": 644,
    "start_time": "2024-09-06T20:01:17.141Z"
   },
   {
    "duration": 105,
    "start_time": "2024-09-06T20:01:17.787Z"
   },
   {
    "duration": 313,
    "start_time": "2024-09-06T20:01:17.893Z"
   },
   {
    "duration": 45,
    "start_time": "2024-09-06T20:01:18.207Z"
   },
   {
    "duration": 102,
    "start_time": "2024-09-06T20:01:18.254Z"
   },
   {
    "duration": 4,
    "start_time": "2024-09-06T20:01:18.358Z"
   },
   {
    "duration": 3817,
    "start_time": "2024-09-06T20:01:37.475Z"
   },
   {
    "duration": 3,
    "start_time": "2024-09-06T20:01:41.294Z"
   },
   {
    "duration": 12111,
    "start_time": "2024-09-06T20:01:41.299Z"
   },
   {
    "duration": 19,
    "start_time": "2024-09-06T20:01:53.411Z"
   },
   {
    "duration": 124,
    "start_time": "2024-09-06T20:01:53.431Z"
   },
   {
    "duration": 3,
    "start_time": "2024-09-06T20:01:53.557Z"
   },
   {
    "duration": 53,
    "start_time": "2024-09-06T20:01:53.562Z"
   },
   {
    "duration": 649,
    "start_time": "2024-09-06T20:01:53.617Z"
   },
   {
    "duration": 108,
    "start_time": "2024-09-06T20:01:54.268Z"
   },
   {
    "duration": 308,
    "start_time": "2024-09-06T20:01:54.377Z"
   },
   {
    "duration": 53,
    "start_time": "2024-09-06T20:01:54.687Z"
   },
   {
    "duration": 87,
    "start_time": "2024-09-06T20:01:54.742Z"
   },
   {
    "duration": 4,
    "start_time": "2024-09-06T20:01:54.830Z"
   },
   {
    "duration": 56,
    "start_time": "2024-09-06T20:01:54.837Z"
   },
   {
    "duration": 100,
    "start_time": "2024-09-06T20:01:54.894Z"
   },
   {
    "duration": 112,
    "start_time": "2024-09-06T20:01:54.996Z"
   },
   {
    "duration": 47,
    "start_time": "2024-09-06T20:01:55.109Z"
   },
   {
    "duration": 100,
    "start_time": "2024-09-06T20:01:55.158Z"
   },
   {
    "duration": 64,
    "start_time": "2024-09-06T20:01:55.259Z"
   },
   {
    "duration": 95,
    "start_time": "2024-09-06T20:01:55.325Z"
   },
   {
    "duration": 1270,
    "start_time": "2024-09-06T20:01:55.422Z"
   },
   {
    "duration": 266,
    "start_time": "2024-09-06T20:01:56.693Z"
   },
   {
    "duration": 86,
    "start_time": "2024-09-06T20:01:56.960Z"
   },
   {
    "duration": 3,
    "start_time": "2024-09-06T20:01:57.047Z"
   },
   {
    "duration": 55,
    "start_time": "2024-09-06T20:01:57.051Z"
   },
   {
    "duration": 21,
    "start_time": "2024-09-06T20:01:57.107Z"
   },
   {
    "duration": 325,
    "start_time": "2024-09-06T20:01:57.130Z"
   },
   {
    "duration": 31,
    "start_time": "2024-09-06T20:01:57.457Z"
   },
   {
    "duration": 3721,
    "start_time": "2024-09-06T20:05:09.011Z"
   },
   {
    "duration": 3,
    "start_time": "2024-09-06T20:05:12.735Z"
   },
   {
    "duration": 12017,
    "start_time": "2024-09-06T20:05:12.740Z"
   },
   {
    "duration": 18,
    "start_time": "2024-09-06T20:05:24.760Z"
   },
   {
    "duration": 127,
    "start_time": "2024-09-06T20:05:24.780Z"
   },
   {
    "duration": 4,
    "start_time": "2024-09-06T20:05:24.908Z"
   },
   {
    "duration": 54,
    "start_time": "2024-09-06T20:05:24.914Z"
   },
   {
    "duration": 704,
    "start_time": "2024-09-06T20:05:24.970Z"
   },
   {
    "duration": 107,
    "start_time": "2024-09-06T20:05:25.676Z"
   },
   {
    "duration": 301,
    "start_time": "2024-09-06T20:05:25.785Z"
   },
   {
    "duration": 57,
    "start_time": "2024-09-06T20:05:26.088Z"
   },
   {
    "duration": 99,
    "start_time": "2024-09-06T20:05:26.147Z"
   },
   {
    "duration": 4,
    "start_time": "2024-09-06T20:05:26.248Z"
   },
   {
    "duration": 4,
    "start_time": "2024-09-06T20:05:26.253Z"
   },
   {
    "duration": 106,
    "start_time": "2024-09-06T20:05:26.258Z"
   },
   {
    "duration": 99,
    "start_time": "2024-09-06T20:05:26.366Z"
   },
   {
    "duration": 56,
    "start_time": "2024-09-06T20:05:26.466Z"
   },
   {
    "duration": 89,
    "start_time": "2024-09-06T20:05:26.523Z"
   },
   {
    "duration": 104,
    "start_time": "2024-09-06T20:05:26.613Z"
   },
   {
    "duration": 86,
    "start_time": "2024-09-06T20:05:26.719Z"
   },
   {
    "duration": 1261,
    "start_time": "2024-09-06T20:05:26.806Z"
   },
   {
    "duration": 120,
    "start_time": "2024-09-06T20:05:28.069Z"
   },
   {
    "duration": 51,
    "start_time": "2024-09-06T20:05:28.191Z"
   },
   {
    "duration": 4,
    "start_time": "2024-09-06T20:05:28.243Z"
   },
   {
    "duration": 43,
    "start_time": "2024-09-06T20:05:28.248Z"
   },
   {
    "duration": 32,
    "start_time": "2024-09-06T20:05:28.292Z"
   },
   {
    "duration": 173,
    "start_time": "2024-09-06T20:05:28.326Z"
   },
   {
    "duration": 9,
    "start_time": "2024-09-06T20:05:28.502Z"
   },
   {
    "duration": 48,
    "start_time": "2024-09-06T20:06:51.294Z"
   },
   {
    "duration": 29,
    "start_time": "2024-09-06T20:07:22.856Z"
   },
   {
    "duration": 46,
    "start_time": "2024-09-06T20:07:23.620Z"
   },
   {
    "duration": 168,
    "start_time": "2024-09-06T20:07:32.530Z"
   },
   {
    "duration": 49,
    "start_time": "2024-09-06T20:07:33.582Z"
   },
   {
    "duration": 174,
    "start_time": "2024-09-06T20:07:50.157Z"
   },
   {
    "duration": 47,
    "start_time": "2024-09-06T20:07:51.029Z"
   },
   {
    "duration": 96,
    "start_time": "2024-09-06T20:08:42.523Z"
   },
   {
    "duration": 46,
    "start_time": "2024-09-06T20:09:07.969Z"
   },
   {
    "duration": 92,
    "start_time": "2024-09-06T20:09:31.148Z"
   },
   {
    "duration": 213,
    "start_time": "2024-09-06T20:09:54.199Z"
   },
   {
    "duration": 41,
    "start_time": "2024-09-06T20:10:14.137Z"
   },
   {
    "duration": 25,
    "start_time": "2024-09-06T20:10:26.916Z"
   },
   {
    "duration": 27,
    "start_time": "2024-09-06T20:11:22.165Z"
   },
   {
    "duration": 109,
    "start_time": "2024-09-06T20:12:46.933Z"
   },
   {
    "duration": 18,
    "start_time": "2024-09-06T20:12:51.271Z"
   },
   {
    "duration": 4,
    "start_time": "2024-09-06T20:13:02.867Z"
   },
   {
    "duration": 14,
    "start_time": "2024-09-06T20:13:42.854Z"
   },
   {
    "duration": 62,
    "start_time": "2024-09-06T20:16:46.823Z"
   },
   {
    "duration": 23,
    "start_time": "2024-09-06T20:17:16.093Z"
   },
   {
    "duration": 62,
    "start_time": "2024-09-06T20:17:27.562Z"
   },
   {
    "duration": 25,
    "start_time": "2024-09-06T20:18:40.287Z"
   },
   {
    "duration": 60,
    "start_time": "2024-09-06T20:18:51.865Z"
   },
   {
    "duration": 61,
    "start_time": "2024-09-06T20:19:47.764Z"
   },
   {
    "duration": 4,
    "start_time": "2024-09-06T20:20:43.555Z"
   },
   {
    "duration": 3,
    "start_time": "2024-09-06T20:20:48.066Z"
   },
   {
    "duration": 1010,
    "start_time": "2024-09-06T20:21:32.878Z"
   },
   {
    "duration": 3233,
    "start_time": "2024-09-06T20:22:18.030Z"
   },
   {
    "duration": 55,
    "start_time": "2024-09-06T20:22:44.363Z"
   },
   {
    "duration": 47,
    "start_time": "2024-09-06T20:22:48.507Z"
   },
   {
    "duration": 66,
    "start_time": "2024-09-06T20:23:26.109Z"
   },
   {
    "duration": 54,
    "start_time": "2024-09-06T20:23:40.957Z"
   },
   {
    "duration": 3973,
    "start_time": "2024-09-06T20:25:00.217Z"
   },
   {
    "duration": 13,
    "start_time": "2024-09-06T20:25:55.931Z"
   },
   {
    "duration": 49,
    "start_time": "2024-09-06T20:25:56.985Z"
   },
   {
    "duration": 5157,
    "start_time": "2024-09-06T20:26:01.257Z"
   },
   {
    "duration": 48,
    "start_time": "2024-09-06T20:26:08.111Z"
   },
   {
    "duration": 26,
    "start_time": "2024-09-06T20:29:47.220Z"
   },
   {
    "duration": 13,
    "start_time": "2024-09-06T20:30:17.950Z"
   },
   {
    "duration": 48,
    "start_time": "2024-09-06T20:31:32.370Z"
   },
   {
    "duration": 684,
    "start_time": "2024-09-06T20:32:01.671Z"
   },
   {
    "duration": 24,
    "start_time": "2024-09-06T20:32:18.505Z"
   },
   {
    "duration": 50,
    "start_time": "2024-09-06T20:33:06.773Z"
   },
   {
    "duration": 5083,
    "start_time": "2024-09-06T20:33:06.825Z"
   },
   {
    "duration": 24,
    "start_time": "2024-09-06T20:33:11.910Z"
   },
   {
    "duration": 18,
    "start_time": "2024-09-06T20:33:11.936Z"
   },
   {
    "duration": 47,
    "start_time": "2024-09-06T20:33:27.750Z"
   },
   {
    "duration": 13,
    "start_time": "2024-09-06T20:34:12.065Z"
   },
   {
    "duration": 24,
    "start_time": "2024-09-06T20:35:23.411Z"
   },
   {
    "duration": 704,
    "start_time": "2024-09-06T20:37:18.281Z"
   },
   {
    "duration": 32,
    "start_time": "2024-09-06T20:38:34.682Z"
   },
   {
    "duration": 49,
    "start_time": "2024-09-06T20:38:42.973Z"
   },
   {
    "duration": 19,
    "start_time": "2024-09-06T20:40:53.242Z"
   },
   {
    "duration": 9,
    "start_time": "2024-09-06T20:43:21.337Z"
   },
   {
    "duration": 19,
    "start_time": "2024-09-06T20:43:36.960Z"
   },
   {
    "duration": 38,
    "start_time": "2024-09-06T20:43:49.997Z"
   },
   {
    "duration": 28,
    "start_time": "2024-09-06T20:44:08.635Z"
   },
   {
    "duration": 28,
    "start_time": "2024-09-06T20:44:26.720Z"
   },
   {
    "duration": 23,
    "start_time": "2024-09-06T20:45:00.893Z"
   },
   {
    "duration": 28,
    "start_time": "2024-09-06T20:45:18.770Z"
   },
   {
    "duration": 14,
    "start_time": "2024-09-06T20:45:45.530Z"
   },
   {
    "duration": 39,
    "start_time": "2024-09-06T20:48:17.481Z"
   },
   {
    "duration": 33,
    "start_time": "2024-09-06T20:48:38.044Z"
   },
   {
    "duration": 36,
    "start_time": "2024-09-06T20:48:42.196Z"
   },
   {
    "duration": 43,
    "start_time": "2024-09-06T20:49:01.269Z"
   },
   {
    "duration": 37,
    "start_time": "2024-09-06T20:49:42.900Z"
   },
   {
    "duration": 31,
    "start_time": "2024-09-06T20:49:58.650Z"
   },
   {
    "duration": 29,
    "start_time": "2024-09-06T20:50:06.421Z"
   },
   {
    "duration": 32,
    "start_time": "2024-09-06T20:50:41.708Z"
   },
   {
    "duration": 28,
    "start_time": "2024-09-06T20:50:48.389Z"
   },
   {
    "duration": 32,
    "start_time": "2024-09-06T20:50:55.974Z"
   },
   {
    "duration": 27,
    "start_time": "2024-09-06T20:50:59.697Z"
   },
   {
    "duration": 15,
    "start_time": "2024-09-06T20:52:58.089Z"
   },
   {
    "duration": 49,
    "start_time": "2024-09-06T20:53:01.741Z"
   },
   {
    "duration": 49,
    "start_time": "2024-09-06T20:55:31.212Z"
   },
   {
    "duration": 55,
    "start_time": "2024-09-06T20:55:40.048Z"
   },
   {
    "duration": 238,
    "start_time": "2024-09-06T20:57:18.582Z"
   },
   {
    "duration": 3734,
    "start_time": "2024-09-06T20:57:41.624Z"
   },
   {
    "duration": 3,
    "start_time": "2024-09-06T20:57:45.361Z"
   },
   {
    "duration": 12126,
    "start_time": "2024-09-06T20:57:45.366Z"
   },
   {
    "duration": 25,
    "start_time": "2024-09-06T20:57:57.494Z"
   },
   {
    "duration": 112,
    "start_time": "2024-09-06T20:57:57.520Z"
   },
   {
    "duration": 3,
    "start_time": "2024-09-06T20:57:57.634Z"
   },
   {
    "duration": 40,
    "start_time": "2024-09-06T20:57:57.639Z"
   },
   {
    "duration": 654,
    "start_time": "2024-09-06T20:57:57.680Z"
   },
   {
    "duration": 112,
    "start_time": "2024-09-06T20:57:58.335Z"
   },
   {
    "duration": 301,
    "start_time": "2024-09-06T20:57:58.450Z"
   },
   {
    "duration": 390,
    "start_time": "2024-09-06T20:57:58.753Z"
   },
   {
    "duration": 45,
    "start_time": "2024-09-06T20:57:59.145Z"
   },
   {
    "duration": 100,
    "start_time": "2024-09-06T20:57:59.192Z"
   },
   {
    "duration": 3,
    "start_time": "2024-09-06T20:57:59.294Z"
   },
   {
    "duration": 7,
    "start_time": "2024-09-06T20:57:59.299Z"
   },
   {
    "duration": 124,
    "start_time": "2024-09-06T20:57:59.307Z"
   },
   {
    "duration": 42,
    "start_time": "2024-09-06T20:57:59.432Z"
   },
   {
    "duration": 49,
    "start_time": "2024-09-06T20:57:59.476Z"
   },
   {
    "duration": 1241,
    "start_time": "2024-09-06T20:57:59.526Z"
   },
   {
    "duration": 114,
    "start_time": "2024-09-06T20:58:00.769Z"
   },
   {
    "duration": 2,
    "start_time": "2024-09-06T20:58:00.885Z"
   },
   {
    "duration": 126,
    "start_time": "2024-09-06T20:58:00.888Z"
   },
   {
    "duration": 5277,
    "start_time": "2024-09-06T20:58:01.016Z"
   },
   {
    "duration": 51,
    "start_time": "2024-09-06T20:58:06.294Z"
   },
   {
    "duration": 12,
    "start_time": "2024-09-06T20:58:06.347Z"
   },
   {
    "duration": 14,
    "start_time": "2024-09-06T20:58:06.361Z"
   },
   {
    "duration": 47,
    "start_time": "2024-09-06T20:58:06.377Z"
   },
   {
    "duration": 50,
    "start_time": "2024-09-06T20:58:06.427Z"
   },
   {
    "duration": 56,
    "start_time": "2024-09-06T20:58:06.478Z"
   },
   {
    "duration": 33,
    "start_time": "2024-09-06T20:58:06.535Z"
   },
   {
    "duration": 56,
    "start_time": "2024-09-06T20:58:06.569Z"
   },
   {
    "duration": 17,
    "start_time": "2024-09-06T20:58:06.626Z"
   },
   {
    "duration": 52,
    "start_time": "2024-09-06T21:07:22.243Z"
   },
   {
    "duration": 52,
    "start_time": "2024-09-06T21:09:09.434Z"
   },
   {
    "duration": 103,
    "start_time": "2024-09-06T21:09:17.818Z"
   },
   {
    "duration": 102,
    "start_time": "2024-09-06T21:09:20.607Z"
   },
   {
    "duration": 3794,
    "start_time": "2024-09-06T21:09:59.982Z"
   },
   {
    "duration": 4,
    "start_time": "2024-09-06T21:10:03.778Z"
   },
   {
    "duration": 12195,
    "start_time": "2024-09-06T21:10:03.786Z"
   },
   {
    "duration": 24,
    "start_time": "2024-09-06T21:10:15.982Z"
   },
   {
    "duration": 124,
    "start_time": "2024-09-06T21:10:16.007Z"
   },
   {
    "duration": 4,
    "start_time": "2024-09-06T21:10:16.133Z"
   },
   {
    "duration": 69,
    "start_time": "2024-09-06T21:10:16.138Z"
   },
   {
    "duration": 666,
    "start_time": "2024-09-06T21:10:16.209Z"
   },
   {
    "duration": 110,
    "start_time": "2024-09-06T21:10:16.878Z"
   },
   {
    "duration": 303,
    "start_time": "2024-09-06T21:10:16.990Z"
   },
   {
    "duration": 390,
    "start_time": "2024-09-06T21:10:17.295Z"
   },
   {
    "duration": 55,
    "start_time": "2024-09-06T21:10:17.687Z"
   },
   {
    "duration": 90,
    "start_time": "2024-09-06T21:10:17.744Z"
   },
   {
    "duration": 5,
    "start_time": "2024-09-06T21:10:17.835Z"
   },
   {
    "duration": 32,
    "start_time": "2024-09-06T21:10:17.841Z"
   },
   {
    "duration": 94,
    "start_time": "2024-09-06T21:10:17.874Z"
   },
   {
    "duration": 49,
    "start_time": "2024-09-06T21:10:17.969Z"
   },
   {
    "duration": 39,
    "start_time": "2024-09-06T21:10:18.020Z"
   },
   {
    "duration": 1217,
    "start_time": "2024-09-06T21:10:18.061Z"
   },
   {
    "duration": 3,
    "start_time": "2024-09-06T21:10:19.279Z"
   },
   {
    "duration": 7,
    "start_time": "2024-09-06T21:10:19.283Z"
   },
   {
    "duration": 86,
    "start_time": "2024-09-06T21:10:19.291Z"
   },
   {
    "duration": 10265,
    "start_time": "2024-09-06T21:10:19.378Z"
   },
   {
    "duration": 79,
    "start_time": "2024-09-06T21:10:29.645Z"
   },
   {
    "duration": 20,
    "start_time": "2024-09-06T21:10:29.726Z"
   },
   {
    "duration": 20,
    "start_time": "2024-09-06T21:10:29.748Z"
   },
   {
    "duration": 51,
    "start_time": "2024-09-06T21:10:29.771Z"
   },
   {
    "duration": 83,
    "start_time": "2024-09-06T21:10:29.824Z"
   },
   {
    "duration": 80,
    "start_time": "2024-09-06T21:10:29.909Z"
   },
   {
    "duration": 75,
    "start_time": "2024-09-06T21:10:29.991Z"
   },
   {
    "duration": 78,
    "start_time": "2024-09-06T21:10:30.067Z"
   },
   {
    "duration": 26,
    "start_time": "2024-09-06T21:10:30.146Z"
   },
   {
    "duration": 92,
    "start_time": "2024-09-06T21:10:30.174Z"
   },
   {
    "duration": 133,
    "start_time": "2024-09-06T21:10:30.267Z"
   },
   {
    "duration": 132,
    "start_time": "2024-09-06T21:10:30.406Z"
   },
   {
    "duration": 25,
    "start_time": "2024-09-06T21:13:37.305Z"
   },
   {
    "duration": 3617,
    "start_time": "2024-09-06T21:13:49.846Z"
   },
   {
    "duration": 4,
    "start_time": "2024-09-06T21:13:53.467Z"
   },
   {
    "duration": 11848,
    "start_time": "2024-09-06T21:13:53.474Z"
   },
   {
    "duration": 21,
    "start_time": "2024-09-06T21:14:05.324Z"
   },
   {
    "duration": 177,
    "start_time": "2024-09-06T21:14:05.347Z"
   },
   {
    "duration": 3,
    "start_time": "2024-09-06T21:14:05.525Z"
   },
   {
    "duration": 44,
    "start_time": "2024-09-06T21:14:05.530Z"
   },
   {
    "duration": 644,
    "start_time": "2024-09-06T21:14:05.576Z"
   },
   {
    "duration": 108,
    "start_time": "2024-09-06T21:14:06.223Z"
   },
   {
    "duration": 309,
    "start_time": "2024-09-06T21:14:06.333Z"
   },
   {
    "duration": 388,
    "start_time": "2024-09-06T21:14:06.643Z"
   },
   {
    "duration": 51,
    "start_time": "2024-09-06T21:14:07.033Z"
   },
   {
    "duration": 91,
    "start_time": "2024-09-06T21:14:07.085Z"
   },
   {
    "duration": 4,
    "start_time": "2024-09-06T21:14:07.177Z"
   },
   {
    "duration": 8,
    "start_time": "2024-09-06T21:14:07.182Z"
   },
   {
    "duration": 103,
    "start_time": "2024-09-06T21:14:07.192Z"
   },
   {
    "duration": 48,
    "start_time": "2024-09-06T21:14:07.296Z"
   },
   {
    "duration": 40,
    "start_time": "2024-09-06T21:14:07.346Z"
   },
   {
    "duration": 19,
    "start_time": "2024-09-06T21:14:07.387Z"
   },
   {
    "duration": 94,
    "start_time": "2024-09-06T21:14:07.407Z"
   },
   {
    "duration": 10369,
    "start_time": "2024-09-06T21:14:07.502Z"
   },
   {
    "duration": 83,
    "start_time": "2024-09-06T21:14:17.873Z"
   },
   {
    "duration": 81,
    "start_time": "2024-09-06T21:14:17.958Z"
   },
   {
    "duration": 26,
    "start_time": "2024-09-06T21:14:18.040Z"
   },
   {
    "duration": 30,
    "start_time": "2024-09-06T21:14:18.067Z"
   },
   {
    "duration": 96,
    "start_time": "2024-09-06T21:14:18.099Z"
   },
   {
    "duration": 79,
    "start_time": "2024-09-06T21:14:18.198Z"
   },
   {
    "duration": 84,
    "start_time": "2024-09-06T21:14:18.278Z"
   },
   {
    "duration": 74,
    "start_time": "2024-09-06T21:14:18.363Z"
   },
   {
    "duration": 27,
    "start_time": "2024-09-06T21:14:18.438Z"
   },
   {
    "duration": 93,
    "start_time": "2024-09-06T21:14:18.466Z"
   },
   {
    "duration": 103,
    "start_time": "2024-09-06T21:14:18.561Z"
   },
   {
    "duration": 97,
    "start_time": "2024-09-06T21:14:18.666Z"
   },
   {
    "duration": 3,
    "start_time": "2024-09-06T21:17:41.750Z"
   },
   {
    "duration": 5,
    "start_time": "2024-09-06T21:18:00.439Z"
   },
   {
    "duration": 4,
    "start_time": "2024-09-06T21:18:21.069Z"
   },
   {
    "duration": 4,
    "start_time": "2024-09-06T21:18:23.709Z"
   },
   {
    "duration": 171,
    "start_time": "2024-09-06T21:19:25.638Z"
   },
   {
    "duration": 197,
    "start_time": "2024-09-06T21:19:40.914Z"
   },
   {
    "duration": 267,
    "start_time": "2024-09-06T21:19:51.882Z"
   },
   {
    "duration": 182,
    "start_time": "2024-09-06T21:20:01.518Z"
   },
   {
    "duration": 3634,
    "start_time": "2024-09-06T21:20:37.799Z"
   },
   {
    "duration": 3,
    "start_time": "2024-09-06T21:20:41.435Z"
   },
   {
    "duration": 11899,
    "start_time": "2024-09-06T21:20:41.440Z"
   },
   {
    "duration": 19,
    "start_time": "2024-09-06T21:20:53.341Z"
   },
   {
    "duration": 124,
    "start_time": "2024-09-06T21:20:53.362Z"
   },
   {
    "duration": 3,
    "start_time": "2024-09-06T21:20:53.488Z"
   },
   {
    "duration": 58,
    "start_time": "2024-09-06T21:20:53.492Z"
   },
   {
    "duration": 632,
    "start_time": "2024-09-06T21:20:53.551Z"
   },
   {
    "duration": 101,
    "start_time": "2024-09-06T21:20:54.185Z"
   },
   {
    "duration": 294,
    "start_time": "2024-09-06T21:20:54.288Z"
   },
   {
    "duration": 57,
    "start_time": "2024-09-06T21:20:54.583Z"
   },
   {
    "duration": 278,
    "start_time": "2024-09-06T21:20:54.642Z"
   },
   {
    "duration": 69,
    "start_time": "2024-09-06T21:20:54.922Z"
   },
   {
    "duration": 4,
    "start_time": "2024-09-06T21:20:55.005Z"
   },
   {
    "duration": 128,
    "start_time": "2024-09-06T21:20:55.011Z"
   },
   {
    "duration": 146,
    "start_time": "2024-09-06T21:20:55.140Z"
   },
   {
    "duration": 48,
    "start_time": "2024-09-06T21:20:55.288Z"
   },
   {
    "duration": 41,
    "start_time": "2024-09-06T21:20:55.338Z"
   },
   {
    "duration": 3,
    "start_time": "2024-09-06T21:20:55.382Z"
   },
   {
    "duration": 121,
    "start_time": "2024-09-06T21:20:55.386Z"
   },
   {
    "duration": 9556,
    "start_time": "2024-09-06T21:20:55.509Z"
   },
   {
    "duration": 80,
    "start_time": "2024-09-06T21:21:05.066Z"
   },
   {
    "duration": 81,
    "start_time": "2024-09-06T21:21:05.147Z"
   },
   {
    "duration": 39,
    "start_time": "2024-09-06T21:21:05.229Z"
   },
   {
    "duration": 46,
    "start_time": "2024-09-06T21:21:05.270Z"
   },
   {
    "duration": 115,
    "start_time": "2024-09-06T21:21:05.318Z"
   },
   {
    "duration": 95,
    "start_time": "2024-09-06T21:21:05.436Z"
   },
   {
    "duration": 60,
    "start_time": "2024-09-06T21:21:05.533Z"
   },
   {
    "duration": 67,
    "start_time": "2024-09-06T21:21:05.595Z"
   },
   {
    "duration": 26,
    "start_time": "2024-09-06T21:21:05.663Z"
   },
   {
    "duration": 75,
    "start_time": "2024-09-06T21:21:05.706Z"
   },
   {
    "duration": 25,
    "start_time": "2024-09-06T21:21:05.783Z"
   },
   {
    "duration": 151,
    "start_time": "2024-09-06T21:21:05.810Z"
   },
   {
    "duration": 87,
    "start_time": "2024-09-06T21:21:05.962Z"
   },
   {
    "duration": 145,
    "start_time": "2024-09-06T21:21:37.584Z"
   },
   {
    "duration": 154,
    "start_time": "2024-09-06T21:22:19.175Z"
   },
   {
    "duration": 166,
    "start_time": "2024-09-06T21:23:47.333Z"
   },
   {
    "duration": 4,
    "start_time": "2024-09-06T21:23:48.285Z"
   },
   {
    "duration": 92,
    "start_time": "2024-09-06T21:26:47.746Z"
   },
   {
    "duration": 53,
    "start_time": "2024-09-06T21:28:59.444Z"
   },
   {
    "duration": 231,
    "start_time": "2024-09-06T21:29:13.714Z"
   },
   {
    "duration": 31,
    "start_time": "2024-09-06T21:30:56.673Z"
   },
   {
    "duration": 4,
    "start_time": "2024-09-06T21:31:49.009Z"
   },
   {
    "duration": 3,
    "start_time": "2024-09-06T21:32:09.541Z"
   },
   {
    "duration": 134,
    "start_time": "2024-09-06T21:34:39.562Z"
   },
   {
    "duration": 1199,
    "start_time": "2024-09-06T21:34:43.470Z"
   },
   {
    "duration": 3,
    "start_time": "2024-09-06T21:34:44.671Z"
   },
   {
    "duration": 11966,
    "start_time": "2024-09-06T21:34:44.676Z"
   },
   {
    "duration": 17,
    "start_time": "2024-09-06T21:34:56.643Z"
   },
   {
    "duration": 120,
    "start_time": "2024-09-06T21:34:56.662Z"
   },
   {
    "duration": 3,
    "start_time": "2024-09-06T21:34:56.784Z"
   },
   {
    "duration": 55,
    "start_time": "2024-09-06T21:34:56.788Z"
   },
   {
    "duration": 626,
    "start_time": "2024-09-06T21:34:56.845Z"
   },
   {
    "duration": 99,
    "start_time": "2024-09-06T21:34:57.472Z"
   },
   {
    "duration": 298,
    "start_time": "2024-09-06T21:34:57.573Z"
   },
   {
    "duration": 49,
    "start_time": "2024-09-06T21:34:57.872Z"
   },
   {
    "duration": 258,
    "start_time": "2024-09-06T21:34:57.922Z"
   },
   {
    "duration": 79,
    "start_time": "2024-09-06T21:34:58.181Z"
   },
   {
    "duration": 3,
    "start_time": "2024-09-06T21:34:58.263Z"
   },
   {
    "duration": 7,
    "start_time": "2024-09-06T21:34:58.268Z"
   },
   {
    "duration": 91,
    "start_time": "2024-09-06T21:34:58.276Z"
   },
   {
    "duration": 51,
    "start_time": "2024-09-06T21:34:58.368Z"
   },
   {
    "duration": 38,
    "start_time": "2024-09-06T21:34:58.420Z"
   },
   {
    "duration": 3,
    "start_time": "2024-09-06T21:34:58.459Z"
   },
   {
    "duration": 9641,
    "start_time": "2024-09-06T21:34:58.463Z"
   },
   {
    "duration": 77,
    "start_time": "2024-09-06T21:35:08.106Z"
   },
   {
    "duration": 52,
    "start_time": "2024-09-06T21:35:08.185Z"
   },
   {
    "duration": 33,
    "start_time": "2024-09-06T21:35:08.239Z"
   },
   {
    "duration": 34,
    "start_time": "2024-09-06T21:35:08.274Z"
   },
   {
    "duration": 83,
    "start_time": "2024-09-06T21:35:08.309Z"
   },
   {
    "duration": 74,
    "start_time": "2024-09-06T21:35:08.393Z"
   },
   {
    "duration": 66,
    "start_time": "2024-09-06T21:35:08.469Z"
   },
   {
    "duration": 58,
    "start_time": "2024-09-06T21:35:08.537Z"
   },
   {
    "duration": 30,
    "start_time": "2024-09-06T21:35:08.596Z"
   },
   {
    "duration": 85,
    "start_time": "2024-09-06T21:35:08.627Z"
   },
   {
    "duration": 159,
    "start_time": "2024-09-06T21:35:08.713Z"
   },
   {
    "duration": 2,
    "start_time": "2024-09-06T21:35:08.873Z"
   },
   {
    "duration": 7,
    "start_time": "2024-09-06T21:35:08.877Z"
   },
   {
    "duration": 44,
    "start_time": "2024-09-07T17:52:47.654Z"
   },
   {
    "duration": 1322,
    "start_time": "2024-09-07T17:52:55.825Z"
   },
   {
    "duration": 0,
    "start_time": "2024-09-07T17:52:57.150Z"
   },
   {
    "duration": 0,
    "start_time": "2024-09-07T17:52:57.151Z"
   },
   {
    "duration": 0,
    "start_time": "2024-09-07T17:52:57.152Z"
   },
   {
    "duration": 0,
    "start_time": "2024-09-07T17:52:57.153Z"
   },
   {
    "duration": 0,
    "start_time": "2024-09-07T17:52:57.154Z"
   },
   {
    "duration": 0,
    "start_time": "2024-09-07T17:52:57.155Z"
   },
   {
    "duration": 0,
    "start_time": "2024-09-07T17:52:57.156Z"
   },
   {
    "duration": 0,
    "start_time": "2024-09-07T17:52:57.157Z"
   },
   {
    "duration": 0,
    "start_time": "2024-09-07T17:52:57.158Z"
   },
   {
    "duration": 0,
    "start_time": "2024-09-07T17:52:57.159Z"
   },
   {
    "duration": 0,
    "start_time": "2024-09-07T17:52:57.160Z"
   },
   {
    "duration": 0,
    "start_time": "2024-09-07T17:52:57.162Z"
   },
   {
    "duration": 0,
    "start_time": "2024-09-07T17:52:57.162Z"
   },
   {
    "duration": 0,
    "start_time": "2024-09-07T17:52:57.190Z"
   },
   {
    "duration": 0,
    "start_time": "2024-09-07T17:52:57.191Z"
   },
   {
    "duration": 0,
    "start_time": "2024-09-07T17:52:57.192Z"
   },
   {
    "duration": 0,
    "start_time": "2024-09-07T17:52:57.193Z"
   },
   {
    "duration": 0,
    "start_time": "2024-09-07T17:52:57.194Z"
   },
   {
    "duration": 0,
    "start_time": "2024-09-07T17:52:57.195Z"
   },
   {
    "duration": 0,
    "start_time": "2024-09-07T17:52:57.196Z"
   },
   {
    "duration": 0,
    "start_time": "2024-09-07T17:52:57.198Z"
   },
   {
    "duration": 0,
    "start_time": "2024-09-07T17:52:57.199Z"
   },
   {
    "duration": 0,
    "start_time": "2024-09-07T17:52:57.200Z"
   },
   {
    "duration": 0,
    "start_time": "2024-09-07T17:52:57.202Z"
   },
   {
    "duration": 0,
    "start_time": "2024-09-07T17:52:57.203Z"
   },
   {
    "duration": 0,
    "start_time": "2024-09-07T17:52:57.205Z"
   },
   {
    "duration": 0,
    "start_time": "2024-09-07T17:52:57.206Z"
   },
   {
    "duration": 0,
    "start_time": "2024-09-07T17:52:57.207Z"
   },
   {
    "duration": 0,
    "start_time": "2024-09-07T17:52:57.208Z"
   },
   {
    "duration": 0,
    "start_time": "2024-09-07T17:52:57.209Z"
   },
   {
    "duration": 0,
    "start_time": "2024-09-07T17:52:57.211Z"
   },
   {
    "duration": 0,
    "start_time": "2024-09-07T17:52:57.212Z"
   },
   {
    "duration": 4204,
    "start_time": "2024-09-07T17:53:08.371Z"
   },
   {
    "duration": 3,
    "start_time": "2024-09-07T17:53:12.577Z"
   },
   {
    "duration": 11162,
    "start_time": "2024-09-07T17:53:12.581Z"
   },
   {
    "duration": 17,
    "start_time": "2024-09-07T17:53:23.745Z"
   },
   {
    "duration": 95,
    "start_time": "2024-09-07T17:53:23.764Z"
   },
   {
    "duration": 3,
    "start_time": "2024-09-07T17:53:23.861Z"
   },
   {
    "duration": 47,
    "start_time": "2024-09-07T17:53:23.866Z"
   },
   {
    "duration": 557,
    "start_time": "2024-09-07T17:53:23.915Z"
   },
   {
    "duration": 91,
    "start_time": "2024-09-07T17:53:24.474Z"
   },
   {
    "duration": 275,
    "start_time": "2024-09-07T17:53:24.568Z"
   },
   {
    "duration": 52,
    "start_time": "2024-09-07T17:53:24.845Z"
   },
   {
    "duration": 241,
    "start_time": "2024-09-07T17:53:24.898Z"
   },
   {
    "duration": 67,
    "start_time": "2024-09-07T17:53:25.141Z"
   },
   {
    "duration": 3,
    "start_time": "2024-09-07T17:53:25.209Z"
   },
   {
    "duration": 6,
    "start_time": "2024-09-07T17:53:25.213Z"
   },
   {
    "duration": 88,
    "start_time": "2024-09-07T17:53:25.220Z"
   },
   {
    "duration": 40,
    "start_time": "2024-09-07T17:53:25.309Z"
   },
   {
    "duration": 46,
    "start_time": "2024-09-07T17:53:25.350Z"
   },
   {
    "duration": 3,
    "start_time": "2024-09-07T17:53:25.397Z"
   },
   {
    "duration": 8573,
    "start_time": "2024-09-07T17:53:25.401Z"
   },
   {
    "duration": 71,
    "start_time": "2024-09-07T17:53:33.976Z"
   },
   {
    "duration": 17,
    "start_time": "2024-09-07T17:53:34.048Z"
   },
   {
    "duration": 30,
    "start_time": "2024-09-07T17:53:34.066Z"
   },
   {
    "duration": 44,
    "start_time": "2024-09-07T17:53:34.097Z"
   },
   {
    "duration": 64,
    "start_time": "2024-09-07T17:53:34.142Z"
   },
   {
    "duration": 67,
    "start_time": "2024-09-07T17:53:34.207Z"
   },
   {
    "duration": 60,
    "start_time": "2024-09-07T17:53:34.275Z"
   },
   {
    "duration": 64,
    "start_time": "2024-09-07T17:53:34.338Z"
   },
   {
    "duration": 21,
    "start_time": "2024-09-07T17:53:34.403Z"
   },
   {
    "duration": 73,
    "start_time": "2024-09-07T17:53:34.426Z"
   },
   {
    "duration": 126,
    "start_time": "2024-09-07T17:53:34.501Z"
   },
   {
    "duration": 159,
    "start_time": "2024-09-07T17:53:34.628Z"
   },
   {
    "duration": 4,
    "start_time": "2024-09-07T17:53:34.788Z"
   },
   {
    "duration": 5712,
    "start_time": "2024-09-07T18:10:15.946Z"
   },
   {
    "duration": 38,
    "start_time": "2024-09-07T18:21:59.067Z"
   },
   {
    "duration": 329,
    "start_time": "2024-09-07T18:28:49.026Z"
   },
   {
    "duration": 13,
    "start_time": "2024-09-07T18:29:00.469Z"
   },
   {
    "duration": 102,
    "start_time": "2024-09-07T18:32:08.488Z"
   },
   {
    "duration": 3,
    "start_time": "2024-09-07T18:32:16.528Z"
   },
   {
    "duration": 108,
    "start_time": "2024-09-07T18:34:55.579Z"
   },
   {
    "duration": 787,
    "start_time": "2024-09-07T18:38:12.273Z"
   },
   {
    "duration": 763,
    "start_time": "2024-09-07T18:39:13.352Z"
   },
   {
    "duration": 109,
    "start_time": "2024-09-07T18:45:47.316Z"
   },
   {
    "duration": 677,
    "start_time": "2024-09-07T18:46:29.263Z"
   },
   {
    "duration": 1329,
    "start_time": "2024-09-07T18:46:58.223Z"
   },
   {
    "duration": 3,
    "start_time": "2024-09-07T18:46:59.554Z"
   },
   {
    "duration": 10854,
    "start_time": "2024-09-07T18:46:59.558Z"
   },
   {
    "duration": 16,
    "start_time": "2024-09-07T18:47:10.414Z"
   },
   {
    "duration": 106,
    "start_time": "2024-09-07T18:47:10.432Z"
   },
   {
    "duration": 3,
    "start_time": "2024-09-07T18:47:10.539Z"
   },
   {
    "duration": 47,
    "start_time": "2024-09-07T18:47:10.543Z"
   },
   {
    "duration": 575,
    "start_time": "2024-09-07T18:47:10.591Z"
   },
   {
    "duration": 94,
    "start_time": "2024-09-07T18:47:11.167Z"
   },
   {
    "duration": 278,
    "start_time": "2024-09-07T18:47:11.264Z"
   },
   {
    "duration": 52,
    "start_time": "2024-09-07T18:47:11.543Z"
   },
   {
    "duration": 247,
    "start_time": "2024-09-07T18:47:11.596Z"
   },
   {
    "duration": 86,
    "start_time": "2024-09-07T18:47:11.845Z"
   },
   {
    "duration": 3,
    "start_time": "2024-09-07T18:47:11.933Z"
   },
   {
    "duration": 6,
    "start_time": "2024-09-07T18:47:11.937Z"
   },
   {
    "duration": 86,
    "start_time": "2024-09-07T18:47:11.945Z"
   },
   {
    "duration": 39,
    "start_time": "2024-09-07T18:47:12.033Z"
   },
   {
    "duration": 51,
    "start_time": "2024-09-07T18:47:12.073Z"
   },
   {
    "duration": 2,
    "start_time": "2024-09-07T18:47:12.125Z"
   },
   {
    "duration": 8689,
    "start_time": "2024-09-07T18:47:12.128Z"
   },
   {
    "duration": 74,
    "start_time": "2024-09-07T18:47:20.818Z"
   },
   {
    "duration": 21,
    "start_time": "2024-09-07T18:47:20.894Z"
   },
   {
    "duration": 34,
    "start_time": "2024-09-07T18:47:20.916Z"
   },
   {
    "duration": 32,
    "start_time": "2024-09-07T18:47:20.951Z"
   },
   {
    "duration": 66,
    "start_time": "2024-09-07T18:47:20.985Z"
   },
   {
    "duration": 71,
    "start_time": "2024-09-07T18:47:21.052Z"
   },
   {
    "duration": 49,
    "start_time": "2024-09-07T18:47:21.124Z"
   },
   {
    "duration": 52,
    "start_time": "2024-09-07T18:47:21.189Z"
   },
   {
    "duration": 22,
    "start_time": "2024-09-07T18:47:21.243Z"
   },
   {
    "duration": 85,
    "start_time": "2024-09-07T18:47:21.266Z"
   },
   {
    "duration": 154,
    "start_time": "2024-09-07T18:47:21.353Z"
   },
   {
    "duration": 153,
    "start_time": "2024-09-07T18:47:21.508Z"
   },
   {
    "duration": 5571,
    "start_time": "2024-09-07T18:47:21.663Z"
   },
   {
    "duration": 35,
    "start_time": "2024-09-07T18:47:27.235Z"
   },
   {
    "duration": 756,
    "start_time": "2024-09-07T18:47:27.272Z"
   },
   {
    "duration": 151,
    "start_time": "2024-09-07T18:47:28.029Z"
   },
   {
    "duration": 11714,
    "start_time": "2024-09-07T18:47:42.011Z"
   },
   {
    "duration": 11799,
    "start_time": "2024-09-07T18:49:21.940Z"
   },
   {
    "duration": 1500,
    "start_time": "2024-09-07T18:54:02.182Z"
   },
   {
    "duration": 1459,
    "start_time": "2024-09-07T18:54:45.035Z"
   },
   {
    "duration": 1248,
    "start_time": "2024-09-07T18:55:01.521Z"
   },
   {
    "duration": 1392,
    "start_time": "2024-09-07T18:55:12.674Z"
   },
   {
    "duration": 3,
    "start_time": "2024-09-07T18:55:14.067Z"
   },
   {
    "duration": 10831,
    "start_time": "2024-09-07T18:55:14.071Z"
   },
   {
    "duration": 15,
    "start_time": "2024-09-07T18:55:24.904Z"
   },
   {
    "duration": 106,
    "start_time": "2024-09-07T18:55:24.920Z"
   },
   {
    "duration": 2,
    "start_time": "2024-09-07T18:55:25.028Z"
   },
   {
    "duration": 50,
    "start_time": "2024-09-07T18:55:25.032Z"
   },
   {
    "duration": 547,
    "start_time": "2024-09-07T18:55:25.084Z"
   },
   {
    "duration": 92,
    "start_time": "2024-09-07T18:55:25.632Z"
   },
   {
    "duration": 268,
    "start_time": "2024-09-07T18:55:25.727Z"
   },
   {
    "duration": 42,
    "start_time": "2024-09-07T18:55:25.997Z"
   },
   {
    "duration": 250,
    "start_time": "2024-09-07T18:55:26.041Z"
   },
   {
    "duration": 60,
    "start_time": "2024-09-07T18:55:26.293Z"
   },
   {
    "duration": 3,
    "start_time": "2024-09-07T18:55:26.354Z"
   },
   {
    "duration": 5,
    "start_time": "2024-09-07T18:55:26.359Z"
   },
   {
    "duration": 92,
    "start_time": "2024-09-07T18:55:26.365Z"
   },
   {
    "duration": 47,
    "start_time": "2024-09-07T18:55:26.459Z"
   },
   {
    "duration": 37,
    "start_time": "2024-09-07T18:55:26.507Z"
   },
   {
    "duration": 2,
    "start_time": "2024-09-07T18:55:26.546Z"
   },
   {
    "duration": 8525,
    "start_time": "2024-09-07T18:55:26.549Z"
   },
   {
    "duration": 70,
    "start_time": "2024-09-07T18:55:35.076Z"
   },
   {
    "duration": 17,
    "start_time": "2024-09-07T18:55:35.147Z"
   },
   {
    "duration": 30,
    "start_time": "2024-09-07T18:55:35.165Z"
   },
   {
    "duration": 24,
    "start_time": "2024-09-07T18:55:35.197Z"
   },
   {
    "duration": 69,
    "start_time": "2024-09-07T18:55:35.222Z"
   },
   {
    "duration": 66,
    "start_time": "2024-09-07T18:55:35.292Z"
   },
   {
    "duration": 65,
    "start_time": "2024-09-07T18:55:35.359Z"
   },
   {
    "duration": 67,
    "start_time": "2024-09-07T18:55:35.428Z"
   },
   {
    "duration": 22,
    "start_time": "2024-09-07T18:55:35.497Z"
   },
   {
    "duration": 79,
    "start_time": "2024-09-07T18:55:35.521Z"
   },
   {
    "duration": 126,
    "start_time": "2024-09-07T18:55:35.601Z"
   },
   {
    "duration": 160,
    "start_time": "2024-09-07T18:55:35.729Z"
   },
   {
    "duration": 4655,
    "start_time": "2024-09-07T18:55:35.891Z"
   },
   {
    "duration": 47,
    "start_time": "2024-09-07T18:55:40.547Z"
   },
   {
    "duration": 1479,
    "start_time": "2024-09-07T18:55:40.596Z"
   },
   {
    "duration": 0,
    "start_time": "2024-09-07T18:55:42.077Z"
   },
   {
    "duration": 2451,
    "start_time": "2024-09-07T18:58:22.438Z"
   },
   {
    "duration": 1402,
    "start_time": "2024-09-07T19:02:46.257Z"
   },
   {
    "duration": 3,
    "start_time": "2024-09-07T19:02:47.661Z"
   },
   {
    "duration": 10792,
    "start_time": "2024-09-07T19:02:47.665Z"
   },
   {
    "duration": 15,
    "start_time": "2024-09-07T19:02:58.459Z"
   },
   {
    "duration": 101,
    "start_time": "2024-09-07T19:02:58.475Z"
   },
   {
    "duration": 12,
    "start_time": "2024-09-07T19:02:58.578Z"
   },
   {
    "duration": 35,
    "start_time": "2024-09-07T19:02:58.591Z"
   },
   {
    "duration": 567,
    "start_time": "2024-09-07T19:02:58.627Z"
   },
   {
    "duration": 85,
    "start_time": "2024-09-07T19:02:59.196Z"
   },
   {
    "duration": 272,
    "start_time": "2024-09-07T19:02:59.283Z"
   },
   {
    "duration": 51,
    "start_time": "2024-09-07T19:02:59.556Z"
   },
   {
    "duration": 225,
    "start_time": "2024-09-07T19:02:59.608Z"
   },
   {
    "duration": 66,
    "start_time": "2024-09-07T19:02:59.835Z"
   },
   {
    "duration": 3,
    "start_time": "2024-09-07T19:02:59.903Z"
   },
   {
    "duration": 5,
    "start_time": "2024-09-07T19:02:59.907Z"
   },
   {
    "duration": 89,
    "start_time": "2024-09-07T19:02:59.913Z"
   },
   {
    "duration": 41,
    "start_time": "2024-09-07T19:03:00.003Z"
   },
   {
    "duration": 47,
    "start_time": "2024-09-07T19:03:00.045Z"
   },
   {
    "duration": 2,
    "start_time": "2024-09-07T19:03:00.094Z"
   },
   {
    "duration": 8723,
    "start_time": "2024-09-07T19:03:00.098Z"
   },
   {
    "duration": 80,
    "start_time": "2024-09-07T19:03:08.822Z"
   },
   {
    "duration": 16,
    "start_time": "2024-09-07T19:03:08.904Z"
   },
   {
    "duration": 19,
    "start_time": "2024-09-07T19:03:08.921Z"
   },
   {
    "duration": 48,
    "start_time": "2024-09-07T19:03:08.942Z"
   },
   {
    "duration": 68,
    "start_time": "2024-09-07T19:03:08.991Z"
   },
   {
    "duration": 84,
    "start_time": "2024-09-07T19:03:09.061Z"
   },
   {
    "duration": 58,
    "start_time": "2024-09-07T19:03:09.147Z"
   },
   {
    "duration": 54,
    "start_time": "2024-09-07T19:03:09.208Z"
   },
   {
    "duration": 36,
    "start_time": "2024-09-07T19:03:09.264Z"
   },
   {
    "duration": 69,
    "start_time": "2024-09-07T19:03:09.301Z"
   },
   {
    "duration": 132,
    "start_time": "2024-09-07T19:03:09.372Z"
   },
   {
    "duration": 161,
    "start_time": "2024-09-07T19:03:09.506Z"
   },
   {
    "duration": 4759,
    "start_time": "2024-09-07T19:03:09.669Z"
   },
   {
    "duration": 36,
    "start_time": "2024-09-07T19:03:14.429Z"
   },
   {
    "duration": 2627,
    "start_time": "2024-09-07T19:03:14.467Z"
   },
   {
    "duration": 243039,
    "start_time": "2024-09-07T19:03:17.095Z"
   },
   {
    "duration": 29,
    "start_time": "2024-09-07T19:07:20.135Z"
   },
   {
    "duration": 189,
    "start_time": "2024-09-07T19:12:09.529Z"
   },
   {
    "duration": 3212,
    "start_time": "2024-09-07T19:12:34.946Z"
   },
   {
    "duration": 2976,
    "start_time": "2024-09-07T19:14:41.079Z"
   },
   {
    "duration": 3,
    "start_time": "2024-09-07T19:14:52.277Z"
   },
   {
    "duration": 4,
    "start_time": "2024-09-07T19:15:01.394Z"
   },
   {
    "duration": 2975,
    "start_time": "2024-09-07T19:15:54.842Z"
   },
   {
    "duration": 3,
    "start_time": "2024-09-07T19:15:58.805Z"
   },
   {
    "duration": 724,
    "start_time": "2024-09-07T19:21:01.185Z"
   },
   {
    "duration": 1445,
    "start_time": "2024-09-07T19:30:50.645Z"
   },
   {
    "duration": 2,
    "start_time": "2024-09-07T19:30:52.092Z"
   },
   {
    "duration": 11498,
    "start_time": "2024-09-07T19:30:52.095Z"
   },
   {
    "duration": 16,
    "start_time": "2024-09-07T19:31:03.595Z"
   },
   {
    "duration": 106,
    "start_time": "2024-09-07T19:31:03.613Z"
   },
   {
    "duration": 3,
    "start_time": "2024-09-07T19:31:03.720Z"
   },
   {
    "duration": 42,
    "start_time": "2024-09-07T19:31:03.724Z"
   },
   {
    "duration": 571,
    "start_time": "2024-09-07T19:31:03.767Z"
   },
   {
    "duration": 95,
    "start_time": "2024-09-07T19:31:04.340Z"
   },
   {
    "duration": 266,
    "start_time": "2024-09-07T19:31:04.437Z"
   },
   {
    "duration": 42,
    "start_time": "2024-09-07T19:31:04.704Z"
   },
   {
    "duration": 264,
    "start_time": "2024-09-07T19:31:04.748Z"
   },
   {
    "duration": 61,
    "start_time": "2024-09-07T19:31:05.014Z"
   },
   {
    "duration": 14,
    "start_time": "2024-09-07T19:31:05.076Z"
   },
   {
    "duration": 7,
    "start_time": "2024-09-07T19:31:05.092Z"
   },
   {
    "duration": 93,
    "start_time": "2024-09-07T19:31:05.101Z"
   },
   {
    "duration": 41,
    "start_time": "2024-09-07T19:31:05.196Z"
   },
   {
    "duration": 58,
    "start_time": "2024-09-07T19:31:05.239Z"
   },
   {
    "duration": 2,
    "start_time": "2024-09-07T19:31:05.299Z"
   },
   {
    "duration": 8987,
    "start_time": "2024-09-07T19:31:05.303Z"
   },
   {
    "duration": 68,
    "start_time": "2024-09-07T19:31:14.291Z"
   },
   {
    "duration": 33,
    "start_time": "2024-09-07T19:31:14.361Z"
   },
   {
    "duration": 41,
    "start_time": "2024-09-07T19:31:14.396Z"
   },
   {
    "duration": 40,
    "start_time": "2024-09-07T19:31:14.438Z"
   },
   {
    "duration": 75,
    "start_time": "2024-09-07T19:31:14.479Z"
   },
   {
    "duration": 75,
    "start_time": "2024-09-07T19:31:14.556Z"
   },
   {
    "duration": 62,
    "start_time": "2024-09-07T19:31:14.632Z"
   },
   {
    "duration": 55,
    "start_time": "2024-09-07T19:31:14.697Z"
   },
   {
    "duration": 37,
    "start_time": "2024-09-07T19:31:14.753Z"
   },
   {
    "duration": 67,
    "start_time": "2024-09-07T19:31:14.791Z"
   },
   {
    "duration": 138,
    "start_time": "2024-09-07T19:31:14.860Z"
   },
   {
    "duration": 159,
    "start_time": "2024-09-07T19:31:15.000Z"
   },
   {
    "duration": 4848,
    "start_time": "2024-09-07T19:31:15.161Z"
   },
   {
    "duration": 40,
    "start_time": "2024-09-07T19:31:20.011Z"
   },
   {
    "duration": 2731,
    "start_time": "2024-09-07T19:31:20.052Z"
   },
   {
    "duration": 1440,
    "start_time": "2024-09-07T19:32:12.117Z"
   },
   {
    "duration": 3,
    "start_time": "2024-09-07T19:32:13.559Z"
   },
   {
    "duration": 11116,
    "start_time": "2024-09-07T19:32:13.566Z"
   },
   {
    "duration": 19,
    "start_time": "2024-09-07T19:32:24.684Z"
   },
   {
    "duration": 105,
    "start_time": "2024-09-07T19:32:24.704Z"
   },
   {
    "duration": 3,
    "start_time": "2024-09-07T19:32:24.810Z"
   },
   {
    "duration": 48,
    "start_time": "2024-09-07T19:32:24.814Z"
   },
   {
    "duration": 567,
    "start_time": "2024-09-07T19:32:24.863Z"
   },
   {
    "duration": 96,
    "start_time": "2024-09-07T19:32:25.433Z"
   },
   {
    "duration": 275,
    "start_time": "2024-09-07T19:32:25.531Z"
   },
   {
    "duration": 44,
    "start_time": "2024-09-07T19:32:25.807Z"
   },
   {
    "duration": 261,
    "start_time": "2024-09-07T19:32:25.853Z"
   },
   {
    "duration": 60,
    "start_time": "2024-09-07T19:32:26.116Z"
   },
   {
    "duration": 12,
    "start_time": "2024-09-07T19:32:26.178Z"
   },
   {
    "duration": 9,
    "start_time": "2024-09-07T19:32:26.191Z"
   },
   {
    "duration": 80,
    "start_time": "2024-09-07T19:32:26.202Z"
   },
   {
    "duration": 40,
    "start_time": "2024-09-07T19:32:26.289Z"
   },
   {
    "duration": 38,
    "start_time": "2024-09-07T19:32:26.330Z"
   },
   {
    "duration": 3,
    "start_time": "2024-09-07T19:32:26.369Z"
   },
   {
    "duration": 8800,
    "start_time": "2024-09-07T19:32:26.389Z"
   },
   {
    "duration": 67,
    "start_time": "2024-09-07T19:32:35.191Z"
   },
   {
    "duration": 19,
    "start_time": "2024-09-07T19:32:35.259Z"
   },
   {
    "duration": 45,
    "start_time": "2024-09-07T19:32:35.289Z"
   },
   {
    "duration": 31,
    "start_time": "2024-09-07T19:32:35.336Z"
   },
   {
    "duration": 78,
    "start_time": "2024-09-07T19:32:35.368Z"
   },
   {
    "duration": 65,
    "start_time": "2024-09-07T19:32:35.448Z"
   },
   {
    "duration": 65,
    "start_time": "2024-09-07T19:32:35.516Z"
   },
   {
    "duration": 85,
    "start_time": "2024-09-07T19:32:35.583Z"
   },
   {
    "duration": 27,
    "start_time": "2024-09-07T19:32:35.669Z"
   },
   {
    "duration": 109,
    "start_time": "2024-09-07T19:32:35.698Z"
   },
   {
    "duration": 182,
    "start_time": "2024-09-07T19:32:35.808Z"
   },
   {
    "duration": 198,
    "start_time": "2024-09-07T19:32:35.992Z"
   },
   {
    "duration": 5030,
    "start_time": "2024-09-07T19:32:36.191Z"
   },
   {
    "duration": 34,
    "start_time": "2024-09-07T19:32:41.222Z"
   },
   {
    "duration": 2627,
    "start_time": "2024-09-07T19:32:41.258Z"
   },
   {
    "duration": 2,
    "start_time": "2024-09-07T19:32:43.889Z"
   },
   {
    "duration": 35,
    "start_time": "2024-09-07T19:32:43.892Z"
   },
   {
    "duration": 5,
    "start_time": "2024-09-07T19:32:43.928Z"
   },
   {
    "duration": 548058,
    "start_time": "2024-09-07T19:32:43.934Z"
   },
   {
    "duration": 545,
    "start_time": "2024-09-07T19:41:51.993Z"
   },
   {
    "duration": 2,
    "start_time": "2024-09-07T19:42:22.054Z"
   },
   {
    "duration": 4,
    "start_time": "2024-09-07T19:43:14.841Z"
   },
   {
    "duration": 3,
    "start_time": "2024-09-07T19:43:33.313Z"
   },
   {
    "duration": 2,
    "start_time": "2024-09-07T19:43:34.584Z"
   },
   {
    "duration": 3,
    "start_time": "2024-09-07T19:44:26.244Z"
   },
   {
    "duration": 163,
    "start_time": "2024-09-07T19:50:26.833Z"
   },
   {
    "duration": 3,
    "start_time": "2024-09-07T19:51:11.324Z"
   },
   {
    "duration": 61,
    "start_time": "2024-09-07T19:51:12.703Z"
   },
   {
    "duration": 97,
    "start_time": "2024-09-07T19:51:29.901Z"
   },
   {
    "duration": 101,
    "start_time": "2024-09-07T19:53:01.429Z"
   },
   {
    "duration": 83,
    "start_time": "2024-09-07T19:53:40.503Z"
   },
   {
    "duration": 1353,
    "start_time": "2024-09-07T19:55:23.442Z"
   },
   {
    "duration": 4,
    "start_time": "2024-09-07T19:55:24.800Z"
   },
   {
    "duration": 11914,
    "start_time": "2024-09-07T19:55:24.805Z"
   },
   {
    "duration": 16,
    "start_time": "2024-09-07T19:55:36.720Z"
   },
   {
    "duration": 107,
    "start_time": "2024-09-07T19:55:36.738Z"
   },
   {
    "duration": 3,
    "start_time": "2024-09-07T19:55:36.847Z"
   },
   {
    "duration": 54,
    "start_time": "2024-09-07T19:55:36.851Z"
   },
   {
    "duration": 597,
    "start_time": "2024-09-07T19:55:36.906Z"
   },
   {
    "duration": 96,
    "start_time": "2024-09-07T19:55:37.505Z"
   },
   {
    "duration": 279,
    "start_time": "2024-09-07T19:55:37.607Z"
   },
   {
    "duration": 47,
    "start_time": "2024-09-07T19:55:37.889Z"
   },
   {
    "duration": 263,
    "start_time": "2024-09-07T19:55:37.938Z"
   },
   {
    "duration": 64,
    "start_time": "2024-09-07T19:55:38.204Z"
   },
   {
    "duration": 3,
    "start_time": "2024-09-07T19:55:38.270Z"
   },
   {
    "duration": 15,
    "start_time": "2024-09-07T19:55:38.274Z"
   },
   {
    "duration": 80,
    "start_time": "2024-09-07T19:55:38.294Z"
   },
   {
    "duration": 45,
    "start_time": "2024-09-07T19:55:38.375Z"
   },
   {
    "duration": 37,
    "start_time": "2024-09-07T19:55:38.422Z"
   },
   {
    "duration": 2,
    "start_time": "2024-09-07T19:55:38.460Z"
   },
   {
    "duration": 9120,
    "start_time": "2024-09-07T19:55:38.463Z"
   },
   {
    "duration": 74,
    "start_time": "2024-09-07T19:55:47.589Z"
   },
   {
    "duration": 30,
    "start_time": "2024-09-07T19:55:47.664Z"
   },
   {
    "duration": 21,
    "start_time": "2024-09-07T19:55:47.696Z"
   },
   {
    "duration": 25,
    "start_time": "2024-09-07T19:55:47.719Z"
   },
   {
    "duration": 78,
    "start_time": "2024-09-07T19:55:47.745Z"
   },
   {
    "duration": 79,
    "start_time": "2024-09-07T19:55:47.824Z"
   },
   {
    "duration": 48,
    "start_time": "2024-09-07T19:55:47.906Z"
   },
   {
    "duration": 70,
    "start_time": "2024-09-07T19:55:47.956Z"
   },
   {
    "duration": 23,
    "start_time": "2024-09-07T19:55:48.027Z"
   },
   {
    "duration": 81,
    "start_time": "2024-09-07T19:55:48.051Z"
   },
   {
    "duration": 140,
    "start_time": "2024-09-07T19:55:48.134Z"
   },
   {
    "duration": 164,
    "start_time": "2024-09-07T19:55:48.275Z"
   },
   {
    "duration": 4974,
    "start_time": "2024-09-07T19:55:48.440Z"
   },
   {
    "duration": 33,
    "start_time": "2024-09-07T19:55:53.416Z"
   },
   {
    "duration": 2447,
    "start_time": "2024-09-07T19:55:53.451Z"
   },
   {
    "duration": 2,
    "start_time": "2024-09-07T19:55:55.903Z"
   },
   {
    "duration": 13,
    "start_time": "2024-09-07T19:55:55.906Z"
   },
   {
    "duration": 4,
    "start_time": "2024-09-07T19:55:55.920Z"
   },
   {
    "duration": 4,
    "start_time": "2024-09-07T19:55:55.925Z"
   },
   {
    "duration": 5,
    "start_time": "2024-09-07T19:55:55.930Z"
   },
   {
    "duration": 2,
    "start_time": "2024-09-07T19:55:55.936Z"
   },
   {
    "duration": 34891,
    "start_time": "2024-09-07T20:00:39.307Z"
   },
   {
    "duration": 7090,
    "start_time": "2024-09-07T20:06:34.544Z"
   },
   {
    "duration": 3,
    "start_time": "2024-09-07T20:07:03.779Z"
   },
   {
    "duration": 3,
    "start_time": "2024-09-07T20:07:43.833Z"
   },
   {
    "duration": 3,
    "start_time": "2024-09-07T20:08:21.563Z"
   },
   {
    "duration": 3,
    "start_time": "2024-09-07T20:08:28.981Z"
   },
   {
    "duration": 7099,
    "start_time": "2024-09-07T20:08:33.207Z"
   },
   {
    "duration": 500321,
    "start_time": "2024-09-07T20:10:08.795Z"
   },
   {
    "duration": 4263,
    "start_time": "2024-09-07T20:18:40.047Z"
   },
   {
    "duration": 4,
    "start_time": "2024-09-07T20:18:47.004Z"
   },
   {
    "duration": 1409,
    "start_time": "2024-09-07T20:20:22.921Z"
   },
   {
    "duration": 2,
    "start_time": "2024-09-07T20:20:24.332Z"
   },
   {
    "duration": 11619,
    "start_time": "2024-09-07T20:20:24.335Z"
   },
   {
    "duration": 15,
    "start_time": "2024-09-07T20:20:35.955Z"
   },
   {
    "duration": 120,
    "start_time": "2024-09-07T20:20:35.972Z"
   },
   {
    "duration": 6,
    "start_time": "2024-09-07T20:20:36.095Z"
   },
   {
    "duration": 60,
    "start_time": "2024-09-07T20:20:36.103Z"
   },
   {
    "duration": 659,
    "start_time": "2024-09-07T20:20:36.165Z"
   },
   {
    "duration": 102,
    "start_time": "2024-09-07T20:20:36.825Z"
   },
   {
    "duration": 290,
    "start_time": "2024-09-07T20:20:36.930Z"
   },
   {
    "duration": 47,
    "start_time": "2024-09-07T20:20:37.221Z"
   },
   {
    "duration": 290,
    "start_time": "2024-09-07T20:20:37.270Z"
   },
   {
    "duration": 73,
    "start_time": "2024-09-07T20:20:37.561Z"
   },
   {
    "duration": 4,
    "start_time": "2024-09-07T20:20:37.635Z"
   },
   {
    "duration": 4,
    "start_time": "2024-09-07T20:20:37.640Z"
   },
   {
    "duration": 89,
    "start_time": "2024-09-07T20:20:37.645Z"
   },
   {
    "duration": 38,
    "start_time": "2024-09-07T20:20:37.736Z"
   },
   {
    "duration": 50,
    "start_time": "2024-09-07T20:20:37.776Z"
   },
   {
    "duration": 2,
    "start_time": "2024-09-07T20:20:37.827Z"
   },
   {
    "duration": 9141,
    "start_time": "2024-09-07T20:20:37.831Z"
   },
   {
    "duration": 72,
    "start_time": "2024-09-07T20:20:46.974Z"
   },
   {
    "duration": 17,
    "start_time": "2024-09-07T20:20:47.048Z"
   },
   {
    "duration": 29,
    "start_time": "2024-09-07T20:20:47.067Z"
   },
   {
    "duration": 31,
    "start_time": "2024-09-07T20:20:47.097Z"
   },
   {
    "duration": 71,
    "start_time": "2024-09-07T20:20:47.130Z"
   },
   {
    "duration": 67,
    "start_time": "2024-09-07T20:20:47.203Z"
   },
   {
    "duration": 65,
    "start_time": "2024-09-07T20:20:47.271Z"
   },
   {
    "duration": 64,
    "start_time": "2024-09-07T20:20:47.339Z"
   },
   {
    "duration": 22,
    "start_time": "2024-09-07T20:20:47.405Z"
   },
   {
    "duration": 87,
    "start_time": "2024-09-07T20:20:47.428Z"
   },
   {
    "duration": 135,
    "start_time": "2024-09-07T20:20:47.516Z"
   },
   {
    "duration": 164,
    "start_time": "2024-09-07T20:20:47.653Z"
   },
   {
    "duration": 4985,
    "start_time": "2024-09-07T20:20:47.819Z"
   },
   {
    "duration": 34,
    "start_time": "2024-09-07T20:20:52.806Z"
   },
   {
    "duration": 2560,
    "start_time": "2024-09-07T20:20:52.841Z"
   },
   {
    "duration": 254692,
    "start_time": "2024-09-07T20:20:55.403Z"
   },
   {
    "duration": 3215,
    "start_time": "2024-09-07T20:25:10.099Z"
   },
   {
    "duration": 3,
    "start_time": "2024-09-07T20:25:13.316Z"
   }
  ],
  "colab": {
   "provenance": []
  },
  "kernelspec": {
   "display_name": "Python 3 (ipykernel)",
   "language": "python",
   "name": "python3"
  },
  "language_info": {
   "codemirror_mode": {
    "name": "ipython",
    "version": 3
   },
   "file_extension": ".py",
   "mimetype": "text/x-python",
   "name": "python",
   "nbconvert_exporter": "python",
   "pygments_lexer": "ipython3",
   "version": "3.11.7"
  },
  "toc": {
   "base_numbering": 1,
   "nav_menu": {
    "height": "117.6px",
    "width": "257.6px"
   },
   "number_sections": true,
   "sideBar": true,
   "skip_h1_title": true,
   "title_cell": "Table of Contents",
   "title_sidebar": "Contents",
   "toc_cell": false,
   "toc_position": {},
   "toc_section_display": true,
   "toc_window_display": false
  }
 },
 "nbformat": 4,
 "nbformat_minor": 1
}
